{
  "cells": [
    {
      "cell_type": "markdown",
      "metadata": {
        "id": "view-in-github",
        "colab_type": "text"
      },
      "source": [
        "<a href=\"https://colab.research.google.com/github/kenneth-nguyenn/02_ADS_Project/blob/1712258/Report.ipynb\" target=\"_parent\"><img src=\"https://colab.research.google.com/assets/colab-badge.svg\" alt=\"Open In Colab\"/></a>"
      ]
    },
    {
      "cell_type": "markdown",
      "id": "8a067e2c",
      "metadata": {
        "id": "8a067e2c"
      },
      "source": [
        "# Đồ án: Khoa học Dữ liệu và Ứng dụng"
      ]
    },
    {
      "cell_type": "markdown",
      "id": "d27e1e1a",
      "metadata": {
        "id": "d27e1e1a"
      },
      "source": [
        "## Thông tin chung:\n",
        "### Giảng viên: \n",
        "- Trần Trung Kiên\n",
        "- Nguyễn Thái Vũ\n",
        "\n",
        "### Thông tin nhóm:\n",
        "1. STT: Nhóm 02\n",
        "2. Thành viên:\n",
        "\n",
        "| STT | MSSV | Họ tên | Github |\n",
        "| --- | --- | --- | --- |\n",
        "| 1 | 1712727 | Nguyễn Hoàng Sơn | [hsjune29th](https://github.com/hsjune29th) |\n",
        "| 2 | 1712258 | Nguyễn Văn Hậu | [kenneth-nguyenn](https://github.com/kenneth-nguyenn) |\n",
        "| 3 | 1712888 | Nguyễn Đình Tuyên | [Tuyen177](https://github.com/Tuyen177) |\n",
        "\n",
        "3. Phân công công việc:\n",
        "- [Google Sheet](https://docs.google.com/spreadsheets/d/1eKbhc6rpNsDoBfTC8SfAnlKiw_y3_OvHUefUuxQw8BI/edit#gid=621371829)"
      ]
    },
    {
      "cell_type": "markdown",
      "id": "bc81b558",
      "metadata": {
        "id": "bc81b558"
      },
      "source": [
        "## 1. Mô tả bài toán:"
      ]
    },
    {
      "cell_type": "markdown",
      "source": [
        "### 1.1. Thông tin chung:"
      ],
      "metadata": {
        "id": "7zVEriCIGYL9"
      },
      "id": "7zVEriCIGYL9"
    },
    {
      "cell_type": "markdown",
      "id": "f491afd4",
      "metadata": {
        "id": "f491afd4"
      },
      "source": [
        "- **Tên cuộc thi:** [Google Brain - Ventilator Pressure Prediction](https://www.kaggle.com/competitions/ventilator-pressure-prediction/data?select=test.csv)\n",
        "- **Mô tả:** Được tổ chức bởi Google Brain vào 04/11/2021 với hơn 2,605 nhóm tham dự.\n",
        "- **Input:** Tập dữ liệu được thu thập từ một hệ thống máy thở cung cấp khí oxy cho phổi.\n",
        "- **Output:** Dự đoán áp lực trên đường thở (pressure).\n",
        "- **Bài toán: Regression**\n",
        "- **Độ đo:**\n",
        "    + Cuộc thi sẽ được tính điểm là trung bình sai số tuyệt đối giữa áp suất dự đoán và áp suất thực tế trong giai đoạn hít thở của mỗi nhịp thở.\n",
        "    + Công thức: $|X-Y|$"
      ]
    },
    {
      "cell_type": "markdown",
      "source": [
        "### 1.2. Ý nghĩa thực tiễn:"
      ],
      "metadata": {
        "id": "LyDih_OTF0Cf"
      },
      "id": "LyDih_OTF0Cf"
    },
    {
      "cell_type": "markdown",
      "source": [
        "- Trên thực tế, trong thở máy có 3 mode thở cơ bản là: Kiểm soát, Hỗ trợ, Tự thở.\n",
        "    - Ứng với Kiểm soát (control/limit), có 3 loại kiểm soát:\n",
        "        + **Pressure Controlled:** Giới hạn áp lực, cài đặt Pi, thể tích thay đổi.\n",
        "        + **Volume Controlled:** Mục tiêu thể tích, cài đặt Vt, áp lực thay đổi.\n",
        "        + **Dual Controlled:** Mục tiêu thể tích và giới hạn áp lực, cài đặt Vt, máy tự điều chỉnh Pi.\n",
        "    - Công việc của các bác sĩ lâm sàng là theo dõi bệnh nhân thở máy về: Áp lực đường thở và Thể tích khí lưu thông.\n",
        "    - **Ưu điểm** của Pressure Control:\n",
        "        + Hạn chế báo động áp lực cao.\n",
        "        + Cải thiện sự phân phối khí trong phổi.\n",
        "        + Và một số ưu điểm khác liên quan đến các con số trong y khoa.\n",
        "    - **Khuyết điểm** của Pressure Control: Vt thay đổi khi phổi thay đổi R và C:\n",
        "        + Vt quá lớn thì quá căng phế nang.\n",
        "        + Vt quá nhỏ thì giảm thông khí phế nang, ứ CO2.\n",
        "    - **Ứng dụng** lâm sàng:\n",
        "        + Dùng cho trẻ sơ sinh dưới (10kg).\n",
        "        + Bệnh nhân có tổn thương phổi (R cao hoặc C thấp).\n",
        "        + Nhiều nghiên cứu so sánh Pressure và Volume Control chỉ ra Pressure cải thiện oxy trong máu tốt hơn, ít biến chứng, phù hợp nhu cầu của bệnh nhân.\n",
        "-  Thở máy là một biện pháp chuyên sâu của bác sĩ lâm sàng. Dưới sự khẩn thiết của đại dịch COVID-19 trên diện rộng, ta dễ dàng thấy hạn chế của việc sử dụng phương pháp thở máy này. Việc phát triển các phương pháp mới để điều khiển máy thở cơ học rất tốn kém, gặp khó khăn khi thử nghiệm lâm sàng.\n",
        "- Nhóm nghiên cứu tại Google Brain tin rằng, khi đã có thông tin R và C của phổi bệnh nhân, cùng với sự kiểm soát lượng khí đi vào phổi, ta hoàn toàn có thể **điều khiển Pi một cách tự động, thích nghi nhanh chóng.**\n",
        "- Bài toán này cũng là tiền đề cho các thuật toán thích ứng với bệnh nhân, giúp giảm bớt gánh nặng cho bác sĩ lâm sàng trong tình hình mới. Do đó, các phương pháp điều trị bằng máy thở có thể được phổ biến rộng rãi hơn để giúp bệnh nhân thở dễ dàng."
      ],
      "metadata": {
        "id": "glIup__6F50c"
      },
      "id": "glIup__6F50c"
    },
    {
      "cell_type": "markdown",
      "id": "f5520f7e",
      "metadata": {
        "id": "f5520f7e"
      },
      "source": [
        "### 1.3. Phương pháp thu thập dữ liệu:"
      ]
    },
    {
      "cell_type": "markdown",
      "id": "dcb7896e",
      "metadata": {
        "id": "dcb7896e"
      },
      "source": [
        "- Dữ liệu được sử dụng trong cuộc thi này được tạo ra bằng một hệ thống sử dụng một máy thở đã kết nối với phổi nhân tạo thông qua một mạch hô hấp, cùng các thiết bị đo đạc, kiểm soát các thông số trong một chu kỳ thở máy.\n",
        "- Sơ đồ thu thập dữ liệu trong một chu kì thở máy có flow như sau: \n",
        "![Screenshot 2022-04-14 230846.png](data:image/png;base64,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)"
      ]
    },
    {
      "cell_type": "markdown",
      "id": "c5559657",
      "metadata": {
        "id": "c5559657"
      },
      "source": [
        "Hai đầu vào điều khiển được đánh dấu màu xanh lá cây: \n",
        "- Inspiratory valve: biến liên tục [0:100] đại diện cho tỷ lệ phần trăm van điện tử của máy thở được mở để cho không khí vào phổi.\n",
        "- Expiratory valve: biến nhị phân (0,1) đại diện cho van thăm dò đang  (1) hoặc đóng (0) để thoát khí ra ngoài.\n",
        "\n",
        "Trong cuộc thi này, những người tham gia được cung cấp nhiều chuỗi thời gian thở và sẽ học cách dự đoán áp lực đường thở trong mạch hô hấp trong quá trình thở dựa trên chuỗi thời gian của đầu vào kiểm soát.\n",
        "\n",
        "Mỗi chuỗi thời gian đại diện cho một nhịp thở khoảng 3 giây. Các tệp được sắp xếp sao cho mỗi hàng là một bước thời gian trong hơi thở và đưa ra hai tín hiệu điều khiển, kết quả là áp lực đường thở và các thuộc tính liên quan của phổi."
      ]
    },
    {
      "cell_type": "markdown",
      "id": "e928d2f6",
      "metadata": {
        "id": "e928d2f6"
      },
      "source": [
        "## 2. Giải pháp của bài toán:"
      ]
    },
    {
      "cell_type": "markdown",
      "id": "0a463e6d",
      "metadata": {
        "id": "0a463e6d"
      },
      "source": [
        "### 2.1. Ý tưởng:"
      ]
    },
    {
      "cell_type": "markdown",
      "id": "9263f325",
      "metadata": {
        "id": "9263f325"
      },
      "source": [
        "- Nhóm quyết định tìm hiểu và cài đặt giải pháp **\"[The inverse of a PID controller](https://www.kaggle.com/c/ventilator-pressure-prediction/discussion/285283)\"**, giải pháp đứng vị thứ hai trong leaderboard.\n",
        "- Qúa trình hoàn thành cuộc thi, nhóm tác giả thực hiện ba giai đoạn chính:\n",
        "    + Sử dụng 7 model được share từ @dlaststark ([notebook](https://www.kaggle.com/code/dlaststark/gb-vpp-pulp-fiction/notebook)). Trong notebook này, tác giả trên tập trung vào `Feature Engineering` và xây dựng `\n",
        "Keras DNN Model` trên TPU.\n",
        "    + Tiếp theo, tác giả tập hợp các dự đoán của 7 model trên bằng cách kết hợp điểm mạnh của giá trị median và mean [tại đây](https://www.kaggle.com/c/ventilator-pressure-prediction/discussion/282735).\n",
        "    + Cuối cùng, tác giả cố gắng xác định hàm nghịch đảo của PID controller (tìm nghịch đảo của bộ điều khiển P và sau đó chuyển sang bộ điều khiển PI) để dự đoán áp suất, được thảo luận [tại đây](https://www.kaggle.com/c/ventilator-pressure-prediction/discussion/285283)."
      ]
    },
    {
      "cell_type": "markdown",
      "id": "244b7f28",
      "metadata": {
        "id": "244b7f28"
      },
      "source": [
        "### 2.2. Lý do lựa chọn giải pháp:"
      ]
    },
    {
      "cell_type": "markdown",
      "id": "76174c73",
      "metadata": {
        "id": "76174c73"
      },
      "source": [
        "- Giải pháp đứng vị thứ hai, nằm trong trong TOP-10 leaderboard.\n",
        "- Hầu hết, các giải pháp đứng trong TOP đầu của leaderboard đều sử dụng đến **PID controller** để giải quyết bài toán này. Mặt khác, trong quá trình đọc phần notebook cũng như giải thích của tác giả, nhóm em cảm thấy dễ hiểu và nắm được cơ bản quá trình xử lý trong notebook."
      ]
    },
    {
      "cell_type": "markdown",
      "source": [
        "![R=5.PNG](data:image/png;base64,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)"
      ],
      "metadata": {
        "id": "LH3tkXtv3sg_"
      },
      "id": "LH3tkXtv3sg_"
    },
    {
      "cell_type": "markdown",
      "source": [
        "### 2.4. Mô tả các thuộc tính trong tập dữ liệu:"
      
    },
    {
      "cell_type": "markdown",
      "source": [
        "![C=50.PNG](data:image/png;base64,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)"
      ],
      "metadata": {
        "id": "COv82doM4KfF"
      },
      "id": "COv82doM4KfF"
    },
    {
      "cell_type": "markdown",
      "source": [
        "- `id`: mã định danh của mỗi nhịp thở (lần đo) trên toàn bộ tệp.\n",
        "- `breath_id`: mã định danh của mỗi chu kì thở trên toàn bộ tệp. Mỗi chu kì thở bao gồm hít vào và thở ra trong tối đa 3s và được đo 80 lần.\n",
        "- `R`: Sức cản của phổi (restricted the airway), là phản ứng chống lại luồng khí đi vào phổi , đơn vị cmH2O / L / S.\n",
        "  \n",
        "  Giá trị R càng lớn, lực cản của phổi càng cao, không khí khó lưu thông, khiến không khí ở bên trong phổi càng nhiều, điều này làm cho áp suất phổi tăng. Ta có thể xem R là thuộc tính đại diện cho đường kính của ống phổi.\n",
        "- `C`:  Khả năng giãn nở của phổi, tức là sự thay đổi thể tích trên một đơn vị áp suất phổi, đơn vị mL / cmH2O.\n",
        " \n",
        " C càng lớn thì phổi dễ dàng giãn nỡ. Giả sử C=50, khi ta cho càng nhiều không khí vào thì phổi chỉ lớn thêm chứ áp suất không tăng lên đáng kể. Ngược lại C=10, phổi không hề dễ giãn nở khi cho càng nhiều không khí vào, vì vậy thì áp suất tăng lên. Ta có thể xem C là thuộc tính đại diện độ dày của phổi.\n",
        "- `time_step`: dấu thời gian thực tế.\n",
        "- `u_in`: cho biết độ mở van đầu vào điện tử điều khiển, nhận giá trị tính theo phần trăm năm trong khoảng [0:100].\n",
        "- `u_out`: cho biết độ mở đầu ra van thăm dò điều khiển, nhận một trong hai giá trị: 0 là đóng hoàn toàn, 1 là mở hoàn toàn\n",
        "- `pressure`: áp lực đường thở đo trong mạch hô hấp, cũng là thuộc tính cần dự đoán."
      ]
    },
    {
      "cell_type": "markdown",
      "id": "edbe5138",
      "metadata": {
        "id": "edbe5138"
      },
      "source": [
        "## 3. Giải quyết bài toán:"
      ]
    },
    {
      "cell_type": "markdown",
      "id": "da709124",
      "metadata": {
        "id": "da709124"
      },
      "source": [
        "### Import libraries:"
      ]
    },
    {
      "cell_type": "code",
      "execution_count": 1,
      "id": "fe64fa1d",
      "metadata": {
        "id": "fe64fa1d"
      },
      "outputs": [],
      "source": [
        "import gc\n",
        "import numpy as np\n",
        "import pandas as pd\n",
        "import numpy as np\n",
        "\n",
        "import matplotlib.pyplot as plt\n",
        "import seaborn as sns\n",
        "\n",
        "from sklearn.preprocessing import RobustScaler\n",
        "from sklearn.model_selection import KFold\n",
        "from sklearn.metrics import mean_absolute_error\n",
        "\n",
        "import tensorflow as tf\n",
        "from tensorflow.keras.utils import plot_model\n",
        "from tensorflow.keras.models import Model, load_model\n",
        "from tensorflow.keras.callbacks import EarlyStopping\n",
        "from tensorflow.keras.callbacks import ModelCheckpoint\n",
        "from tensorflow.keras.callbacks import ReduceLROnPlateau\n",
        "from tensorflow.keras.layers import BatchNormalization\n",
        "from tensorflow.keras.layers import Dense, Dropout, Input\n",
        "from tensorflow.keras.layers import Concatenate, LSTM, GRU\n",
        "from tensorflow.keras.layers import Bidirectional, Multiply\n",
        "\n",
        "np.random.seed(42)\n",
        "tf.random.set_seed(42)"
      ]
    },
    {
      "cell_type": "markdown",
      "id": "87677a9e",
      "metadata": {
        "id": "87677a9e"
      },
      "source": [
        "### 3.1. Đọc dữ liệu:"
      ]
    },
    {
      "cell_type": "code",
      "source": [
        "# train.csv\n",
        "!gdown https://drive.google.com/u/1/uc?id=14PVjC4WigAqnUuNis3tyeuEtaQltN6e-&export=download&confirm=t \n",
        "# test.csv\n",
        "!gdown https://drive.google.com/u/1/uc?id=1bn1ugqDU_fqs1O7av-OAJ7BjbJWj2UIj&export=download&confirm=t\n",
        "# submission.csv\n",
        "!gdown https://drive.google.com/uc?id=1oeJJVvSkC2zVqzzvEdFceX8jVx6gHBiF&export=download&confirm=t"
      ],
      "metadata": {
        "colab": {
          "base_uri": "https://localhost:8080/"
        },
        "id": "DTEbsSsUeGZ3",
        "outputId": "5f96f288-1e39-4f8a-a250-33eb32c082b5"
      },
      "id": "DTEbsSsUeGZ3",
      "execution_count": 2,
      "outputs": [
        {
          "output_type": "stream",
          "name": "stdout",
          "text": [
            "Access denied with the following error:\n",
            "\n",
            " \tCannot retrieve the public link of the file. You may need to change\n",
            "\tthe permission to 'Anyone with the link', or have had many accesses. \n",
            "\n",
            "You may still be able to access the file from the browser:\n",
            "\n",
            "\t https://drive.google.com/u/1/uc?id=14PVjC4WigAqnUuNis3tyeuEtaQltN6e- \n",
            "\n",
            "Downloading...\n",
            "From: https://drive.google.com/u/1/uc?id=1bn1ugqDU_fqs1O7av-OAJ7BjbJWj2UIj\n",
            "To: /content/test.csv\n",
            "100% 220M/220M [00:02<00:00, 107MB/s]\n",
            "Downloading...\n",
            "From: https://drive.google.com/uc?id=1oeJJVvSkC2zVqzzvEdFceX8jVx6gHBiF\n",
            "To: /content/sample_submission.csv\n",
            "100% 39.1M/39.1M [00:00<00:00, 90.5MB/s]\n"
          ]
        }
      ]
    },
    {
      "cell_type": "code",
      "execution_count": 3,
      "id": "39147e55",
      "metadata": {
        "colab": {
          "base_uri": "https://localhost:8080/"
        },
        "id": "39147e55",
        "outputId": "1042406e-af27-48fb-e85d-a2ffc55db40e"
      },
      "outputs": [
        {
          "output_type": "stream",
          "name": "stdout",
          "text": [
            "train_df: (6036000, 8)\n"
          ]
        }
      ],
      "source": [
        "train_df = pd.read_csv('/content/train.csv')\n",
        "print(f\"train_df: {train_df.shape}\")"
      ]
    },
    {
      "cell_type": "code",
      "execution_count": 4,
      "id": "0af329d1",
      "metadata": {
        "colab": {
          "base_uri": "https://localhost:8080/"
        },
        "id": "0af329d1",
        "outputId": "4ad8d204-572d-4d5d-c216-d6542fe54db2"
      },
      "outputs": [
        {
          "output_type": "stream",
          "name": "stdout",
          "text": [
            "test_df: (4024000, 7)\n"
          ]
        }
      ],
      "source": [
        "test_df = pd.read_csv('/content/test.csv')\n",
        "print(f\"test_df: {test_df.shape}\")"
      ]
    },
    {
      "cell_type": "code",
      "source": [
        "sample_submission = pd.read_csv(\"/content/sample_submission.csv\")"
      ],
      "metadata": {
        "id": "Sfj1_mx1FFSP"
      },
      "id": "Sfj1_mx1FFSP",
      "execution_count": 5,
      "outputs": []
    },
    {
      "cell_type": "markdown",
      "source": [
        "### 3.1.1. Khám phá dữ liệu:"
      ],
      "metadata": {
        "id": "beN7LAStwNaK"
      },
      "id": "beN7LAStwNaK"
    },
    {
      "cell_type": "markdown",
      "source": [
        "Class `HorizontalDisplay` hỗ trợ hiển thị."
      ],
      "metadata": {
        "id": "kC4s_n81CoQO"
      },
      "id": "kC4s_n81CoQO"
    },
    {
      "cell_type": "code",
      "source": [
        "class HorizontalDisplay:\n",
        "    \"\"\"Hỗ trợ hiển thị dataframe\"\"\"\n",
        "    def __init__(self, *args):\n",
        "        self.args = args\n",
        "\n",
        "    def _repr_html_(self):\n",
        "        template = '<div style=\"float: left; padding: 10px;\">{0}</div>'\n",
        "        return \"\\n\".join(template.format(arg._repr_html_())\n",
        "                         for arg in self.args)"
      ],
      "metadata": {
        "id": "3anbJZXIpGOt"
      },
      "id": "3anbJZXIpGOt",
      "execution_count": null,
      "outputs": []
    },
    {
      "cell_type": "markdown",
      "source": [
        "Xem từng record của từng file:"
      ],
      "metadata": {
        "id": "V-L-Py7MC4Lw"
      },
      "id": "V-L-Py7MC4Lw"
    },
    {
      "cell_type": "code",
      "source": [
        "HorizontalDisplay(train_df, test_df, sample_submission)"
      ],
      "metadata": {
        "colab": {
          "base_uri": "https://localhost:8080/",

          "height": 1000
        },
        "id": "y2V7PFprEMD3",
        "outputId": "7be37937-4aa7-4118-ba74-1ab37f1f5e3b"
      },
      "id": "y2V7PFprEMD3",
      "execution_count": null,
      "outputs": [
        {
          "output_type": "execute_result",
          "data": {
            "text/plain": [
              "<__main__.HorizontalDisplay at 0x7f7a5254dd10>"
            ],
            "text/html": [
              "<div style=\"float: left; padding: 10px;\"><div>\n",
              "<style scoped>\n",
              "    .dataframe tbody tr th:only-of-type {\n",
              "        vertical-align: middle;\n",
              "    }\n",
              "\n",
              "    .dataframe tbody tr th {\n",
              "        vertical-align: top;\n",
              "    }\n",
              "\n",
              "    .dataframe thead th {\n",
              "        text-align: right;\n",
              "    }\n",
              "</style>\n",
              "<table border=\"1\" class=\"dataframe\">\n",
              "  <thead>\n",
              "    <tr style=\"text-align: right;\">\n",
              "      <th></th>\n",
              "      <th>id</th>\n",
              "      <th>breath_id</th>\n",
              "      <th>R</th>\n",
              "      <th>C</th>\n",
              "      <th>time_step</th>\n",
              "      <th>u_in</th>\n",
              "      <th>u_out</th>\n",
              "      <th>pressure</th>\n",
              "    </tr>\n",
              "  </thead>\n",
              "  <tbody>\n",
              "    <tr>\n",
              "      <th>0</th>\n",
              "      <td>1</td>\n",
              "      <td>1</td>\n",
              "      <td>20</td>\n",
              "      <td>50</td>\n",
              "      <td>0.000000</td>\n",
              "      <td>0.083334</td>\n",
              "      <td>0</td>\n",
              "      <td>5.837492</td>\n",
              "    </tr>\n",
              "    <tr>\n",
              "      <th>1</th>\n",
              "      <td>2</td>\n",
              "      <td>1</td>\n",
              "      <td>20</td>\n",
              "      <td>50</td>\n",
              "      <td>0.033652</td>\n",
              "      <td>18.383041</td>\n",
              "      <td>0</td>\n",
              "      <td>5.907794</td>\n",
              "    </tr>\n",
              "    <tr>\n",
              "      <th>2</th>\n",
              "      <td>3</td>\n",
              "      <td>1</td>\n",
              "      <td>20</td>\n",
              "      <td>50</td>\n",
              "      <td>0.067514</td>\n",
              "      <td>22.509278</td>\n",
              "      <td>0</td>\n",
              "      <td>7.876254</td>\n",
              "    </tr>\n",
              "    <tr>\n",
              "      <th>3</th>\n",
              "      <td>4</td>\n",
              "      <td>1</td>\n",
              "      <td>20</td>\n",
              "      <td>50</td>\n",
              "      <td>0.101542</td>\n",
              "      <td>22.808822</td>\n",
              "      <td>0</td>\n",
              "      <td>11.742872</td>\n",
              "    </tr>\n",
              "    <tr>\n",
              "      <th>4</th>\n",
              "      <td>5</td>\n",
              "      <td>1</td>\n",
              "      <td>20</td>\n",
              "      <td>50</td>\n",
              "      <td>0.135756</td>\n",
              "      <td>25.355850</td>\n",
              "      <td>0</td>\n",
              "      <td>12.234987</td>\n",
              "    </tr>\n",
              "    <tr>\n",
              "      <th>...</th>\n",
              "      <td>...</td>\n",
              "      <td>...</td>\n",
              "      <td>...</td>\n",
              "      <td>...</td>\n",
              "      <td>...</td>\n",
              "      <td>...</td>\n",
              "      <td>...</td>\n",
              "      <td>...</td>\n",
              "    </tr>\n",
              "    <tr>\n",
              "      <th>6035995</th>\n",
              "      <td>6035996</td>\n",
              "      <td>125749</td>\n",
              "      <td>50</td>\n",
              "      <td>10</td>\n",
              "      <td>2.504603</td>\n",
              "      <td>1.489714</td>\n",
              "      <td>1</td>\n",
              "      <td>3.869032</td>\n",
              "    </tr>\n",
              "    <tr>\n",
              "      <th>6035996</th>\n",
              "      <td>6035997</td>\n",
              "      <td>125749</td>\n",
              "      <td>50</td>\n",
              "      <td>10</td>\n",
              "      <td>2.537961</td>\n",
              "      <td>1.488497</td>\n",
              "      <td>1</td>\n",
              "      <td>3.869032</td>\n",
              "    </tr>\n",
              "    <tr>\n",
              "      <th>6035997</th>\n",
              "      <td>6035998</td>\n",
              "      <td>125749</td>\n",
              "      <td>50</td>\n",
              "      <td>10</td>\n",
              "      <td>2.571408</td>\n",
              "      <td>1.558978</td>\n",
              "      <td>1</td>\n",
              "      <td>3.798729</td>\n",
              "    </tr>\n",
              "    <tr>\n",
              "      <th>6035998</th>\n",
              "      <td>6035999</td>\n",
              "      <td>125749</td>\n",
              "      <td>50</td>\n",
              "      <td>10</td>\n",
              "      <td>2.604744</td>\n",
              "      <td>1.272663</td>\n",
              "      <td>1</td>\n",
              "      <td>4.079938</td>\n",
              "    </tr>\n",
              "    <tr>\n",
              "      <th>6035999</th>\n",
              "      <td>6036000</td>\n",
              "      <td>125749</td>\n",
              "      <td>50</td>\n",
              "      <td>10</td>\n",
              "      <td>2.638017</td>\n",
              "      <td>1.482739</td>\n",
              "      <td>1</td>\n",
              "      <td>3.869032</td>\n",
              "    </tr>\n",
              "  </tbody>\n",
              "</table>\n",
              "<p>6036000 rows × 8 columns</p>\n",
              "</div></div>\n",
              "<div style=\"float: left; padding: 10px;\"><div>\n",
              "<style scoped>\n",
              "    .dataframe tbody tr th:only-of-type {\n",
              "        vertical-align: middle;\n",
              "    }\n",
              "\n",
              "    .dataframe tbody tr th {\n",
              "        vertical-align: top;\n",
              "    }\n",
              "\n",
              "    .dataframe thead th {\n",
              "        text-align: right;\n",
              "    }\n",
              "</style>\n",
              "<table border=\"1\" class=\"dataframe\">\n",
              "  <thead>\n",
              "    <tr style=\"text-align: right;\">\n",
              "      <th></th>\n",
              "      <th>id</th>\n",
              "      <th>breath_id</th>\n",
              "      <th>R</th>\n",
              "      <th>C</th>\n",
              "      <th>time_step</th>\n",
              "      <th>u_in</th>\n",
              "      <th>u_out</th>\n",
              "    </tr>\n",
              "  </thead>\n",
              "  <tbody>\n",
              "    <tr>\n",
              "      <th>0</th>\n",
              "      <td>1</td>\n",
              "      <td>0</td>\n",
              "      <td>5</td>\n",
              "      <td>20</td>\n",
              "      <td>0.000000</td>\n",
              "      <td>0.000000</td>\n",
              "      <td>0</td>\n",
              "    </tr>\n",
              "    <tr>\n",
              "      <th>1</th>\n",
              "      <td>2</td>\n",
              "      <td>0</td>\n",
              "      <td>5</td>\n",
              "      <td>20</td>\n",
              "      <td>0.031904</td>\n",
              "      <td>7.515046</td>\n",
              "      <td>0</td>\n",
              "    </tr>\n",
              "    <tr>\n",
              "      <th>2</th>\n",
              "      <td>3</td>\n",
              "      <td>0</td>\n",
              "      <td>5</td>\n",
              "      <td>20</td>\n",
              "      <td>0.063827</td>\n",
              "      <td>14.651675</td>\n",
              "      <td>0</td>\n",
              "    </tr>\n",
              "    <tr>\n",
              "      <th>3</th>\n",
              "      <td>4</td>\n",
              "      <td>0</td>\n",
              "      <td>5</td>\n",
              "      <td>20</td>\n",
              "      <td>0.095751</td>\n",
              "      <td>21.230610</td>\n",
              "      <td>0</td>\n",
              "    </tr>\n",
              "    <tr>\n",
              "      <th>4</th>\n",
              "      <td>5</td>\n",
              "      <td>0</td>\n",
              "      <td>5</td>\n",
              "      <td>20</td>\n",
              "      <td>0.127644</td>\n",
              "      <td>26.320956</td>\n",
              "      <td>0</td>\n",
              "    </tr>\n",
              "    <tr>\n",
              "      <th>...</th>\n",
              "      <td>...</td>\n",
              "      <td>...</td>\n",
              "      <td>...</td>\n",
              "      <td>...</td>\n",
              "      <td>...</td>\n",
              "      <td>...</td>\n",
              "      <td>...</td>\n",
              "    </tr>\n",
              "    <tr>\n",
              "      <th>4023995</th>\n",
              "      <td>4023996</td>\n",
              "      <td>125748</td>\n",
              "      <td>20</td>\n",
              "      <td>10</td>\n",
              "      <td>2.530117</td>\n",
              "      <td>4.971245</td>\n",
              "      <td>1</td>\n",
              "    </tr>\n",
              "    <tr>\n",
              "      <th>4023996</th>\n",
              "      <td>4023997</td>\n",
              "      <td>125748</td>\n",
              "      <td>20</td>\n",
              "      <td>10</td>\n",
              "      <td>2.563853</td>\n",
              "      <td>4.975709</td>\n",
              "      <td>1</td>\n",
              "    </tr>\n",
              "    <tr>\n",
              "      <th>4023997</th>\n",
              "      <td>4023998</td>\n",
              "      <td>125748</td>\n",
              "      <td>20</td>\n",
              "      <td>10</td>\n",
              "      <td>2.597475</td>\n",
              "      <td>4.979468</td>\n",
              "      <td>1</td>\n",
              "    </tr>\n",
              "    <tr>\n",
              "      <th>4023998</th>\n",
              "      <td>4023999</td>\n",
              "      <td>125748</td>\n",
              "      <td>20</td>\n",
              "      <td>10</td>\n",
              "      <td>2.631134</td>\n",
              "      <td>4.982648</td>\n",
              "      <td>1</td>\n",
              "    </tr>\n",
              "    <tr>\n",
              "      <th>4023999</th>\n",
              "      <td>4024000</td>\n",
              "      <td>125748</td>\n",
              "      <td>20</td>\n",
              "      <td>10</td>\n",
              "      <td>2.665301</td>\n",
              "      <td>4.985373</td>\n",
              "      <td>1</td>\n",
              "    </tr>\n",
              "  </tbody>\n",
              "</table>\n",
              "<p>4024000 rows × 7 columns</p>\n",
              "</div></div>\n",
              "<div style=\"float: left; padding: 10px;\"><div>\n",
              "<style scoped>\n",
              "    .dataframe tbody tr th:only-of-type {\n",
              "        vertical-align: middle;\n",
              "    }\n",
              "\n",
              "    .dataframe tbody tr th {\n",
              "        vertical-align: top;\n",
              "    }\n",
              "\n",
              "    .dataframe thead th {\n",
              "        text-align: right;\n",
              "    }\n",
              "</style>\n",
              "<table border=\"1\" class=\"dataframe\">\n",
              "  <thead>\n",
              "    <tr style=\"text-align: right;\">\n",
              "      <th></th>\n",
              "      <th>id</th>\n",
              "      <th>pressure</th>\n",
              "    </tr>\n",
              "  </thead>\n",
              "  <tbody>\n",
              "    <tr>\n",
              "      <th>0</th>\n",
              "      <td>1</td>\n",
              "      <td>0</td>\n",
              "    </tr>\n",
              "    <tr>\n",
              "      <th>1</th>\n",
              "      <td>2</td>\n",
              "      <td>0</td>\n",
              "    </tr>\n",
              "    <tr>\n",
              "      <th>2</th>\n",
              "      <td>3</td>\n",
              "      <td>0</td>\n",
              "    </tr>\n",
              "    <tr>\n",
              "      <th>3</th>\n",
              "      <td>4</td>\n",
              "      <td>0</td>\n",
              "    </tr>\n",
              "    <tr>\n",
              "      <th>4</th>\n",
              "      <td>5</td>\n",
              "      <td>0</td>\n",
              "    </tr>\n",
              "    <tr>\n",
              "      <th>...</th>\n",
              "      <td>...</td>\n",
              "      <td>...</td>\n",
              "    </tr>\n",
              "    <tr>\n",
              "      <th>4023995</th>\n",
              "      <td>4023996</td>\n",
              "      <td>0</td>\n",
              "    </tr>\n",
              "    <tr>\n",
              "      <th>4023996</th>\n",
              "      <td>4023997</td>\n",
              "      <td>0</td>\n",
              "    </tr>\n",
              "    <tr>\n",
              "      <th>4023997</th>\n",
              "      <td>4023998</td>\n",
              "      <td>0</td>\n",
              "    </tr>\n",
              "    <tr>\n",
              "      <th>4023998</th>\n",
              "      <td>4023999</td>\n",
              "      <td>0</td>\n",
              "    </tr>\n",
              "    <tr>\n",
              "      <th>4023999</th>\n",
              "      <td>4024000</td>\n",
              "      <td>0</td>\n",
              "    </tr>\n",
              "  </tbody>\n",
              "</table>\n",
              "<p>4024000 rows × 2 columns</p>\n",
              "</div></div>"
            ]
          },
          "metadata": {},
          "execution_count": 7
        }
      ]
    },
    {
      "cell_type": "code",
      "source": [
        "data = pd.concat([train_df, test_df]).reset_index(drop=True)\n",
        "HorizontalDisplay(\n",
        "    data[\"breath_id\"].value_counts().to_frame(), \n",
        "    data[\"R\"].value_counts().to_frame(),\n",
        "    data[\"C\"].value_counts().to_frame()\n",
        ")"
      ],
      "metadata": {
        "colab": {
          "base_uri": "https://localhost:8080/",
          "height": 773
        },
        "id": "f3C5jY_EENX6",
        "outputId": "b76e24e4-911e-4835-ac3c-9e9276d5c392"
      },
      "id": "f3C5jY_EENX6",
      "execution_count": null,
      "outputs": [
        {
          "output_type": "execute_result",
          "data": {
            "text/plain": [
              "<__main__.HorizontalDisplay at 0x7f7a51e51f10>"
            ],
            "text/html": [
              "<div style=\"float: left; padding: 10px;\"><div>\n",
              "<style scoped>\n",
              "    .dataframe tbody tr th:only-of-type {\n",
              "        vertical-align: middle;\n",
              "    }\n",
              "\n",
              "    .dataframe tbody tr th {\n",
              "        vertical-align: top;\n",
              "    }\n",
              "\n",
              "    .dataframe thead th {\n",
              "        text-align: right;\n",
              "    }\n",
              "</style>\n",
              "<table border=\"1\" class=\"dataframe\">\n",
              "  <thead>\n",
              "    <tr style=\"text-align: right;\">\n",
              "      <th></th>\n",
              "      <th>breath_id</th>\n",
              "    </tr>\n",
              "  </thead>\n",
              "  <tbody>\n",
              "    <tr>\n",
              "      <th>1</th>\n",
              "      <td>80</td>\n",
              "    </tr>\n",
              "    <tr>\n",
              "      <th>20976</th>\n",
              "      <td>80</td>\n",
              "    </tr>\n",
              "    <tr>\n",
              "      <th>20970</th>\n",
              "      <td>80</td>\n",
              "    </tr>\n",
              "    <tr>\n",
              "      <th>20968</th>\n",
              "      <td>80</td>\n",
              "    </tr>\n",
              "    <tr>\n",
              "      <th>20967</th>\n",
              "      <td>80</td>\n",
              "    </tr>\n",
              "    <tr>\n",
              "      <th>...</th>\n",
              "      <td>...</td>\n",
              "    </tr>\n",
              "    <tr>\n",
              "      <th>69871</th>\n",
              "      <td>80</td>\n",
              "    </tr>\n",
              "    <tr>\n",
              "      <th>69870</th>\n",
              "      <td>80</td>\n",
              "    </tr>\n",
              "    <tr>\n",
              "      <th>69869</th>\n",
              "      <td>80</td>\n",
              "    </tr>\n",
              "    <tr>\n",
              "      <th>69866</th>\n",
              "      <td>80</td>\n",
              "    </tr>\n",
              "    <tr>\n",
              "      <th>125748</th>\n",
              "      <td>80</td>\n",
              "    </tr>\n",
              "  </tbody>\n",
              "</table>\n",
              "<p>125750 rows × 1 columns</p>\n",
              "</div></div>\n",
              "<div style=\"float: left; padding: 10px;\"><div>\n",
              "<style scoped>\n",
              "    .dataframe tbody tr th:only-of-type {\n",
              "        vertical-align: middle;\n",
              "    }\n",
              "\n",
              "    .dataframe tbody tr th {\n",
              "        vertical-align: top;\n",
              "    }\n",
              "\n",
              "    .dataframe thead th {\n",
              "        text-align: right;\n",
              "    }\n",
              "</style>\n",
              "<table border=\"1\" class=\"dataframe\">\n",
              "  <thead>\n",
              "    <tr style=\"text-align: right;\">\n",
              "      <th></th>\n",
              "      <th>R</th>\n",
              "    </tr>\n",
              "  </thead>\n",
              "  <tbody>\n",
              "    <tr>\n",
              "      <th>50</th>\n",
              "      <td>4016880</td>\n",
              "    </tr>\n",
              "    <tr>\n",
              "      <th>5</th>\n",
              "      <td>3295600</td>\n",
              "    </tr>\n",
              "    <tr>\n",
              "      <th>20</th>\n",
              "      <td>2747520</td>\n",
              "    </tr>\n",
              "  </tbody>\n",
              "</table>\n",
              "</div></div>\n",
              "<div style=\"float: left; padding: 10px;\"><div>\n",
              "<style scoped>\n",
              "    .dataframe tbody tr th:only-of-type {\n",
              "        vertical-align: middle;\n",
              "    }\n",
              "\n",
              "    .dataframe tbody tr th {\n",
              "        vertical-align: top;\n",
              "    }\n",
              "\n",
              "    .dataframe thead th {\n",
              "        text-align: right;\n",
              "    }\n",
              "</style>\n",
              "<table border=\"1\" class=\"dataframe\">\n",
              "  <thead>\n",
              "    <tr style=\"text-align: right;\">\n",
              "      <th></th>\n",
              "      <th>C</th>\n",
              "    </tr>\n",
              "  </thead>\n",
              "  <tbody>\n",
              "    <tr>\n",
              "      <th>10</th>\n",
              "      <td>3749520</td>\n",
              "    </tr>\n",
              "    <tr>\n",
              "      <th>50</th>\n",
              "      <td>3287520</td>\n",
              "    </tr>\n",
              "    <tr>\n",
              "      <th>20</th>\n",
              "      <td>3022960</td>\n",
              "    </tr>\n",
              "  </tbody>\n",
              "</table>\n",
              "</div></div>"
            ]
          },
          "metadata": {},
          "execution_count": 8
        }
      ]
    },
    {
      "cell_type": "markdown",
      "source": [
        "Như vậy:\n",
        "- Trên toàn bộ dữ liệu, thuộc tính `R`, và `C` đều có ba giá trị khác nhau, các giá trị này không chênh lệch quá nhiều.\n",
        "- Trên toàn bộ dữ liệu, có 125750 `breath_id` được thu thập."
      ],
      "metadata": {
        "id": "QoQxWQlrEVMl"
      },
      "id": "QoQxWQlrEVMl"
    },
    {
      "cell_type": "markdown",
      "source": [
        "Kiểm tra tất cả các `breath_id` đều đủ 80 nhịp thở?"
      ],
      "metadata": {
        "id": "8XqDZIsmB7l2"
      },
      "id": "8XqDZIsmB7l2"
    },
    {
      "cell_type": "code",
      "source": [
        "sum(data[\"breath_id\"].value_counts() != 80)"
      ],
      "metadata": {
        "colab": {
          "base_uri": "https://localhost:8080/"
        },
        "id": "svN0dPbIBxw4",
        "outputId": "123d0d78-6039-4682-9cf4-60e2a96a0a7f"
      },
      "id": "svN0dPbIBxw4",
      "execution_count": null,
      "outputs": [
        {
          "output_type": "execute_result",
          "data": {
            "text/plain": [
              "0"
            ]
          },
          "metadata": {},
          "execution_count": 9
        }
      ]
    },
    {
      "cell_type": "markdown",
      "source": [
        "Kết quả trên cho thấy: Không có `breath_id` nào có tổng số nhịp thở khác 80. Nói cách khác, trên tất cả dữ liệu có được, tất cả các `breath_id` đều có đủ 80 nhịp thở."
      ],
      "metadata": {
        "id": "MScfHv-OCFJE"
      },
      "id": "MScfHv-OCFJE"
    },
    {
      "cell_type": "markdown",
      "source": [
        "Phân phối `pressure` ứng với `u_out`:"
      ],
      "metadata": {
        "id": "4gN2Jqjn34wi"
      },
      "id": "4gN2Jqjn34wi"
    },
    {
      "cell_type": "code",
      "source": [
        "fig, ax = plt.subplots(figsize=(14, 7))\n",
        "ax = sns.distplot(train_df.loc[train_df[\"u_out\"] == 0, \"pressure\"], ax=ax, label=\"u_out=0\", bins=200)\n",
        "ax = sns.distplot(train_df.loc[train_df[\"u_out\"] == 1, \"pressure\"], ax=ax, label=\"u_out=1\", bins=200)\n",
        "plt.legend(loc='upper right');"
      ],
      "metadata": {
        "colab": {
          "base_uri": "https://localhost:8080/",
          "height": 126
        },
        "id": "CACBgxQV6aBp",
        "outputId": "0df96b8c-9d4e-4019-c37b-31d100a76a91"
      },
      "id": "CACBgxQV6aBp",
      "execution_count": null,
      "outputs": [
        {
          "output_type": "stream",
          "name": "stderr",
          "text": [
            "/usr/local/lib/python3.7/dist-packages/seaborn/distributions.py:2619: FutureWarning: `distplot` is a deprecated function and will be removed in a future version. Please adapt your code to use either `displot` (a figure-level function with similar flexibility) or `histplot` (an axes-level function for histograms).\n",
            "  warnings.warn(msg, FutureWarning)\n",
            "/usr/local/lib/python3.7/dist-packages/seaborn/distributions.py:2619: FutureWarning: `distplot` is a deprecated function and will be removed in a future version. Please adapt your code to use either `displot` (a figure-level function with similar flexibility) or `histplot` (an axes-level function for histograms).\n",
            "  warnings.warn(msg, FutureWarning)\n"
          ]
        },
        {
          "output_type": "display_data",
          "data": {
            "text/plain": [
              "<Figure size 1008x504 with 1 Axes>"
            ],
            "image/png": "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\n"
          },
          "metadata": {
            "needs_background": "light"
          }
        }
      ]
    },
    {
      "cell_type": "markdown",
      "source": [
        "Như vậy,\n",
        "- Với u_out = 0, tức là khi không có khí đi ra, các giá trị `pressure` tập trung trong khoảng từ 6 đến 35.\n",
        "- Với u_out = 1, tức là khi có khí đi ra, các giá trị `pressure` tập trung trong khoảng từ 4 đến 10."
      ],
      "metadata": {
        "id": "GTyrOSWXLLxD"
      },
      "id": "GTyrOSWXLLxD"
    },
    {
      "cell_type": "markdown",
      "source": [
        "Phân phối `pressure` với từng kích thước trong thuộc tính `R`:"
      ],
      "metadata": {
        "id": "YSoOY6Hj4wyU"
      },
      "id": "YSoOY6Hj4wyU"
    },
    {
      "cell_type": "code",
      "source": [
        "fig, ax = plt.subplots(figsize=(14, 7))\n",
        "ax = sns.distplot(train_df.loc[train_df[\"R\"] == 5, \"pressure\"], ax=ax, label=\"R=5\", bins=200)\n",
        "ax = sns.distplot(train_df.loc[train_df[\"R\"] == 20, \"pressure\"], ax=ax, label=\"R=20\", bins=200)\n",
        "ax = sns.distplot(train_df.loc[train_df[\"R\"] == 50, \"pressure\"], ax=ax, label=\"R=50\", bins=200)\n",
        "plt.legend(loc='upper right');"
      ],
      "metadata": {
        "colab": {
          "base_uri": "https://localhost:8080/",
          "height": 162
        },
        "id": "kk2gMJk_EdrN",
        "outputId": "783637a8-183c-459c-fe21-eca970f35f5a"
      },
      "id": "kk2gMJk_EdrN",
      "execution_count": null,
      "outputs": [
        {
          "output_type": "stream",
          "name": "stderr",
          "text": [
            "/usr/local/lib/python3.7/dist-packages/seaborn/distributions.py:2619: FutureWarning: `distplot` is a deprecated function and will be removed in a future version. Please adapt your code to use either `displot` (a figure-level function with similar flexibility) or `histplot` (an axes-level function for histograms).\n",
            "  warnings.warn(msg, FutureWarning)\n",
            "/usr/local/lib/python3.7/dist-packages/seaborn/distributions.py:2619: FutureWarning: `distplot` is a deprecated function and will be removed in a future version. Please adapt your code to use either `displot` (a figure-level function with similar flexibility) or `histplot` (an axes-level function for histograms).\n",
            "  warnings.warn(msg, FutureWarning)\n",
            "/usr/local/lib/python3.7/dist-packages/seaborn/distributions.py:2619: FutureWarning: `distplot` is a deprecated function and will be removed in a future version. Please adapt your code to use either `displot` (a figure-level function with similar flexibility) or `histplot` (an axes-level function for histograms).\n",
            "  warnings.warn(msg, FutureWarning)\n"
          ]
        },
        {
          "output_type": "display_data",
          "data": {
            "text/plain": [
              "<Figure size 1008x504 with 1 Axes>"
            ],
            "image/png": "iVBORw0KGgoAAAANSUhEUgAAA0AAAAGpCAYAAACkt1YhAAAABHNCSVQICAgIfAhkiAAAAAlwSFlzAAALEgAACxIB0t1+/AAAADh0RVh0U29mdHdhcmUAbWF0cGxvdGxpYiB2ZXJzaW9uMy4yLjIsIGh0dHA6Ly9tYXRwbG90bGliLm9yZy+WH4yJAAAgAElEQVR4nOzde5TdZ33f+/ez73uuuluyZFnCF7CDjWyEwSEQ2sQJkNZwmpI4caDQNG5wOWGRtKekUK+EZh1KaMmC4hPwIQXqFEhMGoNPRUxjEnIxMZZBxUbYlmPZlmTZGklzn33fz/njt2c0ErqMrNmaPf69X2vN0uzf/PZvf2et+cMff5/n+4QYI5IkSZKUBpmlLkCSJEmSzhcDkCRJkqTUMABJkiRJSg0DkCRJkqTUMABJkiRJSo3cUhdwttasWRO3bNmy1GVIkiRJ6lEPPfTQ4Rjj2pP9bNkFoC1btrBz586lLkOSJElSjwohPH2qn3V1CVwI4Y0hhMdCCE+EEN5/int+LoSwO4Tw/RDCF7pZjyRJkqR061oHKISQBW4HbgD2Aw+GEL4aY9w9757LgN8EXhtjHA0hrOtWPZIkSZLUzQ7QdcATMcYnY4x14EvAW06451eA22OMowAxxkNdrEeSJElSynVzD9BGYN+81/uBV59wz+UAIYS/BbLAb8UY/+zEB4UQbgFuAdi8eXNXipUkSZKWo0ajwf79+6lWq0tdynlXKpXYtGkT+Xx+we9Z6iEIOeAy4A3AJuCvQghXxRjH5t8UY7wDuANg+/bt8XwXKUmSJPWq/fv3Mzg4yJYtWwghLHU5502MkSNHjrB//362bt264Pd1cwncAeCiea83da7Ntx/4aoyxEWPcCzxOEogkSZIkLUC1WmX16tWpCj8AIQRWr1591p2vbgagB4HLQghbQwgF4CbgqyfcczdJ94cQwhqSJXFPdrEmSZIk6UUnbeFn1gv5vbsWgGKMTeA9wL3AD4A/jjF+P4TwoRDCjZ3b7gWOhBB2A38B/JsY45Fu1SRJkiQp3bq6ByjGuAPYccK12+Z9H4Ff73xJkiRJOkdfeOCZRX3eL776zEPIstksV111Fc1mk61bt3LnnXeyYsWKBT3/ne98J9/85jcZHh4G4HOf+xzbtm07p5pPp6sHoUqSJEl68SuXy+zatYtHHnmEVatWcfvtt5/V+z/60Y+ya9cudu3a1dXwAwYgSZIkSYvo+uuv58CBE2ef9Q4DkCRJkqRF0Wq1uO+++7jxxmTL/+TkJNu2bTvp1+7du+fe94EPfICrr76a973vfdRqta7WuNTnAEmSJEla5iqVCtu2bePAgQNcccUV3HDDDQAMDg6ya9eu0773wx/+MOvXr6der3PLLbfwkY98hNtuu+207zkXdoAkSZIknZPZPUBPP/00Mca5PUAL6QBt2LCBEALFYpF3vetdfPvb3+5qrXaAJEmSJC2Kvr4+PvGJT/DWt76VW2+9dUEdoIMHD7JhwwZijNx99928/OUv72qNBiBJkiTpRWQhY6u76ZprruHqq6/mi1/8Im9/+9vPeP/NN9/MyMgIMUa2bdvGpz71qa7WZwDS8rbzs8e+3/6upatDkiQpxaampo57fc899yz4vd/4xjcWu5zTcg+QJEmSpNQwAEmSJElKDQOQJEmSpNQwAEmSJElKDQOQJEmSpNQwAEmSJElKDcdgS5IkSS8m848JWQwLOGokm81y1VVX0Ww22bp1K3feeScrVqxY0ONvvvlmdu7cST6f57rrruPTn/40+XyeGCPvfe972bFjB319fXzuc5/j2muvPdffxg6QJEmSpHNTLpfZtWsXjzzyCKtWreL2229f8HtvvvlmHn30UR5++GEqlQqf+cxnAPja177Gnj172LNnD3fccQfvfve7F6VWA5AkSZKkRXP99ddz4MCBBd//5je/mRACIQSuu+469u/fD8BXvvIV3vGOdxBC4DWveQ1jY2McPHjwnOtzCZwkSZKkRdFqtbjvvvv45V/+ZQAmJyd53eted9J7v/CFL3DllVfOvW40Gtx55518/OMfB+DAgQNcdNFFcz/ftGkTBw4cYMOGDedUowFIkiRJ0jmpVCps27aNAwcOcMUVV3DDDTcAMDg4yK5duxb0jFtvvZXXv/71pwxMi8UlcJIkSZLOyeweoKeffpoY49weoMnJSbZt23bSr927d8+9/7d/+7cZGRnhYx/72Ny1jRs3sm/fvrnX+/fvZ+PGjedcqx0gSZIkSYuir6+PT3ziE7z1rW/l1ltvXVAH6DOf+Qz33nsv9913H5nMsf7MjTfeyCc/+UluuukmHnjgAYaHh895+RsYgCRJkqQXlwWMre6ma665hquvvpovfvGLvP3tbz/j/b/6q7/KxRdfzPXXXw/AP/kn/4TbbruNN7/5zezYsYNLL72Uvr4+PvvZxRnvbQCSJEmSdE6mpqaOe33PPfcs+L3NZvOk10MIZzVOe6HcAyRJkiQpNQxAkiRJklLDACRJkiQpNQxAkiRJklLDACRJkiQpNQxAkiRJklLDMdiSJEnSi8hdj9+1qM972+VvO+M92WyWq666imazydatW7nzzjtZsWLFgp7/zne+k29+85sMDw8D8LnPfY5t27YRY+S9730vO3bsoK+vj8997nNce+215/S7gB0gSZIkSeeoXC6za9cuHnnkEVatWnXW5/d89KMfZdeuXezatYtt27YB8LWvfY09e/awZ88e7rjjDt797ncvSq0GIEmSJEmL5vrrr+fAgQPn/JyvfOUrvOMd7yCEwGte8xrGxsY4ePDgOT/XACRJkiRpUbRaLe677z5uvPFGACYnJ9m2bdtJv3bv3j33vg984ANcffXVvO9976NWqwFw4MABLrroorl7Nm3atCjByj1AkiRJks5JpVJh27ZtHDhwgCuuuIIbbrgBgMHBQXbt2nXa9374wx9m/fr11Ot1brnlFj7ykY9w2223da1WO0CSJEmSzsnsHqCnn36aGOPcHqCFdIA2bNhACIFisci73vUuvv3tbwOwceNG9u3bN/cZ+/fvZ+PGjedcqx0gSZIkSYuir6+PT3ziE7z1rW/l1ltvXVAH6ODBg2zYsIEYI3fffTcvf/nLAbjxxhv55Cc/yU033cQDDzzA8PAwGzZsOOcaDUCSJEnSi8hCxlZ30zXXXMPVV1/NF7/4Rd7+9ref8f6bb76ZkZERYoxs27aNT33qUwC8+c1vZseOHVx66aX09fXx2c9+dlHqMwBJkiRJOidTU1PHvb7nnnsW/N5vfOMbJ70eQjjrcdoL4R4gSZIkSalhAJIkSZKUGgYgSZIkaZmLMS51CUvihfzeBiBJkiRpGSuVShw5ciR1ISjGyJEjRyiVSmf1PocgSJIkScvYpk2b2L9/PyMjI0tdynlXKpXYtGnTWb3HACRJkiQtY/l8nq1bty51GcuGS+AkSZIkpYYBSJIkSVJqGIAkSZIkpYYBSJIkSVJqGIAkSZIkpYYBSJIkSVJqGIAkSZIkpYYBSJIkSVJqGIAkSZIkpYYBSJIkSVJqdDUAhRDeGEJ4LITwRAjh/Sf5+TtDCCMhhF2dr3/RzXokSZIkpVuuWw8OIWSB24EbgP3AgyGEr8YYd59w6x/FGN/TrTokSZIkaVY3O0DXAU/EGJ+MMdaBLwFv6eLnSZIkSdJpdTMAbQT2zXu9v3PtRD8bQvheCOHLIYSLTvagEMItIYSdIYSdIyMj3ahVkiRJUgos9RCEe4AtMcargf8FfP5kN8UY74gxbo8xbl+7du15LVCSJEnSi0c3A9ABYH5HZ1Pn2pwY45EYY63z8jPAK7tYjyRJkqSU69oQBOBB4LIQwlaS4HMT8IvzbwghbIgxHuy8vBH4QRfr0YvcXY/fNff92y5/2xJWIkmSpF7VtQAUY2yGEN4D3Atkgf8aY/x+COFDwM4Y41eBXwsh3Ag0gaPAO7tVjyRJkiR1swNEjHEHsOOEa7fN+/43gd/sZg2SJEmSNGuphyBIkiRJ0nljAJIkSZKUGgYgSZIkSalhAJIkSZKUGgYgSZIkSalhAJIkSZKUGgYgSZIkSalhAJIkSZKUGgYgSZIkSalhAJIkSZKUGgYgSZIkSalhAJIkSZKUGgYgSZIkSalhAJIkSZKUGgYgSZIkSalhAJIkSZKUGgYgSZIkSalhAJIkSZKUGrmlLkA6Vw/sPZp884qBpS1EkiRJPc8OkCRJkqTUMABJkiRJSg0DkCRJkqTUMABJkiRJSg0DkCRJkqTUMABJkiRJSg0DkCRJkqTUMABJkiRJSg0DkCRJkqTUMABJkiRJSg0DkCRJkqTUMABJkiRJSg0DkCRJkqTUMABJkiRJSg0DkCRJkqTUMABJkiRJSg0DkCRJkqTUMABJkiRJSg0DkCRJkqTUMABJkiRJSg0DkCRJkqTUMABJkiRJSg0DkCRJkqTUMABJkiRJSg0DkCRJkqTUMABJkiRJSo3cUhcgvRBfeOAZAC555ugSVyJJkqTlxA6QJEmSpNQwAEmSJElKDQOQJEmSpNQwAEmSJElKDQOQJEmSpNQwAEmSJElKDQOQJEmSpNToagAKIbwxhPBYCOGJEML7T3Pfz4YQYghhezfrkSRJkpRuXQtAIYQscDvwJuBK4BdCCFee5L5B4L3AA92qRZIkSZKgux2g64AnYoxPxhjrwJeAt5zkvv8AfASodrEWSZIkSepqANoI7Jv3en/n2pwQwrXARTHG/9nFOiRJkiQJWMIhCCGEDPAx4DcWcO8tIYSdIYSdIyMj3S9OkiRJ0otSNwPQAeCiea83da7NGgReDvxlCOEp4DXAV082CCHGeEeMcXuMcfvatWu7WLIkSZKkF7NuBqAHgctCCFtDCAXgJuCrsz+MMY7HGNfEGLfEGLcAfwfcGGPc2cWaJEmSJKVY1wJQjLEJvAe4F/gB8Mcxxu+HED4UQrixW58rSZIkSaeS6+bDY4w7gB0nXLvtFPe+oZu1SJIkSdKSDUGQJEmSpPPNACRJkiQpNQxAkiRJklLDACRJkiQpNQxAkiRJklLDACRJkiQpNQxAkiRJklLDACRJkiQpNQxAkiRJklLDACRJkiQpNQxAkiRJklLDACRJkiQpNQxAkiRJklLDACRJkiQpNQxAkiRJklLDACRJkiQpNQxAkiRJklLDACRJkiQpNQxAkiRJklLDACRJkiQpNQxAkiRJklLDAKQXj6fuT74kSZKkU8gtdQFSN9z1+F3HvX7b5W9bokokSZLUS+wASZIkSUoNA5AkSZKk1DAASZIkSUoNA5AkSZKk1DAASZIkSUoNA5AkSZKk1DAASZIkSUoNA5AkSZKk1DAASZIkSUoNA5AkSZKk1DAASZIkSUoNA5AkSZKk1DAASZIkSUoNA5AkSZKk1DAASZIkSUoNA5AkSZKk1FhQAAoh/I8Qws+EEAxMkiRJkpathQaa/wf4RWBPCOE/hhBe2sWaJEmSJKkrFhSAYox/HmO8GbgWeAr48xDC/SGEd4UQ8t0sUJIkSZIWy4KXtIUQVgPvBP4F8F3g4ySB6H91pTLpTGJk/ZG/o1AfW+pKJEmStEwsdA/QnwJ/DfQB/zjGeGOM8Y9ijP8nMNDNAqVTeea5P+Ti577OS/Z+hu9WvrPU5UiSJGkZWGgH6P+NMV4ZY/xwjPEgQAihCBBj3N616qRTuOSZu7j4yIMADDYr3LTvL5ieOUwrtpe4MkmSJPWy3ALv+x1gxwnXvkWyBE5aEoONGQB2rL+Oi0a/x38e30V5Is+VcZwfWf0jXDx0MSGEJa5SkiRJveS0ASiEsB7YCJRDCNcAs/81OUSyHE5aMgPNCgB7BjeylzGgwvpcP98b+R4PPf8Ql6+8nJtedtPSFilJkqSecqYO0E+TDD7YBHxs3vVJ4N91qSZpQQabM1QzeRqZPOPZ5E/55/u2wEvfyJ88/ic8N/3c0hYoSZKknnPaABRj/Dzw+RDCz8YY/+Q81SQtyGCzwmSuDMBYJwCtajSYyhZYU17D3om9S1meJEmSetCZlsD9UozxD4EtIYRfP/HnMcaPneRt0nkx2JxhMpesxBzPBPIxMtSoMgX05ftotps0Wg3yWY+qkiRJUuJMS+D6O/866lo9Z7BRYWRgBQBTIbCi2aLcSPYF9XWC0UxzhuHs8JLVKEmSpN5ypiVwn+78+9vnpxxpYUJs0d+qznWAZkKboXakNBuA8p3rjRmGiwYgSZIkJRZ6EOrvhhCGQgj5EMJ9IYSREMIvdbs46VTyjSkCzO0BqtFiKEZK9SQAlTvXZ5ozS1WiJEmSetBCD0L9qRjjBPCPgKeAS4F/062ipDMpNCcA5jpANRoMkKFcTwLP/A6QJEmSNGuhAWh2qdzPAHfFGMcX8qYQwhtDCI+FEJ4IIbz/JD//1RDCwyGEXSGEvwkhXLnAepRyhcYkALsrmzkwtZpabNJP9tgSuHl7gCRJkqRZCw1A/18I4VHglcB9IYS1QPV0bwghZIHbgTcBVwK/cJKA84UY41Uxxm3A73L8WUPSKRUaSQfoz0au48HnL6dGk3LIUep0gEq5EmAHSJIkScdbUACKMb4f+FFge4yxAUwDbznD264DnogxPhljrANfOvE9nWV1s/qBuNDClW6F5gSNkOVgYzXj9SJtIuVsgVKjCu02mZChnCtTaVaWulRJkiT1kDONwZ7vZSTnAc1/z387zf0bgX3zXu8HXn3iTSGEfwX8OlAA/uHJHhRCuAW4BWDz5s1nUbJerAqNScayA0Bgph0ZAIrZIoFIsTZJrTxMX67PJXCSJEk6zkKnwN0J/Cfgx4BXdb62L0YBMcbbY4yXAP8W+OAp7rkjxrg9xrh97dq1i/GxWuYKzQkOhyEAQjYJOYXOsrdSNdmi1pfvcwmcJEmSjrPQDtB24MoY49ksUTsAXDTv9abOtVP5EvD7Z/F8pVi+McnzMekGzgagfGfyW7kyzvjKZBDCWG1syWqUJElS71noEIRHgPVn+ewHgctCCFtDCAXgJuCr828IIVw27+XPAHvO8jOURu02heYEB9prGMjPzAWgXL4fgNK+h+Cp++0ASZIk6YcstAO0BtgdQvg2UJu9GGO88VRviDE2QwjvAe4FssB/jTF+P4TwIWBnjPGrwHtCCD8JNIBR4J+9wN9DaTJzmExs83TrAtb1jfFcNpmlkSkMAMyNwi7nysw0Zzi7xqUkSZJezBYagH7rhTw8xrgD2HHCtdvmff/eF/JcpdxEspLyqeZ6VhYnGcuM0yAZfV3PFijVj50F1Iot6u36EhYrSZKkXrKgABRj/GYI4WLgshjjn4cQ+ki6OtL5N3EQgINxNReUjvIsE9TbeXIhS7VQptRZ9tbX2RPkMjhJkiTNWugUuF8Bvgx8unNpI3B3t4qSTqvTAXourmJlcYpsborY6qPeylDN91HuHIZazpUBPAtIkiRJcxY6BOFfAa8FJgBijHuAdd0qSjqtiWdpkeEwg6woTZHJzhBbfRye6aNSKM/tAbIDJEmSpBMtNADVYoxzGyk6h6G6s1xLY/IgR8MKBgpV8pkWZCtJAKr0Uc2Xkz1AMdKX6wQgD0OVJElSx0ID0DdDCP8OKIcQbgDuAu7pXlnSaUwf5nAcYmVxCoBWqM11gKqFPnLtJrlW41gHyAAkSZKkjoUGoPcDI8DDwL8kmez2wW4VJZ1OrI5zpD3AytIkAHWaZGMh6QAVktBTalQoZUsEgkvgJEmSNGehU+DaIYS7gbtjjCNdrkk6reb0UcbialYWJ4kxUqNJkRyHZ8pU88ngg1J9hqkQ6Mv3OQRBkiRJc07bAQqJ3wohHAYeAx4LIYyEEG473fukbmpXxpmIfawsTdKgRSRSzmQYqSRDEADK8w9DtQMkSZKkjjMtgXsfyfS3V8UYV8UYVwGvBl4bQnhf16uTTiJbn2CCAVYWp6jRBGAgE5iqFxnPDAIcdxiqe4AkSZI060wB6O3AL8QY985eiDE+CfwS8I5uFiadVKNKrl2jFkqUcg3qMQlAQ7k2AM/WV9AKmeMOQ600XAInSZKkxJkCUD7GePjEi519QPnulCSdRnU8+TdXBJjrAK3oBKDDlX7quSKFZg2wAyRJkqTjnSkA1V/gz6Tu6ASgZqYEQK3TAVpZSP49PNNHI1ck30z+PMv5MjPNGWL02CpJkiSdeQrcK0IIEye5HoBSF+qRTq86BkArVwImqXc6QP2ZDH35OhP1AvVc4bgOUDu2mWpMMVgYXKqqJUmS1CNOG4BijNnzVYi0ILNL4LKzS+AaABTJUs41qTZz1HNFyvVje4AAxqpjBiBJkiQt+CBUqSc0p0cBCPlOAIpN8mTJhAzlXINKM/9DHSCA0dro0hQsSZKknmIA0rJSmTwCQGbeEIRCp5FZzjWpNHLHDUEo55JzgcZqY0tQrSRJknqNAUjLSm0y6eTk8gUA6rFJMXQCUL5JpZlPhiC0GtBuzy2BG63aAZIkSZIBSMtMY3qUSizQlw9A0gEqznWAGlSaOeq5JBwVGjNzS+DsAEmSJAkMQFpmWjOjTNDHQLYFJHuA5jpAuWYnACXL4wq1aYrZIpmQMQBJkiQJMABpmYmVcSZiPwOdg0+P7wA1abazVEIyoT1fnyaEQF+uzyVwkiRJAgxAWmZCbZxx+hnMtWjHSH3eEITp2jQAT0wlf9aF2VHYuT47QJIkSQIMQFpmsvVxJumjlGnT6ByCWgz55N9scibQOP0AFOpJICrny3aAJEmSBBiAtMwUGpNUs4OEkCx/A+aWwBWzdQDG4mwAsgMkSZKk4xmAtKwUm5PUc4NAMgABmBuCUMwmr8fjAJDsAQLoyxuAJEmSlDAAafmIkXJ7imZhCIB6pwM0uweomEs6QDPtMs1M7tgSuFyZsdoY7dhegqIlSZLUSwxAWj7qU2Rp0y4OAz/cASpkkj1AtVaeeq54bAlcvo92bDNZn1yCoiVJktRLDEBaPqrjyb+lTgD6oT1A8wNQ4bg9QOBhqJIkSTIAaTmpJAEm27cCgHqnA5TvBKBsJpLLNOd1gDp7gDoByElwkiRJMgBp2ahNJQEm278yeU2DAjkyIczdU8w2qLXyNHKF44YggB0gSZIkGYC0jEyNHwGgOLAKSJbAzS5/m1XMNqifuAfIDpAkSZI6DEBaNqqTSQAqD3YCUGzODUCYNdsBqueKFGpJB6iUKwEwUZ84j9VKkiSpFxmAtGzUp44C0De0OnlNc24E9qzCXAAqkGvVCa0mxWyRQHAKnCRJkgxAWj4a08kensEVSQeoHlsUQva4e+b2AGWLABTq04QQGCwM2gGSJEmSAUjLR3tmlIlYZuVAGTh5B2huD1D+WAACGCwM2gGSJEmSAUjLR6yOM0E/w+U8AA1a5DmxA1Sn1spTyxYA5gYhDBWGDECSJEkyAGn5yNQmmKSfUj5LI7ZoE8mfZAkcBKZIJr/NdoCGCkMugZMkSZIBSMtHrj5OJTMAQIU6wEmXwAFMhH4A8p0OkEvgJEmSBAYgLSOF5iTV3CAAlZgEnROXwBU6AWg8JgFo/h4gO0CSJEkyAGnZKDWnaORnA1DSATr5EjgYmw1ANYcgSJIk6RgDkJaNvvYkrcIwABWSoFP4oSEIyfWZZoF6vnzcEIRKs0Kj3TiPFUuSJKnXGIC0PLSa9FOhXRwC5nWATrEHqNLM0yj0H7cHCLALJEmSlHIGIC0LsToOQCivAI4NQTjVErhKM0e90HfcHiAwAEmSJKWdAUjLwtTEEQCyfZ0AFE++BC6faRKInQDUPxeAhovJ0rmJmoMQJEmS0swApGVhaiwJQLm+lcCxPUAnToELIZkEV2nkOx0gl8BJkiTpGAOQloWZTgeoNLgKSPYAZcmQCT/8J1zM1qk0czTmdYAGO9PjJhp2gCRJktLMAKRloTo5CkDfUKcDFOs/tPxtVjHbpNLMUy/2JUMQYmSoMzzBJXCSJEnpZgDSslCfTgJQ/9BqIFkCd+Lyt1nFbGNuD1C23STbqrsETpIkSYABSMtEY3oMgMHhY0vg8iF30nuL2TqVRhKAAAr1aUrZErlMzgAkSZKUcgYgLQvtyjjtGBha0QlANE65BK6QbVBt5o8FoNo0IQSGCkNM1F0CJ0mSlGYGIC0P1QmmQ4lcLun6VGL9tEvgZpo56sVjHSCAocKQHSBJkqSUMwBpWQj1CWZC/9zrKo0fOgR1VjHboNnOMpM91gGCZBS2AUiSJCndDEBaFnL1SSqZgbnXM7FOgVPtAUrOCBoPx3eABguDLoGTJElKOQOQloV8c5JaLglArXaLGs3TdoAAJkjuL9SmAJfASZIkyQCkZaLYnKLZCUBTjSTQnG4PEMBEq0Qrm7cDJEmSpDldDUAhhDeGEB4LITwRQnj/SX7+6yGE3SGE74UQ7gshXNzNerR89cVpWoXkMNPpRhJoTrUErtAJQNUa1Av9FGvHB6AY43moWJIkSb2oawEohJAFbgfeBFwJ/EII4coTbvsusD3GeDXwZeB3u1WPlq9mq01/nCa26rDzs0zu+kOAMy6Bq9QDtWL/cVPgmu0m1Vb1/BQuSZKkntPNDtB1wBMxxidjjHXgS8Bb5t8QY/yLGONM5+XfAZu6WI+WqfGZOoNUCPkSAFOtGsApzwGaH4Dqhf7jlsAB7gOSJElKsW4GoI3Avnmv93euncovA1872Q9CCLeEEHaGEHaOjIwsYolaDsYnJ8iHFtl8GYDpdh048x6gSmcJ3PwhCGAAkiRJSrOeGIIQQvglYDvw0ZP9PMZ4R4xxe4xx+9q1a89vcVpyU+NHAMgXkw7QZKcDlA8n3wOUzbTJZ1pJB6g4cNwSOMBBCJIkSSl28v+CXBwHgIvmvd7UuXacEMJPAh8AfjzGWOtiPVqmpsaPAlAsFpPXnQ7QqZbAAZRzDSr1HPX+/uQg1BhdAidJkqSudoAeBC4LIWwNIRSAm4Cvzr8hhHAN8GngxhjjoS7WomWsOjkKQPnEDtDpAlC+SaUO9WI/2XYTGjNzAcgOkCRJUnp1LQDFGJvAe4B7gR8Afxxj/H4I4UMhhBs7t30UGADuCiHsCiF89RSPU4rVp5MA1N+XBKDpdp0sgexp/nzLuSaVWjIEAYDKKEPFzhK4mgFIkiQprbq5BI4Y4w5gxwnXbpv3/U9283dYXaMAACAASURBVPP14lCfHgOgb14HqEyBEMIp31PONZioB+rFTgCaOcrgwAXJ+10CJ0mSlFo9MQRBOp12JQlAoZBMgZtq1yiHwmnfk3SAoFYYSC5URsln85RzZQOQJElSihmA1PNipbNkLTd7DlCdEvnTvifZAzSvA1RJBikMFgbdAyRJkpRiBiD1vFCboEUGsknXJ+kAnSEA5RpUG1DNH+sAQTIK2w6QJElSehmA1POyjUlmMgPQ2fMz1a7Td4YlcKVckxgDU5m+5MLMsQ6QAUiSJCm9DEDqeYXGJLXswNzrqVbtjEvg+nINAKZbRZrZwlwHyCVwkiRJ6WYAUs8rtKZo5ucFoHb9jEMQSvkmADO15CwgOoMUhgpDBiBJkqQU6+oYbOlcVRst+uM0zUJyhk+MkalWjXLu9AGoL5cEoGo9OQtodOQR7n/8Lp6fed4lcJIkSSlmB0g9bbzSYJAZYucQ00ps0iKecQhCqbMEbqYWqBcHKNSnk+vZEpP1Sdqx3d3CJUmS1JMMQOppozN1BkOFUJ8Bkv0/AOUz7gGa7QBBvdBPsTYFQClXIhKZbkx3sWpJkiT1KgOQetrodIMhpsnMHYJaB1jAHqBOB6izBG6uA9Q5S8hlcJIkSelkAFJPG5+pMkCVfGH2ENROB+gMAaiYbRFCpFoP1IqdABQjpWzyHAchSJIkpZMBSD1tamKMTIgUi8XkdXthS+AyAUp5qNSSJXCZdotcs2YHSJIkKeUMQOppM5PJAaalUie4tBa2BA6gXIxU6skQBIBCfXouANkBkiRJSicDkHpafSo5wLRQTPYATS+wAwRQLpAEoEJ/8oza1NwSODtAkiRJ6WQAUk9rTCcBiNwL6AAVYrIErtgJQPVpyrkkSE3U7ABJkiSlkQFIPa05M558k5+dApd0gEoLOMN3bgncXAdommK2SCAw2bADJEmSlEYGIPW2aqdT0+ncTLXq9GcKZMKZ/3STJXDzO0BThBAYyA+4BE6SJCmlDEDqaaE22wHqjMFu1xjInHn5G8wugTu+AwQwVBxyCZwkSVJKGYDU0zKznZq5DlCNwWxxQe8tFyONVqBOnmauSLETgAYLg3aAJEmSUsoApJ4VYyTfmKQR8pBN9vxMtpMlcAtR7txWqSdnARXqxwKQY7AlSZLSyQCknjVdb9Efp2lkyseutWsMLLQDVIhAMgq7VhygWEu6PoN5A5AkSVJaGYDUs0an6wyFCs3ssQA01aozmDnLAFQLVMvDlCrJfqKh4pBL4CRJklLKAKSeNV5pMMgMM7HAA3uPAjDZrjGQXeASuE5OqtShWhqm1Jko5xI4SZKk9DIAqWeNztQZCjO05y15m2qd3RQ4mO0ADVGsTkBss7K4kkqzQrVZ7UrdkiRJ6l0GIPWs0ZkGQ0zTziYjsBvtFrXYWvAeoNK8PUDV0jCZ2KZYm2JVaVXy/OpodwqXJElSzzIAqWeNzdQZDtO0c7NnANUBGFjwHqDk30odKuVhAEqV8bkAdLR6dJErliRJUq8zAKlnjUxUWcEUmXmHoAIL3gOUz0EuG+c6QACl6gSrykkAOlI90oWqJUmS1MsMQOpZE2NHyYU2rc4UuL/bNwLAwZH6gp/RV4hze4AASpUxl8BJkiSlmAFIPasycRhgbgz2TEyCTzksrAMEUCpCtTMFDpIO0OrSasAlcJIkSWlkAFLPqk0lS9RmA1AlNoCzC0DlQmSmFmjlSzRyRUqVccq5MqVsyQAkSZKUQgYg9azWVBJQ5gIQSQeoRH7BzygXkg4QHDsLKITAqtIqA5AkSVIKGYDUk1rtSKYTUGb3AE3G5NyewVBa8HPKxWQIAkC1PEypMgbAytJKhyBIkiSlkAFIPenodJ0hpgFo5JIANBGr5MhQXmgH6Kn7KVcPUqk0gU4Aqk4AJB2gih0gSZKktDEAqSd9/v6nWMEUAK3MbACqMBTKhBAW/JxyvkGlmSdGqJaGKFXGAVwCJ0mSlFIGIPWkyWqTFWGKWqaPmMkCxwLQ2SjnmkQCtUbSASo0KtCosKq8itHqKDHGbpQvSZKkHmUAUk+arDZYEaap5Yfmrk3ECkMsfP8PJAEIOO4wVKaeZ3VpNfV2nenG9KLVLEmSpN5nAFJPmqo1WcEkjcKKuWsTsfoCOkDJ6OxKLekAJQ8/NHcYqsvgJEmS0sUApJ40UW2yKjNNo5CElnaMTPICAlD+5B0gA5AkSVI6GYDUkyarDVaGaWr5JLRMU6NNZPgsA1B/PjkEaKoaqJY7y+kmn5sLQI7CliRJSpfcUhcgncxktclwmOJIJwBNxAoAQws8A2jvkWRvT7WZBKCJmUCtOEgkEKYOsbK0ErADJEmSlDZ2gNSTpqoNhuIU9R8KQGfXASpmG2RDm4mZQMxkqZUGj18C51lAkiRJqWIAUs+JMRJrE+RoUesMQRg/yw7QrBBgqFhjYiY5O6haGoapQxSyBQbzg3aAJEmSUsYApJ4zWWvS304OQa13xmBPxCpw9h0ggOH5Aag8BFPPAcydBSRJkqT0MACp5xyaqDFMEoBq85bA5cjQR+Gsn3eyDhDAqtIqO0CSJEkpYwBSzxmZrLEizHaAjgWgwVAihHDWzxsq1BjvBKBKuROA2m1WlVY5BU6SJCllDEDqOYcmq6zkxAB09mcAzRoq1qg1AtVGpwPUbkB1zA6QJElSCjkGWz1nfgdodgjCRKywIvS9oOcNFWsATM4Eqp39P/fe++s8N9jHWG2MVrtFNpNdhMolSZLU6+wAqeccmqyxMiTn+NRznSEIvPAO0HAhCUATM4FKIQlR5fo0/fl+2rHNeH18EaqWJEnScmAAUs8ZmayxLjdDI1umnS3QjpGJWDnrEdizZjtAEzOB6VISqAaqE/Tn+wHPApIkSUoTA5B6zqHJKmuy03P7f6ap0Sae0x4ggPGZQDVfppnJMVCdpC+fdIPcByRJkpQeBiD1nEMTNVZmpo+bAAdnfwjqrFKuRTEXk1HYITBVGjy+A1QzAEmSJKWFAUg959BkjRVMzRuA8MIPQZ011BfnzgKaLg0yUJ10CZwkSVIKGYDUU2rNFuOVBkNMUc93BiDMdYAWJwBNlYbor05SzhbJhIxL4CRJklKkqwEohPDGEMJjIYQnQgjvP8nPXx9C+E4IoRlC+KfdrEXLw8hksl9noD1FbZGWwAEMxUOMjyfPnioNkY0t+isTrCiuMABJkiSlSNcCUAghC9wOvAm4EviFEMKVJ9z2DPBO4AvdqkPLy6HJGhDpb40fdwhqlgx9FF/wc4eKNSbqRWKEqdIgAANThzwMVZIkKWW6eRDqdcATMcYnAUIIXwLeAuyevSHG+FTnZ+0u1qFl5PnxKv1UydKaC0DjnRHYmRBe8HOHizWa7SyVZo6p2VHYk4dYXVptAJIkSUqRbi6B2wjsm/d6f+faWQsh3BJC2BlC2DkyMrIoxak37RudYQVTANTys0MQKgzywvf/AAzNHoZaKzJT7KcdMgxMHWJlaaUBSJIkKUWWxRCEGOMdMcbtMcbta9euXepy1EX7jlbYWEqmvtULs0MQque0/wfmnQVUK0LIMF0coH9yJFkC5xQ4SZKk1OhmADoAXDTv9abONemU9o3OcNlgA2BuCMIklXOaAAcwVKwDMFFP9hFNlYbm9gBNNiZptBrn9HxJkiQtD90MQA8Cl4UQtoYQCsBNwFe7+Hl6Edh3dIYtfUlYqeeHiTEuTgdo3hI46ASgTgcIcBmcJElSSnQtAMUYm8B7gHuBHwB/HGP8fgjhQyGEGwFCCK8KIewH3gZ8OoTw/W7Vo94XY2T/aIWLitMA1AorqbanaNE+5w5QPtumnGscC0DlQfLNKqs6c0AMQJIkSenQzSlwxBh3ADtOuHbbvO8fJFkaJzEyWaPWbHNhboI2GWqFlUzXk1WTw+cYgODYKGxgbhLc6kZyxpABSJIkKR2WxRAEpcO+0RkA1sRRqsXVxJBlujkKcM4dIEhGYY/Xjg9Aq2bGAAOQJElSWhiA1DP2HU26McOtw1SKybS/6VYSUM51DxAk+4Bml8DNFAeIIbBqMhmrbgCSJElKBwOQesa+o0kHqFw9THU2ADVnA9DiLIGbrBdoR2hnssz0raJ/dB/FbJGRGc+XkiRJSgMDkHrGvtEZ1g4WyUw/T6W0Bkg6QBkC/RTP+flDxRrtmGG6UQBgamAd4ejfs3loM09PPH3Oz5ckSVLvMwCpZ+w7WmHLijxMz1sC1xxlMJTIhHDOz19dTpbYHZruB2Bs5SY4tJstgxezd2LvOT9fkiRJvc8ApJ6xb3SGK4aqQJwXgMYY4tjyt282H5v7OlubBicAeGYiGYAwumorNKtszfWzf3K/h6FKkiSlgAFIPaHZanNwvMrlfck+oEpxLZc8cxfNypOLMgABYKDQYFVphmcmhgE4umYrAFtrdVqxxb7JfYvyOZIkSepdBiD1hIPjVVrtyMXFpEsz2wGaiJVFOQNo1ubhCfZ1OkDT/WugvIqt488DsHfcZXCSJEkvdgYg9YTZCXATI/sBqBTXUIsNxmOFVaF/0T5n89A447US47UChAAbX8mW5x8HcB+QJElSChiA1BNmD0FdG0eJBKrF1extH6ZN5CXZtYv2ORcNJR2mfZ1lcGy8lv6RR1lXXmsHSJIkKQUMQOoJ+45WyARY2T5KtbCSmMnzRPsQAC/JrFu0z9k4MEkmtOcGIbDxlRDbbC2u5qnxpxbtcyRJktSbDEDqCftGZxgu5+mrHTsE9YnWIS4MKxgI534G0Kx8ts2FA1PHOkAXXgvAlphh7/heYoyL9lmSJEnqPQYg9YR9R2dY2VegVBuhUlxDjG2ebI9wSWbxlr/NumhonH0TQ7TbwMBaWLGZrTOTTDYmOVI9suifJ0mSpN5hAFJP2DdaYWV/gXJthEpxLYfr+5ihzqXZxVv+Nmvz0AS1Vo5D453DVS+8lq1HkxHY7gOSJEl6cTMAaclVGy1GJmusKmco1Y5QKa1lf2U3AJdmLlj0z7toaByAfSOdP/+Nr+QlowcAA5AkSdKLnQFIS+6Zzgjsi4ozZGhTKa5l/8wPGKTEujC46J+3tm+GUrbJM0+OwM7PwsZXsq7VopzJG4AkSZJe5AxAWnKPPTcJwJbiFJAcgnqg8gMuya4lhLDon5cJsKmzDwiAC68hkyuzJVPmqYmnFv3zJEmS1DsMQFpyjz03STYT2JgdA2AkV2K08WxXlr/tPTLN3iPTXDw8zsHpAZ6rZKDQB5f+BFumxuwASZIkvcgZgLTkHn1ukq1r+hloJBPYHgtJELp0Ec//OdF1G54lAJ/8QV9y4cq3sLUywbNTz1JtVrv2uZIkSVpaBiAtuceen+Cl6wcp10YA2Nt4lmzIcXFmddc+c1W5ynUXHuCP9pbZd3QGLvsptjYjkcgzk8907XMlSZK0tAxAWlJTtSb7jlZ42QWDlGqHqeWH2Vd7jPWly8iHbFc/+ye2PEUI8In79kB5BVsv2AbA3jGXwUmSJL1Y5Za6AKXb7ACEl64fpPzYIcaKa3iu+gTbV74FOivRvtl87Jw+Y++R6VNcm+aKVX/Pl78DW7fs4RWrNhNGnmLvsw/A1p8+p8+UJElSb7IDpCU1G4Cu2DBEuXaYh/uGaMUmm8pXnJfPv2bdHvJZ2LEzz8imV7Kh1WLvs99elGd/4YFn5r4kSZLUGwxAWlKPPTdBfyHLxhVlyrURHiglTclN5SvPy+f35etcvnmCR57O8cmvNdkS8zw1vhdiPC+fL0mSpPPLAKQl9ehzk1y+fpBMbDLRPMLd2cNc0v8q+nLD562Gl22e5KqXjPHE2CamapvYm4X4+NfP2+dLkiTp/DEAacnEGHns+Uletn6QP/vO7/OxlUM0aXPDBf/yvNYRArzs4ilu2LyT70xeQyWT4Xv33kZst89rHZIkSeo+A5CWzKHJGmMzDV56wSD7Dz3Mnw30c3XhpawsbDivdaw9+hBrjz7EZSsP8GvrhyDC/e1n+Y8f/z12PnV0UT7DvUCSJEm9wSlwWjKPdgYgvGRdid958rtsbjS4cPVr+O7Y1wDYf47T316Ia/tzvLS6nnsG4ff2fZ43fupytq4Z5B++bB1b1/Rz82suPuMzYoyMzTQY3HM3lVaG0S1vYrCUPw/VS5Ik6UwMQFoyjx6cAOAPf/B5DrZr/OexGv/rooElrgpenXsJ/639HM3CQf7gR/bx3kcu4TN/s5cNwyXaMXLjto0Ml48PNDFG9hya4sM7HuV7+8c4Ml0HLgEg++hjXLN5BT9++dol+G0kSZI0nwFIS+ax5yYZHBjjwbEv89oabM2sWuqSAHhl9mK+mHmQ/3nBxfxfe/5vfudHP8s3Ri/k23uP8u+/8n1++57drBsqcu3mlawbLPHEyBTfPzDOkek6Abhk7QDXbV3FlsnvUs62uZ+r2PnUKA89PcrRmTofePMV5LKuPpUkSVoKBiAtibsev4tvPV0gc8F/B+A3Dx/mwMpXsPboQ0tcGfSHIq/b+Dr+bGQXvzHaz0/s+jWa13+BV2+9jANjFf73vjEOTVa5/++PMFFpcPkFg/zEFet4xUUrmKo255a7XfLMOABrNm/kDS9dx188eojP/u1T/O0Th7npVZv55z+2dSl/TUmSpFQyAGlJtNowGu4nX9jH9r4f4+L6Hr5bXrfUZc35mZf8DN/Y9w0e/OkPsv1P/zU//tCv8cwFP8kl+QE2XvW24+79xVdvnvv+VIMOhkp53rJtIxcOl/nK/z7AHX/1JG98+XouXFHu6u8hSZKk47kOR0vi4f1HyK35OoNcyitbyb6fQ+Xe2SPz+k2vZyA/wP+ceJz7X/EfWTn5KFf9/e+zeuzhkx+SuvOzydcZvGrrKv7Zj25hdKbOW2//Wx45MN6F6iVJknQqBiCdd812k/ue/Qq081y98vVcUB0B4FAPdYD+x0OH2Nr3Gr725Nd5at3r+Npr76JaWMWlB/6Un77/Jn7kiTtYMfEY2VblrJ992bpB/uWPX0I+m+Ftn/oWf777+S78BpIkSToZl8DpvPv89z/PdNxP38zPM1jsY11lhFqmwERhiDXTS11d4pJn7uKGVoaH2zM8MfUgLxt6Lbu3vot1ow8xOLOfV+z5L7xiz39Jbv7rlZArQWkFryr9Dc+vfjXPrn3daZ+/fqjEn/6rH+VffH4nv3LnTn7jhsu59Q2XksmE8/DbSZIkpZcBSOfVntE93L7rdpoTL+fKVT8CHGJd5RAj5bXEsPQNyW/OO3voddnLGA5ldh78ff7B6FMQChxa9Sq+te13KVVHWH/kAfqqz7FteBqe+TuojrN57Otctu/LtDIFRgcuY9/6G075WesGS/zRLdfzb//ke/ynrz/OA3uP8rGf28baweJ5+E0lSZLSyQCk86bRbvDBv/0gxUw/o8+9lcuvajNag7XVEZ4aPPMBo+dbJmR4Z+G1fLL2DT5R+3PeV7yBYkgmvFVLa3lq4z8CYNurN8/t/9n15GEGZ/axauIHrB39DiumnqCRH+SJi/4pnCTglQtZPn7TNrIhcM/3nuXNn/hrPnTjj/DGl68nBLtBkiRJi23p/5e7UuMPHv4Ddh/ZzdWlf06Wfrasa5Nv1VlVG2Wkh/b/zHdVdhO/Ung9f98e4ZO1b9CIzeN+fskzdx0//CBkmOy/mKc3vJGHL/1VpssbuO77/4Ef++6/JtOqnfQzQgi8ausqbn3DpeQygXf/9+/wU7/3Vzw5MtXNX02SJCmV7ADpvHj06KN8+n9/mjdtfRPf+84lbFk3Rj6XdH+gtwYgnGh7bgsNWvxB/a/5/dpf8ranplgfhuc6NA/sPXrc/XPL6DLw4xe/nXxrhmsf+88Ud47xV9d+nEZ+8KSfs364xK1vuJQH9h7hz3/wPD/1e3/F/3HNRn71DZdwydqBrv6OkiRJaWEAUtc1Wg0++DcfZEVpBbdc+Rv85I6dvOmVLQDWVQ4BcKjUOyOwT+b63CXUY5M/bHyL71X3syr08/LMRi7MrKBFmxZt2kSGQ5nn2uMMhBJ9FCAEHn3JO6kW1/Cah/89P/HAP+cvX/X7VItrTnpmUDYT+NFL1nDVxmH+8vER7t51gC8/tJ8brryAt22/iB+/fC2F3Plr3J6sxvnnHkmSJC03BiB1VYyR3/rWb/HY6GP8/Et/nv/64N8CRS67sA3A+pnnaRM4XF6ztIUuRIC35q/h2fY4dZo82NpLpdU45e1FcjRo8Yanm2RDjsc3/xyX7P9Tfupbv8Q3XnUHU/2nDhKDpTz/+OoL+QcvXcf9Txzmb544zNd3P085n+XGV1zI/9/enUfZUd0HHv/+blW9pV8v6m611m4hIQktEJAFZrUBQwxkjJ3EwTY2jkngHMexszkzycQzTjLOSc7EJ3bizIzjMwE7ZoJDMDYZMGEMDLaHGGMZCRASCITQLiRa3VLvb6nlN39UdavVSAKEpPdE/z6cd+6tW/Wq7nu3Vd0/7lKXLZ3JpYs7mdl8EhdMWPsPLN6Z9m69vOBDr3OwMcYYY8zpwQIgc1LdtuE27n/5fj593qeZ2TSTbz/nUcwp8zvTAGjp4Evsau4hckGda/rGNEuBs7wCACvdPEIiHA5HOhxujBojWmVYK+xI+vl2+CQPR8/xPv9c3l1ayo4Lv84Vaz/DLzz+IV4846M8u+z3jn29vM81Z8/h6hWz2dI7zDO7Bnhw417uXrsLgK7mPN3tRT6wah7L5rSwaGaJOa2F415AYawWsXHPEOt3DbDjhWZePFBkMPRoe/knLCmVaVp0EWGcEHg2fdAYY4wxpycLgMwJdc/meybyG/s2cu9L93L9mdfzqfM+xd0vfocX9zgWz41xDnKVYbpHdvNI98/XscZHN3lJ7CNxIuQ5PHBroUCLFJhLG2d5s9mXDPJMvItvhT/lgWg9H+g6l9rFd3DNT3+Vldu+yUjTArb2fPB16+I5YdmcVpbNaeXDF3Sz8ZUh/u6HW9h5YIwtvSN84XvPTxwbeEJLIaAp52Uvn1U9M5jRFJD3PXK+w3dCJYyphAkHx2rs6B9lR/8Y2/tHSTQ9z4xcgWYX0hZE7CrneHKgBfZs4/sb9/HJy8/kI+/soRB4b/6LrafJC1Zc8Ov1q4cxxhhj6sYCIHNS7BrexX1b7mP1rNV84dIvICI8t8NjaMxx/pJ02NicvRtxKC+0L69zbU+eOa6Na6WV3XqQn0XbuHPnH3CFv4wZi27m3D0PcPHGP6Xr4NM8teIPCIPWN3RO33Os6pnBlcsOLRwxVA7pHa7SN1Klf6TKSDVirBYzWo3ZP1zl5d4RhqvREc+X8x2dpRydpRxXLpvFJy7oYnVtLa1rv8pY/26CaARfyoy1dvBS02oeHV3Ml+6/gL9+cD2/sbzCx2/4IK2F06MHzxhjjDHGAiBzwu0b3cddm+6iLd/GVQuu4r6X7wPgx8/n6WhOWNkT87NtB1iyeR3DQTN7SvPrXOOTS0TokQ7mBG306QiPRpt4ih28Z945XBdfzmVb76C794dsXPwbvLTgIyRe7k1fo7UY0FoMWDLryKvFfeyiBcSJUosS/mnNTmJVAk8IPIcTwY9Gmd/7GD37HmHBfY9DOAa5EtX8fIabeoi9PIVqP0srz7IqfITfKQb8SC7ivz13HV/b8gM+cckZfPTCBXS3N73Vr8sYY4wx5qSyAMicUPvH9nPn83eS83LctOImmoL0D+LdfcK2Vz3ef2EN50A04azBzWxqX4Ee4QGhb0eBeMyVNq7zz2F9vJP7omd4QHxWrfxlfqVvK5dv/ivOfvk2ds9+D7tnX01/29lUcx0wZT7Pmnu+nGayhQkW7zw07PBYixV4TijmPIqBo6myj7ahl1my827aRrZSKr/CiMQ83dzFw2ddzLbmTnYN72RTuY+IfkqSp5k8y7zzOCfKcfXBXVw1uIb35n/MS94SvvHYlVz7o0tZvaSbD66ez2VLZjKrpXDCv8O34p7N97DtpSdQTb/S7vhqwFa1M8YYY6YbUdV61+FNueCCC3Tt2rX1roY5gh1DO7jxgRsBuPnsm+ksdk7su+v/5Xhuh8d/vrFMMQf7nn2a3974Ve5c+jHWz1w1cVzXgXWnvN71Mqhlngli9pRfINZ0WOD8JMe55UHmhTW64pgZmiMfdOK5As4r4uMoVnpJgLFcO0qCXzsAKDFQybWimi7JrSgJihcOk6CEXh4Xj+HiMhEJfZ5Hr+fxSr7E5kIzexmbqFvelWhTR6uk1xzVKiOkiztEJDiEFTKLS6vCu0b6WDW4lVAK/Ktexj21i1mfLKbU0sZ7lnWxaGYzi2Y2MbetmPZUFXwKgYfnBM8JvpPjXrThSGpRwr7BCrsHxnhp73527HqM4YG11KrbcXEFXyIiHH7cTj6Zx/x572L+istYtWguPR3FE1qXU8LmNRljjDGvISLrVPWCI+2zHiBzQuwa3sWtD91Koslrgp+hMVi/zePi5RHFbHTX8oMvkCBsbjurTjWuvzYpckUEof8O+nSEsP2dvFJ+kTVuAwM6SjLxd3g1ew2mmxOjzPYf4axDRygb/2eeAIXsNX6qgEB8Wsizys1kpjTTKSVycuRbQ6JKnw6zOzlIv45yW26Q2zqg1LmcS+OYZYPr+NXwCf5jlBDHs+ndMJudcRdPajsHtZkBmhnI0oPazCDNJDicpEMFnaSLS7jxvBOa8z6eE8q1GCeCOKWjlMN3inMx4pWpJCMMDe+l1b1Mwd8BuT5G8qP0+QmJSPqdvWZ03hCwAy/+CQufjuh5IkdztYsOt5h5y29g0dJVnN3dTlux8eY33fXCXVTCMlE4RtO+Z/nYrIsQNz16Uo0xxpi3ygIg85btGtrFLQ/fQjkq8/GVH6er6fCHmj7xQkCSwGUrDk3CXz7wIjtbFlDOhshNp56fqcaHxl0xKsByaFrOj8IXqBJR1ho14omHrcaaICIIIAg/53XjEByCIGyId2c5pqRZXtLcJd5iWqVAXoLXXe1uMifCPy8SQgAAEuVJREFULGlllksXbBjRCq8mQ+zTIX7ihnikffJCDgrso5i8QkuS0JQoPoqvMBulC4gRInGEIkQIsXhEQCxCjBKLEKLUgEQgQkkE9hypciUYAQJVFoQRS6Icq3UGC7oW0BzHeE0z2XWwMrFk+TI3m33RXrb6ju3xBtY2jzHS2gv04vf+hHl7YtrCArmki6B4Bh2di5k/azGLOmcxt62FYpAn7/LkvTx5P00DF+A5D1983Lo70t6k4+iVKUdl9o7uZW//Zvb0bmD7tkfZHg6yPRnjVRJqUzqpvrL/cWbGyqz1f8PZzT2c1X4WS+e+k8UL30OhZe6bvv4pN96LZT1YxhhjTgEbAmfekp1DO7nloVuoxlVuu+Y2NvRtOGz/KweE//69Asu7Y1acuQ+ArnIvf/jMl/h+z7U82p3Ow5jOAdDbSagxo1rlDDeTAzrCKDU2x/uItYZqBBoTeQUkifA1ocWHIInxa2UKiUNdDj9JCDRC4jKBJuSSCAc4HB5pQJcjQcSDXBN5OsgFnfhBF6+6Gk3hKMNBaWJu2aLO0kT9tvWPHrXuqsqIjlEO9zMEhMkgfcko+zylcpy9K56CBwTi8BA8BB/BSxJ8SLe9HAJUNKKsMRWNGZ1yuXySsDCMmBMK+aiJStxCHJdI4jwVLyYJRgj9MUaDMfbmEmoujZCcKguihLPIsaR9CXNmLGZ210pmz1lNe+t8moNmcsex6MZxUU0X16gOQ2UoTatZ+tLDgMCSq6GpA1rmQus8yJVe97TGGGPMkdgQOHNSbB/czq0P3UqYhNx+ze0s61h2WABUqcE//iBPU075lUtrPL8PUOWDW+9lzCuyZtaF9au8OSkC8ZghTQwyhieOVgpc4C889ps84A2OMkuytDyp7NDMpQhwDOVaDnvPsYKeyUSEFinRki8xa1J5kIR0VPqhMkZrlGPYBSTRMCRjhMkYNYEaQigQiZIAiaTzr1SURDTtw5N0O0LSMoEYiKVMjOAlHr56uCRHPs7hhyVGw9kcrPWwN1zINr+VV3Ihc1pC2pvKxNEgLbkyJYmpJgHVOCAZa2LJwTkcYIim5FmKhZ3E+T7W58s8PPIijLwIux887HMHCs3Op+TyNHs5SmFI0Xn4pS4ClyMQj0AcvjiC4X0ECEHLXHxNCJKEIInTIHbwlTRNYrxCC34ckoQVwqhMFFWoRWVGRRhxjlEnDDvHqHOMOGFMHDlVSnv/D6VEaYsTuqOIHsnR03EW3Z0raZ19DnQtg5nLoNSJMcYYc7ysB8gcl8d2P8YfP/7HAHx42YeZ1TTrsP2q8K0f5Vi/zePKd+yna0YNgNX7n+KjW/6Z7575QX46++KJ460HyJzuVGHejFZqsUeYeGzrrxKpR5R4xIlHgqAqJOMv3MR2RymdlyVA/2iFwMXkvJCcF9EclCkFFZy8uXt1nDgGqiUOVFqJpZPekQBX7aOF3bT4r5L3hsh5o/huDHEVYi9iTGDEOcouHZIYynhgJ4Qcnh/vZXqzPBXyksePPSTOE2WvRGJwNZyroP4YNS887H1tcUxPFNEdRvSoo9trpmf2eXR1LmNG+5m0tJ+J1zoPmmeD1wDztmxYnzHG1JX1AJkTphpX+cq6r3DnpjtZ2r6UL13xJda9enjwogqPrvdZv83nnDMHJ4KfYjTG9TseYEfzAuv9MW87IrB38NAiFJ3F4zvP7BO0erjnEjqLw3QWh4E9LJ+RlqvCaNTNcK2Jg7UmhmpNjFSKjEV5qrWAJBY0cuQIyZMGIQmOJJtr5iPEmkMJKBMQi4DEiIQgCZCAJIjEqKaDF1Ef1EOTPKiP7yJagjJdpRoz8hWKQchYtYLnYqpRjtGowHAoDCQxoTeMC/oo5/ayp9DL7uIAD7tyGjANP5W+tqefrSVOmJHEtKnQ5nK0SEDRCyh6eYpekWJlkCIeRXEU2xZQdAFFF9DkchRdjqIIRRWKCEUc3qsb0y9ME5i5BJIENIYkTsuSCOIQ4irENYhqkITgfBjrBy8Hu9dCaSa0nwEdi6FzMbTMA1u0whhj6sYCIPOGxEnMmr1r+PK6L7P54GZuWnETnz3/s+S9/GEB0GgF7v63PJt2eZy3KGLpgmEAmmvD3LjlbkrhKLevuHXaPPvHmEYjAs1BheagwtzSgSMeowqVOEc1DqjFAbXYp5b41OKAMPGJ9VDvlZKlKjhRnCR0lgI8UQbKFTyJyWe9WUW/SnNQJu+FUx9vdVRjYY4DlVb6K+fQP9TKYLUZL8lTTsrE3gAt/n5a/X4K3gA5bwjPG2XMqzDgh9RcSKhVaskwlQjiyb1WQ0f+7JPlUIqq+ID07Uy/v4klRUBUs8VFHKiAKgq4BKQAhaRGx74fMDOu0RlHtCUJ7XFCayK0BC20F2bQccZltHYuo2nmMmTmknT+0+m2FLsxxpxmTuoQOBG5Dvhb0lH+t6vqX07Znwf+F3A+0A98RFW3H+ucNgTu1BmqDbF9cDsPb3+YB7c9yP7yfjoKHVy78FqWti897NhqCBu2e3z/qYCRsnD9O0MuWxmxbtt+zu1/ll/adh+5uMb3Fr6fJ+Zc8ppr2RA4Y8yboQq1xGc0LDAWFqjEOWpxOheqmgVtEwFcNkcqUkc1UWqagKshUkNcmOZdDSRLJ7bDLI3HrwrZUERBJ5UlOEnwXYSTGOcSPIlBQiKpkrgK6iqoqx318/iqtCYJrYnSREDOFcl7BQp+E/mgRCHfSjHfRlO+hVK+lVKhhZbiDPL5FnJ+gcAF5LwcgQtekw+8Q2nO5SZWKzTGmLezugyBExEP+CrwXmA38KSI3K+qz0867FbgoKouEZEbgS8CHzlZdTqVVJVaUqMaV6nFh9Lx/NTyyWWJJnjOw4nDk8PTibxLU4BEs8deqh6WD5Nw4pq1pEYYh9SS2kRZmISH6jVp/2B1kL0jexkO094b3/m8e/67uf7M67l03ru594XvMTCsHBhU+gZh935h686IfDzMO1qGuGjxVnoG+jjjoR28f3ALxbjC3kIHD3ZfTn8uNxHs7O84v27tY4w5vYlA3ovIeyN0FEbe1HtVIVaXzs9SR5x4ROpIJpdpEygoaS/XeD4NdNIAp+DXKHg1cl7IG5kSFSUJA5HjYBgwEAnDkWM0TshLGT8ZIueG8N0IsVemIqOMuiHCmjLmhMqIUHbpkvEngigE46sSapo6BA83sbS+l6UOh5ND+zxxjP/nZSscOvGy41x6XLbtuXT9Rk8ciAMExKW9ZuJlaTpUMn2W1aHyiX3iwHmIeBNL+ZOlMpG6iTLn0uukDzVOnyuGpMe47HepZL9PnRz6fM5lnzYrP+yY8fdBlpd0n/Mm6uEmzj++z018m85l50TSrwA3MQrysM8BEw9jdpPT7PEH42Xpe8BloylkajmCjK8G+ZrzZ49EmPye8V7NKT9fU8uPdNx42cT2UfYd67jX/Hwexzmm7nujxx1z3+RtOUr51Doe43NN7nRQDu+AmLr92s1jHz+1Q+P19gOESUisMVESESdpGmmad87hi4/nPDzx8J0/8bfoeH78sQ+n3QPEOYk9QCJyCfBfVPXabPtzAKr6Xycd81B2zBMi4gP7gC49RqUapQdo68BWbvzXGyeCjoQEFBISEk1e/wR1Mh5A+c6f+MGe+oP8Sl8TpbLjE/Ea5kcRF5QrdCTpLADvTUzEPpibwc5iB9tKc3ipeb4NezPGmNcRJ45q7BMmAdXYJ4kd+ahGKarQFFfxkhA0e5GmQowjQtInZZGQoMTZKoRxtiJhtp2tSBhnr0ggEohRVNKVFuOJ1QyZSMefy6VZGpMuiJEeT/YcL0iQ7HwyaaVDISILJoXJfWcTLwA9Df+IMsYc+tvSE49bfu4WfvO836x3lYD6LYIwH9g1aXs3cNHRjlHVSEQGgU6gb/JBIvJJ4JPZ5oiIvPEnN04PM5nynZ0Ij7/lMwwBO996RU5fJ6VdzFtm7dK4rG0ak7VLY7J2aVzTtm3WspZP8+l6V2PcGUfbcVosgqCqfw/8fb3r0ahEZO3RIlxTP9YujcnapXFZ2zQma5fGZO3SuKxtGt/JHJO0B+iZtN2dlR3xmGwIXBvpYgjGGGOMMcYYc8KdzADoSWCpiCwSkRxwI3D/lGPuB27O8jcAPzjW/B9jjDHGGGOMeStO2hC4bE7PbwEPkS6D/Q1VfU5E/gxYq6r3A18H/lFEtgAHSIMk8+bZ8MDGZO3SmKxdGpe1TWOydmlM1i6Ny9qmwZ3U5wAZY4wxxhhjTCOxdYmNMcYYY4wx04YFQMYYY4wxxphpwwKg05iIXCciL4rIFhH5o3rXZzoTkW+ISK+IbJxU1iEij4jIS1naXs86Tkci0iMiPxSR50XkORH53azc2qaORKQgIj8TkfVZu3whK18kImuye9rd2QI65hQTEU9EnhaRB7Jta5cGICLbRWSDiDwjImuzMruX1ZmIzBCR74jICyKySUQusXZpfBYAnaZExAO+CvwCsBL4qIisrG+tprVvAtdNKfsj4FFVXQo8mm2bUysC/r2qrgQuBj6T/TuxtqmvKnCVqp4HrAKuE5GLgS8Cf6OqS4CDwK11rON09rvApknb1i6N4z2qumrSM2bsXlZ/fwt8X1WXA+eR/tuxdmlwFgCdvi4EtqjqVlWtAf8M/GKd6zRtqepjpCsZTvaLwB1Z/g7gl05ppQyquldVn8ryw6S/mOZjbVNXmhrJNoPspcBVwHeycmuXOhCRbuB9wO3ZtmDt0sjsXlZHItIGXE66qjGqWlPVAaxdGp4FQKev+cCuSdu7szLTOGar6t4svw+YXc/KTHcishB4B7AGa5u6y4ZZPQP0Ao8ALwMDqhplh9g9rT6+AvwhkGTbnVi7NAoFHhaRdSLyyazM7mX1tQjYD/xDNmz0dhEpYe3S8CwAMuYUyB7wa2vO14mINAPfBX5PVYcm77O2qQ9VjVV1FdBN2qO9vM5VmvZE5HqgV1XX1bsu5ojepaqrSYe+f0ZELp+80+5ldeEDq4Gvqeo7gFGmDHezdmlMFgCdvvYAPZO2u7My0zheFZG5AFnaW+f6TEsiEpAGP99S1XuzYmubBpENF/khcAkwQ0TGH9Bt97RT7zLgAyKynXRY9VWk8xusXRqAqu7J0l7gX0j/x4Hdy+prN7BbVddk298hDYisXRqcBUCnryeBpdnqPDngRuD+OtfJHO5+4OYsfzNwXx3rMi1l8xe+DmxS1b+etMvapo5EpEtEZmT5IvBe0vlZPwRuyA6zdjnFVPVzqtqtqgtJf6f8QFVvwtql7kSkJCIt43ngGmAjdi+rK1XdB+wSkWVZ0dXA81i7NDxJe+bM6UhE/h3peG0P+Iaq/kWdqzRtichdwJXATOBV4E+B/w18G1gA7AA+rKpTF0owJ5GIvAv4N2ADh+Y0/CfSeUDWNnUiIueSTgz2SP9H3LdV9c9E5EzSnocO4Gng46parV9Npy8RuRL4D6p6vbVL/WVt8C/Zpg/8k6r+hYh0YveyuhKRVaSLhuSArcCvk93XsHZpWBYAGWOMMcYYY6YNGwJnjDHGGGOMmTYsADLGGGOMMcZMGxYAGWOMMcYYY6YNC4CMMcYYY4wx04YFQMYYY4wxxphpwwIgY4wxxhhjzLRhAZAxxpiGIyLe2/Faxhhj6s8CIGOMMaeUiCwUkRdE5FsisklEviMiTSKyXUS+KCJPAR8SkWtE5AkReUpE7hGR5uz9fykiz4vIsyLypazsQyKyUUTWi8hjWdmvicj/mHTdB7IHfCIiIyLyZRFZD1wiIh8XkZ+JyDMi8j8tKDLGmLcvC4CMMcbUwzLg71R1BTAEfDor71fV1cD/BT4P/Hy2vRb4fUmffP/LwNmqei7w59n7/gS4VlXPAz7wBq5fAtZkx/cDHwEuU9VVQAzcdCI+pDHGmMbj17sCxhhjpqVdqvp4lr8T+J0sf3eWXgysBB4XEYAc8AQwCFSAr4vIA8AD2fGPA98UkW8D976B68fAd7P81cD5wJPZtYpA7/F9LGOMMY3OAiBjjDH1oEfZHs1SAR5R1Y9OfaOIXEgatNwA/BZwlap+SkQuAt4HrBOR84GIw0c6FCblK6oaT7rWHar6ubfygYwxxpwebAicMcaYelggIpdk+Y8BP56y/6fAZSKyBEBESiJyVjYPqE1VHwQ+C5yX7V+sqmtU9U+A/UAPsB1YJSJORHqAC49Sl0eBG0RkVnauDhE544R9UmOMMQ3FeoCMMcbUw4vAZ0TkG8DzwNeA3x7fqar7ReTXgLtEJJ8Vfx4YBu4TkQJpz83vZ/v+SkSWZmWPAuuz8m3Z+TcBTx2pIqr6vIh8HnhYRBwQAp8Bdpygz2qMMaaBiOrUUQjGGGPMySMiC4EHVPWcOlfFGGPMNGRD4IwxxhhjjDHThvUAGWOMMcYYY6YN6wEyxhhjjDHGTBsWABljjDHGGGOmDQuAjDHGGGOMMdOGBUDGGGOMMcaYacMCIGOMMcYYY8y08f8BMqSdM7xUVPQAAAAASUVORK5CYII=\n"
          },
          "metadata": {
            "needs_background": "light"
          }
        }
      ]
    },
    {
      "cell_type": "markdown",
      "source": [
        "Hầu hết, các giá trị `pressure` tập trung ở mức từ 5 đến 10."
      ],
      "metadata": {
        "id": "-dY7eoKOMM05"
      },
      "id": "-dY7eoKOMM05"
    },
    {
      "cell_type": "markdown",
      "source": [
        "Phân bố pressure ứng với từng giá trịtrong thuộc tính `C`:"
      ],
      "metadata": {
        "id": "o908Lad6_60v"
      },
      "id": "o908Lad6_60v"
    },
    {
      "cell_type": "code",
      "source": [
        "fig, ax = plt.subplots(figsize=(14, 7))\n",
        "ax = sns.distplot(train_df.loc[train_df[\"C\"] == 10, \"pressure\"], ax=ax, label=\"C=10\", bins=200)\n",
        "ax = sns.distplot(train_df.loc[train_df[\"C\"] == 20, \"pressure\"], ax=ax, label=\"C=20\", bins=200)\n",
        "ax = sns.distplot(train_df.loc[train_df[\"C\"] == 50, \"pressure\"], ax=ax, label=\"C=50\", bins=200)\n",
        "plt.legend(loc='upper right');"
      ],
      "metadata": {
        "colab": {
          "base_uri": "https://localhost:8080/",
          "height": 162
        },
        "id": "vx8EK-R9EfCk",
        "outputId": "e9638046-6c0c-43b7-9634-d873f9f9d2cd"
      },
      "id": "vx8EK-R9EfCk",
      "execution_count": null,
      "outputs": [
        {
          "output_type": "stream",
          "name": "stderr",
          "text": [
            "/usr/local/lib/python3.7/dist-packages/seaborn/distributions.py:2619: FutureWarning: `distplot` is a deprecated function and will be removed in a future version. Please adapt your code to use either `displot` (a figure-level function with similar flexibility) or `histplot` (an axes-level function for histograms).\n",
            "  warnings.warn(msg, FutureWarning)\n",
            "/usr/local/lib/python3.7/dist-packages/seaborn/distributions.py:2619: FutureWarning: `distplot` is a deprecated function and will be removed in a future version. Please adapt your code to use either `displot` (a figure-level function with similar flexibility) or `histplot` (an axes-level function for histograms).\n",
            "  warnings.warn(msg, FutureWarning)\n",
            "/usr/local/lib/python3.7/dist-packages/seaborn/distributions.py:2619: FutureWarning: `distplot` is a deprecated function and will be removed in a future version. Please adapt your code to use either `displot` (a figure-level function with similar flexibility) or `histplot` (an axes-level function for histograms).\n",
            "  warnings.warn(msg, FutureWarning)\n"
          ]
        },
        {
          "output_type": "display_data",
          "data": {
            "text/plain": [
              "<Figure size 1008x504 with 1 Axes>"
            ],
            "image/png": "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\n"
          },
          "metadata": {
            "needs_background": "light"
          }
        }
      ]
    },
    {
      "cell_type": "markdown",
      "source": [
        "Hầu hết, các giá trị `pressure` tập trung ở mức từ 5 đến 10. Với C mang giá trị 10 có phân bố `pressure` thấp hơn với mức 4."
      ],
      "metadata": {
        "id": "-iXqpfbDMW6B"
      },
      "id": "-iXqpfbDMW6B"
    },
    {
      "cell_type": "code",
      "source": [
        "breath_ids = list(train_df[\"breath_id\"].sample(12))\n",
        "fig, axes = plt.subplots(figsize=(24, 12), ncols=4, nrows=3)\n",
        "axes = np.ravel(axes)\n",
        "for b, ax in zip(breath_ids, axes):\n",
        "    _df = train_df[train_df[\"breath_id\"]==b].copy()\n",
        "    (_df\n",
        "     .set_index(\"time_step\")[[\"pressure\", \"u_in\", \"u_out\"]]\n",
        "     .plot(colormap='Paired',\n",
        "           ax=ax,\n",
        "           title=f\"breath_id={b}, R={_df['R'].unique()}, C={_df['C'].unique()}\", \n",
        "           linewidth=2)\n",
        "    )\n",
        "\n",
        "fig.subplots_adjust(hspace=0.3);"
      ],
      "metadata": {
        "colab": {
          "base_uri": "https://localhost:8080/",
          "height": 54
        },
        "id": "JOEH6iEnEkdX",
        "outputId": "052df13d-a2a5-4f6d-c8ad-56d57c25faea"
      },
      "id": "JOEH6iEnEkdX",
      "execution_count": null,
      "outputs": [
        {
          "output_type": "display_data",
          "data": {
            "text/plain": [
              "<Figure size 1728x864 with 12 Axes>"
            ],
            "image/png": "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\n"
          },
          "metadata": {
            "needs_background": "light"
          }
        }
      ]
    },
    {
      "cell_type": "code",
      "source": [
        "# Dọn dẹp hết biến ở phần này:\n",
        "del data, fig, breath_ids, axes, b"
      ],
      "metadata": {
        "id": "VnDCGDqMwNEL"
      },
      "id": "VnDCGDqMwNEL",
      "execution_count": null,
      "outputs": []
    },
    {
      "cell_type": "markdown",
      "id": "fde87b9d",
      "metadata": {
        "id": "fde87b9d"
      },
      "source": [
        "### 3.2. Feature Engineer:"
      ]
    },
    {
      "cell_type": "markdown",
      "id": "9e195d45",
      "metadata": {
        "id": "9e195d45"
      },
      "source": [
        "Quá trình Feature Engineer chia làm 8 bước được mô tả chi tiết như bên dưới. Sau quá trình phân tích, tất cả các quá trình được thực hiện trong một hàm duy nhất là `add_features` với input là một dataframe với 7 features và ouput là một dataframe có 71 features.\n",
        "\n",
        "Để không làm ảnh hướng đến data, các phần trực quan về feature được thực hiện trong `small_df` được trích một phần từ tập `train_df`."
      ]
    },
    {
      "cell_type": "code",
      "source": [
        "small_df = train_df.loc[0:799,].copy()"
      ],
      "metadata": {
        "id": "vZ4-tH-KM2fD"
      },
      "id": "vZ4-tH-KM2fD",
      "execution_count": null,
      "outputs": []
    },
    {
      "cell_type": "markdown",
      "source": [
        "Quá trình feature chia làm 8 bước:"
      ],
      "metadata": {
        "id": "YHCn4o1OQJAC"
      },
      "id": "YHCn4o1OQJAC"
    },
    {
      "cell_type": "markdown",
      "source": [
        "#### 3.2.1. Các feature mang tính vật lý:"
      ],
      "metadata": {
        "id": "XFbdNXmz9hHa"
      },
      "id": "XFbdNXmz9hHa"
    },
    {
      "cell_type": "markdown",
      "source": [
        "Tính vật lý được thể hiện ở diện tích phổi, thể tích lượng khí mà phối chứa..."
      ],
      "metadata": {
        "id": "7SGT8cIbQToq"
      },
      "id": "7SGT8cIbQToq"
    },
    {
      "cell_type": "markdown",
      "source": [
        "`area` là feature thể hiện cho diện tích lượng khí thở tương ứng với từng phổi dựa vào độ mở của van khí vào nhân với bước thời gian."
      ],
      "metadata": {
        "id": "ezxuli9jXOmK"
      },
      "id": "ezxuli9jXOmK"
    },
    {
      "cell_type": "code",
      "source": [
        " # Tính tổng lượng khí thở ở mức thời gian tương ứng với độ mở của van khí vào.\n",
        " small_df['area'] = small_df['time_step'] * small_df['u_in']\n",
        " small_df[['area']].iloc[:80]"
      ],
      "metadata": {
        "colab": {
          "base_uri": "https://localhost:8080/",
          "height": 505
        },
        "id": "W5Di9hJ1X84k",
        "outputId": "f45eec78-81ab-404b-9906-162bf5afa0bc"
      },
      "id": "W5Di9hJ1X84k",
      "execution_count": null,
      "outputs": [
        {
          "output_type": "execute_result",
          "data": {
            "text/plain": [
              "         area\n",
              "0    0.000000\n",
              "1    0.618632\n",
              "2    1.519701\n",
              "3    2.316059\n",
              "4    3.442197\n",
              "..        ...\n",
              "75  12.702783\n",
              "76  12.883083\n",
              "77  13.061275\n",
              "78  13.238051\n",
              "79  13.414076\n",
              "\n",
              "[80 rows x 1 columns]"
            ],
            "text/html": [
              "\n",
              "  <div id=\"df-cc54dc0e-0c98-47f0-a016-24a05682beda\">\n",
              "    <div class=\"colab-df-container\">\n",
              "      <div>\n",
              "<style scoped>\n",
              "    .dataframe tbody tr th:only-of-type {\n",
              "        vertical-align: middle;\n",
              "    }\n",
              "\n",
              "    .dataframe tbody tr th {\n",
              "        vertical-align: top;\n",
              "    }\n",
              "\n",
              "    .dataframe thead th {\n",
              "        text-align: right;\n",
              "    }\n",
              "</style>\n",
              "<table border=\"1\" class=\"dataframe\">\n",
              "  <thead>\n",
              "    <tr style=\"text-align: right;\">\n",
              "      <th></th>\n",
              "      <th>area</th>\n",
              "    </tr>\n",
              "  </thead>\n",
              "  <tbody>\n",
              "    <tr>\n",
              "      <th>0</th>\n",
              "      <td>0.000000</td>\n",
              "    </tr>\n",
              "    <tr>\n",
              "      <th>1</th>\n",
              "      <td>0.618632</td>\n",
              "    </tr>\n",
              "    <tr>\n",
              "      <th>2</th>\n",
              "      <td>1.519701</td>\n",
              "    </tr>\n",
              "    <tr>\n",
              "      <th>3</th>\n",
              "      <td>2.316059</td>\n",
              "    </tr>\n",
              "    <tr>\n",
              "      <th>4</th>\n",
              "      <td>3.442197</td>\n",
              "    </tr>\n",
              "    <tr>\n",
              "      <th>...</th>\n",
              "      <td>...</td>\n",
              "    </tr>\n",
              "    <tr>\n",
              "      <th>75</th>\n",
              "      <td>12.702783</td>\n",
              "    </tr>\n",
              "    <tr>\n",
              "      <th>76</th>\n",
              "      <td>12.883083</td>\n",
              "    </tr>\n",
              "    <tr>\n",
              "      <th>77</th>\n",
              "      <td>13.061275</td>\n",
              "    </tr>\n",
              "    <tr>\n",
              "      <th>78</th>\n",
              "      <td>13.238051</td>\n",
              "    </tr>\n",
              "    <tr>\n",
              "      <th>79</th>\n",
              "      <td>13.414076</td>\n",
              "    </tr>\n",
              "  </tbody>\n",
              "</table>\n",
              "<p>80 rows × 1 columns</p>\n",
              "</div>\n",
              "      <button class=\"colab-df-convert\" onclick=\"convertToInteractive('df-cc54dc0e-0c98-47f0-a016-24a05682beda')\"\n",
              "              title=\"Convert this dataframe to an interactive table.\"\n",
              "              style=\"display:none;\">\n",
              "        \n",
              "  <svg xmlns=\"http://www.w3.org/2000/svg\" height=\"24px\"viewBox=\"0 0 24 24\"\n",
              "       width=\"24px\">\n",
              "    <path d=\"M0 0h24v24H0V0z\" fill=\"none\"/>\n",
              "    <path d=\"M18.56 5.44l.94 2.06.94-2.06 2.06-.94-2.06-.94-.94-2.06-.94 2.06-2.06.94zm-11 1L8.5 8.5l.94-2.06 2.06-.94-2.06-.94L8.5 2.5l-.94 2.06-2.06.94zm10 10l.94 2.06.94-2.06 2.06-.94-2.06-.94-.94-2.06-.94 2.06-2.06.94z\"/><path d=\"M17.41 7.96l-1.37-1.37c-.4-.4-.92-.59-1.43-.59-.52 0-1.04.2-1.43.59L10.3 9.45l-7.72 7.72c-.78.78-.78 2.05 0 2.83L4 21.41c.39.39.9.59 1.41.59.51 0 1.02-.2 1.41-.59l7.78-7.78 2.81-2.81c.8-.78.8-2.07 0-2.86zM5.41 20L4 18.59l7.72-7.72 1.47 1.35L5.41 20z\"/>\n",
              "  </svg>\n",
              "      </button>\n",
              "      \n",
              "  <style>\n",
              "    .colab-df-container {\n",
              "      display:flex;\n",
              "      flex-wrap:wrap;\n",
              "      gap: 12px;\n",
              "    }\n",
              "\n",
              "    .colab-df-convert {\n",
              "      background-color: #E8F0FE;\n",
              "      border: none;\n",
              "      border-radius: 50%;\n",
              "      cursor: pointer;\n",
              "      display: none;\n",
              "      fill: #1967D2;\n",
              "      height: 32px;\n",
              "      padding: 0 0 0 0;\n",
              "      width: 32px;\n",
              "    }\n",
              "\n",
              "    .colab-df-convert:hover {\n",
              "      background-color: #E2EBFA;\n",
              "      box-shadow: 0px 1px 2px rgba(60, 64, 67, 0.3), 0px 1px 3px 1px rgba(60, 64, 67, 0.15);\n",
              "      fill: #174EA6;\n",
              "    }\n",
              "\n",
              "    [theme=dark] .colab-df-convert {\n",
              "      background-color: #3B4455;\n",
              "      fill: #D2E3FC;\n",
              "    }\n",
              "\n",
              "    [theme=dark] .colab-df-convert:hover {\n",
              "      background-color: #434B5C;\n",
              "      box-shadow: 0px 1px 3px 1px rgba(0, 0, 0, 0.15);\n",
              "      filter: drop-shadow(0px 1px 2px rgba(0, 0, 0, 0.3));\n",
              "      fill: #FFFFFF;\n",
              "    }\n",
              "  </style>\n",
              "\n",
              "      <script>\n",
              "        const buttonEl =\n",
              "          document.querySelector('#df-cc54dc0e-0c98-47f0-a016-24a05682beda button.colab-df-convert');\n",
              "        buttonEl.style.display =\n",
              "          google.colab.kernel.accessAllowed ? 'block' : 'none';\n",
              "\n",
              "        async function convertToInteractive(key) {\n",
              "          const element = document.querySelector('#df-cc54dc0e-0c98-47f0-a016-24a05682beda');\n",
              "          const dataTable =\n",
              "            await google.colab.kernel.invokeFunction('convertToInteractive',\n",
              "                                                     [key], {});\n",
              "          if (!dataTable) return;\n",
              "\n",
              "          const docLinkHtml = 'Like what you see? Visit the ' +\n",
              "            '<a target=\"_blank\" href=https://colab.research.google.com/notebooks/data_table.ipynb>data table notebook</a>'\n",
              "            + ' to learn more about interactive tables.';\n",
              "          element.innerHTML = '';\n",
              "          dataTable['output_type'] = 'display_data';\n",
              "          await google.colab.output.renderOutput(dataTable, element);\n",
              "          const docLink = document.createElement('div');\n",
              "          docLink.innerHTML = docLinkHtml;\n",
              "          element.appendChild(docLink);\n",
              "        }\n",
              "      </script>\n",
              "    </div>\n",
              "  </div>\n",
              "  "
            ]
          },
          "metadata": {},
          "execution_count": 16
        }
      ]
    },
    {
      "cell_type": "markdown",
      "source": [
        "Tương tự, `cross2` là feature lấy các mốc thời gian thực sự hữu ích ở pha khí ra."
      ],
      "metadata": {
        "id": "lfkpRA3QlZzE"
      },
      "id": "lfkpRA3QlZzE"
    },
    {
      "cell_type": "code",
      "source": [
        "# Tính tổng tích lũy lượng khí tương ứng với từng phổi.\n",
        "small_df['area'] = small_df.groupby('breath_id')['area'].cumsum()\n",
        "small_df[['area']].iloc[:80]"
      ],
      "metadata": {
        "id": "T6fBjQNl9gxO",
        "colab": {
          "base_uri": "https://localhost:8080/",
          "height": 505
        },
        "outputId": "72de180c-0bcb-42cb-b36f-4c9e59602bd6"
      },
      "id": "T6fBjQNl9gxO",
      "execution_count": null,
      "outputs": [
        {
          "output_type": "execute_result",
          "data": {
            "text/plain": [
              "          area\n",
              "0     0.000000\n",
              "1     0.618632\n",
              "2     2.138333\n",
              "3     4.454391\n",
              "4     7.896588\n",
              "..         ...\n",
              "75  585.651356\n",
              "76  598.534439\n",
              "77  611.595714\n",
              "78  624.833765\n",
              "79  638.247842\n",
              "\n",
              "[80 rows x 1 columns]"
            ],
            "text/html": [
              "\n",
              "  <div id=\"df-046e7cb2-93d8-4abc-bb46-dc14bceb1588\">\n",
              "    <div class=\"colab-df-container\">\n",
              "      <div>\n",
              "<style scoped>\n",
              "    .dataframe tbody tr th:only-of-type {\n",
              "        vertical-align: middle;\n",
              "    }\n",
              "\n",
              "    .dataframe tbody tr th {\n",
              "        vertical-align: top;\n",
              "    }\n",
              "\n",
              "    .dataframe thead th {\n",
              "        text-align: right;\n",
              "    }\n",
              "</style>\n",
              "<table border=\"1\" class=\"dataframe\">\n",
              "  <thead>\n",
              "    <tr style=\"text-align: right;\">\n",
              "      <th></th>\n",
              "      <th>area</th>\n",
              "    </tr>\n",
              "  </thead>\n",
              "  <tbody>\n",
              "    <tr>\n",
              "      <th>0</th>\n",
              "      <td>0.000000</td>\n",
              "    </tr>\n",
              "    <tr>\n",
              "      <th>1</th>\n",
              "      <td>0.618632</td>\n",
              "    </tr>\n",
              "    <tr>\n",
              "      <th>2</th>\n",
              "      <td>2.138333</td>\n",
              "    </tr>\n",
              "    <tr>\n",
              "      <th>3</th>\n",
              "      <td>4.454391</td>\n",
              "    </tr>\n",
              "    <tr>\n",
              "      <th>4</th>\n",
              "      <td>7.896588</td>\n",
              "    </tr>\n",
              "    <tr>\n",
              "      <th>...</th>\n",
              "      <td>...</td>\n",
              "    </tr>\n",
              "    <tr>\n",
              "      <th>75</th>\n",
              "      <td>585.651356</td>\n",
              "    </tr>\n",
              "    <tr>\n",
              "      <th>76</th>\n",
              "      <td>598.534439</td>\n",
              "    </tr>\n",
              "    <tr>\n",
              "      <th>77</th>\n",
              "      <td>611.595714</td>\n",
              "    </tr>\n",
              "    <tr>\n",
              "      <th>78</th>\n",
              "      <td>624.833765</td>\n",
              "    </tr>\n",
              "    <tr>\n",
              "      <th>79</th>\n",
              "      <td>638.247842</td>\n",
              "    </tr>\n",
              "  </tbody>\n",
              "</table>\n",
              "<p>80 rows × 1 columns</p>\n",
              "</div>\n",
              "      <button class=\"colab-df-convert\" onclick=\"convertToInteractive('df-046e7cb2-93d8-4abc-bb46-dc14bceb1588')\"\n",
              "              title=\"Convert this dataframe to an interactive table.\"\n",
              "              style=\"display:none;\">\n",
              "        \n",
              "  <svg xmlns=\"http://www.w3.org/2000/svg\" height=\"24px\"viewBox=\"0 0 24 24\"\n",
              "       width=\"24px\">\n",
              "    <path d=\"M0 0h24v24H0V0z\" fill=\"none\"/>\n",
              "    <path d=\"M18.56 5.44l.94 2.06.94-2.06 2.06-.94-2.06-.94-.94-2.06-.94 2.06-2.06.94zm-11 1L8.5 8.5l.94-2.06 2.06-.94-2.06-.94L8.5 2.5l-.94 2.06-2.06.94zm10 10l.94 2.06.94-2.06 2.06-.94-2.06-.94-.94-2.06-.94 2.06-2.06.94z\"/><path d=\"M17.41 7.96l-1.37-1.37c-.4-.4-.92-.59-1.43-.59-.52 0-1.04.2-1.43.59L10.3 9.45l-7.72 7.72c-.78.78-.78 2.05 0 2.83L4 21.41c.39.39.9.59 1.41.59.51 0 1.02-.2 1.41-.59l7.78-7.78 2.81-2.81c.8-.78.8-2.07 0-2.86zM5.41 20L4 18.59l7.72-7.72 1.47 1.35L5.41 20z\"/>\n",
              "  </svg>\n",
              "      </button>\n",
              "      \n",
              "  <style>\n",
              "    .colab-df-container {\n",
              "      display:flex;\n",
              "      flex-wrap:wrap;\n",
              "      gap: 12px;\n",
              "    }\n",
              "\n",
              "    .colab-df-convert {\n",
              "      background-color: #E8F0FE;\n",
              "      border: none;\n",
              "      border-radius: 50%;\n",
              "      cursor: pointer;\n",
              "      display: none;\n",
              "      fill: #1967D2;\n",
              "      height: 32px;\n",
              "      padding: 0 0 0 0;\n",
              "      width: 32px;\n",
              "    }\n",
              "\n",
              "    .colab-df-convert:hover {\n",
              "      background-color: #E2EBFA;\n",
              "      box-shadow: 0px 1px 2px rgba(60, 64, 67, 0.3), 0px 1px 3px 1px rgba(60, 64, 67, 0.15);\n",
              "      fill: #174EA6;\n",
              "    }\n",
              "\n",
              "    [theme=dark] .colab-df-convert {\n",
              "      background-color: #3B4455;\n",
              "      fill: #D2E3FC;\n",
              "    }\n",
              "\n",
              "    [theme=dark] .colab-df-convert:hover {\n",
              "      background-color: #434B5C;\n",
              "      box-shadow: 0px 1px 3px 1px rgba(0, 0, 0, 0.15);\n",
              "      filter: drop-shadow(0px 1px 2px rgba(0, 0, 0, 0.3));\n",
              "      fill: #FFFFFF;\n",
              "    }\n",
              "  </style>\n",
              "\n",
              "      <script>\n",
              "        const buttonEl =\n",
              "          document.querySelector('#df-046e7cb2-93d8-4abc-bb46-dc14bceb1588 button.colab-df-convert');\n",
              "        buttonEl.style.display =\n",
              "          google.colab.kernel.accessAllowed ? 'block' : 'none';\n",
              "\n",
              "        async function convertToInteractive(key) {\n",
              "          const element = document.querySelector('#df-046e7cb2-93d8-4abc-bb46-dc14bceb1588');\n",
              "          const dataTable =\n",
              "            await google.colab.kernel.invokeFunction('convertToInteractive',\n",
              "                                                     [key], {});\n",
              "          if (!dataTable) return;\n",
              "\n",
              "          const docLinkHtml = 'Like what you see? Visit the ' +\n",
              "            '<a target=\"_blank\" href=https://colab.research.google.com/notebooks/data_table.ipynb>data table notebook</a>'\n",
              "            + ' to learn more about interactive tables.';\n",
              "          element.innerHTML = '';\n",
              "          dataTable['output_type'] = 'display_data';\n",
              "          await google.colab.output.renderOutput(dataTable, element);\n",
              "          const docLink = document.createElement('div');\n",
              "          docLink.innerHTML = docLinkHtml;\n",
              "          element.appendChild(docLink);\n",
              "        }\n",
              "      </script>\n",
              "    </div>\n",
              "  </div>\n",
              "  "
            ]
          },
          "metadata": {},
          "execution_count": 17
        }
      ]
    },
    {
      "cell_type": "markdown",
      "source": [
        "`cross` là feature lấy tích của `u_in` và `u_out`. Vì `u_out` chỉ có hai giá trị là 0 và 1, nên feature này có thể tách được lượng khí `u_in` thực sự hữu ích owr pha khí ra."
      ],
      "metadata": {
        "id": "DFRqGuE_gyx3"
      },
      "id": "DFRqGuE_gyx3"
    },
    {
      "cell_type": "code",
      "source": [
        "# Tính tích chéo của u_in và u_out\n",
        "small_df['cross'] = small_df['u_in'] * small_df['u_out']\n",
        "small_df[['cross']].iloc[0:80]"
      ],
      "metadata": {
        "colab": {
          "base_uri": "https://localhost:8080/",
          "height": 505
        },
        "id": "kEbDtadTWtFv",
        "outputId": "2420040a-41f3-4022-e27d-13765fd09abe"
      },
      "id": "kEbDtadTWtFv",
      "execution_count": null,
      "outputs": [
        {
          "output_type": "execute_result",
          "data": {
            "text/plain": [
              "       cross\n",
              "0   0.000000\n",
              "1   0.000000\n",
              "2   0.000000\n",
              "3   0.000000\n",
              "4   0.000000\n",
              "..       ...\n",
              "75  4.974474\n",
              "76  4.978481\n",
              "77  4.981847\n",
              "78  4.984683\n",
              "79  4.987079\n",
              "\n",
              "[80 rows x 1 columns]"
            ],
            "text/html": [
              "\n",
              "  <div id=\"df-aad62372-21b6-46cb-a65e-14c425af15d4\">\n",
              "    <div class=\"colab-df-container\">\n",
              "      <div>\n",
              "<style scoped>\n",
              "    .dataframe tbody tr th:only-of-type {\n",
              "        vertical-align: middle;\n",
              "    }\n",
              "\n",
              "    .dataframe tbody tr th {\n",
              "        vertical-align: top;\n",
              "    }\n",
              "\n",
              "    .dataframe thead th {\n",
              "        text-align: right;\n",
              "    }\n",
              "</style>\n",
              "<table border=\"1\" class=\"dataframe\">\n",
              "  <thead>\n",
              "    <tr style=\"text-align: right;\">\n",
              "      <th></th>\n",
              "      <th>cross</th>\n",
              "    </tr>\n",
              "  </thead>\n",
              "  <tbody>\n",
              "    <tr>\n",
              "      <th>0</th>\n",
              "      <td>0.000000</td>\n",
              "    </tr>\n",
              "    <tr>\n",
              "      <th>1</th>\n",
              "      <td>0.000000</td>\n",
              "    </tr>\n",
              "    <tr>\n",
              "      <th>2</th>\n",
              "      <td>0.000000</td>\n",
              "    </tr>\n",
              "    <tr>\n",
              "      <th>3</th>\n",
              "      <td>0.000000</td>\n",
              "    </tr>\n",
              "    <tr>\n",
              "      <th>4</th>\n",
              "      <td>0.000000</td>\n",
              "    </tr>\n",
              "    <tr>\n",
              "      <th>...</th>\n",
              "      <td>...</td>\n",
              "    </tr>\n",
              "    <tr>\n",
              "      <th>75</th>\n",
              "      <td>4.974474</td>\n",
              "    </tr>\n",
              "    <tr>\n",
              "      <th>76</th>\n",
              "      <td>4.978481</td>\n",
              "    </tr>\n",
              "    <tr>\n",
              "      <th>77</th>\n",
              "      <td>4.981847</td>\n",
              "    </tr>\n",
              "    <tr>\n",
              "      <th>78</th>\n",
              "      <td>4.984683</td>\n",
              "    </tr>\n",
              "    <tr>\n",
              "      <th>79</th>\n",
              "      <td>4.987079</td>\n",
              "    </tr>\n",
              "  </tbody>\n",
              "</table>\n",
              "<p>80 rows × 1 columns</p>\n",
              "</div>\n",
              "      <button class=\"colab-df-convert\" onclick=\"convertToInteractive('df-aad62372-21b6-46cb-a65e-14c425af15d4')\"\n",

              "              title=\"Convert this dataframe to an interactive table.\"\n",
              "              style=\"display:none;\">\n",
              "        \n",
              "  <svg xmlns=\"http://www.w3.org/2000/svg\" height=\"24px\"viewBox=\"0 0 24 24\"\n",
              "       width=\"24px\">\n",
              "    <path d=\"M0 0h24v24H0V0z\" fill=\"none\"/>\n",
              "    <path d=\"M18.56 5.44l.94 2.06.94-2.06 2.06-.94-2.06-.94-.94-2.06-.94 2.06-2.06.94zm-11 1L8.5 8.5l.94-2.06 2.06-.94-2.06-.94L8.5 2.5l-.94 2.06-2.06.94zm10 10l.94 2.06.94-2.06 2.06-.94-2.06-.94-.94-2.06-.94 2.06-2.06.94z\"/><path d=\"M17.41 7.96l-1.37-1.37c-.4-.4-.92-.59-1.43-.59-.52 0-1.04.2-1.43.59L10.3 9.45l-7.72 7.72c-.78.78-.78 2.05 0 2.83L4 21.41c.39.39.9.59 1.41.59.51 0 1.02-.2 1.41-.59l7.78-7.78 2.81-2.81c.8-.78.8-2.07 0-2.86zM5.41 20L4 18.59l7.72-7.72 1.47 1.35L5.41 20z\"/>\n",
              "  </svg>\n",
              "      </button>\n",
              "      \n",
              "  <style>\n",
              "    .colab-df-container {\n",
              "      display:flex;\n",
              "      flex-wrap:wrap;\n",
              "      gap: 12px;\n",
              "    }\n",
              "\n",
              "    .colab-df-convert {\n",
              "      background-color: #E8F0FE;\n",
              "      border: none;\n",
              "      border-radius: 50%;\n",
              "      cursor: pointer;\n",
              "      display: none;\n",
              "      fill: #1967D2;\n",
              "      height: 32px;\n",
              "      padding: 0 0 0 0;\n",
              "      width: 32px;\n",
              "    }\n",
              "\n",
              "    .colab-df-convert:hover {\n",
              "      background-color: #E2EBFA;\n",
              "      box-shadow: 0px 1px 2px rgba(60, 64, 67, 0.3), 0px 1px 3px 1px rgba(60, 64, 67, 0.15);\n",
              "      fill: #174EA6;\n",
              "    }\n",
              "\n",
              "    [theme=dark] .colab-df-convert {\n",
              "      background-color: #3B4455;\n",
              "      fill: #D2E3FC;\n",
              "    }\n",
              "\n",
              "    [theme=dark] .colab-df-convert:hover {\n",
              "      background-color: #434B5C;\n",
              "      box-shadow: 0px 1px 3px 1px rgba(0, 0, 0, 0.15);\n",
              "      filter: drop-shadow(0px 1px 2px rgba(0, 0, 0, 0.3));\n",
              "      fill: #FFFFFF;\n",
              "    }\n",
              "  </style>\n",
              "\n",
              "      <script>\n",
              "        const buttonEl =\n",
              "          document.querySelector('#df-aad62372-21b6-46cb-a65e-14c425af15d4 button.colab-df-convert');\n",

              "        buttonEl.style.display =\n",
              "          google.colab.kernel.accessAllowed ? 'block' : 'none';\n",
              "\n",
              "        async function convertToInteractive(key) {\n",
              "          const element = document.querySelector('#df-aad62372-21b6-46cb-a65e-14c425af15d4');\n",
              "          const dataTable =\n",
              "            await google.colab.kernel.invokeFunction('convertToInteractive',\n",
              "                                                     [key], {});\n",
              "          if (!dataTable) return;\n",
              "\n",
              "          const docLinkHtml = 'Like what you see? Visit the ' +\n",
              "            '<a target=\"_blank\" href=https://colab.research.google.com/notebooks/data_table.ipynb>data table notebook</a>'\n",
              "            + ' to learn more about interactive tables.';\n",
              "          element.innerHTML = '';\n",
              "          dataTable['output_type'] = 'display_data';\n",
              "          await google.colab.output.renderOutput(dataTable, element);\n",
              "          const docLink = document.createElement('div');\n",
              "          docLink.innerHTML = docLinkHtml;\n",
              "          element.appendChild(docLink);\n",
              "        }\n",
              "      </script>\n",
              "    </div>\n",
              "  </div>\n",
              "  "
            ]
          },
          "metadata": {},
          "execution_count": 18
        }
      ]
    },
    {
      "cell_type": "markdown",
      "source": [
        "Tương tự, `cross2` là feature lấy các mốc thời gian thực sự hữu ích ở pha khí ra."
      ],
      "metadata": {
        "id": "lfkpRA3QlZzE"
      },
      "id": "lfkpRA3QlZzE"
    },
    {
      "cell_type": "code",
      "source": [
        "# Tính tích chéo của time_step và u_out\n",
        "small_df['cross2'] = small_df['time_step'] * small_df['u_out']\n",
        "small_df[['cross2']].iloc[0:80]"
      ],
      "metadata": {
        "id": "92OnTlByABRa",
        "colab": {
          "base_uri": "https://localhost:8080/",
          "height": 505
        },
        "outputId": "0a957720-27c1-4be8-cb0a-0bfeafe05f14"
      },
      "id": "92OnTlByABRa",
      "execution_count": null,
      "outputs": [
        {
          "output_type": "execute_result",
          "data": {
            "text/plain": [
              "      cross2\n",
              "0   0.000000\n",
              "1   0.000000\n",
              "2   0.000000\n",
              "3   0.000000\n",
              "4   0.000000\n",
              "..       ...\n",
              "75  2.553593\n",
              "76  2.587754\n",
              "77  2.621773\n",
              "78  2.655746\n",
              "79  2.689766\n",
              "\n",
              "[80 rows x 1 columns]"
            ],
            "text/html": [
              "\n",
              "  <div id=\"df-92147950-55b5-4805-aa3b-67723e1770fe\">\n",
              "    <div class=\"colab-df-container\">\n",
              "      <div>\n",
              "<style scoped>\n",
              "    .dataframe tbody tr th:only-of-type {\n",
              "        vertical-align: middle;\n",
              "    }\n",
              "\n",
              "    .dataframe tbody tr th {\n",
              "        vertical-align: top;\n",
              "    }\n",
              "\n",
              "    .dataframe thead th {\n",
              "        text-align: right;\n",
              "    }\n",
              "</style>\n",
              "<table border=\"1\" class=\"dataframe\">\n",
              "  <thead>\n",
              "    <tr style=\"text-align: right;\">\n",
              "      <th></th>\n",
              "      <th>cross2</th>\n",
              "    </tr>\n",
              "  </thead>\n",
              "  <tbody>\n",
              "    <tr>\n",
              "      <th>0</th>\n",
              "      <td>0.000000</td>\n",
              "    </tr>\n",
              "    <tr>\n",
              "      <th>1</th>\n",
              "      <td>0.000000</td>\n",
              "    </tr>\n",
              "    <tr>\n",
              "      <th>2</th>\n",
              "      <td>0.000000</td>\n",
              "    </tr>\n",
              "    <tr>\n",
              "      <th>3</th>\n",
              "      <td>0.000000</td>\n",
              "    </tr>\n",
              "    <tr>\n",
              "      <th>4</th>\n",
              "      <td>0.000000</td>\n",
              "    </tr>\n",
              "    <tr>\n",
              "      <th>...</th>\n",
              "      <td>...</td>\n",
              "    </tr>\n",
              "    <tr>\n",
              "      <th>75</th>\n",
              "      <td>2.553593</td>\n",
              "    </tr>\n",
              "    <tr>\n",
              "      <th>76</th>\n",
              "      <td>2.587754</td>\n",
              "    </tr>\n",
              "    <tr>\n",
              "      <th>77</th>\n",
              "      <td>2.621773</td>\n",
              "    </tr>\n",
              "    <tr>\n",
              "      <th>78</th>\n",
              "      <td>2.655746</td>\n",
              "    </tr>\n",
              "    <tr>\n",
              "      <th>79</th>\n",
              "      <td>2.689766</td>\n",
              "    </tr>\n",
              "  </tbody>\n",
              "</table>\n",
              "<p>80 rows × 1 columns</p>\n",
              "</div>\n",
              "      <button class=\"colab-df-convert\" onclick=\"convertToInteractive('df-92147950-55b5-4805-aa3b-67723e1770fe')\"\n",
              "              title=\"Convert this dataframe to an interactive table.\"\n",
              "              style=\"display:none;\">\n",
              "        \n",
              "  <svg xmlns=\"http://www.w3.org/2000/svg\" height=\"24px\"viewBox=\"0 0 24 24\"\n",
              "       width=\"24px\">\n",
              "    <path d=\"M0 0h24v24H0V0z\" fill=\"none\"/>\n",
              "    <path d=\"M18.56 5.44l.94 2.06.94-2.06 2.06-.94-2.06-.94-.94-2.06-.94 2.06-2.06.94zm-11 1L8.5 8.5l.94-2.06 2.06-.94-2.06-.94L8.5 2.5l-.94 2.06-2.06.94zm10 10l.94 2.06.94-2.06 2.06-.94-2.06-.94-.94-2.06-.94 2.06-2.06.94z\"/><path d=\"M17.41 7.96l-1.37-1.37c-.4-.4-.92-.59-1.43-.59-.52 0-1.04.2-1.43.59L10.3 9.45l-7.72 7.72c-.78.78-.78 2.05 0 2.83L4 21.41c.39.39.9.59 1.41.59.51 0 1.02-.2 1.41-.59l7.78-7.78 2.81-2.81c.8-.78.8-2.07 0-2.86zM5.41 20L4 18.59l7.72-7.72 1.47 1.35L5.41 20z\"/>\n",
              "  </svg>\n",
              "      </button>\n",
              "      \n",
              "  <style>\n",
              "    .colab-df-container {\n",
              "      display:flex;\n",
              "      flex-wrap:wrap;\n",
              "      gap: 12px;\n",
              "    }\n",
              "\n",
              "    .colab-df-convert {\n",
              "      background-color: #E8F0FE;\n",
              "      border: none;\n",
              "      border-radius: 50%;\n",
              "      cursor: pointer;\n",
              "      display: none;\n",
              "      fill: #1967D2;\n",
              "      height: 32px;\n",
              "      padding: 0 0 0 0;\n",
              "      width: 32px;\n",
              "    }\n",
              "\n",
              "    .colab-df-convert:hover {\n",
              "      background-color: #E2EBFA;\n",
              "      box-shadow: 0px 1px 2px rgba(60, 64, 67, 0.3), 0px 1px 3px 1px rgba(60, 64, 67, 0.15);\n",
              "      fill: #174EA6;\n",
              "    }\n",
              "\n",
              "    [theme=dark] .colab-df-convert {\n",
              "      background-color: #3B4455;\n",
              "      fill: #D2E3FC;\n",
              "    }\n",
              "\n",
              "    [theme=dark] .colab-df-convert:hover {\n",
              "      background-color: #434B5C;\n",
              "      box-shadow: 0px 1px 3px 1px rgba(0, 0, 0, 0.15);\n",
              "      filter: drop-shadow(0px 1px 2px rgba(0, 0, 0, 0.3));\n",
              "      fill: #FFFFFF;\n",
              "    }\n",
              "  </style>\n",
              "\n",
              "      <script>\n",
              "        const buttonEl =\n",
              "          document.querySelector('#df-92147950-55b5-4805-aa3b-67723e1770fe button.colab-df-convert');\n",
              "        buttonEl.style.display =\n",
              "          google.colab.kernel.accessAllowed ? 'block' : 'none';\n",
              "\n",
              "        async function convertToInteractive(key) {\n",
              "          const element = document.querySelector('#df-92147950-55b5-4805-aa3b-67723e1770fe');\n",
              "          const dataTable =\n",
              "            await google.colab.kernel.invokeFunction('convertToInteractive',\n",
              "                                                     [key], {});\n",
              "          if (!dataTable) return;\n",
              "\n",
              "          const docLinkHtml = 'Like what you see? Visit the ' +\n",
              "            '<a target=\"_blank\" href=https://colab.research.google.com/notebooks/data_table.ipynb>data table notebook</a>'\n",
              "            + ' to learn more about interactive tables.';\n",
              "          element.innerHTML = '';\n",
              "          dataTable['output_type'] = 'display_data';\n",
              "          await google.colab.output.renderOutput(dataTable, element);\n",
              "          const docLink = document.createElement('div');\n",
              "          docLink.innerHTML = docLinkHtml;\n",
              "          element.appendChild(docLink);\n",
              "        }\n",
              "      </script>\n",
              "    </div>\n",
              "  </div>\n",
              "  "
            ]
          },
          "metadata": {},
          "execution_count": 19
        }
      ]
    },
    {
      "cell_type": "markdown",
      "source": [
        "Feature `u_in_cumsum` là feature tính tổng tích lũy của lượng khí vào. Tính năng này được [thảo luận ở đây](https://www.kaggle.com/c/ventilator-pressure-prediction/discussion/273974), người đề xuất **@Carl McBrife Ellis** cho rằng nó cải thiện điểm đáng kể. Phía sau điều này chính là áp suất trong phổi tỉ lệ với lượng không khí thực sự được bơm vào phổi. Rõ ràng, tính năng này không hữu ích khi thở ra, nhưng vì giai đoạn thở ra không được tính điểm, vậy nên mọi thứ vẫn ổn. Trên thực tế, nó mang ý nghĩa thể hiện tốc độ thay đổi của áp suất được điều chỉnh bởi độ mở van (u_in)."
      ],
      "metadata": {
        "id": "bxR8DEnsMSiB"
      },
      "id": "bxR8DEnsMSiB"
    },
    {
      "cell_type": "code",
      "source": [
        "small_df['u_in_cumsum'] = (small_df['u_in']).groupby(small_df['breath_id']).cumsum()\n",
        "small_df['u_in_cumsum'] .iloc[:80]"
      ],
      "metadata": {
        "id": "YZsLQO1JMRzF",
        "colab": {
          "base_uri": "https://localhost:8080/"
        },
        "outputId": "f67a7adb-97b1-4b2f-d0d9-bffaff143cb1"
      },
      "id": "YZsLQO1JMRzF",
      "execution_count": null,
      "outputs": [
        {
          "output_type": "execute_result",
          "data": {
            "text/plain": [
              "0       0.083334\n",
              "1      18.466375\n",
              "2      40.975653\n",
              "3      63.784476\n",
              "4      89.140326\n",
              "         ...    \n",
              "75    791.748433\n",
              "76    796.726915\n",
              "77    801.708762\n",
              "78    806.693445\n",
              "79    811.680524\n",
              "Name: u_in_cumsum, Length: 80, dtype: float64"
            ]
          },
          "metadata": {},
          "execution_count": 20
        }
      ]
    },
    {
      "cell_type": "markdown",
      "source": [
        "Tương tự, feature `time_step` cho thông tin về tổng thời gian tích lũy của mỗi phổi."
      ],
      "metadata": {
        "id": "uVEUG0KuZFz4"
      },
      "id": "uVEUG0KuZFz4"
    },
    {
      "cell_type": "code",
      "source": [
        "small_df['time_step_cumsum'] = small_df.groupby(['breath_id'])['time_step'].cumsum()\n",
        "small_df[['time_step_cumsum']].iloc[:80]"
      ],
      "metadata": {
        "id": "WV9nEcQ6YxPq",
        "colab": {
          "base_uri": "https://localhost:8080/",
          "height": 488
        },
        "outputId": "165ed648-6b70-4fed-8f3d-01ced5b22c73"
      },
      "id": "WV9nEcQ6YxPq",
      "execution_count": null,
      "outputs": [
        {
          "output_type": "execute_result",
          "data": {
            "text/plain": [
              "    time_step_cumsum\n",
              "0           0.000000\n",
              "1           0.033652\n",
              "2           0.101167\n",
              "3           0.202709\n",
              "4           0.338464\n",
              "..               ...\n",
              "75         97.013447\n",
              "76         99.601200\n",
              "77        102.222974\n",
              "78        104.878720\n",
              "79        107.568486\n",
              "\n",
              "[80 rows x 1 columns]"
            ],
            "text/html": [
              "\n",
              "  <div id=\"df-15fcaedc-9b9d-4905-b225-d017e80ed1f9\">\n",
              "    <div class=\"colab-df-container\">\n",
              "      <div>\n",
              "<style scoped>\n",
              "    .dataframe tbody tr th:only-of-type {\n",
              "        vertical-align: middle;\n",
              "    }\n",
              "\n",
              "    .dataframe tbody tr th {\n",
              "        vertical-align: top;\n",
              "    }\n",
              "\n",
              "    .dataframe thead th {\n",
              "        text-align: right;\n",
              "    }\n",
              "</style>\n",
              "<table border=\"1\" class=\"dataframe\">\n",
              "  <thead>\n",
              "    <tr style=\"text-align: right;\">\n",
              "      <th></th>\n",
              "      <th>time_step_cumsum</th>\n",
              "    </tr>\n",
              "  </thead>\n",
              "  <tbody>\n",
              "    <tr>\n",
              "      <th>0</th>\n",
              "      <td>0.000000</td>\n",
              "    </tr>\n",
              "    <tr>\n",
              "      <th>1</th>\n",
              "      <td>0.033652</td>\n",
              "    </tr>\n",
              "    <tr>\n",
              "      <th>2</th>\n",
              "      <td>0.101167</td>\n",
              "    </tr>\n",
              "    <tr>\n",
              "      <th>3</th>\n",
              "      <td>0.202709</td>\n",
              "    </tr>\n",
              "    <tr>\n",
              "      <th>4</th>\n",
              "      <td>0.338464</td>\n",
              "    </tr>\n",
              "    <tr>\n",
              "      <th>...</th>\n",
              "      <td>...</td>\n",
              "    </tr>\n",
              "    <tr>\n",
              "      <th>75</th>\n",
              "      <td>97.013447</td>\n",
              "    </tr>\n",
              "    <tr>\n",
              "      <th>76</th>\n",
              "      <td>99.601200</td>\n",
              "    </tr>\n",
              "    <tr>\n",
              "      <th>77</th>\n",
              "      <td>102.222974</td>\n",
              "    </tr>\n",
              "    <tr>\n",
              "      <th>78</th>\n",
              "      <td>104.878720</td>\n",
              "    </tr>\n",
              "    <tr>\n",
              "      <th>79</th>\n",
              "      <td>107.568486</td>\n",
              "    </tr>\n",
              "  </tbody>\n",
              "</table>\n",
              "<p>80 rows × 1 columns</p>\n",
              "</div>\n",
              "      <button class=\"colab-df-convert\" onclick=\"convertToInteractive('df-15fcaedc-9b9d-4905-b225-d017e80ed1f9')\"\n",
              "              title=\"Convert this dataframe to an interactive table.\"\n",
              "              style=\"display:none;\">\n",
              "        \n",
              "  <svg xmlns=\"http://www.w3.org/2000/svg\" height=\"24px\"viewBox=\"0 0 24 24\"\n",
              "       width=\"24px\">\n",
              "    <path d=\"M0 0h24v24H0V0z\" fill=\"none\"/>\n",
              "    <path d=\"M18.56 5.44l.94 2.06.94-2.06 2.06-.94-2.06-.94-.94-2.06-.94 2.06-2.06.94zm-11 1L8.5 8.5l.94-2.06 2.06-.94-2.06-.94L8.5 2.5l-.94 2.06-2.06.94zm10 10l.94 2.06.94-2.06 2.06-.94-2.06-.94-.94-2.06-.94 2.06-2.06.94z\"/><path d=\"M17.41 7.96l-1.37-1.37c-.4-.4-.92-.59-1.43-.59-.52 0-1.04.2-1.43.59L10.3 9.45l-7.72 7.72c-.78.78-.78 2.05 0 2.83L4 21.41c.39.39.9.59 1.41.59.51 0 1.02-.2 1.41-.59l7.78-7.78 2.81-2.81c.8-.78.8-2.07 0-2.86zM5.41 20L4 18.59l7.72-7.72 1.47 1.35L5.41 20z\"/>\n",
              "  </svg>\n",
              "      </button>\n",
              "      \n",
              "  <style>\n",
              "    .colab-df-container {\n",
              "      display:flex;\n",
              "      flex-wrap:wrap;\n",
              "      gap: 12px;\n",
              "    }\n",
              "\n",
              "    .colab-df-convert {\n",
              "      background-color: #E8F0FE;\n",
              "      border: none;\n",
              "      border-radius: 50%;\n",
              "      cursor: pointer;\n",
              "      display: none;\n",
              "      fill: #1967D2;\n",
              "      height: 32px;\n",
              "      padding: 0 0 0 0;\n",
              "      width: 32px;\n",
              "    }\n",
              "\n",
              "    .colab-df-convert:hover {\n",
              "      background-color: #E2EBFA;\n",
              "      box-shadow: 0px 1px 2px rgba(60, 64, 67, 0.3), 0px 1px 3px 1px rgba(60, 64, 67, 0.15);\n",
              "      fill: #174EA6;\n",
              "    }\n",
              "\n",
              "    [theme=dark] .colab-df-convert {\n",
              "      background-color: #3B4455;\n",
              "      fill: #D2E3FC;\n",
              "    }\n",
              "\n",
              "    [theme=dark] .colab-df-convert:hover {\n",
              "      background-color: #434B5C;\n",
              "      box-shadow: 0px 1px 3px 1px rgba(0, 0, 0, 0.15);\n",
              "      filter: drop-shadow(0px 1px 2px rgba(0, 0, 0, 0.3));\n",
              "      fill: #FFFFFF;\n",
              "    }\n",
              "  </style>\n",
              "\n",
              "      <script>\n",
              "        const buttonEl =\n",
              "          document.querySelector('#df-15fcaedc-9b9d-4905-b225-d017e80ed1f9 button.colab-df-convert');\n",
              "        buttonEl.style.display =\n",
              "          google.colab.kernel.accessAllowed ? 'block' : 'none';\n",
              "\n",
              "        async function convertToInteractive(key) {\n",
              "          const element = document.querySelector('#df-15fcaedc-9b9d-4905-b225-d017e80ed1f9');\n",
              "          const dataTable =\n",
              "            await google.colab.kernel.invokeFunction('convertToInteractive',\n",
              "                                                     [key], {});\n",
              "          if (!dataTable) return;\n",
              "\n",
              "          const docLinkHtml = 'Like what you see? Visit the ' +\n",
              "            '<a target=\"_blank\" href=https://colab.research.google.com/notebooks/data_table.ipynb>data table notebook</a>'\n",
              "            + ' to learn more about interactive tables.';\n",
              "          element.innerHTML = '';\n",
              "          dataTable['output_type'] = 'display_data';\n",
              "          await google.colab.output.renderOutput(dataTable, element);\n",
              "          const docLink = document.createElement('div');\n",
              "          docLink.innerHTML = docLinkHtml;\n",
              "          element.appendChild(docLink);\n",
              "        }\n",
              "      </script>\n",
              "    </div>\n",
              "  </div>\n",
              "  "
            ]
          },
          "metadata": {},
          "execution_count": 21
        }
      ]
    },
    {
      "cell_type": "markdown",
      "source": [
        "#### 3.2.2. Lag Feature:"
      ],
      "metadata": {
        "id": "qDMX2AC0IdFm"
      },
      "id": "qDMX2AC0IdFm"
    },
    {
      "cell_type": "markdown",
      "source": [
        "Lag feature là các giá trị mục tiêu từ các khoảng thời gian trước đó. Cụ thể, lag có thể hiểu là độ trễ về mặt thời gian. Ở lag_1, người ta sẽ thay thế giá trị tại thời gian t bằng giá trị tại thời gian trước đó là t-1. Tương tự với lag_2, lag_3, lag_4. Với lag_back, thay cho t-1 là t+1. Mặc định các giá trị đầu và giá trị cuối bị thiếu được mặc định là Nan. Kĩ thuật này thường được sử dụng trong dự báo chuỗi thời gian (time-series). "
      ],
      "metadata": {
        "id": "q2ii_E5_Je-N"
      },
      "id": "q2ii_E5_Je-N"
    },
    {
      "cell_type": "code",
      "source": [
        "# Tạo các feature với độ trễ bằng 1 đơn vị thời gian\n",
        "small_df['u_in_lag1'] = small_df.groupby('breath_id')['u_in'].shift(1)\n",
        "small_df['u_out_lag1'] = small_df.groupby('breath_id')['u_out'].shift(1)\n",
        "small_df['u_in_lag_back1'] = small_df.groupby('breath_id')['u_in'].shift(-1)\n",
        "small_df['u_out_lag_back1'] = small_df.groupby('breath_id')['u_out'].shift(-1)"
      ],
      "metadata": {
        "id": "nJmrJVVrLoxH"
      },
      "id": "nJmrJVVrLoxH",
      "execution_count": null,
      "outputs": []
    },
    {
      "cell_type": "code",
      "source": [
        "small_df[['u_in_lag1']].iloc[:80]"
      ],
      "metadata": {
        "id": "MDlgXpMmN1UE",
        "colab": {
          "base_uri": "https://localhost:8080/",
          "height": 505
        },
        "id": "U7vE3Vfko0T4",
        "outputId": "9f92707c-fca5-4362-abe1-aa559848a4d5"
      },
      "id": "U7vE3Vfko0T4",
      "execution_count": null,
      "outputs": [
        {
          "output_type": "execute_result",
          "data": {
            "text/plain": [
              "    u_in_lag1\n",
              "0         NaN\n",
              "1    0.083334\n",
              "2   18.383041\n",
              "3   22.509278\n",
              "4   22.808822\n",
              "..        ...\n",
              "75   4.969730\n",
              "76   4.974474\n",
              "77   4.978481\n",
              "78   4.981847\n",
              "79   4.984683\n",
              "\n",
              "[80 rows x 1 columns]"
            ],
            "text/html": [
              "\n",
              "  <div id=\"df-0943673b-2cb3-4610-bcea-18a63fb96881\">\n",
              "    <div class=\"colab-df-container\">\n",
              "      <div>\n",
              "<style scoped>\n",
              "    .dataframe tbody tr th:only-of-type {\n",
              "        vertical-align: middle;\n",
              "    }\n",
              "\n",
              "    .dataframe tbody tr th {\n",
              "        vertical-align: top;\n",
              "    }\n",
              "\n",
              "    .dataframe thead th {\n",
              "        text-align: right;\n",
              "    }\n",
              "</style>\n",
              "<table border=\"1\" class=\"dataframe\">\n",
              "  <thead>\n",
              "    <tr style=\"text-align: right;\">\n",
              "      <th></th>\n",
              "      <th>u_in_lag1</th>\n",
              "    </tr>\n",
              "  </thead>\n",
              "  <tbody>\n",
              "    <tr>\n",
              "      <th>0</th>\n",
              "      <td>NaN</td>\n",
              "    </tr>\n",
              "    <tr>\n",
              "      <th>1</th>\n",
              "      <td>0.083334</td>\n",
              "    </tr>\n",
              "    <tr>\n",
              "      <th>2</th>\n",
              "      <td>18.383041</td>\n",
              "    </tr>\n",
              "    <tr>\n",
              "      <th>3</th>\n",
              "      <td>22.509278</td>\n",
              "    </tr>\n",
              "    <tr>\n",
              "      <th>4</th>\n",
              "      <td>22.808822</td>\n",
              "    </tr>\n",
              "    <tr>\n",
              "      <th>...</th>\n",
              "      <td>...</td>\n",
              "    </tr>\n",
              "    <tr>\n",
              "      <th>75</th>\n",
              "      <td>4.969730</td>\n",
              "    </tr>\n",
              "    <tr>\n",
              "      <th>76</th>\n",
              "      <td>4.974474</td>\n",
              "    </tr>\n",
              "    <tr>\n",
              "      <th>77</th>\n",
              "      <td>4.978481</td>\n",
              "    </tr>\n",
              "    <tr>\n",
              "      <th>78</th>\n",
              "      <td>4.981847</td>\n",
              "    </tr>\n",
              "    <tr>\n",
              "      <th>79</th>\n",
              "      <td>4.984683</td>\n",
              "    </tr>\n",
              "  </tbody>\n",
              "</table>\n",
              "<p>80 rows × 1 columns</p>\n",
              "</div>\n",
              "      <button class=\"colab-df-convert\" onclick=\"convertToInteractive('df-0943673b-2cb3-4610-bcea-18a63fb96881')\"\n",
              "              title=\"Convert this dataframe to an interactive table.\"\n",
              "              style=\"display:none;\">\n",
              "        \n",
              "  <svg xmlns=\"http://www.w3.org/2000/svg\" height=\"24px\"viewBox=\"0 0 24 24\"\n",
              "       width=\"24px\">\n",
              "    <path d=\"M0 0h24v24H0V0z\" fill=\"none\"/>\n",
              "    <path d=\"M18.56 5.44l.94 2.06.94-2.06 2.06-.94-2.06-.94-.94-2.06-.94 2.06-2.06.94zm-11 1L8.5 8.5l.94-2.06 2.06-.94-2.06-.94L8.5 2.5l-.94 2.06-2.06.94zm10 10l.94 2.06.94-2.06 2.06-.94-2.06-.94-.94-2.06-.94 2.06-2.06.94z\"/><path d=\"M17.41 7.96l-1.37-1.37c-.4-.4-.92-.59-1.43-.59-.52 0-1.04.2-1.43.59L10.3 9.45l-7.72 7.72c-.78.78-.78 2.05 0 2.83L4 21.41c.39.39.9.59 1.41.59.51 0 1.02-.2 1.41-.59l7.78-7.78 2.81-2.81c.8-.78.8-2.07 0-2.86zM5.41 20L4 18.59l7.72-7.72 1.47 1.35L5.41 20z\"/>\n",
              "  </svg>\n",
              "      </button>\n",
              "      \n",
              "  <style>\n",
              "    .colab-df-container {\n",
              "      display:flex;\n",
              "      flex-wrap:wrap;\n",
              "      gap: 12px;\n",
              "    }\n",
              "\n",
              "    .colab-df-convert {\n",
              "      background-color: #E8F0FE;\n",
              "      border: none;\n",
              "      border-radius: 50%;\n",
              "      cursor: pointer;\n",
              "      display: none;\n",
              "      fill: #1967D2;\n",
              "      height: 32px;\n",
              "      padding: 0 0 0 0;\n",
              "      width: 32px;\n",
              "    }\n",
              "\n",
              "    .colab-df-convert:hover {\n",
              "      background-color: #E2EBFA;\n",
              "      box-shadow: 0px 1px 2px rgba(60, 64, 67, 0.3), 0px 1px 3px 1px rgba(60, 64, 67, 0.15);\n",
              "      fill: #174EA6;\n",
              "    }\n",
              "\n",
              "    [theme=dark] .colab-df-convert {\n",
              "      background-color: #3B4455;\n",
              "      fill: #D2E3FC;\n",
              "    }\n",
              "\n",
              "    [theme=dark] .colab-df-convert:hover {\n",
              "      background-color: #434B5C;\n",
              "      box-shadow: 0px 1px 3px 1px rgba(0, 0, 0, 0.15);\n",
              "      filter: drop-shadow(0px 1px 2px rgba(0, 0, 0, 0.3));\n",
              "      fill: #FFFFFF;\n",
              "    }\n",
              "  </style>\n",
              "\n",
              "      <script>\n",
              "        const buttonEl =\n",
              "          document.querySelector('#df-0943673b-2cb3-4610-bcea-18a63fb96881 button.colab-df-convert');\n",
              "        buttonEl.style.display =\n",
              "          google.colab.kernel.accessAllowed ? 'block' : 'none';\n",
              "\n",
              "        async function convertToInteractive(key) {\n",
              "          const element = document.querySelector('#df-0943673b-2cb3-4610-bcea-18a63fb96881');\n",
              "          const dataTable =\n",
              "            await google.colab.kernel.invokeFunction('convertToInteractive',\n",
              "                                                     [key], {});\n",
              "          if (!dataTable) return;\n",
              "\n",
              "          const docLinkHtml = 'Like what you see? Visit the ' +\n",
              "            '<a target=\"_blank\" href=https://colab.research.google.com/notebooks/data_table.ipynb>data table notebook</a>'\n",
              "            + ' to learn more about interactive tables.';\n",
              "          element.innerHTML = '';\n",
              "          dataTable['output_type'] = 'display_data';\n",
              "          await google.colab.output.renderOutput(dataTable, element);\n",
              "          const docLink = document.createElement('div');\n",
              "          docLink.innerHTML = docLinkHtml;\n",
              "          element.appendChild(docLink);\n",
              "        }\n",
              "      </script>\n",
              "    </div>\n",
              "  </div>\n",
              "  "
            ]
          },
          "metadata": {},
          "execution_count": 23
        }
      ]
    },
    {
      "cell_type": "markdown",
      "source": [
        "# Tương tự với độ trê  2, 3, 4 đơn vị thời gian\n",
        "small_df['u_in_lag2'] = small_df.groupby('breath_id')['u_in'].shift(2)\n",
        "small_df['u_out_lag2'] = small_df.groupby('breath_id')['u_out'].shift(2)\n",
        "small_df['u_in_lag_back2'] = small_df.groupby('breath_id')['u_in'].shift(-2)\n",
        "small_df['u_out_lag_back2'] = small_df.groupby('breath_id')['u_out'].shift(-2)\n",
        "\n",
        "small_df['u_in_lag3'] = small_df.groupby('breath_id')['u_in'].shift(3)\n",
        "small_df['u_out_lag3'] = small_df.groupby('breath_id')['u_out'].shift(3)\n",
        "small_df['u_in_lag_back3'] = small_df.groupby('breath_id')['u_in'].shift(-3)\n",
        "small_df['u_out_lag_back3'] = small_df.groupby('breath_id')['u_out'].shift(-3)\n",
        "\n",
        "small_df['u_in_lag4'] = small_df.groupby('breath_id')['u_in'].shift(4)\n",
        "small_df['u_out_lag4'] = small_df.groupby('breath_id')['u_out'].shift(4)\n",
        "small_df['u_in_lag_back4'] = small_df.groupby('breath_id')['u_in'].shift(-4)\n",
        "small_df['u_out_lag_back4'] = small_df.groupby('breath_id')['u_out'].shift(-4)"
      ],
      "metadata": {
        "id": "2PK0CleyKoLT"
      },
      "id": "2PK0CleyKoLT",
      "execution_count": null,
      "outputs": []
    },
    {
      "cell_type": "markdown",
      "source": [
        "Cuối cùng, thay thế các giá trị NaN bằng số 0"
      ],
      "metadata": {
        "id": "1y8yf1fgL3PM"
      },
      "id": "1y8yf1fgL3PM"
    },
    {
      "cell_type": "code",
      "source": [
        "small_df = small_df.fillna(0)"
      ],
      "metadata": {
        "id": "uRNueFk_L1Mh"
      },
      "id": "uRNueFk_L1Mh",
      "execution_count": null,
      "outputs": []
    },
    {
      "cell_type": "code",
      "source": [
        "small_df['u_in_lag1'].isna().sum()"
      ],
      "metadata": {
        "colab": {
          "base_uri": "https://localhost:8080/"
        },
        "id": "-L0yJjltpGTe",
        "outputId": "fb397362-5a17-4398-884f-2cd8494aec9e"
      },
      "id": "-L0yJjltpGTe",
      "execution_count": null,
      "outputs": [
        {
          "output_type": "execute_result",
          "data": {
            "text/plain": [
              "0"
            ]
          },
          "metadata": {},
          "execution_count": 26
        }
      ]
    },
    {
      "cell_type": "markdown",
      "source": [
        "#### 3.2.3. Giá trị max, mean của u_in trong từng phổi:"
      ],
      "metadata": {
        "id": "HnxQ0dl3MaMU"
      },
      "id": "HnxQ0dl3MaMU"
    },
    {
      "cell_type": "markdown",
      "source": [
        "Feature `breath_id__u_in__max` thể hiện lượng khí lớn nhất ứng với mỗi phổi. Lượng khí trong phổi có mối liên hệ với áp lực trên đường thở, với lượng khí lớn có thể gây ra áp lực cao lên đường thở."
      ],
      "metadata": {
        "id": "9V4Pzgr-ZrN6"
      },
      "id": "9V4Pzgr-ZrN6"
    },
    {
      "cell_type": "code",
      "source": [
        "small_df['breath_id__u_in__max'] = small_df.groupby(['breath_id'])['u_in'].transform('max')\n",
        "small_df[['breath_id__u_in__max']].iloc[:80]"
      ],
      "metadata": {
        "id": "MDlgXpMmN1UE",
        "colab": {
          "base_uri": "https://localhost:8080/",
          "height": 488
        },
        "outputId": "f323ae3d-feeb-4295-a7fc-042df579c9c0"
      },
      "id": "MDlgXpMmN1UE",
      "execution_count": null,
      "outputs": [
        {
          "output_type": "execute_result",
          "data": {
            "text/plain": [
              "    breath_id__u_in__max\n",
              "0              28.313036\n",
              "1              28.313036\n",
              "2              28.313036\n",
              "3              28.313036\n",
              "4              28.313036\n",
              "..                   ...\n",
              "75             28.313036\n",
              "76             28.313036\n",
              "77             28.313036\n",
              "78             28.313036\n",
              "79             28.313036\n",
              "\n",
              "[80 rows x 1 columns]"
            ],
            "text/html": [
              "\n",
              "  <div id=\"df-02a3d3f1-7e2a-4491-af40-388571336669\">\n",
              "    <div class=\"colab-df-container\">\n",
              "      <div>\n",
              "<style scoped>\n",
              "    .dataframe tbody tr th:only-of-type {\n",
              "        vertical-align: middle;\n",
              "    }\n",
              "\n",
              "    .dataframe tbody tr th {\n",
              "        vertical-align: top;\n",
              "    }\n",
              "\n",
              "    .dataframe thead th {\n",
              "        text-align: right;\n",
              "    }\n",
              "</style>\n",
              "<table border=\"1\" class=\"dataframe\">\n",
              "  <thead>\n",
              "    <tr style=\"text-align: right;\">\n",
              "      <th></th>\n",
              "      <th>breath_id__u_in__max</th>\n",
              "    </tr>\n",
              "  </thead>\n",
              "  <tbody>\n",
              "    <tr>\n",
              "      <th>0</th>\n",
              "      <td>28.313036</td>\n",
              "    </tr>\n",
              "    <tr>\n",
              "      <th>1</th>\n",
              "      <td>28.313036</td>\n",
              "    </tr>\n",
              "    <tr>\n",
              "      <th>2</th>\n",
              "      <td>28.313036</td>\n",
              "    </tr>\n",
              "    <tr>\n",
              "      <th>3</th>\n",
              "      <td>28.313036</td>\n",
              "    </tr>\n",
              "    <tr>\n",
              "      <th>4</th>\n",
              "      <td>28.313036</td>\n",
              "    </tr>\n",
              "    <tr>\n",
              "      <th>...</th>\n",
              "      <td>...</td>\n",
              "    </tr>\n",
              "    <tr>\n",
              "      <th>75</th>\n",
              "      <td>28.313036</td>\n",
              "    </tr>\n",
              "    <tr>\n",
              "      <th>76</th>\n",
              "      <td>28.313036</td>\n",
              "    </tr>\n",
              "    <tr>\n",
              "      <th>77</th>\n",
              "      <td>28.313036</td>\n",
              "    </tr>\n",
              "    <tr>\n",
              "      <th>78</th>\n",
              "      <td>28.313036</td>\n",
              "    </tr>\n",
              "    <tr>\n",
              "      <th>79</th>\n",
              "      <td>28.313036</td>\n",
              "    </tr>\n",
              "  </tbody>\n",
              "</table>\n",
              "<p>80 rows × 1 columns</p>\n",
              "</div>\n",
              "      <button class=\"colab-df-convert\" onclick=\"convertToInteractive('df-02a3d3f1-7e2a-4491-af40-388571336669')\"\n",
              "              title=\"Convert this dataframe to an interactive table.\"\n",
              "              style=\"display:none;\">\n",
              "        \n",
              "  <svg xmlns=\"http://www.w3.org/2000/svg\" height=\"24px\"viewBox=\"0 0 24 24\"\n",
              "       width=\"24px\">\n",
              "    <path d=\"M0 0h24v24H0V0z\" fill=\"none\"/>\n",
              "    <path d=\"M18.56 5.44l.94 2.06.94-2.06 2.06-.94-2.06-.94-.94-2.06-.94 2.06-2.06.94zm-11 1L8.5 8.5l.94-2.06 2.06-.94-2.06-.94L8.5 2.5l-.94 2.06-2.06.94zm10 10l.94 2.06.94-2.06 2.06-.94-2.06-.94-.94-2.06-.94 2.06-2.06.94z\"/><path d=\"M17.41 7.96l-1.37-1.37c-.4-.4-.92-.59-1.43-.59-.52 0-1.04.2-1.43.59L10.3 9.45l-7.72 7.72c-.78.78-.78 2.05 0 2.83L4 21.41c.39.39.9.59 1.41.59.51 0 1.02-.2 1.41-.59l7.78-7.78 2.81-2.81c.8-.78.8-2.07 0-2.86zM5.41 20L4 18.59l7.72-7.72 1.47 1.35L5.41 20z\"/>\n",
              "  </svg>\n",
              "      </button>\n",
              "      \n",
              "  <style>\n",
              "    .colab-df-container {\n",
              "      display:flex;\n",
              "      flex-wrap:wrap;\n",
              "      gap: 12px;\n",
              "    }\n",
              "\n",
              "    .colab-df-convert {\n",
              "      background-color: #E8F0FE;\n",
              "      border: none;\n",
              "      border-radius: 50%;\n",
              "      cursor: pointer;\n",
              "      display: none;\n",
              "      fill: #1967D2;\n",
              "      height: 32px;\n",
              "      padding: 0 0 0 0;\n",
              "      width: 32px;\n",
              "    }\n",
              "\n",
              "    .colab-df-convert:hover {\n",
              "      background-color: #E2EBFA;\n",
              "      box-shadow: 0px 1px 2px rgba(60, 64, 67, 0.3), 0px 1px 3px 1px rgba(60, 64, 67, 0.15);\n",
              "      fill: #174EA6;\n",
              "    }\n",
              "\n",
              "    [theme=dark] .colab-df-convert {\n",
              "      background-color: #3B4455;\n",
              "      fill: #D2E3FC;\n",
              "    }\n",
              "\n",
              "    [theme=dark] .colab-df-convert:hover {\n",
              "      background-color: #434B5C;\n",
              "      box-shadow: 0px 1px 3px 1px rgba(0, 0, 0, 0.15);\n",
              "      filter: drop-shadow(0px 1px 2px rgba(0, 0, 0, 0.3));\n",
              "      fill: #FFFFFF;\n",
              "    }\n",
              "  </style>\n",
              "\n",
              "      <script>\n",
              "        const buttonEl =\n",
              "          document.querySelector('#df-02a3d3f1-7e2a-4491-af40-388571336669 button.colab-df-convert');\n",
              "        buttonEl.style.display =\n",
              "          google.colab.kernel.accessAllowed ? 'block' : 'none';\n",
              "\n",
              "        async function convertToInteractive(key) {\n",
              "          const element = document.querySelector('#df-02a3d3f1-7e2a-4491-af40-388571336669');\n",
              "          const dataTable =\n",
              "            await google.colab.kernel.invokeFunction('convertToInteractive',\n",
              "                                                     [key], {});\n",
              "          if (!dataTable) return;\n",
              "\n",
              "          const docLinkHtml = 'Like what you see? Visit the ' +\n",
              "            '<a target=\"_blank\" href=https://colab.research.google.com/notebooks/data_table.ipynb>data table notebook</a>'\n",
              "            + ' to learn more about interactive tables.';\n",
              "          element.innerHTML = '';\n",
              "          dataTable['output_type'] = 'display_data';\n",
              "          await google.colab.output.renderOutput(dataTable, element);\n",
              "          const docLink = document.createElement('div');\n",
              "          docLink.innerHTML = docLinkHtml;\n",
              "          element.appendChild(docLink);\n",
              "        }\n",
              "      </script>\n",
              "    </div>\n",
              "  </div>\n",
              "  "
            ]
          },
          "metadata": {},
          "execution_count": 27
        }
      ]
    },
    {
      "cell_type": "markdown",
      "source": [
        "Tương tự, feature `breath_id__u_in__mean` thể hiện lượng khí trung bình của mỗi phổi. "
      ],
      "metadata": {
        "id": "uKSKC7iEqARe"
      },
      "id": "uKSKC7iEqARe"
    },
    {
      "cell_type": "code",
      "source": [
        "small_df['breath_id__u_in__mean'] = small_df.groupby(['breath_id'])['u_in'].transform('mean')"
      ],
      "metadata": {
        "id": "SvMOHjWxN9M7"
      },
      "id": "SvMOHjWxN9M7",
      "execution_count": null,
      "outputs": []
    },
    {
      "cell_type": "markdown",
      "source": [
        "Feature `breath_id__u_in__diffmax` là đặc trưng cho biết khoảng cách giữa giá trị **max** với `u_in`."
      ],
      "metadata": {
        "id": "ld29VkocZvHZ"
      },
      "id": "ld29VkocZvHZ"
    },
    {
      "cell_type": "code",
      "source": [
        "small_df['breath_id__u_in__diffmax'] = small_df.groupby(\n",
        "    ['breath_id'])['u_in'].transform('max') - small_df['u_in']\n",
        "small_df[['breath_id__u_in__diffmax']].iloc[:80]"
      ],
      "metadata": {
        "id": "J0q16X2uOAKx",
        "colab": {
          "base_uri": "https://localhost:8080/",
          "height": 488
        },
        "outputId": "af98b122-50fe-42bb-dbc4-f3dc4754a1fa"
      },
      "id": "J0q16X2uOAKx",
      "execution_count": null,
      "outputs": [
        {
          "output_type": "execute_result",
          "data": {
            "text/plain": [
              "    breath_id__u_in__diffmax\n",
              "0                  28.229702\n",
              "1                   9.929994\n",
              "2                   5.803758\n",
              "3                   5.504214\n",
              "4                   2.957185\n",
              "..                       ...\n",
              "75                 23.338562\n",
              "76                 23.334554\n",
              "77                 23.331188\n",
              "78                 23.328353\n",
              "79                 23.325957\n",
              "\n",
              "[80 rows x 1 columns]"
            ],
            "text/html": [
              "\n",
              "  <div id=\"df-ae1c76e8-2325-4e7b-bfe5-e7ac6f8d4b0a\">\n",
              "    <div class=\"colab-df-container\">\n",
              "      <div>\n",
              "<style scoped>\n",
              "    .dataframe tbody tr th:only-of-type {\n",
              "        vertical-align: middle;\n",
              "    }\n",
              "\n",
              "    .dataframe tbody tr th {\n",
              "        vertical-align: top;\n",
              "    }\n",
              "\n",
              "    .dataframe thead th {\n",
              "        text-align: right;\n",
              "    }\n",
              "</style>\n",
              "<table border=\"1\" class=\"dataframe\">\n",
              "  <thead>\n",
              "    <tr style=\"text-align: right;\">\n",
              "      <th></th>\n",
              "      <th>breath_id__u_in__diffmax</th>\n",
              "    </tr>\n",
              "  </thead>\n",
              "  <tbody>\n",
              "    <tr>\n",
              "      <th>0</th>\n",
              "      <td>28.229702</td>\n",
              "    </tr>\n",
              "    <tr>\n",
              "      <th>1</th>\n",
              "      <td>9.929994</td>\n",
              "    </tr>\n",
              "    <tr>\n",
              "      <th>2</th>\n",
              "      <td>5.803758</td>\n",
              "    </tr>\n",
              "    <tr>\n",
              "      <th>3</th>\n",
              "      <td>5.504214</td>\n",
              "    </tr>\n",
              "    <tr>\n",
              "      <th>4</th>\n",
              "      <td>2.957185</td>\n",
              "    </tr>\n",
              "    <tr>\n",
              "      <th>...</th>\n",
              "      <td>...</td>\n",
              "    </tr>\n",
              "    <tr>\n",
              "      <th>75</th>\n",
              "      <td>23.338562</td>\n",
              "    </tr>\n",
              "    <tr>\n",
              "      <th>76</th>\n",
              "      <td>23.334554</td>\n",
              "    </tr>\n",
              "    <tr>\n",
              "      <th>77</th>\n",
              "      <td>23.331188</td>\n",
              "    </tr>\n",
              "    <tr>\n",
              "      <th>78</th>\n",
              "      <td>23.328353</td>\n",
              "    </tr>\n",
              "    <tr>\n",
              "      <th>79</th>\n",
              "      <td>23.325957</td>\n",
              "    </tr>\n",
              "  </tbody>\n",
              "</table>\n",
              "<p>80 rows × 1 columns</p>\n",
              "</div>\n",
              "      <button class=\"colab-df-convert\" onclick=\"convertToInteractive('df-ae1c76e8-2325-4e7b-bfe5-e7ac6f8d4b0a')\"\n",
              "              title=\"Convert this dataframe to an interactive table.\"\n",
              "              style=\"display:none;\">\n",
              "        \n",
              "  <svg xmlns=\"http://www.w3.org/2000/svg\" height=\"24px\"viewBox=\"0 0 24 24\"\n",
              "       width=\"24px\">\n",
              "    <path d=\"M0 0h24v24H0V0z\" fill=\"none\"/>\n",
              "    <path d=\"M18.56 5.44l.94 2.06.94-2.06 2.06-.94-2.06-.94-.94-2.06-.94 2.06-2.06.94zm-11 1L8.5 8.5l.94-2.06 2.06-.94-2.06-.94L8.5 2.5l-.94 2.06-2.06.94zm10 10l.94 2.06.94-2.06 2.06-.94-2.06-.94-.94-2.06-.94 2.06-2.06.94z\"/><path d=\"M17.41 7.96l-1.37-1.37c-.4-.4-.92-.59-1.43-.59-.52 0-1.04.2-1.43.59L10.3 9.45l-7.72 7.72c-.78.78-.78 2.05 0 2.83L4 21.41c.39.39.9.59 1.41.59.51 0 1.02-.2 1.41-.59l7.78-7.78 2.81-2.81c.8-.78.8-2.07 0-2.86zM5.41 20L4 18.59l7.72-7.72 1.47 1.35L5.41 20z\"/>\n",
              "  </svg>\n",
              "      </button>\n",
              "      \n",
              "  <style>\n",
              "    .colab-df-container {\n",
              "      display:flex;\n",
              "      flex-wrap:wrap;\n",
              "      gap: 12px;\n",
              "    }\n",
              "\n",
              "    .colab-df-convert {\n",
              "      background-color: #E8F0FE;\n",
              "      border: none;\n",
              "      border-radius: 50%;\n",
              "      cursor: pointer;\n",
              "      display: none;\n",
              "      fill: #1967D2;\n",
              "      height: 32px;\n",
              "      padding: 0 0 0 0;\n",
              "      width: 32px;\n",
              "    }\n",
              "\n",
              "    .colab-df-convert:hover {\n",
              "      background-color: #E2EBFA;\n",
              "      box-shadow: 0px 1px 2px rgba(60, 64, 67, 0.3), 0px 1px 3px 1px rgba(60, 64, 67, 0.15);\n",
              "      fill: #174EA6;\n",
              "    }\n",
              "\n",
              "    [theme=dark] .colab-df-convert {\n",
              "      background-color: #3B4455;\n",
              "      fill: #D2E3FC;\n",
              "    }\n",
              "\n",
              "    [theme=dark] .colab-df-convert:hover {\n",
              "      background-color: #434B5C;\n",
              "      box-shadow: 0px 1px 3px 1px rgba(0, 0, 0, 0.15);\n",
              "      filter: drop-shadow(0px 1px 2px rgba(0, 0, 0, 0.3));\n",
              "      fill: #FFFFFF;\n",
              "    }\n",
              "  </style>\n",
              "\n",
              "      <script>\n",
              "        const buttonEl =\n",
              "          document.querySelector('#df-ae1c76e8-2325-4e7b-bfe5-e7ac6f8d4b0a button.colab-df-convert');\n",
              "        buttonEl.style.display =\n",
              "          google.colab.kernel.accessAllowed ? 'block' : 'none';\n",
              "\n",
              "        async function convertToInteractive(key) {\n",
              "          const element = document.querySelector('#df-ae1c76e8-2325-4e7b-bfe5-e7ac6f8d4b0a');\n",
              "          const dataTable =\n",
              "            await google.colab.kernel.invokeFunction('convertToInteractive',\n",
              "                                                     [key], {});\n",
              "          if (!dataTable) return;\n",
              "\n",
              "          const docLinkHtml = 'Like what you see? Visit the ' +\n",
              "            '<a target=\"_blank\" href=https://colab.research.google.com/notebooks/data_table.ipynb>data table notebook</a>'\n",
              "            + ' to learn more about interactive tables.';\n",
              "          element.innerHTML = '';\n",
              "          dataTable['output_type'] = 'display_data';\n",
              "          await google.colab.output.renderOutput(dataTable, element);\n",
              "          const docLink = document.createElement('div');\n",
              "          docLink.innerHTML = docLinkHtml;\n",
              "          element.appendChild(docLink);\n",
              "        }\n",
              "      </script>\n",
              "    </div>\n",
              "  </div>\n",
              "  "
            ]
          },
          "metadata": {},
          "execution_count": 29
        }
      ]
    },
    {
      "cell_type": "markdown",
      "source": [
        "Tương tự, feature `breath_id__u_in__diffmean` cho biết khoảng cách giữa các giá trị **mean** với `u_in`."
      ],
      "metadata": {
        "id": "-gfP65wLrnpm"
      },
      "id": "-gfP65wLrnpm"
    },
    {
      "cell_type": "code",
      "source": [
        "small_df['breath_id__u_in__diffmean'] = small_df.groupby(\n",
        "    ['breath_id'])['u_in'].transform('mean') - small_df['u_in']"
      ],
      "metadata": {
        "id": "QoGhmOelOBdH"
      },
      "id": "QoGhmOelOBdH",
      "execution_count": null,
      "outputs": []
    },
    {
      "cell_type": "markdown",
      "source": [
        "#### 3.2.4. Sự thay đổi của bộ điều khiển là áp suất:"
      ],
      "metadata": {
        "id": "p9OtsCf3PSXj"
      },
      "id": "p9OtsCf3PSXj"
    },
    {
      "cell_type": "markdown",
      "source": [
        "Đầu tiên, 2 feature u_in_diff1 và u_out_diff1 thể hiện sự thay đổi của u_in và u_out so với lần đo trước đó\n",
        "\n",
        "\n",
        "*   Đối với u_in_diff1 chúng ta biết được van đầu vào của bộ điều khiển là áp suất (tức là đầu ra của bộ điều khiển kỹ thuật số) có đang mở ra thêm (+) hay đóng lại bớt (-) hay không và giá trị đó là bao nhiêu\n",
        "\n",
        "*  Đối với u_out_diff1, chúng ta thấy rằng u_out ít khi thay đổi giá trị sau mỗi id, cụ thể là 2 lần trong mỗi bước thở 3s: 1 lần mở van ra, sau đó có khá nhiều giá trị u_in=0, 1 lần đóng van lại đồng nghĩa với kết thúc 1 nhịp thở\n",
        "\n",
        "\n",
        "\n",
        "\n",
        "\n"
      ],
      "metadata": {
        "id": "oadGQnfFPSXl"
      },
      "id": "oadGQnfFPSXl"
    },
    {
      "cell_type": "code",
      "source": [
        "small_df['u_in_diff1'] = small_df['u_in'] - small_df['u_in_lag1']\n",
        "small_df['u_out_diff1'] = small_df['u_out'] - small_df['u_out_lag1']"
      ],
      "metadata": {
        "id": "rehsPX2iI6Lk"
      },
      "execution_count": null,
      "outputs": [],
      "id": "rehsPX2iI6Lk"
    },
    {
      "cell_type": "markdown",
      "source": [
        "Tương tự, các feature u_in_diff2, u_in_diff3, u_in_diff4 và u_out_diff2, u_out_diff3, u_out_diff4 thể hiện sự thay đổi của u_in và u_out so với 2, 3, 4 lần đo trước đó\n",
        "Khả năng cao Kaggle đã không xếp 80 lần đo của nhịp thở có ID gần nhau, chúng có thể dựa trên sự thay đổi này để sắp xếp lại các id cùng nhịp thở để kết quả chính xác hơn"
      ],
      "metadata": {
        "id": "3M-TowZ-JFTb"
      },
      "id": "3M-TowZ-JFTb"
    },
    {
      "cell_type": "code",
      "source": [
        "small_df['u_in_diff2'] = small_df['u_in'] - small_df['u_in_lag2']\n",
        "small_df['u_out_diff2'] = small_df['u_out'] - small_df['u_out_lag2']\n",
        "small_df['u_in_diff3'] = small_df['u_in'] - small_df['u_in_lag3']\n",
        "small_df['u_out_diff3'] = small_df['u_out'] - small_df['u_out_lag3']\n",
        "small_df['u_in_diff4'] = small_df['u_in'] - small_df['u_in_lag4']\n",
        "small_df['u_out_diff4'] = small_df['u_out'] - small_df['u_out_lag4']\n",
        "pd.DataFrame(small_df,columns=['u_in', 'u_in_diff1', 'u_in_diff2', 'u_in_diff3', 'u_in_diff4', 'u_out','u_out_diff1','u_out_diff2', 'u_out_diff3','u_out_diff4' ])"
      ],
      "metadata": {
        "id": "0TaIEyEiCMvd",
        "colab": {
          "base_uri": "https://localhost:8080/",
          "height": 488
        },
        "outputId": "faff47d9-a18c-45df-8016-21586faac2c5"
      },
      "execution_count": null,
      "outputs": [
        {
          "output_type": "execute_result",
          "data": {
            "text/plain": [
              "          u_in  u_in_diff1  u_in_diff2  u_in_diff3  u_in_diff4  u_out  \\\n",
              "0     0.083334    0.083334    0.083334    0.083334    0.083334      0   \n",
              "1    18.383041   18.299707   18.383041   18.383041   18.383041      0   \n",
              "2    22.509278    4.126236   22.425944   22.509278   22.509278      0   \n",
              "3    22.808822    0.299544    4.425781   22.725488   22.808822      0   \n",
              "4    25.355850    2.547028    2.846573    6.972809   25.272516      0   \n",
              "..         ...         ...         ...         ...         ...    ...   \n",
              "795   4.945038    0.009539    0.020697    0.033822    0.049212      1   \n",
              "796   4.953164    0.008126    0.017665    0.028823    0.041948      1   \n",
              "797   4.960086    0.006922    0.015048    0.024587    0.035745      1   \n",
              "798   4.965973    0.005887    0.012809    0.020935    0.030474      1   \n",
              "799   4.970993    0.005020    0.010907    0.017829    0.025955      1   \n",
              "\n",
              "     u_out_diff1  u_out_diff2  u_out_diff3  u_out_diff4  \n",
              "0            0.0          0.0          0.0          0.0  \n",
              "1            0.0          0.0          0.0          0.0  \n",
              "2            0.0          0.0          0.0          0.0  \n",
              "3            0.0          0.0          0.0          0.0  \n",
              "4            0.0          0.0          0.0          0.0  \n",
              "..           ...          ...          ...          ...  \n",
              "795          0.0          0.0          0.0          0.0  \n",
              "796          0.0          0.0          0.0          0.0  \n",
              "797          0.0          0.0          0.0          0.0  \n",
              "798          0.0          0.0          0.0          0.0  \n",
              "799          0.0          0.0          0.0          0.0  \n",
              "\n",
              "[800 rows x 10 columns]"
            ],
            "text/html": [
              "\n",
              "  <div id=\"df-75499563-c345-4610-863e-dd74f24a0651\">\n",
              "    <div class=\"colab-df-container\">\n",
              "      <div>\n",
              "<style scoped>\n",
              "    .dataframe tbody tr th:only-of-type {\n",
              "        vertical-align: middle;\n",
              "    }\n",
              "\n",
              "    .dataframe tbody tr th {\n",
              "        vertical-align: top;\n",
              "    }\n",
              "\n",
              "    .dataframe thead th {\n",
              "        text-align: right;\n",
              "    }\n",
              "</style>\n",
              "<table border=\"1\" class=\"dataframe\">\n",
              "  <thead>\n",
              "    <tr style=\"text-align: right;\">\n",
              "      <th></th>\n",
              "      <th>u_in</th>\n",
              "      <th>u_in_diff1</th>\n",
              "      <th>u_in_diff2</th>\n",
              "      <th>u_in_diff3</th>\n",
              "      <th>u_in_diff4</th>\n",
              "      <th>u_out</th>\n",
              "      <th>u_out_diff1</th>\n",
              "      <th>u_out_diff2</th>\n",
              "      <th>u_out_diff3</th>\n",
              "      <th>u_out_diff4</th>\n",
              "    </tr>\n",
              "  </thead>\n",
              "  <tbody>\n",
              "    <tr>\n",
              "      <th>0</th>\n",
              "      <td>0.083334</td>\n",
              "      <td>0.083334</td>\n",
              "      <td>0.083334</td>\n",
              "      <td>0.083334</td>\n",
              "      <td>0.083334</td>\n",
              "      <td>0</td>\n",
              "      <td>0.0</td>\n",
              "      <td>0.0</td>\n",
              "      <td>0.0</td>\n",
              "      <td>0.0</td>\n",
              "    </tr>\n",
              "    <tr>\n",
              "      <th>1</th>\n",
              "      <td>18.383041</td>\n",
              "      <td>18.299707</td>\n",
              "      <td>18.383041</td>\n",
              "      <td>18.383041</td>\n",
              "      <td>18.383041</td>\n",
              "      <td>0</td>\n",
              "      <td>0.0</td>\n",
              "      <td>0.0</td>\n",
              "      <td>0.0</td>\n",
              "      <td>0.0</td>\n",
              "    </tr>\n",
              "    <tr>\n",
              "      <th>2</th>\n",
              "      <td>22.509278</td>\n",
              "      <td>4.126236</td>\n",
              "      <td>22.425944</td>\n",
              "      <td>22.509278</td>\n",
              "      <td>22.509278</td>\n",
              "      <td>0</td>\n",
              "      <td>0.0</td>\n",
              "      <td>0.0</td>\n",
              "      <td>0.0</td>\n",
              "      <td>0.0</td>\n",
              "    </tr>\n",
              "    <tr>\n",
              "      <th>3</th>\n",
              "      <td>22.808822</td>\n",
              "      <td>0.299544</td>\n",
              "      <td>4.425781</td>\n",
              "      <td>22.725488</td>\n",
              "      <td>22.808822</td>\n",
              "      <td>0</td>\n",
              "      <td>0.0</td>\n",
              "      <td>0.0</td>\n",
              "      <td>0.0</td>\n",
              "      <td>0.0</td>\n",
              "    </tr>\n",
              "    <tr>\n",
              "      <th>4</th>\n",
              "      <td>25.355850</td>\n",
              "      <td>2.547028</td>\n",
              "      <td>2.846573</td>\n",
              "      <td>6.972809</td>\n",
              "      <td>25.272516</td>\n",
              "      <td>0</td>\n",
              "      <td>0.0</td>\n",
              "      <td>0.0</td>\n",
              "      <td>0.0</td>\n",
              "      <td>0.0</td>\n",
              "    </tr>\n",
              "    <tr>\n",
              "      <th>...</th>\n",
              "      <td>...</td>\n",
              "      <td>...</td>\n",
              "      <td>...</td>\n",
              "      <td>...</td>\n",
              "      <td>...</td>\n",
              "      <td>...</td>\n",
              "      <td>...</td>\n",
              "      <td>...</td>\n",
              "      <td>...</td>\n",
              "      <td>...</td>\n",
              "    </tr>\n",
              "    <tr>\n",
              "      <th>795</th>\n",
              "      <td>4.945038</td>\n",
              "      <td>0.009539</td>\n",
              "      <td>0.020697</td>\n",
              "      <td>0.033822</td>\n",
              "      <td>0.049212</td>\n",
              "      <td>1</td>\n",
              "      <td>0.0</td>\n",
              "      <td>0.0</td>\n",
              "      <td>0.0</td>\n",
              "      <td>0.0</td>\n",
              "    </tr>\n",
              "    <tr>\n",
              "      <th>796</th>\n",
              "      <td>4.953164</td>\n",
              "      <td>0.008126</td>\n",
              "      <td>0.017665</td>\n",
              "      <td>0.028823</td>\n",
              "      <td>0.041948</td>\n",
              "      <td>1</td>\n",
              "      <td>0.0</td>\n",
              "      <td>0.0</td>\n",
              "      <td>0.0</td>\n",
              "      <td>0.0</td>\n",
              "    </tr>\n",
              "    <tr>\n",
              "      <th>797</th>\n",
              "      <td>4.960086</td>\n",
              "      <td>0.006922</td>\n",
              "      <td>0.015048</td>\n",
              "      <td>0.024587</td>\n",
              "      <td>0.035745</td>\n",
              "      <td>1</td>\n",
              "      <td>0.0</td>\n",
              "      <td>0.0</td>\n",
              "      <td>0.0</td>\n",
              "      <td>0.0</td>\n",
              "    </tr>\n",
              "    <tr>\n",
              "      <th>798</th>\n",
              "      <td>4.965973</td>\n",
              "      <td>0.005887</td>\n",
              "      <td>0.012809</td>\n",
              "      <td>0.020935</td>\n",
              "      <td>0.030474</td>\n",
              "      <td>1</td>\n",
              "      <td>0.0</td>\n",
              "      <td>0.0</td>\n",
              "      <td>0.0</td>\n",
              "      <td>0.0</td>\n",
              "    </tr>\n",
              "    <tr>\n",
              "      <th>799</th>\n",
              "      <td>4.970993</td>\n",
              "      <td>0.005020</td>\n",
              "      <td>0.010907</td>\n",
              "      <td>0.017829</td>\n",
              "      <td>0.025955</td>\n",
              "      <td>1</td>\n",
              "      <td>0.0</td>\n",
              "      <td>0.0</td>\n",
              "      <td>0.0</td>\n",
              "      <td>0.0</td>\n",
              "    </tr>\n",
              "  </tbody>\n",
              "</table>\n",
              "<p>800 rows × 10 columns</p>\n",
              "</div>\n",
              "      <button class=\"colab-df-convert\" onclick=\"convertToInteractive('df-75499563-c345-4610-863e-dd74f24a0651')\"\n",
              "              title=\"Convert this dataframe to an interactive table.\"\n",
              "              style=\"display:none;\">\n",
              "        \n",
              "  <svg xmlns=\"http://www.w3.org/2000/svg\" height=\"24px\"viewBox=\"0 0 24 24\"\n",
              "       width=\"24px\">\n",
              "    <path d=\"M0 0h24v24H0V0z\" fill=\"none\"/>\n",
              "    <path d=\"M18.56 5.44l.94 2.06.94-2.06 2.06-.94-2.06-.94-.94-2.06-.94 2.06-2.06.94zm-11 1L8.5 8.5l.94-2.06 2.06-.94-2.06-.94L8.5 2.5l-.94 2.06-2.06.94zm10 10l.94 2.06.94-2.06 2.06-.94-2.06-.94-.94-2.06-.94 2.06-2.06.94z\"/><path d=\"M17.41 7.96l-1.37-1.37c-.4-.4-.92-.59-1.43-.59-.52 0-1.04.2-1.43.59L10.3 9.45l-7.72 7.72c-.78.78-.78 2.05 0 2.83L4 21.41c.39.39.9.59 1.41.59.51 0 1.02-.2 1.41-.59l7.78-7.78 2.81-2.81c.8-.78.8-2.07 0-2.86zM5.41 20L4 18.59l7.72-7.72 1.47 1.35L5.41 20z\"/>\n",
              "  </svg>\n",
              "      </button>\n",
              "      \n",
              "  <style>\n",
              "    .colab-df-container {\n",
              "      display:flex;\n",
              "      flex-wrap:wrap;\n",
              "      gap: 12px;\n",
              "    }\n",
              "\n",
              "    .colab-df-convert {\n",
              "      background-color: #E8F0FE;\n",
              "      border: none;\n",
              "      border-radius: 50%;\n",
              "      cursor: pointer;\n",
              "      display: none;\n",
              "      fill: #1967D2;\n",
              "      height: 32px;\n",
              "      padding: 0 0 0 0;\n",
              "      width: 32px;\n",
              "    }\n",
              "\n",
              "    .colab-df-convert:hover {\n",
              "      background-color: #E2EBFA;\n",
              "      box-shadow: 0px 1px 2px rgba(60, 64, 67, 0.3), 0px 1px 3px 1px rgba(60, 64, 67, 0.15);\n",
              "      fill: #174EA6;\n",
              "    }\n",
              "\n",
              "    [theme=dark] .colab-df-convert {\n",
              "      background-color: #3B4455;\n",
              "      fill: #D2E3FC;\n",
              "    }\n",
              "\n",
              "    [theme=dark] .colab-df-convert:hover {\n",
              "      background-color: #434B5C;\n",
              "      box-shadow: 0px 1px 3px 1px rgba(0, 0, 0, 0.15);\n",
              "      filter: drop-shadow(0px 1px 2px rgba(0, 0, 0, 0.3));\n",
              "      fill: #FFFFFF;\n",
              "    }\n",
              "  </style>\n",
              "\n",
              "      <script>\n",
              "        const buttonEl =\n",
              "          document.querySelector('#df-75499563-c345-4610-863e-dd74f24a0651 button.colab-df-convert');\n",
              "        buttonEl.style.display =\n",
              "          google.colab.kernel.accessAllowed ? 'block' : 'none';\n",
              "\n",
              "        async function convertToInteractive(key) {\n",
              "          const element = document.querySelector('#df-75499563-c345-4610-863e-dd74f24a0651');\n",
              "          const dataTable =\n",
              "            await google.colab.kernel.invokeFunction('convertToInteractive',\n",
              "                                                     [key], {});\n",
              "          if (!dataTable) return;\n",
              "\n",
              "          const docLinkHtml = 'Like what you see? Visit the ' +\n",
              "            '<a target=\"_blank\" href=https://colab.research.google.com/notebooks/data_table.ipynb>data table notebook</a>'\n",
              "            + ' to learn more about interactive tables.';\n",
              "          element.innerHTML = '';\n",
              "          dataTable['output_type'] = 'display_data';\n",
              "          await google.colab.output.renderOutput(dataTable, element);\n",
              "          const docLink = document.createElement('div');\n",
              "          docLink.innerHTML = docLinkHtml;\n",
              "          element.appendChild(docLink);\n",
              "        }\n",
              "      </script>\n",
              "    </div>\n",
              "  </div>\n",
              "  "
            ]
          },
          "metadata": {},
          "execution_count": 32
        }
      ],
      "id": "0TaIEyEiCMvd"
    },
    {
      "cell_type": "markdown",
      "source": [
        "#### 3.2.5. Phân tích thay đổi trong một nhịp thở:"
      ],
      "metadata": {
        "id": "nSVXpj9VPSXo"
      },
      "id": "nSVXpj9VPSXo"
    },
    {
      "cell_type": "markdown",
      "source": [
        "Các feature tạo ra trong bước này chủ yếu để xử lí các lần đo trong cùng một nhịp nhở"
      ],
      "metadata": {
        "id": "QerhQxR7O0eR"
      },
      "id": "QerhQxR7O0eR"
    },
    {
      "cell_type": "markdown",
      "source": [
        "Đánh dấu số thứ tự trong mỗi nhịp thở"
      ],
      "metadata": {
        "id": "bMzQBkOEMlO7"
      },
      "id": "bMzQBkOEMlO7"
    },
    {
      "cell_type": "code",
      "source": [
        "small_df['one'] = 1\n",
        "small_df['count'] = (small_df['one']).groupby(small_df['breath_id']).cumsum()"
      ],
      "metadata": {
        "id": "j0o75X93MtND"
      },
      "execution_count": null,
      "outputs": [],
      "id": "j0o75X93MtND"
    },
    {
      "cell_type": "markdown",
      "source": [
        "Giá trị trung bình u_in ở thời điểm hiện tại của một nhịp thở ( bằng tổng u_in đã đo được trong nhịp thở/ số lần đo trong nhịp thở này)"
      ],
      "metadata": {
        "id": "sv1geuLvMvk-"
      },
      "id": "sv1geuLvMvk-"
    },
    {
      "cell_type": "code",
      "source": [
        "small_df['u_in_cummean'] = small_df['u_in_cumsum'] / small_df['count']"
      ],
      "metadata": {
        "id": "2P_pzbXpNeWA"
      },
      "execution_count": null,
      "outputs": [],
      "id": "2P_pzbXpNeWA"
    },
    {
      "cell_type": "markdown",
      "source": [
        "Xem 2 lần đo kề nhau (hoặc cách nhau 1 ần đo) có cùng đo trong 1 nhịp thở hay không:"
      ],
      "metadata": {
        "id": "Gkdzbs6DNkEn"
      },
      "id": "Gkdzbs6DNkEn"
    },
    {
      "cell_type": "code",
      "source": [
        "small_df['breath_id_lag']=small_df['breath_id'].shift(1).fillna(0)\n",
        "small_df['breath_id_lag2']=small_df['breath_id'].shift(2).fillna(0)\n",
        "small_df['breath_id_lagsame']=np.select([small_df['breath_id_lag']==small_df['breath_id']],[1],0)\n",
        "small_df['breath_id_lag2same']=np.select([small_df['breath_id_lag2']==small_df['breath_id']],[1],0)"
      ],
      "metadata": {
        "id": "bDRvUHhvN2U6"
      },
      "execution_count": null,
      "outputs": [],
      "id": "bDRvUHhvN2U6"
    },
    {
      "cell_type": "markdown",
      "source": [
        "Sau đó, tác giả tạo ra breath_id__u_in_lag tương tự như u_in_diff, nhưng chỉ khác là các nhịp thở sẽ riêng biệt hơn, tức là không so sánh lần đo đầu tiên của nhịp thở sau so với lần đo cuối cùng của nhịp thở trước"
      ],
      "metadata": {
        "id": "tDRqAJdcOPIn"
      },
      "id": "tDRqAJdcOPIn"
    },
    {
      "cell_type": "code",
      "source": [
        "small_df['breath_id__u_in_lag'] = small_df['u_in'].shift(1).fillna(0)\n",
        "small_df['breath_id__u_in_lag'] = small_df['breath_id__u_in_lag'] * small_df['breath_id_lagsame']\n",
        "small_df['breath_id__u_in_lag2'] = small_df['u_in'].shift(2).fillna(0)\n",
        "small_df['breath_id__u_in_lag2'] = small_df['breath_id__u_in_lag2'] * small_df['breath_id_lag2same']\n",
        "pd.DataFrame(small_df,columns=['breath_id','count', 'u_in', 'u_in_cummean', 'breath_id__u_in_lag', 'breath_id__u_in_lag2'])"
      ],
      "metadata": {
        "id": "MNAmCtLlEhGp",
        "colab": {
          "base_uri": "https://localhost:8080/",
          "height": 488
        },
        "outputId": "5ca815de-31cd-4694-9007-ea1ed323a5fe"
      },
      "execution_count": null,
      "outputs": [
        {
          "output_type": "execute_result",
          "data": {
            "text/plain": [
              "     breath_id  count       u_in  u_in_cummean  breath_id__u_in_lag  \\\n",
              "0            1      1   0.083334      0.083334             0.000000   \n",
              "1            1      2  18.383041      9.233188             0.083334   \n",
              "2            1      3  22.509278     13.658551            18.383041   \n",
              "3            1      4  22.808822     15.946119            22.509278   \n",
              "4            1      5  25.355850     17.828065            22.808822   \n",
              "..         ...    ...        ...           ...                  ...   \n",
              "795         12     76   4.945038      2.675880             4.935498   \n",
              "796         12     77   4.953164      2.705455             4.945038   \n",
              "797         12     78   4.960086      2.734360             4.953164   \n",
              "798         12     79   4.965973      2.762609             4.960086   \n",
              "799         12     80   4.970993      2.790213             4.965973   \n",
              "\n",
              "     breath_id__u_in_lag2  \n",
              "0                0.000000  \n",
              "1                0.000000  \n",
              "2                0.083334  \n",
              "3               18.383041  \n",
              "4               22.509278  \n",
              "..                    ...  \n",
              "795              4.924341  \n",
              "796              4.935498  \n",
              "797              4.945038  \n",
              "798              4.953164  \n",
              "799              4.960086  \n",
              "\n",
              "[800 rows x 6 columns]"
            ],
            "text/html": [
              "\n",
              "  <div id=\"df-232c20ad-846a-45a0-8ce5-c49544adf22f\">\n",
              "    <div class=\"colab-df-container\">\n",
              "      <div>\n",
              "<style scoped>\n",
              "    .dataframe tbody tr th:only-of-type {\n",
              "        vertical-align: middle;\n",
              "    }\n",
              "\n",
              "    .dataframe tbody tr th {\n",
              "        vertical-align: top;\n",
              "    }\n",
              "\n",
              "    .dataframe thead th {\n",
              "        text-align: right;\n",
              "    }\n",
              "</style>\n",
              "<table border=\"1\" class=\"dataframe\">\n",
              "  <thead>\n",
              "    <tr style=\"text-align: right;\">\n",
              "      <th></th>\n",
              "      <th>breath_id</th>\n",
              "      <th>count</th>\n",
              "      <th>u_in</th>\n",
              "      <th>u_in_cummean</th>\n",
              "      <th>breath_id__u_in_lag</th>\n",
              "      <th>breath_id__u_in_lag2</th>\n",
              "    </tr>\n",
              "  </thead>\n",
              "  <tbody>\n",
              "    <tr>\n",
              "      <th>0</th>\n",
              "      <td>1</td>\n",
              "      <td>1</td>\n",
              "      <td>0.083334</td>\n",
              "      <td>0.083334</td>\n",
              "      <td>0.000000</td>\n",
              "      <td>0.000000</td>\n",
              "    </tr>\n",
              "    <tr>\n",
              "      <th>1</th>\n",
              "      <td>1</td>\n",
              "      <td>2</td>\n",
              "      <td>18.383041</td>\n",
              "      <td>9.233188</td>\n",
              "      <td>0.083334</td>\n",
              "      <td>0.000000</td>\n",
              "    </tr>\n",
              "    <tr>\n",
              "      <th>2</th>\n",
              "      <td>1</td>\n",
              "      <td>3</td>\n",
              "      <td>22.509278</td>\n",
              "      <td>13.658551</td>\n",
              "      <td>18.383041</td>\n",
              "      <td>0.083334</td>\n",
              "    </tr>\n",
              "    <tr>\n",
              "      <th>3</th>\n",
              "      <td>1</td>\n",
              "      <td>4</td>\n",
              "      <td>22.808822</td>\n",
              "      <td>15.946119</td>\n",
              "      <td>22.509278</td>\n",
              "      <td>18.383041</td>\n",
              "    </tr>\n",
              "    <tr>\n",
              "      <th>4</th>\n",
              "      <td>1</td>\n",
              "      <td>5</td>\n",
              "      <td>25.355850</td>\n",
              "      <td>17.828065</td>\n",
              "      <td>22.808822</td>\n",
              "      <td>22.509278</td>\n",
              "    </tr>\n",
              "    <tr>\n",
              "      <th>...</th>\n",
              "      <td>...</td>\n",
              "      <td>...</td>\n",
              "      <td>...</td>\n",
              "      <td>...</td>\n",
              "      <td>...</td>\n",
              "      <td>...</td>\n",
              "    </tr>\n",
              "    <tr>\n",
              "      <th>795</th>\n",
              "      <td>12</td>\n",
              "      <td>76</td>\n",
              "      <td>4.945038</td>\n",
              "      <td>2.675880</td>\n",
              "      <td>4.935498</td>\n",
              "      <td>4.924341</td>\n",
              "    </tr>\n",
              "    <tr>\n",
              "      <th>796</th>\n",
              "      <td>12</td>\n",
              "      <td>77</td>\n",
              "      <td>4.953164</td>\n",
              "      <td>2.705455</td>\n",
              "      <td>4.945038</td>\n",
              "      <td>4.935498</td>\n",
              "    </tr>\n",
              "    <tr>\n",
              "      <th>797</th>\n",
              "      <td>12</td>\n",
              "      <td>78</td>\n",
              "      <td>4.960086</td>\n",
              "      <td>2.734360</td>\n",
              "      <td>4.953164</td>\n",
              "      <td>4.945038</td>\n",
              "    </tr>\n",
              "    <tr>\n",
              "      <th>798</th>\n",
              "      <td>12</td>\n",
              "      <td>79</td>\n",
              "      <td>4.965973</td>\n",
              "      <td>2.762609</td>\n",
              "      <td>4.960086</td>\n",
              "      <td>4.953164</td>\n",
              "    </tr>\n",
              "    <tr>\n",
              "      <th>799</th>\n",
              "      <td>12</td>\n",
              "      <td>80</td>\n",
              "      <td>4.970993</td>\n",
              "      <td>2.790213</td>\n",
              "      <td>4.965973</td>\n",
              "      <td>4.960086</td>\n",
              "    </tr>\n",
              "  </tbody>\n",
              "</table>\n",
              "<p>800 rows × 6 columns</p>\n",
              "</div>\n",
              "      <button class=\"colab-df-convert\" onclick=\"convertToInteractive('df-232c20ad-846a-45a0-8ce5-c49544adf22f')\"\n",
              "              title=\"Convert this dataframe to an interactive table.\"\n",
              "              style=\"display:none;\">\n",
              "        \n",
              "  <svg xmlns=\"http://www.w3.org/2000/svg\" height=\"24px\"viewBox=\"0 0 24 24\"\n",
              "       width=\"24px\">\n",
              "    <path d=\"M0 0h24v24H0V0z\" fill=\"none\"/>\n",
              "    <path d=\"M18.56 5.44l.94 2.06.94-2.06 2.06-.94-2.06-.94-.94-2.06-.94 2.06-2.06.94zm-11 1L8.5 8.5l.94-2.06 2.06-.94-2.06-.94L8.5 2.5l-.94 2.06-2.06.94zm10 10l.94 2.06.94-2.06 2.06-.94-2.06-.94-.94-2.06-.94 2.06-2.06.94z\"/><path d=\"M17.41 7.96l-1.37-1.37c-.4-.4-.92-.59-1.43-.59-.52 0-1.04.2-1.43.59L10.3 9.45l-7.72 7.72c-.78.78-.78 2.05 0 2.83L4 21.41c.39.39.9.59 1.41.59.51 0 1.02-.2 1.41-.59l7.78-7.78 2.81-2.81c.8-.78.8-2.07 0-2.86zM5.41 20L4 18.59l7.72-7.72 1.47 1.35L5.41 20z\"/>\n",
              "  </svg>\n",
              "      </button>\n",
              "      \n",
              "  <style>\n",
              "    .colab-df-container {\n",
              "      display:flex;\n",
              "      flex-wrap:wrap;\n",
              "      gap: 12px;\n",
              "    }\n",
              "\n",
              "    .colab-df-convert {\n",
              "      background-color: #E8F0FE;\n",
              "      border: none;\n",
              "      border-radius: 50%;\n",
              "      cursor: pointer;\n",
              "      display: none;\n",
              "      fill: #1967D2;\n",
              "      height: 32px;\n",
              "      padding: 0 0 0 0;\n",
              "      width: 32px;\n",
              "    }\n",
              "\n",
              "    .colab-df-convert:hover {\n",
              "      background-color: #E2EBFA;\n",
              "      box-shadow: 0px 1px 2px rgba(60, 64, 67, 0.3), 0px 1px 3px 1px rgba(60, 64, 67, 0.15);\n",
              "      fill: #174EA6;\n",
              "    }\n",
              "\n",
              "    [theme=dark] .colab-df-convert {\n",
              "      background-color: #3B4455;\n",
              "      fill: #D2E3FC;\n",
              "    }\n",
              "\n",
              "    [theme=dark] .colab-df-convert:hover {\n",
              "      background-color: #434B5C;\n",
              "      box-shadow: 0px 1px 3px 1px rgba(0, 0, 0, 0.15);\n",
              "      filter: drop-shadow(0px 1px 2px rgba(0, 0, 0, 0.3));\n",
              "      fill: #FFFFFF;\n",
              "    }\n",
              "  </style>\n",
              "\n",
              "      <script>\n",
              "        const buttonEl =\n",
              "          document.querySelector('#df-232c20ad-846a-45a0-8ce5-c49544adf22f button.colab-df-convert');\n",
              "        buttonEl.style.display =\n",
              "          google.colab.kernel.accessAllowed ? 'block' : 'none';\n",
              "\n",
              "        async function convertToInteractive(key) {\n",
              "          const element = document.querySelector('#df-232c20ad-846a-45a0-8ce5-c49544adf22f');\n",
              "          const dataTable =\n",
              "            await google.colab.kernel.invokeFunction('convertToInteractive',\n",
              "                                                     [key], {});\n",
              "          if (!dataTable) return;\n",
              "\n",
              "          const docLinkHtml = 'Like what you see? Visit the ' +\n",
              "            '<a target=\"_blank\" href=https://colab.research.google.com/notebooks/data_table.ipynb>data table notebook</a>'\n",
              "            + ' to learn more about interactive tables.';\n",
              "          element.innerHTML = '';\n",
              "          dataTable['output_type'] = 'display_data';\n",
              "          await google.colab.output.renderOutput(dataTable, element);\n",
              "          const docLink = document.createElement('div');\n",
              "          docLink.innerHTML = docLinkHtml;\n",
              "          element.appendChild(docLink);\n",
              "        }\n",
              "      </script>\n",
              "    </div>\n",
              "  </div>\n",
              "  "
            ]
          },
          "metadata": {},
          "execution_count": 36
        }
      ],
      "id": "MNAmCtLlEhGp"
    },
    {
      "cell_type": "markdown",
      "source": [
        "#### 3.2.6. Tính các thông số thống kê của mỗi lần đo:"
      ],
      "metadata": {
        "id": "tVsyL0m5PSXs"
      },
      "id": "tVsyL0m5PSXs"
    },
    {
      "cell_type": "markdown",
      "source": [
        "Khoảng cách thời gian của mỗi lần đo:\n",
        "\n"
      ],
      "metadata": {
        "id": "h0SP4Ss-PxXl"
      },
      "id": "h0SP4Ss-PxXl"
    },
    {
      "cell_type": "code",
      "source": [
        "small_df['time_step_diff'] = small_df.groupby('breath_id')['time_step'].diff().fillna(0)"
      ],
      "metadata": {
        "id": "oEaP20HxP47z"
      },
      "execution_count": null,
      "outputs": [],
      "id": "oEaP20HxP47z"
    },
    {
      "cell_type": "markdown",
      "source": [
        "Tính chu trình halflife=9, a= 1-e^(-ln(2)/9)"
      ],
      "metadata": {
        "id": "y_KjGHsjTE8w"
      },
      "id": "y_KjGHsjTE8w"
    },
    {
      "cell_type": "code",
      "source": [
        "small_df['ewm_u_in_mean'] = (small_df\\\n",
        "                           .groupby('breath_id')['u_in']\\\n",
        "                           .ewm(halflife=9)\\\n",
        "                           .mean()\\\n",
        "                           .reset_index(level=0,drop=True))"
      ],
      "metadata": {
        "id": "b1AZ_XvnT03S"
      },
      "execution_count": null,
      "outputs": [],
      "id": "b1AZ_XvnT03S"
    },
    {
      "cell_type": "markdown",
      "source": [
        "Tính giá trị tổng, nhỏ nhất, lớn nhất, trung bình của của bộ điều khiển là áp suất. các giá trị tổng, nhỏ nhất, lớn nhất, trung bình của lẩn đồ cuối cùng trong nhịp thở địa diện cho tổng, nhỏ nhất, lớn nhất, trung bình của cả nhịp thở"
      ],
      "metadata": {
        "id": "ywx-aBqZUP6a"
      },
      "id": "ywx-aBqZUP6a"
    },
    {
      "cell_type": "code",
      "source": [
        "small_df[[\"15_in_sum\",\"15_in_min\",\"15_in_max\",\"15_in_mean\"]] = (small_df\\\n",
        "                                                              .groupby('breath_id')['u_in']\\\n",
        "                                                              .rolling(window=15,min_periods=1)\\\n",
        "                                                              .agg({\"15_in_sum\":\"sum\",\n",
        "                                                                    \"15_in_min\":\"min\",\n",
        "                                                                    \"15_in_max\":\"max\",\n",
        "                                                                    \"15_in_mean\":\"mean\"})\\\n",
        "                                                               .reset_index(level=0,drop=True))\n",
        "pd.DataFrame(small_df,columns=['time_step_diff', 'breath_id', 'u_in','ewm_u_in_mean',\"15_in_sum\",  \"15_in_min\",  \"15_in_max\",  \"15_in_mean\"])"
      ],
      "metadata": {
        "id": "1B-X_xSsEsbi",
        "colab": {
          "base_uri": "https://localhost:8080/",
          "height": 488
        },
        "outputId": "651a1ae8-1076-4909-8500-65010e40472a"
      },
      "execution_count": null,
      "outputs": [
        {
          "output_type": "execute_result",
          "data": {
            "text/plain": [
              "     time_step_diff  breath_id       u_in  ewm_u_in_mean  15_in_sum  \\\n",
              "0          0.000000          1   0.083334       0.083334   0.083334   \n",
              "1          0.033652          1  18.383041       9.585358  18.466375   \n",
              "2          0.033862          1  22.509278      14.229040  40.975653   \n",
              "3          0.034028          1  22.808822      16.627759  63.784476   \n",
              "4          0.034213          1  25.355850      18.652046  89.140326   \n",
              "..              ...        ...        ...            ...        ...   \n",
              "795        0.032008         12   4.945038       4.056941  71.828636   \n",
              "796        0.031998         12   4.953164       4.123551  72.297195   \n",
              "797        0.031985         12   4.960086       4.185712  72.696556   \n",
              "798        0.031914         12   4.965973       4.243681  73.036872   \n",
              "799        0.031924         12   4.970993       4.297707  73.326960   \n",
              "\n",
              "     15_in_min  15_in_max  15_in_mean  \n",
              "0     0.083334   0.083334    0.083334  \n",
              "1     0.083334  18.383041    9.233188  \n",
              "2     0.083334  22.509278   13.658551  \n",
              "3     0.083334  22.808822   15.946119  \n",
              "4     0.083334  25.355850   17.828065  \n",
              "..         ...        ...         ...  \n",
              "795   4.484605   4.945038    4.788576  \n",
              "796   4.560724   4.953164    4.819813  \n",
              "797   4.625656   4.960086    4.846437  \n",
              "798   4.680905   4.965973    4.869125  \n",
              "799   4.728061   4.970993    4.888464  \n",
              "\n",
              "[800 rows x 8 columns]"
            ],
            "text/html": [
              "\n",
              "  <div id=\"df-3b8f0880-5924-47d9-931d-17f2a7e26713\">\n",
              "    <div class=\"colab-df-container\">\n",
              "      <div>\n",
              "<style scoped>\n",
              "    .dataframe tbody tr th:only-of-type {\n",
              "        vertical-align: middle;\n",
              "    }\n",
              "\n",
              "    .dataframe tbody tr th {\n",
              "        vertical-align: top;\n",
              "    }\n",
              "\n",
              "    .dataframe thead th {\n",
              "        text-align: right;\n",
              "    }\n",
              "</style>\n",
              "<table border=\"1\" class=\"dataframe\">\n",
              "  <thead>\n",
              "    <tr style=\"text-align: right;\">\n",
              "      <th></th>\n",
              "      <th>time_step_diff</th>\n",
              "      <th>breath_id</th>\n",
              "      <th>u_in</th>\n",
              "      <th>ewm_u_in_mean</th>\n",
              "      <th>15_in_sum</th>\n",
              "      <th>15_in_min</th>\n",
              "      <th>15_in_max</th>\n",
              "      <th>15_in_mean</th>\n",
              "    </tr>\n",
              "  </thead>\n",
              "  <tbody>\n",
              "    <tr>\n",
              "      <th>0</th>\n",
              "      <td>0.000000</td>\n",
              "      <td>1</td>\n",
              "      <td>0.083334</td>\n",
              "      <td>0.083334</td>\n",
              "      <td>0.083334</td>\n",
              "      <td>0.083334</td>\n",
              "      <td>0.083334</td>\n",
              "      <td>0.083334</td>\n",
              "    </tr>\n",
              "    <tr>\n",
              "      <th>1</th>\n",
              "      <td>0.033652</td>\n",
              "      <td>1</td>\n",
              "      <td>18.383041</td>\n",
              "      <td>9.585358</td>\n",
              "      <td>18.466375</td>\n",
              "      <td>0.083334</td>\n",
              "      <td>18.383041</td>\n",
              "      <td>9.233188</td>\n",
              "    </tr>\n",
              "    <tr>\n",
              "      <th>2</th>\n",
              "      <td>0.033862</td>\n",
              "      <td>1</td>\n",
              "      <td>22.509278</td>\n",
              "      <td>14.229040</td>\n",
              "      <td>40.975653</td>\n",
              "      <td>0.083334</td>\n",
              "      <td>22.509278</td>\n",
              "      <td>13.658551</td>\n",
              "    </tr>\n",
              "    <tr>\n",
              "      <th>3</th>\n",
              "      <td>0.034028</td>\n",
              "      <td>1</td>\n",
              "      <td>22.808822</td>\n",
              "      <td>16.627759</td>\n",
              "      <td>63.784476</td>\n",
              "      <td>0.083334</td>\n",
              "      <td>22.808822</td>\n",
              "      <td>15.946119</td>\n",
              "    </tr>\n",
              "    <tr>\n",
              "      <th>4</th>\n",
              "      <td>0.034213</td>\n",
              "      <td>1</td>\n",
              "      <td>25.355850</td>\n",
              "      <td>18.652046</td>\n",
              "      <td>89.140326</td>\n",
              "      <td>0.083334</td>\n",
              "      <td>25.355850</td>\n",
              "      <td>17.828065</td>\n",
              "    </tr>\n",
              "    <tr>\n",
              "      <th>...</th>\n",
              "      <td>...</td>\n",
              "      <td>...</td>\n",
              "      <td>...</td>\n",
              "      <td>...</td>\n",
              "      <td>...</td>\n",
              "      <td>...</td>\n",
              "      <td>...</td>\n",
              "      <td>...</td>\n",
              "    </tr>\n",
              "    <tr>\n",
              "      <th>795</th>\n",
              "      <td>0.032008</td>\n",
              "      <td>12</td>\n",
              "      <td>4.945038</td>\n",
              "      <td>4.056941</td>\n",
              "      <td>71.828636</td>\n",
              "      <td>4.484605</td>\n",
              "      <td>4.945038</td>\n",
              "      <td>4.788576</td>\n",
              "    </tr>\n",
              "    <tr>\n",
              "      <th>796</th>\n",
              "      <td>0.031998</td>\n",
              "      <td>12</td>\n",
              "      <td>4.953164</td>\n",
              "      <td>4.123551</td>\n",
              "      <td>72.297195</td>\n",
              "      <td>4.560724</td>\n",
              "      <td>4.953164</td>\n",
              "      <td>4.819813</td>\n",
              "    </tr>\n",
              "    <tr>\n",
              "      <th>797</th>\n",
              "      <td>0.031985</td>\n",
              "      <td>12</td>\n",
              "      <td>4.960086</td>\n",
              "      <td>4.185712</td>\n",
              "      <td>72.696556</td>\n",
              "      <td>4.625656</td>\n",
              "      <td>4.960086</td>\n",
              "      <td>4.846437</td>\n",
              "    </tr>\n",
              "    <tr>\n",
              "      <th>798</th>\n",
              "      <td>0.031914</td>\n",
              "      <td>12</td>\n",
              "      <td>4.965973</td>\n",
              "      <td>4.243681</td>\n",
              "      <td>73.036872</td>\n",
              "      <td>4.680905</td>\n",
              "      <td>4.965973</td>\n",
              "      <td>4.869125</td>\n",
              "    </tr>\n",
              "    <tr>\n",
              "      <th>799</th>\n",
              "      <td>0.031924</td>\n",
              "      <td>12</td>\n",
              "      <td>4.970993</td>\n",
              "      <td>4.297707</td>\n",
              "      <td>73.326960</td>\n",
              "      <td>4.728061</td>\n",
              "      <td>4.970993</td>\n",
              "      <td>4.888464</td>\n",
              "    </tr>\n",
              "  </tbody>\n",
              "</table>\n",
              "<p>800 rows × 8 columns</p>\n",
              "</div>\n",
              "      <button class=\"colab-df-convert\" onclick=\"convertToInteractive('df-3b8f0880-5924-47d9-931d-17f2a7e26713')\"\n",
              "              title=\"Convert this dataframe to an interactive table.\"\n",
              "              style=\"display:none;\">\n",
              "        \n",
              "  <svg xmlns=\"http://www.w3.org/2000/svg\" height=\"24px\"viewBox=\"0 0 24 24\"\n",
              "       width=\"24px\">\n",
              "    <path d=\"M0 0h24v24H0V0z\" fill=\"none\"/>\n",
              "    <path d=\"M18.56 5.44l.94 2.06.94-2.06 2.06-.94-2.06-.94-.94-2.06-.94 2.06-2.06.94zm-11 1L8.5 8.5l.94-2.06 2.06-.94-2.06-.94L8.5 2.5l-.94 2.06-2.06.94zm10 10l.94 2.06.94-2.06 2.06-.94-2.06-.94-.94-2.06-.94 2.06-2.06.94z\"/><path d=\"M17.41 7.96l-1.37-1.37c-.4-.4-.92-.59-1.43-.59-.52 0-1.04.2-1.43.59L10.3 9.45l-7.72 7.72c-.78.78-.78 2.05 0 2.83L4 21.41c.39.39.9.59 1.41.59.51 0 1.02-.2 1.41-.59l7.78-7.78 2.81-2.81c.8-.78.8-2.07 0-2.86zM5.41 20L4 18.59l7.72-7.72 1.47 1.35L5.41 20z\"/>\n",
              "  </svg>\n",
              "      </button>\n",
              "      \n",
              "  <style>\n",
              "    .colab-df-container {\n",
              "      display:flex;\n",
              "      flex-wrap:wrap;\n",
              "      gap: 12px;\n",
              "    }\n",
              "\n",
              "    .colab-df-convert {\n",
              "      background-color: #E8F0FE;\n",
              "      border: none;\n",
              "      border-radius: 50%;\n",
              "      cursor: pointer;\n",
              "      display: none;\n",
              "      fill: #1967D2;\n",
              "      height: 32px;\n",
              "      padding: 0 0 0 0;\n",
              "      width: 32px;\n",
              "    }\n",
              "\n",
              "    .colab-df-convert:hover {\n",
              "      background-color: #E2EBFA;\n",
              "      box-shadow: 0px 1px 2px rgba(60, 64, 67, 0.3), 0px 1px 3px 1px rgba(60, 64, 67, 0.15);\n",
              "      fill: #174EA6;\n",
              "    }\n",
              "\n",
              "    [theme=dark] .colab-df-convert {\n",
              "      background-color: #3B4455;\n",
              "      fill: #D2E3FC;\n",
              "    }\n",
              "\n",
              "    [theme=dark] .colab-df-convert:hover {\n",
              "      background-color: #434B5C;\n",
              "      box-shadow: 0px 1px 3px 1px rgba(0, 0, 0, 0.15);\n",
              "      filter: drop-shadow(0px 1px 2px rgba(0, 0, 0, 0.3));\n",
              "      fill: #FFFFFF;\n",
              "    }\n",
              "  </style>\n",
              "\n",
              "      <script>\n",
              "        const buttonEl =\n",
              "          document.querySelector('#df-3b8f0880-5924-47d9-931d-17f2a7e26713 button.colab-df-convert');\n",
              "        buttonEl.style.display =\n",
              "          google.colab.kernel.accessAllowed ? 'block' : 'none';\n",
              "\n",
              "        async function convertToInteractive(key) {\n",
              "          const element = document.querySelector('#df-3b8f0880-5924-47d9-931d-17f2a7e26713');\n",
              "          const dataTable =\n",
              "            await google.colab.kernel.invokeFunction('convertToInteractive',\n",
              "                                                     [key], {});\n",
              "          if (!dataTable) return;\n",
              "\n",
              "          const docLinkHtml = 'Like what you see? Visit the ' +\n",
              "            '<a target=\"_blank\" href=https://colab.research.google.com/notebooks/data_table.ipynb>data table notebook</a>'\n",
              "            + ' to learn more about interactive tables.';\n",
              "          element.innerHTML = '';\n",
              "          dataTable['output_type'] = 'display_data';\n",
              "          await google.colab.output.renderOutput(dataTable, element);\n",
              "          const docLink = document.createElement('div');\n",
              "          docLink.innerHTML = docLinkHtml;\n",
              "          element.appendChild(docLink);\n",
              "        }\n",
              "      </script>\n",
              "    </div>\n",
              "  </div>\n",
              "  "
            ]
          },
          "metadata": {},
          "execution_count": 39
        }
      ],
      "id": "1B-X_xSsEsbi"
    },
    {
      "cell_type": "markdown",
      "source": [
        "#### 3.2.7. Different Feature:"
      ],
      "metadata": {
        "id": "nOAMjzxcPdu7"
      },
      "id": "nOAMjzxcPdu7"
    },
    {
      "cell_type": "markdown",
      "source": [
        "- Các feature này mô tả về sự chênh lệch giữa các u_in, u_out hiện tại với 1, 2 lần đo sau đó (lag_back1, lag_back2)."
      ],
      "metadata": {
        "id": "SEjoVtXhJZvW"
      },
      "id": "SEjoVtXhJZvW"
    },
    {
      "cell_type": "code",
      "source": [
        "df_example = small_df.iloc[:79].copy()\n",
        "df_example['u_in_lag_back1'] = df_example.groupby('breath_id')['u_in'].shift(-1)\n",
        "df_example['u_out_lag_back1'] = df_example.groupby('breath_id')['u_out'].shift(-1)\n",
        "df_example['u_in_lag_back2'] = df_example.groupby('breath_id')['u_in'].shift(-2)\n",
        "df_example['u_out_lag_back2'] = df_example.groupby('breath_id')['u_out'].shift(-2)"
      ],
      "metadata": {
        "id": "V16y7ywkpD1n"
      },
      "execution_count": null,
      "outputs": [],
      "id": "V16y7ywkpD1n"
    },
    {
      "cell_type": "code",
      "source": [
        "df_example['u_in_lagback_diff1'] = df_example['u_in'] - df_example['u_in_lag_back1']\n",
        "df_example['u_out_lagback_diff1'] = df_example['u_out'] - df_example['u_out_lag_back1']\n",
        "df_example['u_in_lagback_diff2'] = df_example['u_in'] - df_example['u_in_lag_back2']\n",
        "df_example['u_out_lagback_diff2'] = df_example['u_out'] - df_example['u_out_lag_back2']"
      ],
      "metadata": {
        "id": "U5980hcHpKaE"
      },
      "execution_count": null,
      "outputs": [],
      "id": "U5980hcHpKaE"
    },
    {
      "cell_type": "code",
      "source": [
        "df_example['u_in_lagback_diff1'].plot()\n",
        "df_example['u_in_lagback_diff2'].plot();"
      ],
      "metadata": {
        "colab": {
          "base_uri": "https://localhost:8080/",
          "height": 54
        },
        "id": "91_DSDVZLLIb",
        "outputId": "d159b12c-b42a-414a-ad05-31f4529c905c"
      },
      "execution_count": null,
      "outputs": [
        {
          "output_type": "display_data",
          "data": {
            "text/plain": [
              "<Figure size 432x288 with 1 Axes>"
            ],
            "image/png": "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\n"
          },
          "metadata": {
            "needs_background": "light"
          }
        }
      ],
      "id": "91_DSDVZLLIb"
    },
    {
      "cell_type": "code",
      "source": [
        "df_example['u_out_lagback_diff1'].plot()\n",
        "df_example['u_out_lagback_diff2'].plot();"
      ],
      "metadata": {
        "colab": {
          "base_uri": "https://localhost:8080/",
          "height": 54
        },
        "id": "k8xKNuRpMmwR",
        "outputId": "aa9266d0-30c3-413d-90e2-4adb59689eba"
      },
      "execution_count": null,
      "outputs": [
        {
          "output_type": "display_data",
          "data": {
            "text/plain": [
              "<Figure size 432x288 with 1 Axes>"
            ],
            "image/png": "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\n"
          },
          "metadata": {
            "needs_background": "light"
          }
        }
      ],
      "id": "k8xKNuRpMmwR"
    },
    {
      "cell_type": "markdown",
      "source": [
        "#### 3.2.8. R - C Feature:"
      ],
      "metadata": {
        "id": "fmtGRh0rPdvC"
      },
      "id": "fmtGRh0rPdvC"
    },
    {
      "cell_type": "markdown",
      "source": [
        "- R, C là các thuộc tính về phổi, có các giá trị như:\n",
        "  - R: [5, 20, 50]\n",
        "  - C: [10, 20, 50]\n",
        "- Tác giả kết hợp R, C và sử dụng như một biến phân loại để cho vào mô hình train."
      ],
      "metadata": {
        "id": "V9ysR_ZgPdvC"
      },
      "id": "V9ysR_ZgPdvC"
    },
    {
      "cell_type": "code",
      "source": [
        "df_example['R'] = df_example['R'].astype(str)\n",
        "df_example['C'] = df_example['C'].astype(str)\n",
        "df_example['R__C'] = df_example[\"R\"] + '__' + df_example[\"C\"]\n",
        "df_example = pd.get_dummies(df_example)"
      ],
      "metadata": {
        "id": "gk_tblZxNR-6"
      },
      "execution_count": null,
      "outputs": [],
      "id": "gk_tblZxNR-6"
    },
    {
      "cell_type": "code",
      "source": [
        "del small_df, df_example\n",
        "gc.collect()"
      ],
      "metadata": {
        "colab": {
          "base_uri": "https://localhost:8080/"
        },
        "id": "bf3dQgxZtX7f",
        "outputId": "8b38dd36-f397-4f36-d657-0c676baf34b5"
      },
      "id": "bf3dQgxZtX7f",
      "execution_count": null,
      "outputs": [
        {
          "output_type": "execute_result",
          "data": {
            "text/plain": [
              "48707"
            ]
          },
          "metadata": {},
          "execution_count": 45
        }
      ]
    },
    {
      "cell_type": "markdown",
      "source": [
        "#### 3.2.9. Tổng hợp tất cả các feature:"
      ],
      "metadata": {
        "id": "xWgAAZ7YIglv"
      },
      "id": "xWgAAZ7YIglv"
    },
    {
      "cell_type": "markdown",
      "source": [
        "So với [notebook Baseline](https://www.kaggle.com/mst8823/google-brain-lightgbm-baseline) và hầu hết các notebook khác, các feature đặc trưng chỉ có tác giả thực hiện như: \n",
        "- Trong step 2: **`u_in_lag4, u_in_lag_back4, u_out_lag4, u_out_lag_back4`**\n",
        "- Trong step 3: **`u_in_diff3, u_out_diff3, u_in_diff4, u_out_diff4`**\n",
        "- Trong step 5: **`breath_id__u_in_lag, breath_id__u_in_lag2, u_in_lagback_diff1, u_out_lagback_diff1, u_in_lagback_diff2, u_out_lagback_diff2`**\n",
        "- Trong step 6: **`time_step_diff, ewm_u_in_mean, 15_in_sum, 15_in_min, 15_in_max, 15_in_mean`**"
      ],
      "metadata": {
        "id": "i14FXyTUUZn1"
      },
      "id": "i14FXyTUUZn1"
    },
    {
      "cell_type": "code",
      "execution_count": 6,
      "id": "f32dbc98",
      "metadata": {
        "id": "f32dbc98"
      },
      "outputs": [],
      "source": [
        "def add_features(df):\n",
        "    \n",
        "    # Step 1:\n",
        "    df['cross']= df['u_in'] * df['u_out']\n",
        "    df['cross2']= df['time_step'] * df['u_out']\n",
        "    df['area'] = df['time_step'] * df['u_in']\n",
        "    df['area'] = df.groupby('breath_id')['area'].cumsum()\n",
        "    df['time_step_cumsum'] = df.groupby(['breath_id'])['time_step'].cumsum()\n",
        "    df['u_in_cumsum'] = (df['u_in']).groupby(df['breath_id']).cumsum()\n",
        "    \n",
        "    # Step 2:\n",
        "    df['u_in_lag1'] = df.groupby('breath_id')['u_in'].shift(1)\n",
        "    df['u_out_lag1'] = df.groupby('breath_id')['u_out'].shift(1)\n",
        "    df['u_in_lag_back1'] = df.groupby('breath_id')['u_in'].shift(-1)\n",
        "    df['u_out_lag_back1'] = df.groupby('breath_id')['u_out'].shift(-1)\n",
        "    df['u_in_lag2'] = df.groupby('breath_id')['u_in'].shift(2)\n",
        "    df['u_out_lag2'] = df.groupby('breath_id')['u_out'].shift(2)\n",
        "    df['u_in_lag_back2'] = df.groupby('breath_id')['u_in'].shift(-2)\n",
        "    df['u_out_lag_back2'] = df.groupby('breath_id')['u_out'].shift(-2)\n",
        "    df['u_in_lag3'] = df.groupby('breath_id')['u_in'].shift(3)\n",
        "    df['u_out_lag3'] = df.groupby('breath_id')['u_out'].shift(3)\n",
        "    df['u_in_lag_back3'] = df.groupby('breath_id')['u_in'].shift(-3)\n",
        "    df['u_out_lag_back3'] = df.groupby('breath_id')['u_out'].shift(-3)\n",
        "    df['u_in_lag4'] = df.groupby('breath_id')['u_in'].shift(4)\n",
        "    df['u_out_lag4'] = df.groupby('breath_id')['u_out'].shift(4)\n",
        "    df['u_in_lag_back4'] = df.groupby('breath_id')['u_in'].shift(-4)\n",
        "    df['u_out_lag_back4'] = df.groupby('breath_id')['u_out'].shift(-4)\n",
        "    df = df.fillna(0)\n",
        "    \n",
        "    # step 3:\n",
        "    df['breath_id__u_in__max'] = df.groupby(['breath_id'])['u_in'].transform('max')\n",
        "    df['breath_id__u_in__mean'] = df.groupby(['breath_id'])['u_in'].transform('mean')\n",
        "    df['breath_id__u_in__diffmax'] = df.groupby(\n",
        "        ['breath_id'])['u_in'].transform('max') - df['u_in']\n",
        "    df['breath_id__u_in__diffmean'] = df.groupby(\n",
        "        ['breath_id'])['u_in'].transform('mean') - df['u_in']\n",
        "    \n",
        "    # Step 4:\n",
        "    # sự thay đổi u_in so với 1 lần đo trước đó\n",
        "    df['u_in_diff1'] = df['u_in'] - df['u_in_lag1']\n",
        "    # sự thay đổi u_out so với 1 lần đo trước đó\n",
        "    df['u_out_diff1'] = df['u_out'] - df['u_out_lag1']\n",
        "    # sự thay đổi u_in so với 2 lần đo trước đó\n",
        "    df['u_in_diff2'] = df['u_in'] - df['u_in_lag2']\n",
        "    # sự thay đổi u_out  so với 2 lần đo trước đó\n",
        "    df['u_out_diff2'] = df['u_out'] - df['u_out_lag2']\n",
        "    # sự thay đổi u_in so với 3 lần đo trước đó\n",
        "    df['u_in_diff3'] = df['u_in'] - df['u_in_lag3']\n",
        "    # sự thay đổi u_out so với 3 lần đo trước đó\n",
        "    df['u_out_diff3'] = df['u_out'] - df['u_out_lag3']\n",
        "    # sự thay đổi u_in so với 4 lần đo trước đó\n",
        "    df['u_in_diff4'] = df['u_in'] - df['u_in_lag4']\n",
        "    # sự thay đổi u_out so với 4 lần đo trước đó\n",
        "    df['u_out_diff4'] = df['u_out'] - df['u_out_lag4']\n",
        "    \n",
        "    # Step 5:\n",
        "    # giá trị trung bình của u_in từ lần đo đầu tiên cho đến hiện tại\n",
        "    df['one'] = 1\n",
        "    df['count'] = (df['one']).groupby(df['breath_id']).cumsum()\n",
        "    df['u_in_cummean'] = df['u_in_cumsum'] /df['count']\n",
        "    df['breath_id_lag']=df['breath_id'].shift(1).fillna(0)\n",
        "    df['breath_id_lag2']=df['breath_id'].shift(2).fillna(0)\n",
        "    \n",
        "    # breath_id hiện tại có là breath_id của lần đo trước đó?\n",
        "    df['breath_id_lagsame']=np.select([df['breath_id_lag']==df['breath_id']],[1],0)\n",
        "    # breath_id hiện tại có là breath_id của 2 lần đo trước đó?\n",
        "    df['breath_id_lag2same']=np.select([df['breath_id_lag2']==df['breath_id']],[1],0)\n",
        "\n",
        "    # nếu breath_id trùng với lần đo trước, tạo cột có giá trị bằng u_in trước đó\n",
        "    df['breath_id__u_in_lag'] = df['u_in'].shift(1).fillna(0)\n",
        "    df['breath_id__u_in_lag'] = df['breath_id__u_in_lag'] * df['breath_id_lagsame']\n",
        "    \n",
        "    # nếu breath_id trùng với 2 lần đo trước, tạo cột có giá trị bằng u_in 2 lần đo trước đó\n",
        "    df['breath_id__u_in_lag2'] = df['u_in'].shift(2).fillna(0)\n",
        "    df['breath_id__u_in_lag2'] = df['breath_id__u_in_lag2'] * df['breath_id_lag2same']\n",
        "    \n",
        "    # Step 6:\n",
        "    # sự thay đổi time_step so với lần đo trước\n",
        "    df['time_step_diff'] = df.groupby('breath_id')['time_step'].diff().fillna(0)\n",
        "    # tính trung bình cộng có trong số của u_in\n",
        "    df['ewm_u_in_mean'] = (df\\\n",
        "                           .groupby('breath_id')['u_in']\\\n",
        "                           .ewm(halflife=9)\\\n",
        "                           .mean()\\\n",
        "                           .reset_index(level=0,drop=True))\n",
        "    # thêm các cột: sum, min, max, mean là tổng , GTNN, GTLN, TB từ lần đo đầu tiên đến lần đó đang xét\n",
        "    df[[\"15_in_sum\",\"15_in_min\",\"15_in_max\",\"15_in_mean\"]] = (df\\\n",
        "                                                              .groupby('breath_id')['u_in']\\\n",
        "                                                              .rolling(window=15,min_periods=1)\\\n",
        "                                                              .agg({\"15_in_sum\":\"sum\",\n",
        "                                                                    \"15_in_min\":\"min\",\n",
        "                                                                    \"15_in_max\":\"max\",\n",
        "                                                                    \"15_in_mean\":\"mean\"})\\\n",
        "                                                               .reset_index(level=0,drop=True))\n",
        "    \n",
        "    # Step 07:\n",
        "    #sự thay đổi của u_in so với 1 lần đo _lag trước đó\n",
        "    df['u_in_lagback_diff1'] = df['u_in'] - df['u_in_lag_back1']\n",
        "    #sự thay đổi của u_out so với 1 lần đo _lag trước đó\n",
        "    df['u_out_lagback_diff1'] = df['u_out'] - df['u_out_lag_back1']\n",
        "    #sự thay đổi của u_in so với 2 lần đo _lag trước đó\n",
        "    df['u_in_lagback_diff2'] = df['u_in'] - df['u_in_lag_back2']\n",
        "    #sự thay đổi của u_out so với 2 lần đo _lag trước đó\n",
        "    df['u_out_lagback_diff2'] = df['u_out'] - df['u_out_lag_back2']\n",
        "    \n",
        "    # Step 08:\n",
        "    #chuyển đổi cột 'R', 'C' sang kiểu string\n",
        "    df['R'] = df['R'].astype(str)\n",
        "    df['C'] = df['C'].astype(str)\n",
        "    #nối 2 cột 'R', 'C' lại với nhau\n",
        "    df['R__C'] = df[\"R\"].astype(str) + '__' + df[\"C\"].astype(str) \n",
        "    #chuyển đổi các cột có biến chuỗi thành biến chỉ số/giả (tương tự OHE)\n",
        "    df = pd.get_dummies(df)\n",
        "    \n",
        "    return df"
      ]
    },
    {
      "cell_type": "markdown",
      "source": [
        "Featuring trên tập training:"
      ],
      "metadata": {
        "id": "4J_XQ5QWJD3d"
      },
      "id": "4J_XQ5QWJD3d"
    },
    {
      "cell_type": "code",
      "source": [
        "train = add_features(train_df)\n",
        "\n",
        "del train_df\n",
        "gc.collect()"
      ],
      "metadata": {
        "colab": {
          "base_uri": "https://localhost:8080/"
        },
        "id": "bRv5okZyI-Bf",
        "outputId": "a9fd957c-1ca4-4f72-93fd-378340c4de88"
      },
      "id": "bRv5okZyI-Bf",
      "execution_count": 7,
      "outputs": [
        {
          "output_type": "execute_result",
          "data": {
            "text/plain": [
              "0"
            ]
          },
          "metadata": {},
          "execution_count": 7
        }
      ]
    },
    {
      "cell_type": "markdown",
      "source": [
        "Featuring trên tập test:"
      ],
      "metadata": {
        "id": "RtPdDp00JKvP"
      },
      "id": "RtPdDp00JKvP"
    },
    {
      "cell_type": "code",
      "source": [
        "test = add_features(test_df)\n",
        "\n",
        "del test_df\n",
        "gc.collect()"
      ],
      "metadata": {
        "id": "MpqGJMM-I_a6",
        "outputId": "17e8799e-acc3-4e05-bc97-ef48c3d23da5",
        "colab": {
          "base_uri": "https://localhost:8080/"
        }
      },
      "id": "MpqGJMM-I_a6",
      "execution_count": 8,
      "outputs": [
        {
          "output_type": "execute_result",
          "data": {
            "text/plain": [
              "0"
            ]
          },
          "metadata": {},
          "execution_count": 8
        }
      ]
    },
    {
      "cell_type": "markdown",
      "id": "f8be9c26",
      "metadata": {
        "id": "f8be9c26"
      },
      "source": [
        "Drop các cột **`'pressure','id', 'breath_id', 'one','count', 'breath_id_lag', 'breath_id_lag2', 'breath_id_lagsame', 'breath_id_lag2same'`**"
      ]
    },
    {
      "cell_type": "code",
      "execution_count": 9,
      "id": "b601235f",
      "metadata": {
        "id": "b601235f",
        "outputId": "19c45f47-c510-430c-b081-1d694cfd9e14",
        "colab": {
          "base_uri": "https://localhost:8080/"
        }
      },
      "outputs": [
        {
          "output_type": "stream",
          "name": "stdout",
          "text": [
            "train: (6036000, 64) \n",
            "test: (4024000, 64)\n"
          ]
        }
      ],
      "source": [
        "targets = train[['pressure']].to_numpy().reshape(-1, 80)\n",
        "\n",
        "train.drop(['pressure','id', 'breath_id','one','count',\n",
        "            'breath_id_lag','breath_id_lag2','breath_id_lagsame',\n",
        "            'breath_id_lag2same'], axis=1, inplace=True)\n",
        "\n",
        "test.drop(['id', 'breath_id','one','count','breath_id_lag',\n",
        "                  'breath_id_lag2','breath_id_lagsame',\n",
        "                  'breath_id_lag2same'], axis=1, inplace=True)\n",
        "\n",
        "print(f\"train: {train.shape} \\ntest: {test.shape}\")"
      ]
    },
    {
      "cell_type": "markdown",
      "source": [
        "Ở quá trình chuẩn hóa dữ liệu, RobustScaler sử dụng số liệu thống kê loại bỏ các tác nhân từ các giá trị ngoại lai. Phương pháp scale này loại bỏ trung vị (media) và chia tỉ lệ dữ liệu theo tứ phân vị (Interquartile Range). Điều này đồng nghĩa với việc giảm ảnh hưởng của các giá trị ngoại lai (tác động đến mean và variance)."
      ],
      "metadata": {
        "id": "nbAfLXQmhtAS"
      },
      "id": "nbAfLXQmhtAS"
    },
    {
      "cell_type": "code",
      "source": [
        "scaler = RobustScaler()\n",
        "train = scaler.fit_transform(train)\n",
        "test = scaler.transform(test)\n",
        "\n",
        "train = train.reshape(-1, 80, train.shape[-1])\n",
        "test = test.reshape(-1, 80, train.shape[-1])\n",
        "\n",
        "print(f\"train: {train.shape} \\ntest: {test.shape} \\ntargets: {targets.shape}\")"
      ],
      "metadata": {
        "id": "SfTgWjDSYpsy",
        "outputId": "90eda6fe-d13c-4902-e2bd-d1be86bd0f44",
        "colab": {
          "base_uri": "https://localhost:8080/"
        }
      },
      "id": "SfTgWjDSYpsy",
      "execution_count": 10,
      "outputs": [
        {
          "output_type": "stream",
          "name": "stdout",
          "text": [
            "train: (75450, 80, 64) \n",
            "test: (50300, 80, 64) \n",
            "targets: (75450, 80)\n"
          ]
        }
      ]
    },
    {
      "cell_type": "code",
      "execution_count": 11,
      "id": "d9986322",
      "metadata": {
        "id": "d9986322",
        "outputId": "e8a4a3fd-7d84-440d-f488-b76eb1a9a7fe",
        "colab": {
          "base_uri": "https://localhost:8080/"
        }
      },
      "outputs": [
        {
          "output_type": "stream",
          "name": "stdout",
          "text": [
            "Min pressure: -1.8957443237304688\n",
            "Max pressure: 64.82099151611328\n",
            "Pressure step: 0.07030248641967773\n",
            "Unique values:  950\n"
          ]
        },
        {
          "output_type": "execute_result",
          "data": {
            "text/plain": [
              "176"
            ]
          },
          "metadata": {},
          "execution_count": 11
        }
      ],
      "source": [
        "pressure = targets.squeeze().reshape(-1,1).astype('float32')\n",
        "\n",
        "P_MIN = np.min(pressure)\n",
        "P_MAX = np.max(pressure)\n",
        "P_STEP = (pressure[1] - pressure[0])[0]\n",
        "print('Min pressure: {}'.format(P_MIN))\n",
        "print('Max pressure: {}'.format(P_MAX))\n",
        "print('Pressure step: {}'.format(P_STEP))\n",
        "print('Unique values:  {}'.format(np.unique(pressure).shape[0]))\n",
        "\n",
        "del pressure\n",
        "gc.collect()"
      ]
    },
    {
      "cell_type": "markdown",
      "source": [
        "### 3.3. Hardware config:"
      ],
      "metadata": {
        "id": "wo4p8IVAZcAc"
      },
      "id": "wo4p8IVAZcAc"
    },
    {
      "cell_type": "code",
      "source": [
        "try:\n",
        "    tpu = tf.distribute.cluster_resolver.TPUClusterResolver()\n",
        "    tf.config.experimental_connect_to_cluster(tpu)\n",
        "    tf.tpu.experimental.initialize_tpu_system(tpu)\n",
        "    tpu_strategy = tf.distribute.experimental.TPUStrategy(tpu)\n",
        "    BATCH_SIZE = tpu_strategy.num_replicas_in_sync * 64\n",
        "    print(\"Running on TPU:\", tpu.master())\n",
        "    print(f\"Batch Size: {BATCH_SIZE}\")\n",
        "    \n",
        "except ValueError:\n",
        "    strategy = tf.distribute.get_strategy()\n",
        "    BATCH_SIZE = 512\n",
        "    print(f\"Running on {strategy.num_replicas_in_sync} replicas\")\n",
        "    print(f\"Batch Size: {BATCH_SIZE}\")"
      ],
      "metadata": {
        "id": "VFFK4yS-ZbA_",
        "outputId": "fd77eca6-f095-4837-ca6e-1dd647eabfc6",
        "colab": {
          "base_uri": "https://localhost:8080/"
        }
      },
      "id": "VFFK4yS-ZbA_",
      "execution_count": 12,
      "outputs": [
        {
          "output_type": "stream",
          "name": "stdout",
          "text": [
            "INFO:tensorflow:Deallocate tpu buffers before initializing tpu system.\n"
          ]
        },
        {
          "output_type": "stream",
          "name": "stderr",
          "text": [
            "INFO:tensorflow:Deallocate tpu buffers before initializing tpu system.\n"
          ]
        },
        {
          "output_type": "stream",
          "name": "stdout",
          "text": [
            "INFO:tensorflow:Initializing the TPU system: grpc://10.117.167.146:8470\n"
          ]
        },
        {
          "output_type": "stream",
          "name": "stderr",
          "text": [
            "INFO:tensorflow:Initializing the TPU system: grpc://10.117.167.146:8470\n"
          ]
        },
        {
          "output_type": "stream",
          "name": "stdout",
          "text": [
            "INFO:tensorflow:Finished initializing TPU system.\n"
          ]
        },
        {
          "output_type": "stream",
          "name": "stderr",
          "text": [
            "INFO:tensorflow:Finished initializing TPU system.\n",
            "WARNING:absl:`tf.distribute.experimental.TPUStrategy` is deprecated, please use  the non experimental symbol `tf.distribute.TPUStrategy` instead.\n"
          ]
        },
        {
          "output_type": "stream",
          "name": "stdout",
          "text": [
            "INFO:tensorflow:Found TPU system:\n"
          ]
        },
        {
          "output_type": "stream",
          "name": "stderr",
          "text": [
            "INFO:tensorflow:Found TPU system:\n"
          ]
        },
        {
          "output_type": "stream",
          "name": "stdout",
          "text": [
            "INFO:tensorflow:*** Num TPU Cores: 8\n"
          ]
        },
        {
          "output_type": "stream",
          "name": "stderr",
          "text": [
            "INFO:tensorflow:*** Num TPU Cores: 8\n"
          ]
        },
        {
          "output_type": "stream",
          "name": "stdout",
          "text": [
            "INFO:tensorflow:*** Num TPU Workers: 1\n"
          ]
        },
        {
          "output_type": "stream",
          "name": "stderr",
          "text": [
            "INFO:tensorflow:*** Num TPU Workers: 1\n"
          ]
        },
        {
          "output_type": "stream",
          "name": "stdout",
          "text": [
            "INFO:tensorflow:*** Num TPU Cores Per Worker: 8\n"
          ]
        },
        {
          "output_type": "stream",
          "name": "stderr",
          "text": [
            "INFO:tensorflow:*** Num TPU Cores Per Worker: 8\n"
          ]
        },
        {
          "output_type": "stream",
          "name": "stdout",
          "text": [
            "INFO:tensorflow:*** Available Device: _DeviceAttributes(/job:localhost/replica:0/task:0/device:CPU:0, CPU, 0, 0)\n"
          ]
        },
        {
          "output_type": "stream",
          "name": "stderr",
          "text": [
            "INFO:tensorflow:*** Available Device: _DeviceAttributes(/job:localhost/replica:0/task:0/device:CPU:0, CPU, 0, 0)\n"
          ]
        },
        {
          "output_type": "stream",
          "name": "stdout",
          "text": [
            "INFO:tensorflow:*** Available Device: _DeviceAttributes(/job:worker/replica:0/task:0/device:CPU:0, CPU, 0, 0)\n"
          ]
        },
        {
          "output_type": "stream",
          "name": "stderr",
          "text": [
            "INFO:tensorflow:*** Available Device: _DeviceAttributes(/job:worker/replica:0/task:0/device:CPU:0, CPU, 0, 0)\n"
          ]
        },
        {
          "output_type": "stream",
          "name": "stdout",
          "text": [
            "INFO:tensorflow:*** Available Device: _DeviceAttributes(/job:worker/replica:0/task:0/device:TPU:0, TPU, 0, 0)\n"
          ]
        },
        {
          "output_type": "stream",
          "name": "stderr",
          "text": [
            "INFO:tensorflow:*** Available Device: _DeviceAttributes(/job:worker/replica:0/task:0/device:TPU:0, TPU, 0, 0)\n"
          ]
        },
        {
          "output_type": "stream",
          "name": "stdout",
          "text": [
            "INFO:tensorflow:*** Available Device: _DeviceAttributes(/job:worker/replica:0/task:0/device:TPU:1, TPU, 0, 0)\n"
          ]
        },
        {
          "output_type": "stream",
          "name": "stderr",
          "text": [
            "INFO:tensorflow:*** Available Device: _DeviceAttributes(/job:worker/replica:0/task:0/device:TPU:1, TPU, 0, 0)\n"
          ]
        },
        {
          "output_type": "stream",
          "name": "stdout",
          "text": [
            "INFO:tensorflow:*** Available Device: _DeviceAttributes(/job:worker/replica:0/task:0/device:TPU:2, TPU, 0, 0)\n"
          ]
        },
        {
          "output_type": "stream",
          "name": "stderr",
          "text": [
            "INFO:tensorflow:*** Available Device: _DeviceAttributes(/job:worker/replica:0/task:0/device:TPU:2, TPU, 0, 0)\n"
          ]
        },
        {
          "output_type": "stream",
          "name": "stdout",
          "text": [
            "INFO:tensorflow:*** Available Device: _DeviceAttributes(/job:worker/replica:0/task:0/device:TPU:3, TPU, 0, 0)\n"
          ]
        },
        {
          "output_type": "stream",
          "name": "stderr",
          "text": [
            "INFO:tensorflow:*** Available Device: _DeviceAttributes(/job:worker/replica:0/task:0/device:TPU:3, TPU, 0, 0)\n"
          ]
        },
        {
          "output_type": "stream",
          "name": "stdout",
          "text": [
            "INFO:tensorflow:*** Available Device: _DeviceAttributes(/job:worker/replica:0/task:0/device:TPU:4, TPU, 0, 0)\n"
          ]
        },
        {
          "output_type": "stream",
          "name": "stderr",
          "text": [
            "INFO:tensorflow:*** Available Device: _DeviceAttributes(/job:worker/replica:0/task:0/device:TPU:4, TPU, 0, 0)\n"
          ]
        },
        {
          "output_type": "stream",
          "name": "stdout",
          "text": [
            "INFO:tensorflow:*** Available Device: _DeviceAttributes(/job:worker/replica:0/task:0/device:TPU:5, TPU, 0, 0)\n"
          ]
        },
        {
          "output_type": "stream",
          "name": "stderr",
          "text": [
            "INFO:tensorflow:*** Available Device: _DeviceAttributes(/job:worker/replica:0/task:0/device:TPU:5, TPU, 0, 0)\n"
          ]
        },
        {
          "output_type": "stream",
          "name": "stdout",
          "text": [
            "INFO:tensorflow:*** Available Device: _DeviceAttributes(/job:worker/replica:0/task:0/device:TPU:6, TPU, 0, 0)\n"
          ]
        },
        {
          "output_type": "stream",
          "name": "stderr",
          "text": [
            "INFO:tensorflow:*** Available Device: _DeviceAttributes(/job:worker/replica:0/task:0/device:TPU:6, TPU, 0, 0)\n"
          ]
        },
        {
          "output_type": "stream",
          "name": "stdout",
          "text": [
            "INFO:tensorflow:*** Available Device: _DeviceAttributes(/job:worker/replica:0/task:0/device:TPU:7, TPU, 0, 0)\n"
          ]
        },
        {
          "output_type": "stream",
          "name": "stderr",
          "text": [
            "INFO:tensorflow:*** Available Device: _DeviceAttributes(/job:worker/replica:0/task:0/device:TPU:7, TPU, 0, 0)\n"
          ]
        },
        {
          "output_type": "stream",
          "name": "stdout",
          "text": [
            "INFO:tensorflow:*** Available Device: _DeviceAttributes(/job:worker/replica:0/task:0/device:TPU_SYSTEM:0, TPU_SYSTEM, 0, 0)\n"
          ]
        },
        {
          "output_type": "stream",
          "name": "stderr",
          "text": [
            "INFO:tensorflow:*** Available Device: _DeviceAttributes(/job:worker/replica:0/task:0/device:TPU_SYSTEM:0, TPU_SYSTEM, 0, 0)\n"
          ]
        },
        {
          "output_type": "stream",
          "name": "stdout",
          "text": [
            "INFO:tensorflow:*** Available Device: _DeviceAttributes(/job:worker/replica:0/task:0/device:XLA_CPU:0, XLA_CPU, 0, 0)\n"
          ]
        },
        {
          "output_type": "stream",
          "name": "stderr",
          "text": [
            "INFO:tensorflow:*** Available Device: _DeviceAttributes(/job:worker/replica:0/task:0/device:XLA_CPU:0, XLA_CPU, 0, 0)\n"
          ]
        },
        {
          "output_type": "stream",
          "name": "stdout",
          "text": [
            "Running on TPU: grpc://10.117.167.146:8470\n",
            "Batch Size: 512\n"
          ]
        }
      ]
    },
    {
      "cell_type": "markdown",
      "source": [
        "### 3.4. Keras DNN Model:"
      ],
      "metadata": {
        "id": "MDJX1AaiaDL6"
      },
      "id": "MDJX1AaiaDL6"
    },
    {
      "cell_type": "code",
      "source": [
        "def dnn_model():\n",
        "    \n",
        "    x_input = Input(shape=(train.shape[-2:]))\n",
        "    \n",
        "    x1 = Bidirectional(LSTM(units=768, return_sequences=True))(x_input)\n",
        "    x2 = Bidirectional(LSTM(units=512, return_sequences=True))(x1)\n",
        "    x3 = Bidirectional(LSTM(units=384, return_sequences=True))(x2)\n",
        "    x4 = Bidirectional(LSTM(units=256, return_sequences=True))(x3)\n",
        "    x5 = Bidirectional(LSTM(units=128, return_sequences=True))(x4)\n",
        "    \n",
        "    z2 = Bidirectional(GRU(units=384, return_sequences=True))(x2)\n",
        "    \n",
        "    z31 = Multiply()([x3, z2])\n",
        "    z31 = BatchNormalization()(z31)\n",
        "    z3 = Bidirectional(GRU(units=256, return_sequences=True))(z31)\n",
        "    \n",
        "    z41 = Multiply()([x4, z3])\n",
        "    z41 = BatchNormalization()(z41)\n",
        "    z4 = Bidirectional(GRU(units=128, return_sequences=True))(z41)\n",
        "    \n",
        "    z51 = Multiply()([x5, z4])\n",
        "    z51 = BatchNormalization()(z51)\n",
        "    z5 = Bidirectional(GRU(units=64, return_sequences=True))(z51)\n",
        "    \n",
        "    x = Concatenate(axis=2)([x5, z2, z3, z4, z5])\n",
        "    \n",
        "    x = Dense(units=128, activation='selu')(x)\n",
        "    \n",
        "    x_output = Dense(units=1)(x)\n",
        "\n",
        "    model = Model(inputs=x_input, outputs=x_output, \n",
        "                  name='DNN_Model')\n",
        "    return model"
      ],
      "metadata": {
        "id": "rqmTeIl3aGUZ"
      },
      "id": "rqmTeIl3aGUZ",
      "execution_count": 13,
      "outputs": []
    },
    {
      "cell_type": "code",
      "source": [
        "model = dnn_model()\n",
        "model.summary()"
      ],
      "metadata": {
        "id": "4Zx5ES_raJ1i",
        "outputId": "6534ec7d-bfbb-4e1e-80aa-061b91593545",
        "colab": {
          "base_uri": "https://localhost:8080/",
          "height": 309
        }
      },
      "id": "4Zx5ES_raJ1i",
      "execution_count": 7,
      "outputs": [
        {
          "output_type": "error",
          "ename": "NameError",
          "evalue": "ignored",
          "traceback": [
            "\u001b[0;31m---------------------------------------------------------------------------\u001b[0m",
            "\u001b[0;31mNameError\u001b[0m                                 Traceback (most recent call last)",
            "\u001b[0;32m<ipython-input-7-29534264dcf4>\u001b[0m in \u001b[0;36m<module>\u001b[0;34m()\u001b[0m\n\u001b[0;32m----> 1\u001b[0;31m \u001b[0mmodel\u001b[0m \u001b[0;34m=\u001b[0m \u001b[0mdnn_model\u001b[0m\u001b[0;34m(\u001b[0m\u001b[0;34m)\u001b[0m\u001b[0;34m\u001b[0m\u001b[0;34m\u001b[0m\u001b[0m\n\u001b[0m\u001b[1;32m      2\u001b[0m \u001b[0mmodel\u001b[0m\u001b[0;34m.\u001b[0m\u001b[0msummary\u001b[0m\u001b[0;34m(\u001b[0m\u001b[0;34m)\u001b[0m\u001b[0;34m\u001b[0m\u001b[0;34m\u001b[0m\u001b[0m\n",
            "\u001b[0;32m<ipython-input-6-868b47df350c>\u001b[0m in \u001b[0;36mdnn_model\u001b[0;34m()\u001b[0m\n\u001b[1;32m      1\u001b[0m \u001b[0;32mdef\u001b[0m \u001b[0mdnn_model\u001b[0m\u001b[0;34m(\u001b[0m\u001b[0;34m)\u001b[0m\u001b[0;34m:\u001b[0m\u001b[0;34m\u001b[0m\u001b[0;34m\u001b[0m\u001b[0m\n\u001b[1;32m      2\u001b[0m \u001b[0;34m\u001b[0m\u001b[0m\n\u001b[0;32m----> 3\u001b[0;31m     \u001b[0mx_input\u001b[0m \u001b[0;34m=\u001b[0m \u001b[0mInput\u001b[0m\u001b[0;34m(\u001b[0m\u001b[0mshape\u001b[0m\u001b[0;34m=\u001b[0m\u001b[0;34m(\u001b[0m\u001b[0mtrain\u001b[0m\u001b[0;34m.\u001b[0m\u001b[0mshape\u001b[0m\u001b[0;34m[\u001b[0m\u001b[0;34m-\u001b[0m\u001b[0;36m2\u001b[0m\u001b[0;34m:\u001b[0m\u001b[0;34m]\u001b[0m\u001b[0;34m)\u001b[0m\u001b[0;34m)\u001b[0m\u001b[0;34m\u001b[0m\u001b[0;34m\u001b[0m\u001b[0m\n\u001b[0m\u001b[1;32m      4\u001b[0m \u001b[0;34m\u001b[0m\u001b[0m\n\u001b[1;32m      5\u001b[0m     \u001b[0mx1\u001b[0m \u001b[0;34m=\u001b[0m \u001b[0mBidirectional\u001b[0m\u001b[0;34m(\u001b[0m\u001b[0mLSTM\u001b[0m\u001b[0;34m(\u001b[0m\u001b[0munits\u001b[0m\u001b[0;34m=\u001b[0m\u001b[0;36m768\u001b[0m\u001b[0;34m,\u001b[0m \u001b[0mreturn_sequences\u001b[0m\u001b[0;34m=\u001b[0m\u001b[0;32mTrue\u001b[0m\u001b[0;34m)\u001b[0m\u001b[0;34m)\u001b[0m\u001b[0;34m(\u001b[0m\u001b[0mx_input\u001b[0m\u001b[0;34m)\u001b[0m\u001b[0;34m\u001b[0m\u001b[0;34m\u001b[0m\u001b[0m\n",
            "\u001b[0;31mNameError\u001b[0m: name 'train' is not defined"
          ]
        }
      ]
    },
    {
      "cell_type": "code",
      "source": [
        "plot_model(\n",
        "    model, \n",
        "    to_file='Google_Brain_Keras_Model.png', \n",
        "    show_shapes=True,\n",
        "    show_layer_names=True\n",
        ")"
      ],
      "metadata": {
        "id": "RFzX0F9EaLyi"
      },
      "id": "RFzX0F9EaLyi",
      "execution_count": null,
      "outputs": []
    },
    {
      "cell_type": "code",
      "source": [
        "with tpu_strategy.scope():\n",
        "    VERBOSE = 0\n",
        "    test_preds = []\n",
        "    kf = KFold(n_splits=7, shuffle=True, random_state=2021)\n",
        "    \n",
        "    for fold, (train_idx, test_idx) in enumerate(kf.split(train, targets)):\n",
        "        X_train, X_valid = train[train_idx], train[test_idx]\n",
        "        y_train, y_valid = targets[train_idx], targets[test_idx]\n",
        "        \n",
        "        model = dnn_model()\n",
        "        model.compile(optimizer=\"adam\", loss=\"mae\")\n",
        "\n",
        "        lr = ReduceLROnPlateau(monitor=\"val_loss\", factor=0.85, \n",
        "                               patience=7, verbose=VERBOSE)\n",
        "        \n",
        "        save_locally = tf.saved_model.SaveOptions(experimental_io_device='/job:localhost')\n",
        "\n",
        "        chk_point = ModelCheckpoint(f'./Bidirect_LSTM_model_2021_{fold+1}C.h5', options=save_locally, \n",
        "                                    monitor='val_loss', verbose=VERBOSE, \n",
        "                                    save_best_only=True, mode='min')\n",
        "\n",
        "        es = EarlyStopping(monitor=\"val_loss\", patience=30, \n",
        "                           verbose=VERBOSE, mode=\"min\", \n",
        "                           restore_best_weights=True)\n",
        "        \n",
        "        model.fit(X_train, y_train, \n",
        "                  validation_data=(X_valid, y_valid), \n",
        "                  epochs=1,\n",
        "                  verbose=VERBOSE,\n",
        "                  batch_size=BATCH_SIZE, \n",
        "                  callbacks=[lr, chk_point, es])\n",
        "        \n",
        "        load_locally = tf.saved_model.LoadOptions(experimental_io_device='/job:localhost')\n",
        "        model = load_model(f'./Bidirect_LSTM_model_2021_{fold+1}C.h5', options=load_locally)\n",
        "        \n",
        "        y_true = y_valid.squeeze().reshape(-1, 1)\n",
        "        y_pred = model.predict(X_valid, batch_size=BATCH_SIZE).squeeze().reshape(-1, 1)\n",
        "        score = mean_absolute_error(y_true, y_pred)\n",
        "        print(f\"Fold-{fold+1} | OOF Score: {score}\")\n",
        "        \n",
        "        test_preds.append(model.predict(test, batch_size=BATCH_SIZE).squeeze().reshape(-1, 1).squeeze()) "
      ],
      "metadata": {
        "id": "p-7xHhAraRxu"
      },
      "id": "p-7xHhAraRxu",
      "execution_count": null,
      "outputs": []
    },
    {
      "cell_type": "markdown",
      "source": [
        "Submission file:"
      ],
      "metadata": {
        "id": "e4J_b8hIk8AB"
      },
      "id": "e4J_b8hIk8AB"
    },
    {
      "cell_type": "code",
      "source": [
        "submission = pd.read_csv('/content/sample_submission.csv')\n",
        "submission[\"pressure\"] = sum(test_preds)/5\n",
        "submission.to_csv('mean_submission.csv', index=False)\n",
        "\n",
        "submission[\"pressure\"] = np.median(np.vstack(test_preds),axis=0)\n",
        "submission[\"pressure\"] = np.round((submission.pressure - P_MIN)/P_STEP) * P_STEP + P_MIN\n",
        "submission[\"pressure\"] = np.clip(submission.pressure, P_MIN, P_MAX)\n",
        "submission.to_csv('median_submission.csv', index=False)"
      ],
      "metadata": {
        "id": "cl5bXEnBk5HR"
      },
      "id": "cl5bXEnBk5HR",
      "execution_count": null,
      "outputs": []
    },
    {
      "cell_type": "markdown",
      "source": [
        "### 3.5. Tập hợp các dự đoán `pressure` của bảy model:"
      ],
      "metadata": {
        "id": "euNN6Hstahfv"
      },
      "id": "euNN6Hstahfv"
    },
    {
      "cell_type": "markdown",
      "source": [
        "Connect đến output từ Kaggle:"
      ],
      "metadata": {
        "id": "kZbYKrQrr2Vg"
      },
      "id": "kZbYKrQrr2Vg"
    },
    {
      "cell_type": "code",
      "source": [
        "!pip install -q kaggle"
      ],
      "metadata": {
        "id": "NuBKXudprLve"
      },
      "id": "NuBKXudprLve",
      "execution_count": 14,
      "outputs": []
    },
    {
      "cell_type": "code",
      "source": [
        "!mkdir ~/.kaggle\n",
        "!cp kaggle.json ~/.kaggle/\n",
        "!chmod 600 ~/.kaggle/kaggle.json"
      ],
      "metadata": {
        "id": "MJMVAX7Irs2e",
        "outputId": "bcaf6b11-6daf-40f7-e4cf-bcd073fb1028",
        "colab": {
          "base_uri": "https://localhost:8080/"
        }
      },
      "id": "MJMVAX7Irs2e",
      "execution_count": 15,
      "outputs": [
        {
          "output_type": "stream",
          "name": "stdout",
          "text": [
            "mkdir: cannot create directory ‘/root/.kaggle’: File exists\n"
          ]
        }
      ]
    },
    {
      "cell_type": "code",
      "source": [
        "!kaggle kernels output kennethnguyen/step-01-build-7-bidirect-lstm-model -p /content/output_kaggle/"
      ],
      "metadata": {
        "id": "3229geDqryZ1",
        "outputId": "823a5713-3d3b-4ffe-e966-dee8863c76b3",
        "colab": {
          "base_uri": "https://localhost:8080/"
        }
      },
      "id": "3229geDqryZ1",
      "execution_count": 3,
      "outputs": [
        {
          "output_type": "stream",
          "name": "stdout",
          "text": [
            "Output file downloaded to /content/output_kaggle/Bidirect_LSTM_model_2022_1C.h5\n",
            "Output file downloaded to /content/output_kaggle/Bidirect_LSTM_model_2022_2C.h5\n",
            "Output file downloaded to /content/output_kaggle/Bidirect_LSTM_model_2022_3C.h5\n",
            "Output file downloaded to /content/output_kaggle/Bidirect_LSTM_model_2022_4C.h5\n",
            "Output file downloaded to /content/output_kaggle/Bidirect_LSTM_model_2022_5C.h5\n",
            "Output file downloaded to /content/output_kaggle/Bidirect_LSTM_model_2022_6C.h5\n",
            "Output file downloaded to /content/output_kaggle/Bidirect_LSTM_model_2022_7C.h5\n",
            "Output file downloaded to /content/output_kaggle/Google_Brain_Keras_Model.png\n",
            "Output file downloaded to /content/output_kaggle/mean_submission.csv\n",
            "Output file downloaded to /content/output_kaggle/median_submission.csv\n",
            "Kernel log downloaded to /content/output_kaggle/step-01-build-7-bidirect-lstm-model.log \n"
          ]
        }
      ]
    },
    {
      "cell_type": "markdown",
      "source": [
        "Load model:"
      ],
      "metadata": {
        "id": "t-Qh6QNbr8W4"
      },
      "id": "t-Qh6QNbr8W4"
    },
    {
      "cell_type": "code",
      "source": [
        "load_locally = tf.saved_model.LoadOptions(experimental_io_device='/job:localhost')"
      ],
      "metadata": {
        "id": "RuJe8sKQsgaz"
      },
      "id": "RuJe8sKQsgaz",
      "execution_count": 16,
      "outputs": []
    },
    {
      "cell_type": "code",
      "source": [
        "test_prediction = []\n",
        "for i in range(1, 8):\n",
        "    model = load_model(f'/content/output_kaggle/Bidirect_LSTM_model_2022_{i}C.h5', options=load_locally)\n",
        "    test_prediction.append(model.predict(test, batch_size=BATCH_SIZE).squeeze().reshape(-1, 1).squeeze())"
      ],
      "metadata": {
        "id": "44fUZ_lZr0_r"
      },
      "id": "44fUZ_lZr0_r",
      "execution_count": 17,
      "outputs": []
    },
    {
      "cell_type": "markdown",
      "source": [
        "46' run"
      ],
      "metadata": {
        "id": "J8VCHcY646b-"
      },
      "id": "J8VCHcY646b-"
    },
    {
      "cell_type": "code",
      "source": [
        "np.array(test_prediction).shape"
      ],
      "metadata": {
        "id": "zGhmb2YxuNnQ",
        "outputId": "9ed51953-d95b-4d39-df4f-b30751673a8d",
        "colab": {
          "base_uri": "https://localhost:8080/"
        }
      },
      "id": "zGhmb2YxuNnQ",
      "execution_count": 25,
      "outputs": [
        {
          "output_type": "execute_result",
          "data": {
            "text/plain": [
              "(7, 4024000)"
            ]
          },
          "metadata": {},
          "execution_count": 25
        }
      ]
    },
    {
      "cell_type": "markdown",
      "source": [
        "Đọc https://www.kaggle.com/c/ventilator-pressure-prediction/discussion/280573"
      ],
      "metadata": {
        "id": "Co_yASLHozzp"
      },
      "id": "Co_yASLHozzp"
    },
    {
      "cell_type": "markdown",
      "source": [
        "Theo cuộc [thảo luận](https://www.kaggle.com/c/ventilator-pressure-prediction/discussion/285283), với các input có hai giá trị thì mean cho kết quả tốt hơn median."
      ],
      "metadata": {
        "id": "kojlHo5empkH"
      },
      "id": "kojlHo5empkH"
    },
    {
      "cell_type": "code",
      "source": [
        "def better_than_median(inputs, axis):\n",
        "    \"\"\"Compute the mean of the predictions if there are no outliers,\n",
        "    or the median if there are outliers.\n",
        "\n",
        "    Parameter: inputs = ndarray of shape (n_samples, n_folds)\"\"\"\n",
        "    spread = inputs.max(axis=axis) - inputs.min(axis=axis) \n",
        "    spread_lim = 0.45\n",
        "    print(f\"Inliers:  {(spread < spread_lim).sum():7} -> compute mean\")\n",
        "    print(f\"Outliers: {(spread >= spread_lim).sum():7} -> compute median\")\n",
        "    print(f\"Total:    {len(inputs):7}\")\n",
        "    \n",
        "    return np.where(spread < spread_lim,\n",
        "                    np.mean(inputs, axis=axis),\n",
        "                    np.median(inputs, axis=axis))"
      ],
      "metadata": {
        "id": "zcxJjZy9aXPO"
      },
      "id": "zcxJjZy9aXPO",
      "execution_count": 19,
      "outputs": []
    },
    {
      "cell_type": "code",
      "source": [
        "pressure_predict = better_than_median(np.array(test_prediction).T, 1)\n",
        "pressure_predict"
      ],
      "metadata": {
        "id": "qW6XZXXSuVpM",
        "outputId": "cb1faa43-d7cd-4002-9a73-df20bb137561",
        "colab": {
          "base_uri": "https://localhost:8080/"
        }
      },
      "id": "qW6XZXXSuVpM",
      "execution_count": 34,
      "outputs": [
        {
          "output_type": "stream",
          "name": "stdout",
          "text": [
            "Inliers:  2881194 -> compute mean\n",
            "Outliers: 1142806 -> compute median\n",
            "Total:    4024000\n"
          ]
        },
        {
          "output_type": "execute_result",
          "data": {
            "text/plain": [
              "array([6.2197194, 5.9384875, 6.9092264, ..., 6.232291 , 6.1852098,\n",
              "       6.303005 ], dtype=float32)"
            ]
          },
          "metadata": {},
          "execution_count": 34
        }
      ]
    },
    {
      "cell_type": "code",
      "source": [
        "pressure_predict"
      ],
      "metadata": {
        "id": "9sftnTtY6K5w",
        "outputId": "6d3773f3-8028-4d07-a619-09312b9f75cd",
        "colab": {
          "base_uri": "https://localhost:8080/"
        }
      },
      "id": "9sftnTtY6K5w",
      "execution_count": 35,
      "outputs": [
        {
          "output_type": "execute_result",
          "data": {
            "text/plain": [
              "array([6.2197194, 5.9384875, 6.9092264, ..., 6.232291 , 6.1852098,\n",
              "       6.303005 ], dtype=float32)"
            ]
          },
          "metadata": {},
          "execution_count": 35
        }
      ]
    },
    {
      "cell_type": "code",
      "source": [
        "temp  =pd.read_csv('/content/sample_submission.csv')\n",
        "temp['pressure'] = pressure_predict\n",
        "temp.to_csv('better_than_median.csv', index=False)"
      ],
      "metadata": {
        "id": "3b0VYxRF5fy0"
      },
      "id": "3b0VYxRF5fy0",
      "execution_count": 39,
      "outputs": []
    },
    {
      "cell_type": "code",
      "source": [
        "# files = ['/content/output_kaggle/mean_submission.csv',\n",
        "#          '/content/output_kaggle/median_submission.csv'',\n",
        "#          '/content/better_than_median.csv']\n",
        "\n",
        "# sub = pd.read_csv('/content/sample_submission.csv')\n",
        "\n",
        "# sub['pressure'] = np.median(\n",
        "#     np.concatenate([pd.read_csv(f)['pressure'].values.reshape(-1, 1) for f in files],\n",
        "#                    axis=1),\n",
        "#     axis=1)\n",
        "# sub.to_csv('median_submission.csv', index=False)\n",
        "# sub.head(5)"
      ],
      "metadata": {
        "id": "B6o--k_Ez7N1"
      },
      "id": "B6o--k_Ez7N1",
      "execution_count": null,
      "outputs": []
    },
    {
      "cell_type": "markdown",
      "source": [
        "### 3.6. The Inverse PID Controller:"
      ],
      "metadata": {
        "id": "NYwoI43-r_h6"
      },
      "id": "NYwoI43-r_h6"
    },
    {
      "cell_type": "code",
      "source": [
        "import pandas as pd\n",
        "import numpy as np\n",
        "import matplotlib.pyplot as plt\n",
        "from joblib import Parallel, delayed\n",
        "import pickle\n",
        "from IPython.display import display"
      ],
      "metadata": {
        "id": "5dYYlFfWsL9Z"
      },
      "id": "5dYYlFfWsL9Z",
      "execution_count": 40,
      "outputs": []
    },
    {
      "cell_type": "markdown",
      "source": [
        "#### 3.7.1. Read training data and test data:"
      ],
      "metadata": {
        "id": "nBeiWiRBsUix"
      },
      "id": "nBeiWiRBsUix"
    },
    {
      "cell_type": "markdown",
      "source": [
        "Ý tưởng:\n",
        "- a\n",
        "\n",
        "Thực hiện:\n",
        "- a"
      ],
      "metadata": {
        "id": "lBa1Pzifs0wL"
      },
      "id": "lBa1Pzifs0wL"
    },
    {
      "cell_type": "markdown",
      "source": [
        "Từ tập training, trích xuất cột `pressure` để lấy các giá trị rời rạc "
      ],
      "metadata": {
        "id": "dA6aiWoOtkhq"
      },
      "id": "dA6aiWoOtkhq"
    },
    {
      "cell_type": "code",
      "source": [
        "train_df = pd.read_csv('/content/train.csv')\n",
        "targets = train_df[['pressure']].to_numpy()\n",
        "targets"
      ],
      "metadata": {
        "id": "nu4hz7fptAW7",
        "outputId": "2386391e-28f7-4663-86e2-95723d5d664a",
        "colab": {
          "base_uri": "https://localhost:8080/"
        }
      },
      "id": "nu4hz7fptAW7",
      "execution_count": 41,
      "outputs": [
        {
          "output_type": "execute_result",
          "data": {
            "text/plain": [
              "array([[5.83749171],\n",
              "       [5.90779385],\n",
              "       [7.87625392],\n",
              "       ...,\n",
              "       [3.79872949],\n",
              "       [4.07993807],\n",
              "       [3.86903163]])"
            ]
          },
          "metadata": {},
          "execution_count": 41
        }
      ]
    },
    {
      "cell_type": "markdown",
      "source": [
        "Tìm giá trị `pressure` nhỏ nhất và bước của nó"
      ],
      "metadata": {
        "id": "VAZ7H4hMtnfV"
      },
      "id": "VAZ7H4hMtnfV"
    },
    {
      "cell_type": "code",
      "source": [
        "p_values = np.sort(np.unique(targets))\n",
        "p_min = p_values[0]\n",
        "p_step = p_values[1] - p_values[0]\n",
        "p_min, p_step"
      ],
      "metadata": {
        "id": "oo5eUZJ9tfMo",
        "outputId": "aa946d73-50df-4e7e-da10-851959a67595",
        "colab": {
          "base_uri": "https://localhost:8080/"
        }
      },
      "id": "oo5eUZJ9tfMo",
      "execution_count": 42,
      "outputs": [
        {
          "output_type": "execute_result",
          "data": {
            "text/plain": [
              "(-1.895744294564641, 0.07030214545121005)"
            ]
          },
          "metadata": {},
          "execution_count": 42
        }
      ]
    },
    {
      "cell_type": "markdown",
      "source": [
        "Tạo mảng uu hai chiều từ tập dữ liệu test"
      ],
      "metadata": {
        "id": "akgV4uxhuBF9"
      },
      "id": "akgV4uxhuBF9"
    },
    {
      "cell_type": "code",
      "source": [
        "test_df = pd.read_csv('/content/test.csv')\n",
        "relevant = test_df[['u_out']].to_numpy() == 0\n",
        "uu = test_df[['u_in']].to_numpy().reshape(-1, 80)\n",
        "rr = relevant.reshape(-1, 80)\n",
        "t = test_df['time_step'].values.reshape(-1, 80)\n",
        "# Chỉ 79 columns - Không có dt cho bước cuối cùng\n",
        "dt_ = t[:,1:] - t[:,:-1]"
      ],
      "metadata": {
        "id": "wddoftMcthem"
      },
      "id": "wddoftMcthem",
      "execution_count": 43,
      "outputs": []
    },
    {
      "cell_type": "markdown",
      "source": [
        "Sort 950 giá trị `pressure` theo tần số trong bước thời gian đầu tiên để việc tìm kiếm được nhanh chóng. (Chỉ tìm kiếm các giá trị <= 16)"
      ],
      "metadata": {
        "id": "pQf5zPMsuaxb"
      },
      "id": "pQf5zPMsuaxb"
    },
    {
      "cell_type": "code",
      "source": [
        "temp_df = pd.DataFrame(targets.reshape(-1, 80)[:,1], \n",
        "                       columns=['pressure'])\n",
        "\n",
        "temp_df = temp_df.groupby('pressure').size().sort_values(ascending=False)\n",
        "p_values_by_frequency = list(temp_df.index) + sorted(list(set(p_values[p_values <= 16]).difference(temp_df.index)))\n",
        "len(p_values_by_frequency)"
      ],
      "metadata": {
        "id": "8wZ0R4OksNCV",
        "outputId": "3d562422-9af9-4a09-d3a6-2674c10bca9f",
        "colab": {
          "base_uri": "https://localhost:8080/"
        }
      },
      "id": "8wZ0R4OksNCV",
      "execution_count": 44,
      "outputs": [
        {
          "output_type": "execute_result",
          "data": {
            "text/plain": [
              "255"
            ]
          },
          "metadata": {},
          "execution_count": 44
        }
      ]
    },
    {
      "cell_type": "markdown",
      "source": [
        "#### 3.7.2. Inverse functions of P controller and PI controller:"
      ],
      "metadata": {
        "id": "9Gcbm8obvZVC"
      },
      "id": "9Gcbm8obvZVC"
    },
    {
      "cell_type": "markdown",
      "source": [
        "Tìm và cập nhật tùy chọn tất cả các thử nghiệm sử dụng bộ điều khiển PI"
      ],
      "metadata": {
        "id": "9Gcbm8obvZVC"
      },
      "id": "9Gcbm8obvZVC"
    },
    {
      "cell_type": "code",
      "source": [
        "def is_integer(discrete):\n",
        "    \"\"\"\n",
        "    Kiểm tra nếu các giá trị liên tục kiểu integer.\n",
        "    Hàm có thể gọi với một array hoặc scalar.\n",
        "    \"\"\"\n",
        "    # Con số phải đủ nhỏ để với hàng triệu lượt gọi, \n",
        "    # sẽ không nhận được kết quả dương tính giả (false positive)\n",
        "    tol = 1e-10\n",
        "    return (abs(discrete - np.round(discrete)) < tol)"
      ],
      "metadata": {
        "id": "NrRkdTtqvVWB"
      },
      "id": "NrRkdTtqvVWB",
      "execution_count": 45,
      "outputs": []
    },
    {
      "cell_type": "code",
      "source": [
        "def find_pi_control(row, uu, rr, dt_, preds, pi_list, pp=None, update_preds=False):\n",
        "    \"\"\"Test if row has been generated by a perfect PI controller\n",
        "    \n",
        "    Parameters\n",
        "    ----------\n",
        "    row          : The row to be processed\n",
        "    uu           : 2d array of u_in\n",
        "    rr           : 2d array of (u_out == 0)\n",
        "    dt_          : 2d array of time differences\n",
        "    preds        : 2d array of predictions; will be updated if update_preds is True\n",
        "    pi_list      : list, the found parameters will be appended to this list\n",
        "    pp           : 2d array of true pressures for evaluation, optional\n",
        "    update_preds : bool, default False, controls if preds is updated\n",
        "    \n",
        "    Global variables\n",
        "    ----------------\n",
        "    count, count_bad, mae_gain : updated with evaluation results if pp is not None\n",
        "    updated                    : count of updated rows\n",
        "    \"\"\"\n",
        "    # Verify parameters and copy a slice [start:end] of the selected row into u, oof, p and dt\n",
        "    if uu.shape != preds.shape: \n",
        "      raise ValueError(f\"Shapes of uu and preds must be equal: {uu.shape} {preds.shape}\")\n",
        "    if rr.shape != preds.shape: \n",
        "      raise ValueError(f\"Shapes of rr and preds must be equal: {rr.shape} {preds.shape}\")\n",
        "    if dt_.shape[0] != preds.shape[0]: \n",
        "      raise ValueError(f\"First dimension of dt_ and preds must be equal: {dt_.shape} {preds.shape}\")\n",
        "    \n",
        "    global count, count_bad, ae_gain, updated\n",
        "    start, end = 1, rr[row].sum()\n",
        "    p_values_to_try = p_values_by_frequency\n",
        "    while start < end and (uu[row, start] == 0 or uu[row, start] == 100):\n",
        "        p_values_to_try = p_values\n",
        "        start += 1\n",
        "    if start == end: return # all u_in are 0 or 100\n",
        "    u = uu[row, rr[row]][start:]\n",
        "    oof = preds[row, rr[row]][start:]\n",
        "    if pp is not None: p = pp[row, rr[row]][start:]\n",
        "    dt = dt_[row, rr[row, 1:]][start:] # typically 1/30\n",
        "    T = 0.5\n",
        "    \n",
        "    def find_pi_coefficients(u, dt, p_values_to_try):\n",
        "        # u has at least three elements, dt has at least two\n",
        "        # Determine p_0, p_coef, i_coef and p_star for the start of the slice by grid-search\n",
        "        # The possible p_0 are searched in order of descending frequency\n",
        "        # Determine q_0, p_1, q_1, p_2\n",
        "        # Accept the solution only if p_1 and p_2 are discrete p values\n",
        "        while len(u) >= 3 and (u[0] == 0 or u[0] == 100 or u[1] == 0 or u[1] == 100 or u[2] == 0 or u[2] == 100):\n",
        "            u = u[1:]\n",
        "        if len(u) < 3: return None, None, None, None, None\n",
        "        p_stars = np.array([10, 15, 20, 25, 30, 35])\n",
        "        found = False\n",
        "        s0 = dt[0] / (dt[0] + T)\n",
        "        s1 = dt[1] / (dt[1] + T)\n",
        "        for p_0 in p_values_to_try:\n",
        "            for p_coef in [0, 0.01, 0.1, 0.2, 0.3, 0.4, 0.5, 0.6, 0.7, 0.8, 0.9, 1, 2, 3, 4, 5, 6, 7, 8, 9, 10]:\n",
        "                for i_coef in [0.1, 0.2, 0.3, 0.4, 0.5, 0.6, 0.7, 0.8, 0.9, 1, 2, 3, 4, 5, 6, 7, 8, 9, 10]:\n",
        "                    if p_coef == 0 and i_coef == 0: continue\n",
        "                    # u[0] = p_coef * (p_star - p_0) + i_coef * q_0\n",
        "                    # dt[0] = t[1] - t[0]\n",
        "                    # s0 = dt[0] / (dt[0] + T)\n",
        "                    # q_1 = (1-s0) * q_0 + s0 * (p_star - p_1)\n",
        "                    # u[1] = p_coef * (p_star - p_1) + i_coef * q_1\n",
        "                    q_0 = (u[0] + p_coef * (p_0 - p_stars)) / i_coef\n",
        "                    pis = p_coef + i_coef * s0 # positive\n",
        "                    p_1 = (pis * p_stars + i_coef * (1-s0) * q_0 - u[1]) / pis # array of several possible p_1\n",
        "                    ii = is_integer((p_1 - p_min) / p_step)\n",
        "                    if not ii.any(): continue\n",
        "                    if ii.sum() > 1: print(\"More than one ***********\")\n",
        "                    p_star = p_stars[ii.argmax()]\n",
        "                    p_1 = p_1[ii.argmax()] # scalar p_1\n",
        "                    q_1 = (1-s0) * q_0[ii.argmax()] + s0 * (p_star - p_1) # scalar q_1\n",
        "                    pis = p_coef + i_coef * s1 # positive\n",
        "                    p_2 = (pis * p_star + i_coef * (1-s1) * q_1 - u[2]) / pis # scalar p_2\n",
        "                    if not is_integer((p_2 - p_min) / p_step): continue\n",
        "                    if np.abs(p_1 - p_2) < 1e-10: print('p_1 == p_2', p_0, p_1, p_2, p_coef, i_coef, p_star); return None, None, None, None, None\n",
        "                    found = True\n",
        "                    break\n",
        "                if found: break\n",
        "            if found: break\n",
        "        if not found: return None, None, None, None, None\n",
        "        return p_0, p_coef, i_coef, p_star, q_0[ii.argmax()]\n",
        "    \n",
        "    # Try to determine the coefficients twice: once at the beginning of the inhalation phase and once towards the end\n",
        "    p_0, p_coef, i_coef, p_star, q = find_pi_coefficients(u, dt, p_values_to_try)\n",
        "    q_is_valid = p_0 is not None\n",
        "    if p_0 is None:\n",
        "        p_0, p_coef, i_coef, p_star, q = find_pi_coefficients(u[-9:], dt[-8:], p_values) # last three elements of u; dt is one element shorter\n",
        "        q_is_valid = False\n",
        "        if p_0 is None: return\n",
        "\n",
        "    # At this point we have found parameters p_0, p_coef, i_coef and p_star which give discrete\n",
        "    # values for the first three time steps, and we may have q_0\n",
        "\n",
        "    # Compute the new predictions\n",
        "    update_list = [] # for plotting\n",
        "    pred_new = oof.copy()\n",
        "    if q_is_valid and p_coef != 0:\n",
        "        last_valid, last_delta = 0, p_0 - pred_new[0]\n",
        "        pred_new[0] = p_0\n",
        "        update_list.append((start, p_0))\n",
        "    for i in range(1, len(pred_new)):\n",
        "        # Invariant: pred_new[:i] has been computed\n",
        "        # Invariant: q is the state of the PI controller or not q_is_valid\n",
        "        # We want to determine pred_new[i]\n",
        "        if u[i] == 0 or u[i] == 100: \n",
        "            q_is_valid = False # u has been clipped; we cannot compute p here\n",
        "            continue\n",
        "        if q_is_valid:\n",
        "            s = dt[i-1] / (dt[i-1] + T) # ca. 1/16\n",
        "            pis = p_coef + i_coef * s # positive\n",
        "            pni = (pis * p_star + i_coef * (1-s) * q - u[i]) / pis # candidate pred_new[i]\n",
        "            if is_integer((pni - p_min) / p_step):\n",
        "                last_valid, last_delta = i, pni - pred_new[i]\n",
        "                pred_new[i] = pni\n",
        "                update_list.append((start+i, pni))\n",
        "                q = (u[i] + p_coef * (pred_new[i] - p_star)) / i_coef\n",
        "            else:\n",
        "                #print(f\"Out of sync {start + i}\")\n",
        "                q_is_valid = False\n",
        "        else:\n",
        "            # Try to resynchronize the controller state after a phase which didn't use the PI controller\n",
        "            if i >= len(pred_new) - 2: break # we cannot resynchronize the last two\n",
        "            if u[i+1] == 0 or u[i+1] == 100 or u[i+2] == 0 or u[i+2] == 100: continue\n",
        "            s_i = dt[i] / (dt[i] + T)\n",
        "            s_i1 = dt[i+1] / (dt[i+1] + T)\n",
        "            pis = p_coef + i_coef * s_i # positive\n",
        "            for p_i in p_values:\n",
        "                q_i = (u[i] + p_coef * (p_i - p_star)) / i_coef\n",
        "                p_i1 = (pis * p_star + i_coef * (1-s_i) * q_i - u[i+1]) / pis\n",
        "                if not is_integer((p_i1 - p_min) / p_step): continue\n",
        "                q_i1 = (1-s_i) * q_i + s_i * (p_star - p_i1)\n",
        "                pis = p_coef + i_coef * s_i1\n",
        "                p_i2 = (pis * p_star + i_coef * (1-s_i1) * q_i1 - u[i+2]) / pis\n",
        "                if not is_integer((p_i2 - p_min) / p_step): continue\n",
        "                #print(f\"Resynchronized {i} {q_i:.3f}  {p_i:.3f}  {p_i1:.3f}  {(p_i1 - p_min) / p_step}\")\n",
        "                if p_coef != 0: # for p_coef == 0, q_i doesn't depend on p_i\n",
        "                    last_valid, last_delta = i, p_i - pred_new[i]\n",
        "                    pred_new[i] = p_i\n",
        "                    update_list.append((start+i, p_i))\n",
        "                q, q_is_valid = q_i, True\n",
        "                break\n",
        "\n",
        "    pred_new[(u < 1e-6) & (oof > pred_new)] = oof[(u < 1e-6) & (oof > pred_new)]\n",
        "    pred_new[(u > 99.9999) & (oof < pred_new)] = oof[(u > 99.9999) & (oof < pred_new)]\n",
        "    \n",
        "    # For training data (where we know the true pressure): verify that the error is getting smaller\n",
        "    if pp is not None and not update_preds:\n",
        "        mae_pred = mean_absolute_error(p, pred_new)\n",
        "        ae_gain_1 = np.abs(p - oof).sum() - np.abs(p - pred_new).sum() # should be nonnegative \n",
        "        print(f'Row {row:2}: Gain {ae_gain_1:6.3f}')\n",
        "        ae_gain += ae_gain_1\n",
        "        if ae_gain_1 < 0:\n",
        "            print(f\"Row: {row}\")\n",
        "            print(f\"MAE OOF:  {mean_absolute_error(p, oof):.3f}\")\n",
        "            print(f\"MAE Pred: {mae_pred:.3f}\")\n",
        "            print(f\"Start: {start}\")\n",
        "            plt.figure(figsize=(10, 4))\n",
        "            plt.title(f\"p_coef = {p_coef:.2f}, i_coef = {i_coef:.2f}, p_star = {p_star:.0f}\")\n",
        "            plt.plot(np.arange(start, end), u, label='u_in')\n",
        "            plt.scatter(*zip(*update_list), marker='o', label='updated pressure')\n",
        "            plt.scatter(np.arange(start, end)[u == 0], u[u == 0], marker='x') # clipped u_in which is useless for predictions\n",
        "            plt.plot(np.arange(start, end), oof, label='pressure_pred_oof')\n",
        "            plt.plot(np.arange(start, end), pp[row, rr[row]][start:end], label='pressure_true')\n",
        "            #plt.scatter(np.arange(start, end), pred_new, label='pressure_pred_new')\n",
        "            #plt.plot(np.arange(len(uu[row])), uu[row]) # 80 steps of u_in\n",
        "            #plt.plot(np.arange(len(pp[row])), pp[row]) # 80 steps of pressure_true\n",
        "            plt.legend()\n",
        "            plt.show()\n",
        "            count_bad += 1\n",
        "        else:\n",
        "            count += 1\n",
        "\n",
        "    # Keep the parameters for future reference\n",
        "    pi_list.append((row, p_coef, i_coef, p_star, np.abs(oof - pred_new).sum()))\n",
        "    \n",
        "    # For test data: update the predictions\n",
        "    if update_preds:\n",
        "        exhale = rr[row].argmin()\n",
        "        preds[row, start:exhale] = pred_new\n",
        "        updated += 1"
      ],
      "metadata": {
        "id": "yTcHR9AjvAIQ"
      },
      "id": "yTcHR9AjvAIQ",
      "execution_count": 46,
      "outputs": []
    },
    {
      "cell_type": "code",
      "source": [
        "# Test the function on a subset of the training data\n",
        "# if the training data is available and pp is defined\n",
        "try:\n",
        "    pi_list, count, count_bad, ae_gain = [], 0, 0, 0\n",
        "    for row in range(len(pp) // 10, len(pp) // 5): # [79, 133, 219]: # [106, 171, 455]: # \n",
        "        find_pi_control(row, uu, rr, dt_, oof_pred, pi_list, pp)\n",
        "    if count > 0 or count_bad > 0:\n",
        "        print(\"Count:\", count, count_bad)\n",
        "        print(\"AE gain:\", ae_gain)\n",
        "    pi_df = pd.DataFrame(pi_list, columns=['row', 'p_coef', 'i_coef', 'p_star', 'difference'])\n",
        "    print(f\"Cumulated difference: {pi_df['difference'].sum():.3f}\")\n",
        "    display(pi_df)\n",
        "except NameError as e:\n",
        "    print(\"Warning: NameError caught\", e)"
      ],
      "metadata": {
        "id": "J__9U91twfWD",
        "outputId": "72182c77-0738-4373-c0f2-2013df973dc8",
        "colab": {
          "base_uri": "https://localhost:8080/"
        }
      },
      "id": "J__9U91twfWD",
      "execution_count": 47,
      "outputs": [
        {
          "output_type": "stream",
          "name": "stdout",
          "text": [
            "Warning: NameError caught name 'pp' is not defined\n"
          ]
        }
      ]
    },
    {
      "cell_type": "markdown",
      "source": [
        "Tìm và cập nhật tất cả các thử nghiệm chỉ sử dụng bộ điều khiển P."
      ],
      "metadata": {
        "id": "JZN5tF5KwwY8"
      },
      "id": "JZN5tF5KwwY8"
    },
    {
      "cell_type": "code",
      "source": [
        "def find_p_control(row, uu, rr, preds, p_list, pp=None, update_preds=False):\n",
        "    \"\"\"Test if row has been generated by a perfect P controller\n",
        "    \n",
        "    Parameters\n",
        "    ----------\n",
        "    row          : The row to be processed\n",
        "    uu           : 2d array of u_in\n",
        "    rr           : 2d array of (u_out == 0)\n",
        "    preds        : 2d array of predictions; will be updated if update_preds is True\n",
        "    p_list       : list, the found parameters will be appended to this list\n",
        "    pp           : 2d array of true pressures for evaluation, optional\n",
        "    update_preds : bool, default False, controls if preds is updated\n",
        "    \n",
        "    Global variables\n",
        "    ----------------\n",
        "    row_set                    : set of row numbers with P controller\n",
        "    count, count_bad, mae_gain : updated with evaluation results if pp is not None\n",
        "    updated                    : count of updated rows\n",
        "    \"\"\"\n",
        "    # Verify parameters and copy the selected row into u, oof and p\n",
        "    if uu.shape != preds.shape: raise ValueError(f\"Shapes of uu and preds must be equal: {uu.shape} {preds.shape}\")\n",
        "    if rr.shape != preds.shape: raise ValueError(f\"Shapes of rr and preds must be equal: {rr.shape} {preds.shape}\")\n",
        "    global row_set, count, count_bad, ae_gain, updated\n",
        "    start, end = 1, rr[row].sum()\n",
        "    u = uu[row, rr[row]][start:]\n",
        "    oof = preds[row, rr[row]][start:]\n",
        "    if pp is not None: p = pp[row, rr[row]][start:]\n",
        "        \n",
        "    def find_p_coefficients(u):\n",
        "        \"\"\"Take four samples from the series and determine p_coef and p_star\n",
        "        \n",
        "        Return (p_coef, p_star) if the breath is using a P controller\n",
        "        Return (None, None) if it is not a P controller\"\"\"\n",
        "        for i in [0, len(u) // 3, len(u) * 2 // 3, len(u) - 1]:\n",
        "            if u[i] != 0 and u[i] != 100:\n",
        "                for p_coef in [0.01, 0.1, 0.2, 0.3, 0.4, 0.5, 0.6, 0.7, 0.8, 0.9, 1, 2, 3, 4, 5, 6, 7, 8, 9, 10]:\n",
        "                    for p_star in [10, 15, 20, 25, 30, 35]:\n",
        "                        predicted_p_int = (p_star - u[i] / p_coef - p_min) / p_step\n",
        "                        if predicted_p_int >= 0 and predicted_p_int < len(p_values) and is_integer(predicted_p_int):\n",
        "                            return p_coef, p_star\n",
        "        return None, None\n",
        "\n",
        "    p_coef, p_star = find_p_coefficients(u)\n",
        "    if p_coef is None: return\n",
        "        \n",
        "    # Compute the new predictions\n",
        "    # If anything is strange about them, keep the original predictions\n",
        "    # If u_in is 0, the new prediction will be too low and not a discrete value\n",
        "    # -> we may round the prediction up\n",
        "    # -> we should keep the original prediction if it is higher\n",
        "    # If u_in is 100, the new prediction will be too high and not a discrete value\n",
        "    # -> we may round the prediction down\n",
        "    # we should keep the original prediction if it is lower\n",
        "    pred_new = p_star - u / p_coef\n",
        "    pred_new_int = (pred_new - p_min) / p_step\n",
        "    strange = ((pred_new_int < 0) | (pred_new_int >= len(p_values)) | (~is_integer(pred_new_int))) & (u != 0) & (u != 100)\n",
        "    if strange.any():\n",
        "        print('strange', row, strange)\n",
        "        return\n",
        "    pred_new[u == 0] = np.ceil(pred_new_int[u == 0]) * p_step + p_min\n",
        "    pred_new[(u == 0) & (oof > pred_new)] = oof[(u == 0) & (oof > pred_new)]\n",
        "    pred_new[u == 100] = np.floor(pred_new_int[u == 100]) * p_step + p_min\n",
        "    pred_new[(u == 100) & (oof < pred_new)] = oof[(u == 100) & (oof < pred_new)]\n",
        "    \n",
        "    \n",
        "    if pp is not None and not update_preds:\n",
        "        mae_pred = mean_absolute_error(p, pred_new)\n",
        "        ae_gain_1 = np.abs(p - oof).sum() - np.abs(p - pred_new).sum() # absolute error improvement should be positive \n",
        "        ae_gain += ae_gain_1\n",
        "        if ae_gain_1 < 0: # mae_pred > 0.00001: #\n",
        "            print(f\"Row: {row}\")\n",
        "            print(f\"Candidate p_coef: {p_coef:.6f}\")\n",
        "            print(f\"Candidate p_star: {p_star:.6f}\")\n",
        "            print(f\"MAE OOF:  {mean_absolute_error(p, oof):.3f}\")\n",
        "            print(f\"MAE Pred: {mae_pred:.3f}\")\n",
        "            plt.figure(figsize=(10, 4))\n",
        "            plt.title(f\"p_coef = {p_coef:.2f}, p_star = {p_star:.0f}\")\n",
        "            plt.plot(np.arange(start, end), u, label='u_in')\n",
        "            #plt.plot(np.arange(start, end), oof, label='pressure_pred_oof')\n",
        "            plt.plot(np.arange(start, end), pred_new, label='pressure_pred_new')\n",
        "            plt.plot(np.arange(end), pp[row, rr[row]], label='pressure_true')\n",
        "            #plt.plot(np.arange(len(uu[row])), uu[row]) # all 80 u_in\n",
        "            #plt.plot(np.arange(len(pp[row])), pp[row]) # all 80 true pressures\n",
        "            plt.scatter(np.arange(start, end)[u < 1e-6], u[u < 1e-6]) # mark zeros of u_in\n",
        "            plt.legend()\n",
        "            if row in [1, 537, 634, 1098, 3193, 9847, 10398, 13828]: plt.savefig(f\"p-control-{row}.png\")\n",
        "            plt.show()\n",
        "            count_bad += 1\n",
        "        else:\n",
        "            count += 1\n",
        "\n",
        "    # Keep the parameters for future reference\n",
        "    p_list.append((row, p_coef, p_star, np.abs(oof - pred_new).sum()))\n",
        "    \n",
        "    # For test data: update the predictions\n",
        "    if update_preds:\n",
        "        exhale = rr[row].argmin()\n",
        "        preds[row, 1:exhale] = pred_new\n",
        "        updated += 1\n",
        "        \n",
        "    try:\n",
        "        row_set.add(row)\n",
        "    except NameError:\n",
        "        pass"
      ],
      "metadata": {
        "id": "O8cyeV6bwosb"
      },
      "id": "O8cyeV6bwosb",
      "execution_count": 48,
      "outputs": []
    },
    {
      "cell_type": "code",
      "source": [
        "# Test the function if the training data is available and pp is defined\n",
        "p_list, row_set, count, count_bad, ae_gain = [], set(), 0, 0, 0\n",
        "try:\n",
        "    for row in range(len(pp)):\n",
        "        find_p_control(row, uu, rr, oof_pred, p_list, pp)\n",
        "    if count > 0 or count_bad > 0:\n",
        "        print(\"Count:\", count, count_bad)\n",
        "        print(\"AE gain:\", ae_gain)\n",
        "        if ae_gain <= 0: raise ValueError(\"MAE gain is not positive\")\n",
        "    p_df = pd.DataFrame(p_list, columns=['row', 'p_coef', 'p_star', 'difference'])\n",
        "    print(f\"Cumulated difference: {p_df['difference'].sum():.3f}\")\n",
        "    display(p_df.head())\n",
        "except NameError as e:\n",
        "    print(\"Warning: NameError caught\", e)"
      ],
      "metadata": {
        "id": "KewYW2fExBoc",
        "outputId": "830a2575-74d4-455c-cf14-99fca1002899",
        "colab": {
          "base_uri": "https://localhost:8080/"
        }
      },
      "id": "KewYW2fExBoc",
      "execution_count": 49,
      "outputs": [
        {
          "output_type": "stream",
          "name": "stdout",
          "text": [
            "Warning: NameError caught name 'pp' is not defined\n"
          ]
        }
      ]
    },
    {
      "cell_type": "markdown",
      "source": [
        "#### 3.7.3. Read the nn predictions, update them and write the final submission file"
      ],
      "metadata": {
        "id": "tPkvCC-axDr8"
      },
      "id": "tPkvCC-axDr8"
    },
    {
      "cell_type": "markdown",
      "source": [
        "\n",
        "The full computation takes more than nine hours and cannot be run on Kaggle. I have run the exact same notebook locally and uploaded the result as a dataset. If the dataset is available, the notebook skips the full computation; if the dataset is unavailable, the notebook performs the full, lengthy computation."
      ],
      "metadata": {
        "id": "ly8qZmx3xKAN"
      },
      "id": "ly8qZmx3xKAN"
    },
    {
      "cell_type": "code",
      "source": [
        "try:\n",
        "    sub = pd.read_csv('/content/submission_pi_20211101.csv')\n",
        "    p_df = pd.read_csv('/content/p_parameters.csv')\n",
        "    pi_df = pd.read_csv('/content/pi_parameters.csv')\n",
        "    use_shortcut = True\n",
        "    print(\"Using the shortcut to save CPU time\")\n",
        "except FileNotFoundError:\n",
        "    sub = pd.read_csv('better_than_median.csv')\n",
        "    use_shortcut = False\n",
        "    print(\"Doing the full computation (no shortcut)\")"
      ],
      "metadata": {
        "id": "Xt4QTeyyxB7E",
        "outputId": "ee54a8fc-41fa-4bda-d717-2522dd465aec",
        "colab": {
          "base_uri": "https://localhost:8080/"
        }
      },
      "id": "Xt4QTeyyxB7E",
      "execution_count": 51,
      "outputs": [
        {
          "output_type": "stream",
          "name": "stdout",
          "text": [
            "Doing the full computation (no shortcut)\n"
          ]
        }
      ]
    },
    {
      "cell_type": "code",
      "source": [
        "def find_pi_control_slice(a, b):\n",
        "    \"\"\"Return the updated rows a:b of oof_copy.\n",
        "    \n",
        "    This function is meant to be run in a parallel job.\"\"\"\n",
        "    oof_copy2 = ss.copy() # make a writable copy for this job\n",
        "    pi_list = []\n",
        "    for row in range(a, b):\n",
        "        find_pi_control(row, uu, rr, dt_, oof_copy2, pi_list, pp=None, update_preds=True)\n",
        "    return oof_copy2[a:b], pi_list"
      ],
      "metadata": {
        "id": "pqaub6yQxvIk"
      },
      "id": "pqaub6yQxvIk",
      "execution_count": 52,
      "outputs": []
    },
    {
      "cell_type": "code",
      "source": [
        "%%time\n",
        "ss = sub.pressure.values.reshape(-1, 80)\n",
        "ss_copy = ss.copy()\n",
        "n_jobs = 8\n",
        "stop = 10 if use_shortcut else len(ss)\n",
        "pi_list, updated = [], 0\n",
        "\n",
        "a_list = [stop // n_jobs * i for i in range(n_jobs)]\n",
        "b_list = a_list[1:] + [stop]\n",
        "updated_slices = Parallel(n_jobs=n_jobs)(delayed(find_pi_control_slice)(a, b)\n",
        "                                         for a, b in zip(a_list, b_list))"
      ],
      "metadata": {
        "id": "3npjZZIqybnI",
        "outputId": "187bc728-f701-459c-aa33-a0265bf59956",
        "colab": {
          "base_uri": "https://localhost:8080/",
          "height": 494
        }
      },
      "id": "3npjZZIqybnI",
      "execution_count": 53,
      "outputs": [
        {
          "metadata": {
            "tags": null
          },
          "name": "stderr",
          "output_type": "stream",
          "text": [
            "/usr/local/lib/python3.7/dist-packages/joblib/externals/loky/process_executor.py:705: UserWarning: A worker stopped while some jobs were given to the executor. This can be caused by a too short worker timeout or by a memory leak.\n",
            "  \"timeout or by a memory leak.\", UserWarning\n"
          ]
        },
        {
          "output_type": "error",
          "ename": "KeyboardInterrupt",
          "evalue": "ignored",
          "traceback": [
            "\u001b[0;31m---------------------------------------------------------------------------\u001b[0m",
            "\u001b[0;31mKeyboardInterrupt\u001b[0m                         Traceback (most recent call last)",
            "\u001b[0;32m<ipython-input-53-6df092d2c101>\u001b[0m in \u001b[0;36m<module>\u001b[0;34m()\u001b[0m\n\u001b[0;32m----> 1\u001b[0;31m \u001b[0mget_ipython\u001b[0m\u001b[0;34m(\u001b[0m\u001b[0;34m)\u001b[0m\u001b[0;34m.\u001b[0m\u001b[0mrun_cell_magic\u001b[0m\u001b[0;34m(\u001b[0m\u001b[0;34m'time'\u001b[0m\u001b[0;34m,\u001b[0m \u001b[0;34m''\u001b[0m\u001b[0;34m,\u001b[0m \u001b[0;34m'ss = sub.pressure.values.reshape(-1, 80)\\nss_copy = ss.copy()\\nn_jobs = 8\\nstop = 10 if use_shortcut else len(ss)\\npi_list, updated = [], 0\\n\\na_list = [stop // n_jobs * i for i in range(n_jobs)]\\nb_list = a_list[1:] + [stop]\\nupdated_slices = Parallel(n_jobs=n_jobs)(delayed(find_pi_control_slice)(a, b)\\n                                         for a, b in zip(a_list, b_list))'\u001b[0m\u001b[0;34m)\u001b[0m\u001b[0;34m\u001b[0m\u001b[0;34m\u001b[0m\u001b[0m\n\u001b[0m",
            "\u001b[0;32m/usr/local/lib/python3.7/dist-packages/IPython/core/interactiveshell.py\u001b[0m in \u001b[0;36mrun_cell_magic\u001b[0;34m(self, magic_name, line, cell)\u001b[0m\n\u001b[1;32m   2115\u001b[0m             \u001b[0mmagic_arg_s\u001b[0m \u001b[0;34m=\u001b[0m \u001b[0mself\u001b[0m\u001b[0;34m.\u001b[0m\u001b[0mvar_expand\u001b[0m\u001b[0;34m(\u001b[0m\u001b[0mline\u001b[0m\u001b[0;34m,\u001b[0m \u001b[0mstack_depth\u001b[0m\u001b[0;34m)\u001b[0m\u001b[0;34m\u001b[0m\u001b[0;34m\u001b[0m\u001b[0m\n\u001b[1;32m   2116\u001b[0m             \u001b[0;32mwith\u001b[0m \u001b[0mself\u001b[0m\u001b[0;34m.\u001b[0m\u001b[0mbuiltin_trap\u001b[0m\u001b[0;34m:\u001b[0m\u001b[0;34m\u001b[0m\u001b[0;34m\u001b[0m\u001b[0m\n\u001b[0;32m-> 2117\u001b[0;31m                 \u001b[0mresult\u001b[0m \u001b[0;34m=\u001b[0m \u001b[0mfn\u001b[0m\u001b[0;34m(\u001b[0m\u001b[0mmagic_arg_s\u001b[0m\u001b[0;34m,\u001b[0m \u001b[0mcell\u001b[0m\u001b[0;34m)\u001b[0m\u001b[0;34m\u001b[0m\u001b[0;34m\u001b[0m\u001b[0m\n\u001b[0m\u001b[1;32m   2118\u001b[0m             \u001b[0;32mreturn\u001b[0m \u001b[0mresult\u001b[0m\u001b[0;34m\u001b[0m\u001b[0;34m\u001b[0m\u001b[0m\n\u001b[1;32m   2119\u001b[0m \u001b[0;34m\u001b[0m\u001b[0m\n",
            "\u001b[0;32m<decorator-gen-53>\u001b[0m in \u001b[0;36mtime\u001b[0;34m(self, line, cell, local_ns)\u001b[0m\n",
            "\u001b[0;32m/usr/local/lib/python3.7/dist-packages/IPython/core/magic.py\u001b[0m in \u001b[0;36m<lambda>\u001b[0;34m(f, *a, **k)\u001b[0m\n\u001b[1;32m    186\u001b[0m     \u001b[0;31m# but it's overkill for just that one bit of state.\u001b[0m\u001b[0;34m\u001b[0m\u001b[0;34m\u001b[0m\u001b[0;34m\u001b[0m\u001b[0m\n\u001b[1;32m    187\u001b[0m     \u001b[0;32mdef\u001b[0m \u001b[0mmagic_deco\u001b[0m\u001b[0;34m(\u001b[0m\u001b[0marg\u001b[0m\u001b[0;34m)\u001b[0m\u001b[0;34m:\u001b[0m\u001b[0;34m\u001b[0m\u001b[0;34m\u001b[0m\u001b[0m\n\u001b[0;32m--> 188\u001b[0;31m         \u001b[0mcall\u001b[0m \u001b[0;34m=\u001b[0m \u001b[0;32mlambda\u001b[0m \u001b[0mf\u001b[0m\u001b[0;34m,\u001b[0m \u001b[0;34m*\u001b[0m\u001b[0ma\u001b[0m\u001b[0;34m,\u001b[0m \u001b[0;34m**\u001b[0m\u001b[0mk\u001b[0m\u001b[0;34m:\u001b[0m \u001b[0mf\u001b[0m\u001b[0;34m(\u001b[0m\u001b[0;34m*\u001b[0m\u001b[0ma\u001b[0m\u001b[0;34m,\u001b[0m \u001b[0;34m**\u001b[0m\u001b[0mk\u001b[0m\u001b[0;34m)\u001b[0m\u001b[0;34m\u001b[0m\u001b[0;34m\u001b[0m\u001b[0m\n\u001b[0m\u001b[1;32m    189\u001b[0m \u001b[0;34m\u001b[0m\u001b[0m\n\u001b[1;32m    190\u001b[0m         \u001b[0;32mif\u001b[0m \u001b[0mcallable\u001b[0m\u001b[0;34m(\u001b[0m\u001b[0marg\u001b[0m\u001b[0;34m)\u001b[0m\u001b[0;34m:\u001b[0m\u001b[0;34m\u001b[0m\u001b[0;34m\u001b[0m\u001b[0m\n",
            "\u001b[0;32m/usr/local/lib/python3.7/dist-packages/IPython/core/magics/execution.py\u001b[0m in \u001b[0;36mtime\u001b[0;34m(self, line, cell, local_ns)\u001b[0m\n\u001b[1;32m   1191\u001b[0m         \u001b[0;32melse\u001b[0m\u001b[0;34m:\u001b[0m\u001b[0;34m\u001b[0m\u001b[0;34m\u001b[0m\u001b[0m\n\u001b[1;32m   1192\u001b[0m             \u001b[0mst\u001b[0m \u001b[0;34m=\u001b[0m \u001b[0mclock2\u001b[0m\u001b[0;34m(\u001b[0m\u001b[0;34m)\u001b[0m\u001b[0;34m\u001b[0m\u001b[0;34m\u001b[0m\u001b[0m\n\u001b[0;32m-> 1193\u001b[0;31m             \u001b[0mexec\u001b[0m\u001b[0;34m(\u001b[0m\u001b[0mcode\u001b[0m\u001b[0;34m,\u001b[0m \u001b[0mglob\u001b[0m\u001b[0;34m,\u001b[0m \u001b[0mlocal_ns\u001b[0m\u001b[0;34m)\u001b[0m\u001b[0;34m\u001b[0m\u001b[0;34m\u001b[0m\u001b[0m\n\u001b[0m\u001b[1;32m   1194\u001b[0m             \u001b[0mend\u001b[0m \u001b[0;34m=\u001b[0m \u001b[0mclock2\u001b[0m\u001b[0;34m(\u001b[0m\u001b[0;34m)\u001b[0m\u001b[0;34m\u001b[0m\u001b[0;34m\u001b[0m\u001b[0m\n\u001b[1;32m   1195\u001b[0m             \u001b[0mout\u001b[0m \u001b[0;34m=\u001b[0m \u001b[0;32mNone\u001b[0m\u001b[0;34m\u001b[0m\u001b[0;34m\u001b[0m\u001b[0m\n",
            "\u001b[0;32m<timed exec>\u001b[0m in \u001b[0;36m<module>\u001b[0;34m()\u001b[0m\n",
            "\u001b[0;32m/usr/local/lib/python3.7/dist-packages/joblib/parallel.py\u001b[0m in \u001b[0;36m__call__\u001b[0;34m(self, iterable)\u001b[0m\n\u001b[1;32m   1054\u001b[0m \u001b[0;34m\u001b[0m\u001b[0m\n\u001b[1;32m   1055\u001b[0m             \u001b[0;32mwith\u001b[0m \u001b[0mself\u001b[0m\u001b[0;34m.\u001b[0m\u001b[0m_backend\u001b[0m\u001b[0;34m.\u001b[0m\u001b[0mretrieval_context\u001b[0m\u001b[0;34m(\u001b[0m\u001b[0;34m)\u001b[0m\u001b[0;34m:\u001b[0m\u001b[0;34m\u001b[0m\u001b[0;34m\u001b[0m\u001b[0m\n\u001b[0;32m-> 1056\u001b[0;31m                 \u001b[0mself\u001b[0m\u001b[0;34m.\u001b[0m\u001b[0mretrieve\u001b[0m\u001b[0;34m(\u001b[0m\u001b[0;34m)\u001b[0m\u001b[0;34m\u001b[0m\u001b[0;34m\u001b[0m\u001b[0m\n\u001b[0m\u001b[1;32m   1057\u001b[0m             \u001b[0;31m# Make sure that we get a last message telling us we are done\u001b[0m\u001b[0;34m\u001b[0m\u001b[0;34m\u001b[0m\u001b[0;34m\u001b[0m\u001b[0m\n\u001b[1;32m   1058\u001b[0m             \u001b[0melapsed_time\u001b[0m \u001b[0;34m=\u001b[0m \u001b[0mtime\u001b[0m\u001b[0;34m.\u001b[0m\u001b[0mtime\u001b[0m\u001b[0;34m(\u001b[0m\u001b[0;34m)\u001b[0m \u001b[0;34m-\u001b[0m \u001b[0mself\u001b[0m\u001b[0;34m.\u001b[0m\u001b[0m_start_time\u001b[0m\u001b[0;34m\u001b[0m\u001b[0;34m\u001b[0m\u001b[0m\n",
            "\u001b[0;32m/usr/local/lib/python3.7/dist-packages/joblib/parallel.py\u001b[0m in \u001b[0;36mretrieve\u001b[0;34m(self)\u001b[0m\n\u001b[1;32m    933\u001b[0m             \u001b[0;32mtry\u001b[0m\u001b[0;34m:\u001b[0m\u001b[0;34m\u001b[0m\u001b[0;34m\u001b[0m\u001b[0m\n\u001b[1;32m    934\u001b[0m                 \u001b[0;32mif\u001b[0m \u001b[0mgetattr\u001b[0m\u001b[0;34m(\u001b[0m\u001b[0mself\u001b[0m\u001b[0;34m.\u001b[0m\u001b[0m_backend\u001b[0m\u001b[0;34m,\u001b[0m \u001b[0;34m'supports_timeout'\u001b[0m\u001b[0;34m,\u001b[0m \u001b[0;32mFalse\u001b[0m\u001b[0;34m)\u001b[0m\u001b[0;34m:\u001b[0m\u001b[0;34m\u001b[0m\u001b[0;34m\u001b[0m\u001b[0m\n\u001b[0;32m--> 935\u001b[0;31m                     \u001b[0mself\u001b[0m\u001b[0;34m.\u001b[0m\u001b[0m_output\u001b[0m\u001b[0;34m.\u001b[0m\u001b[0mextend\u001b[0m\u001b[0;34m(\u001b[0m\u001b[0mjob\u001b[0m\u001b[0;34m.\u001b[0m\u001b[0mget\u001b[0m\u001b[0;34m(\u001b[0m\u001b[0mtimeout\u001b[0m\u001b[0;34m=\u001b[0m\u001b[0mself\u001b[0m\u001b[0;34m.\u001b[0m\u001b[0mtimeout\u001b[0m\u001b[0;34m)\u001b[0m\u001b[0;34m)\u001b[0m\u001b[0;34m\u001b[0m\u001b[0;34m\u001b[0m\u001b[0m\n\u001b[0m\u001b[1;32m    936\u001b[0m                 \u001b[0;32melse\u001b[0m\u001b[0;34m:\u001b[0m\u001b[0;34m\u001b[0m\u001b[0;34m\u001b[0m\u001b[0m\n\u001b[1;32m    937\u001b[0m                     \u001b[0mself\u001b[0m\u001b[0;34m.\u001b[0m\u001b[0m_output\u001b[0m\u001b[0;34m.\u001b[0m\u001b[0mextend\u001b[0m\u001b[0;34m(\u001b[0m\u001b[0mjob\u001b[0m\u001b[0;34m.\u001b[0m\u001b[0mget\u001b[0m\u001b[0;34m(\u001b[0m\u001b[0;34m)\u001b[0m\u001b[0;34m)\u001b[0m\u001b[0;34m\u001b[0m\u001b[0;34m\u001b[0m\u001b[0m\n",
            "\u001b[0;32m/usr/local/lib/python3.7/dist-packages/joblib/_parallel_backends.py\u001b[0m in \u001b[0;36mwrap_future_result\u001b[0;34m(future, timeout)\u001b[0m\n\u001b[1;32m    540\u001b[0m         AsyncResults.get from multiprocessing.\"\"\"\n\u001b[1;32m    541\u001b[0m         \u001b[0;32mtry\u001b[0m\u001b[0;34m:\u001b[0m\u001b[0;34m\u001b[0m\u001b[0;34m\u001b[0m\u001b[0m\n\u001b[0;32m--> 542\u001b[0;31m             \u001b[0;32mreturn\u001b[0m \u001b[0mfuture\u001b[0m\u001b[0;34m.\u001b[0m\u001b[0mresult\u001b[0m\u001b[0;34m(\u001b[0m\u001b[0mtimeout\u001b[0m\u001b[0;34m=\u001b[0m\u001b[0mtimeout\u001b[0m\u001b[0;34m)\u001b[0m\u001b[0;34m\u001b[0m\u001b[0;34m\u001b[0m\u001b[0m\n\u001b[0m\u001b[1;32m    543\u001b[0m         \u001b[0;32mexcept\u001b[0m \u001b[0mCfTimeoutError\u001b[0m \u001b[0;32mas\u001b[0m \u001b[0me\u001b[0m\u001b[0;34m:\u001b[0m\u001b[0;34m\u001b[0m\u001b[0;34m\u001b[0m\u001b[0m\n\u001b[1;32m    544\u001b[0m             \u001b[0;32mraise\u001b[0m \u001b[0mTimeoutError\u001b[0m \u001b[0;32mfrom\u001b[0m \u001b[0me\u001b[0m\u001b[0;34m\u001b[0m\u001b[0;34m\u001b[0m\u001b[0m\n",
            "\u001b[0;32m/usr/lib/python3.7/concurrent/futures/_base.py\u001b[0m in \u001b[0;36mresult\u001b[0;34m(self, timeout)\u001b[0m\n\u001b[1;32m    428\u001b[0m                 \u001b[0;32mreturn\u001b[0m \u001b[0mself\u001b[0m\u001b[0;34m.\u001b[0m\u001b[0m__get_result\u001b[0m\u001b[0;34m(\u001b[0m\u001b[0;34m)\u001b[0m\u001b[0;34m\u001b[0m\u001b[0;34m\u001b[0m\u001b[0m\n\u001b[1;32m    429\u001b[0m \u001b[0;34m\u001b[0m\u001b[0m\n\u001b[0;32m--> 430\u001b[0;31m             \u001b[0mself\u001b[0m\u001b[0;34m.\u001b[0m\u001b[0m_condition\u001b[0m\u001b[0;34m.\u001b[0m\u001b[0mwait\u001b[0m\u001b[0;34m(\u001b[0m\u001b[0mtimeout\u001b[0m\u001b[0;34m)\u001b[0m\u001b[0;34m\u001b[0m\u001b[0;34m\u001b[0m\u001b[0m\n\u001b[0m\u001b[1;32m    431\u001b[0m \u001b[0;34m\u001b[0m\u001b[0m\n\u001b[1;32m    432\u001b[0m             \u001b[0;32mif\u001b[0m \u001b[0mself\u001b[0m\u001b[0;34m.\u001b[0m\u001b[0m_state\u001b[0m \u001b[0;32min\u001b[0m \u001b[0;34m[\u001b[0m\u001b[0mCANCELLED\u001b[0m\u001b[0;34m,\u001b[0m \u001b[0mCANCELLED_AND_NOTIFIED\u001b[0m\u001b[0;34m]\u001b[0m\u001b[0;34m:\u001b[0m\u001b[0;34m\u001b[0m\u001b[0;34m\u001b[0m\u001b[0m\n",
            "\u001b[0;32m/usr/lib/python3.7/threading.py\u001b[0m in \u001b[0;36mwait\u001b[0;34m(self, timeout)\u001b[0m\n\u001b[1;32m    294\u001b[0m         \u001b[0;32mtry\u001b[0m\u001b[0;34m:\u001b[0m    \u001b[0;31m# restore state no matter what (e.g., KeyboardInterrupt)\u001b[0m\u001b[0;34m\u001b[0m\u001b[0;34m\u001b[0m\u001b[0m\n\u001b[1;32m    295\u001b[0m             \u001b[0;32mif\u001b[0m \u001b[0mtimeout\u001b[0m \u001b[0;32mis\u001b[0m \u001b[0;32mNone\u001b[0m\u001b[0;34m:\u001b[0m\u001b[0;34m\u001b[0m\u001b[0;34m\u001b[0m\u001b[0m\n\u001b[0;32m--> 296\u001b[0;31m                 \u001b[0mwaiter\u001b[0m\u001b[0;34m.\u001b[0m\u001b[0macquire\u001b[0m\u001b[0;34m(\u001b[0m\u001b[0;34m)\u001b[0m\u001b[0;34m\u001b[0m\u001b[0;34m\u001b[0m\u001b[0m\n\u001b[0m\u001b[1;32m    297\u001b[0m                 \u001b[0mgotit\u001b[0m \u001b[0;34m=\u001b[0m \u001b[0;32mTrue\u001b[0m\u001b[0;34m\u001b[0m\u001b[0;34m\u001b[0m\u001b[0m\n\u001b[1;32m    298\u001b[0m             \u001b[0;32melse\u001b[0m\u001b[0;34m:\u001b[0m\u001b[0;34m\u001b[0m\u001b[0;34m\u001b[0m\u001b[0m\n",
            "\u001b[0;31mKeyboardInterrupt\u001b[0m: "
          ]
        }
      ]
    },
    {
      "cell_type": "code",
      "source": [
        "for (new_slice, slice_pi_list), a, b in zip(updated_slices, a_list, b_list):\n",
        "    ss[a:b] = new_slice\n",
        "    pi_list += slice_pi_list\n",
        "\n",
        "print(f\"Modified {(ss != ss_copy).any(axis=1).sum()} rows of {len(ss)} in parallel for the PI controllers.\")\n",
        "if not use_shortcut: pi_df = pd.DataFrame(pi_list, columns=['row', 'p_coef', 'i_coef', 'p_star', 'difference'])\n",
        "print(f\"Cumulated difference: {pi_df['difference'].sum():.3f}\")\n",
        "with open('pi_parameters.pickle', 'wb') as handle: pickle.dump(pi_df, handle)\n",
        "pi_df.to_csv('pi_parameters.csv', index=False)\n",
        "display(pi_df)"
      ],
      "metadata": {
        "id": "S9-f07TQxnwC",
        "outputId": "5a3ff01f-832c-4a1f-ab23-f442e9406c5b",
        "colab": {
          "base_uri": "https://localhost:8080/",
          "height": 239
        }
      },
      "id": "S9-f07TQxnwC",
      "execution_count": 54,
      "outputs": [
        {
          "output_type": "error",
          "ename": "NameError",
          "evalue": "ignored",
          "traceback": [
            "\u001b[0;31m---------------------------------------------------------------------------\u001b[0m",
            "\u001b[0;31mNameError\u001b[0m                                 Traceback (most recent call last)",
            "\u001b[0;32m<ipython-input-54-9504b015efa5>\u001b[0m in \u001b[0;36m<module>\u001b[0;34m()\u001b[0m\n\u001b[0;32m----> 1\u001b[0;31m \u001b[0;32mfor\u001b[0m \u001b[0;34m(\u001b[0m\u001b[0mnew_slice\u001b[0m\u001b[0;34m,\u001b[0m \u001b[0mslice_pi_list\u001b[0m\u001b[0;34m)\u001b[0m\u001b[0;34m,\u001b[0m \u001b[0ma\u001b[0m\u001b[0;34m,\u001b[0m \u001b[0mb\u001b[0m \u001b[0;32min\u001b[0m \u001b[0mzip\u001b[0m\u001b[0;34m(\u001b[0m\u001b[0mupdated_slices\u001b[0m\u001b[0;34m,\u001b[0m \u001b[0ma_list\u001b[0m\u001b[0;34m,\u001b[0m \u001b[0mb_list\u001b[0m\u001b[0;34m)\u001b[0m\u001b[0;34m:\u001b[0m\u001b[0;34m\u001b[0m\u001b[0;34m\u001b[0m\u001b[0m\n\u001b[0m\u001b[1;32m      2\u001b[0m     \u001b[0mss\u001b[0m\u001b[0;34m[\u001b[0m\u001b[0ma\u001b[0m\u001b[0;34m:\u001b[0m\u001b[0mb\u001b[0m\u001b[0;34m]\u001b[0m \u001b[0;34m=\u001b[0m \u001b[0mnew_slice\u001b[0m\u001b[0;34m\u001b[0m\u001b[0;34m\u001b[0m\u001b[0m\n\u001b[1;32m      3\u001b[0m     \u001b[0mpi_list\u001b[0m \u001b[0;34m+=\u001b[0m \u001b[0mslice_pi_list\u001b[0m\u001b[0;34m\u001b[0m\u001b[0;34m\u001b[0m\u001b[0m\n\u001b[1;32m      4\u001b[0m \u001b[0;34m\u001b[0m\u001b[0m\n\u001b[1;32m      5\u001b[0m \u001b[0mprint\u001b[0m\u001b[0;34m(\u001b[0m\u001b[0;34mf\"Modified {(ss != ss_copy).any(axis=1).sum()} rows of {len(ss)} in parallel for the PI controllers.\"\u001b[0m\u001b[0;34m)\u001b[0m\u001b[0;34m\u001b[0m\u001b[0;34m\u001b[0m\u001b[0m\n",
            "\u001b[0;31mNameError\u001b[0m: name 'updated_slices' is not defined"
          ]
        }
      ]
    },
    {
      "cell_type": "code",
      "source": [
        "# Update for the P controllers\n",
        "p_list = []\n",
        "for row in range(len(ss)):\n",
        "    find_p_control(row, uu, rr, ss, p_list, update_preds=True)\n",
        "print(f\"Updated {updated} rows for the P controllers.\")\n",
        "if not use_shortcut: p_df = pd.DataFrame(p_list, columns=['row', 'p_coef', 'p_star', 'difference'])\n",
        "print(f\"Cumulated difference: {p_df['difference'].sum():.3f}\")\n",
        "with open('p_parameters.pickle', 'wb') as handle: pickle.dump(p_df, handle)\n",
        "p_df.to_csv('p_parameters.csv', index=False)\n",
        "display(p_df)"
      ],
      "metadata": {
        "id": "Dj4ihVshyGy4"
      },
      "id": "Dj4ihVshyGy4",
      "execution_count": null,
      "outputs": []
    },
    {
      "cell_type": "code",
      "source": [
        "# Files submission\n",
        "sub[\"pressure\"] = ss.ravel()\n",
        "sub.to_csv('submission_pi.csv', index=False)\n",
        "sub.head(5)"
      ],
      "metadata": {
        "id": "gXro18Knx45I"
      },
      "id": "gXro18Knx45I",
      "execution_count": null,
      "outputs": []
    },
    {
      "cell_type": "markdown",
      "id": "36b0d2e1",
      "metadata": {
        "id": "36b0d2e1"
      },
      "source": [
        "## 4. Nhìn lại quá trình làm đồ án:"
      ]
    },
    {
      "cell_type": "markdown",
      "id": "950a24bd",
      "metadata": {
        "id": "950a24bd"
      },
      "source": [
        "### 4.1. Nguyễn Hoàng Sơn:"
      ]
    },
    {
      "cell_type": "markdown",
      "id": "0861e3a7",
      "metadata": {
        "id": "0861e3a7"
      },
      "source": [
        "- Khó khăn:\n",
        "    + \n",
        "    +\n",
        "    +\n",
        "\n",
        "- Học được:\n",
        "    + \n",
        "    +\n",
        "    +"
      ]
    },
    {
      "cell_type": "markdown",
      "id": "a1d904fc",
      "metadata": {
        "id": "a1d904fc"
      },
      "source": [
        "### 4.2. Nguyễn Văn Hậu:"
      ]
    },
    {
      "cell_type": "markdown",
      "id": "41c1a98b",
      "metadata": {
        "id": "41c1a98b"
      },
      "source": [
        "- Khó khăn:\n",
        "    + \n",
        "    +\n",
        "    +\n",
        "\n",
        "- Học được:\n",
        "    + \n",
        "    +\n",
        "    +"
      ]
    },
    {
      "cell_type": "markdown",
      "id": "eb679fac",
      "metadata": {
        "id": "eb679fac"
      },
      "source": [
        "### 4.3. Nguyễn Đình Tuyên:"
      ]
    },
    {
      "cell_type": "markdown",
      "id": "d45a67fe",
      "metadata": {
        "id": "d45a67fe"
      },
      "source": [
        "- Khó khăn:\n",
        "    + \n",
        "    +\n",
        "    +\n",
        "\n",
        "- Học được:\n",
        "    + \n",
        "    +\n",
        "    +"
      ]
    },
    {
      "cell_type": "markdown",
      "id": "dada357c",
      "metadata": {
        "id": "dada357c"
      },
      "source": [
        "### 4.4. Nhóm:"
      ]
    },
    {
      "cell_type": "markdown",
      "id": "b99c9900",
      "metadata": {
        "id": "b99c9900"
      },
      "source": [
        "- Khó khăn:\n",
        "    + \n",
        "    +\n",
        "    +\n",
        "\n",
        "- Nếu có thêm thời gian, nhóm sẽ cố gắng thực hiện:\n",
        "    + \n",
        "    +\n",
        "    +"
      ]
    },
    {
      "cell_type": "markdown",
      "id": "ba101ba4",
      "metadata": {
        "id": "ba101ba4"
      },
      "source": [
        "## 5. Tài liệu tham khảo:"
      ]
    },
    {
      "cell_type": "markdown",
      "id": "545be582",
      "metadata": {
        "id": "545be582"
      },
      "source": [
        "Để hoàn thành đồ án này, nhóm mình đã tham khảo những tài liệu sau:\n",
        "1. https://quantri.nhidong.org.vn/Data/bvnhidong/bvnhidong/Attachments/2019_3/07_theo_doi_benh_nhan_tho_may_-_2015-04_263201916.pdf\n"
      ]
    },
    {
      "cell_type": "markdown",
      "source": [
        "## 6. Q&A:"
      ],
      "metadata": {
        "id": "Pw1HYq5Jkl7g"
      },
      "id": "Pw1HYq5Jkl7g"
    },
    {
      "cell_type": "markdown",
      "source": [
        "### *Tại sao hệ thống đã có sensor để đo pressure rồi nhưng vẫn phải dự đoán?*"
      ],
      "metadata": {
        "id": "-YrAM4-coJaq"
      },
      "id": "-YrAM4-coJaq"
    },
    {
      "cell_type": "markdown",
      "source": [
        "- Hợp tác với Đại học Princeton, nhóm nghiên cứu tại Google Brain nhằm mục đích kiểm soát máy thở cơ học. Họ tin rằng mạng neural network và deep learning có thể khái quát hóa tốt hơn các đặc điểm khác nhau trên phổi so với tiêu chuẩn công nghiệp hiện tại của bộ điều khiển PID. Từ đó, họ muốn thiết kế một hệ thống tự động hóa hoàn toàn. Họ tin rằng có thể dựa vào các thông số còn lại để dự đoán chính xác `pressure`.\n",
        "- Chi phi phát triển các phương pháp mới để điều khiển máy thở cơ học.\n",
        "- Giảm gánh nặng cho các bác sĩ lâm sàng, phương pháp điều trị bằng máy thở có thể trở nên phổ biến rộng rãi hơn.\n"
      ],
      "metadata": {
        "id": "cL13x0ahkqjP"
      },
      "id": "cL13x0ahkqjP"
    },
    {
      "cell_type": "markdown",
      "source": [
        "### *Tại sao?*"
      ],
      "metadata": {
        "id": "l_27gEHQk3ci"
      },
      "id": "l_27gEHQk3ci"
    }
  ],
  "metadata": {
    "kernelspec": {
      "display_name": "Python 3 (ipykernel)",
      "language": "python",
      "name": "python3"
    },
    "language_info": {
      "codemirror_mode": {
        "name": "ipython",
        "version": 3
      },
      "file_extension": ".py",
      "mimetype": "text/x-python",
      "name": "python",
      "nbconvert_exporter": "python",
      "pygments_lexer": "ipython3",
      "version": "3.8.8"
    },
    "toc": {
      "base_numbering": 1,
      "nav_menu": {},
      "number_sections": false,
      "sideBar": true,
      "skip_h1_title": false,
      "title_cell": "Table of Contents",
      "title_sidebar": "Contents",
      "toc_cell": false,
      "toc_position": {},
      "toc_section_display": true,
      "toc_window_display": false
    },
    "colab": {
      "name": "Copy of Report_ADS.ipynb",
      "provenance": [],
      "collapsed_sections": [
        "d27e1e1a",
        "bc81b558",
        "0a463e6d",
        "244b7f28",
        "f5520f7e",
        "fbf9ebda",
        "da709124",
        "87677a9e",
        "beN7LAStwNaK",
        "fde87b9d",
        "XFbdNXmz9hHa",
        "qDMX2AC0IdFm",
        "HnxQ0dl3MaMU",
        "p9OtsCf3PSXj",
        "nSVXpj9VPSXo",
        "tVsyL0m5PSXs",
        "nOAMjzxcPdu7",
        "fmtGRh0rPdvC",
        "xWgAAZ7YIglv",
        "wo4p8IVAZcAc",
        "MDJX1AaiaDL6",
        "euNN6Hstahfv",
        "NYwoI43-r_h6",
        "nBeiWiRBsUix",
        "I1EjB7O1vBhv",
        "tPkvCC-axDr8",
        "36b0d2e1",
        "950a24bd",
        "a1d904fc",
        "eb679fac",
        "dada357c",
        "ba101ba4",
        "Pw1HYq5Jkl7g",
        "-YrAM4-coJaq"
      ],
      "include_colab_link": true
    },
    "accelerator": "TPU",
    "gpuClass": "standard"
  },
  "nbformat": 4,
  "nbformat_minor": 5
}