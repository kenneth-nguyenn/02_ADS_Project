{
  "cells": [
    {
      "cell_type": "markdown",
      "metadata": {
        "id": "view-in-github",
        "colab_type": "text"
      },
      "source": [
        "<a href=\"https://colab.research.google.com/github/kenneth-nguyenn/02_ADS_Project/blob/1712258/Report.ipynb\" target=\"_parent\"><img src=\"https://colab.research.google.com/assets/colab-badge.svg\" alt=\"Open In Colab\"/></a>"
      ]
    },
    {
      "cell_type": "markdown",
      "id": "8a067e2c",
      "metadata": {
        "id": "8a067e2c"
      },
      "source": [
        "# Đồ án: Khoa học Dữ liệu và Ứng dụng"
      ]
    },
    {
      "cell_type": "markdown",
      "id": "d27e1e1a",
      "metadata": {
        "id": "d27e1e1a"
      },
      "source": [
        "## Thông tin chung:\n",
        "### Giảng viên: \n",
        "- Trần Trung Kiên\n",
        "- Nguyễn Thái Vũ\n",
        "\n",
        "### Thông tin nhóm:\n",
        "1. STT: Nhóm 02\n",
        "2. Thành viên:\n",
        "\n",
        "| STT | MSSV | Họ tên | Github |\n",
        "| --- | --- | --- | --- |\n",
        "| 1 | 1712727 | Nguyễn Hoàng Sơn | [hsjune29th](https://github.com/hsjune29th) |\n",
        "| 2 | 1712258 | Nguyễn Văn Hậu | [kenneth-nguyenn](https://github.com/kenneth-nguyenn) |\n",
        "| 3 | 1712888 | Nguyễn Đình Tuyên | [Tuyen177](https://github.com/Tuyen177) |\n",
        "\n",
        "3. Phân công công việc:\n",
        "- [Google Sheet](https://docs.google.com/spreadsheets/d/1eKbhc6rpNsDoBfTC8SfAnlKiw_y3_OvHUefUuxQw8BI/edit#gid=621371829)"
      ]
    },
    {
      "cell_type": "markdown",
      "id": "bc81b558",
      "metadata": {
        "id": "bc81b558"
      },
      "source": [
        "## 1. Mô tả bài toán:"
      ]
    },
    {
      "cell_type": "markdown",
      "source": [
        "### 1.1. Thông tin chung:"
      ],
      "metadata": {
        "id": "7zVEriCIGYL9"
      },
      "id": "7zVEriCIGYL9"
    },
    {
      "cell_type": "markdown",
      "id": "f491afd4",
      "metadata": {
        "id": "f491afd4"
      },
      "source": [
        "- **Tên cuộc thi:** [Google Brain - Ventilator Pressure Prediction](https://www.kaggle.com/competitions/ventilator-pressure-prediction/data?select=test.csv)\n",
        "- **Mô tả:** Được tổ chức bởi Google Brain vào 04/11/2021 với hơn 2,605 nhóm tham dự.\n",
        "- **Input:** Tập dữ liệu được thu thập từ một hệ thống máy thở cung cấp khí oxy cho phổi.\n",
        "- **Output:** Dự đoán áp lực trên đường thở (pressure).\n",
        "- **Bài toán: Regression**\n",
        "- **Độ đo:**\n",
        "    + Cuộc thi sẽ được tính điểm là trung bình sai số tuyệt đối giữa áp suất dự đoán và áp suất thực tế trong giai đoạn hít thở của mỗi nhịp thở.\n",
        "    + Công thức: $|X-Y|$"
      ]
    },
    {
      "cell_type": "markdown",
      "source": [
        "### 1.2. Ý nghĩa thực tiễn:"
      ],
      "metadata": {
        "id": "LyDih_OTF0Cf"
      },
      "id": "LyDih_OTF0Cf"
    },
    {
      "cell_type": "markdown",
      "source": [
        "- Trên thực tế, trong thở máy có 3 mode thở cơ bản là: Kiểm soát, Hỗ trợ, Tự thở.\n",
        "    - Ứng với Kiểm soát (control/limit), có 3 loại kiểm soát:\n",
        "        + **Pressure Controlled:** Giới hạn áp lực, cài đặt Pi, thể tích thay đổi.\n",
        "        + **Volume Controlled:** Mục tiêu thể tích, cài đặt Vt, áp lực thay đổi.\n",
        "        + **Dual Controlled:** Mục tiêu thể tích và giới hạn áp lực, cài đặt Vt, máy tự điều chỉnh Pi.\n",
        "    - Công việc của các bác sĩ lâm sàng là theo dõi bệnh nhân thở máy về: Áp lực đường thở và Thể tích khí lưu thông.\n",
        "    - **Ưu điểm** của Pressure Control:\n",
        "        + Hạn chế báo động áp lực cao.\n",
        "        + Cải thiện sự phân phối khí trong phổi.\n",
        "        + Và một số ưu điểm khác liên quan đến các con số trong y khoa.\n",
        "    - **Khuyết điểm** của Pressure Control: Vt thay đổi khi phổi thay đổi R và C:\n",
        "        + Vt quá lớn thì quá căng phế nang.\n",
        "        + Vt quá nhỏ thì giảm thông khí phế nang, ứ CO2.\n",
        "    - **Ứng dụng** lâm sàng:\n",
        "        + Dùng cho trẻ sơ sinh dưới (10kg).\n",
        "        + Bệnh nhân có tổn thương phổi (R cao hoặc C thấp).\n",
        "        + Nhiều nghiên cứu so sánh Pressure và Volume Control chỉ ra Pressure cải thiện oxy trong máu tốt hơn, ít biến chứng, phù hợp nhu cầu của bệnh nhân.\n",
        "-  Thở máy là một biện pháp chuyên sâu của bác sĩ lâm sàng. Dưới sự khẩn thiết của đại dịch COVID-19 trên diện rộng, ta dễ dàng thấy hạn chế của việc sử dụng phương pháp thở máy này. Việc phát triển các phương pháp mới để điều khiển máy thở cơ học rất tốn kém, gặp khó khăn khi thử nghiệm lâm sàng.\n",
        "- Nhóm nghiên cứu tại Google Brain tin rằng, khi đã có thông tin R và C của phổi bệnh nhân, cùng với sự kiểm soát lượng khí đi vào phổi, ta hoàn toàn có thể **điều khiển Pi một cách tự động, thích nghi nhanh chóng.**\n",
        "- Bài toán này cũng là tiền đề cho các thuật toán thích ứng với bệnh nhân, giúp giảm bớt gánh nặng cho bác sĩ lâm sàng trong tình hình mới. Do đó, các phương pháp điều trị bằng máy thở có thể được phổ biến rộng rãi hơn để giúp bệnh nhân thở dễ dàng."
      ],
      "metadata": {
        "id": "glIup__6F50c"
      },
      "id": "glIup__6F50c"
    },
    {
      "cell_type": "markdown",
      "id": "f5520f7e",
      "metadata": {
        "id": "f5520f7e"
      },
      "source": [
        "### 1.3. Phương pháp thu thập dữ liệu:"
      ]
    },
    {
      "cell_type": "markdown",
      "id": "dcb7896e",
      "metadata": {
        "id": "dcb7896e"
      },
      "source": [
        "- Dữ liệu được sử dụng trong cuộc thi này được tạo ra bằng một hệ thống sử dụng một máy thở đã kết nối với phổi nhân tạo thông qua một mạch hô hấp, cùng các thiết bị đo đạc, kiểm soát các thông số trong một chu kỳ thở máy.\n",
        "- Sơ đồ thu thập dữ liệu trong một chu kì thở máy có flow như sau: \n",
        "![Screenshot 2022-04-14 230846.png](data:image/png;base64,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)"
      ]
    },
    {
      "cell_type": "markdown",
      "id": "c5559657",
      "metadata": {
        "id": "c5559657"
      },
      "source": [
        "Hai đầu vào điều khiển được đánh dấu màu xanh lá cây: \n",
        "- Inspiratory valve: biến liên tục [0:100] đại diện cho tỷ lệ phần trăm van điện tử của máy thở được mở để cho không khí vào phổi.\n",
        "- Expiratory valve: biến nhị phân (0,1) đại diện cho van thăm dò đang  (1) hoặc đóng (0) để thoát khí ra ngoài.\n",
        "\n",
        "Trong cuộc thi này, những người tham gia được cung cấp nhiều chuỗi thời gian thở và sẽ học cách dự đoán áp lực đường thở trong mạch hô hấp trong quá trình thở dựa trên chuỗi thời gian của đầu vào kiểm soát.\n",
        "\n",
        "Mỗi chuỗi thời gian đại diện cho một nhịp thở khoảng 3 giây. Các tệp được sắp xếp sao cho mỗi hàng là một bước thời gian trong hơi thở và đưa ra hai tín hiệu điều khiển, kết quả là áp lực đường thở và các thuộc tính liên quan của phổi."
      ]
    },
    {
      "cell_type": "markdown",
      "id": "e928d2f6",
      "metadata": {
        "id": "e928d2f6"
      },
      "source": [
        "## 2. Giải pháp của bài toán:"
      ]
    },
    {
      "cell_type": "markdown",
      "id": "0a463e6d",
      "metadata": {
        "id": "0a463e6d"
      },
      "source": [
        "### 2.1. Ý tưởng:"
      ]
    },
    {
      "cell_type": "markdown",
      "id": "9263f325",
      "metadata": {
        "id": "9263f325"
      },
      "source": [
        "- Nhóm quyết định tìm hiểu và cài đặt giải pháp **\"[The inverse of a PID controller](https://www.kaggle.com/c/ventilator-pressure-prediction/discussion/285283)\"**, giải pháp đứng vị thứ hai trong leaderboard.\n",
        "- Qúa trình hoàn thành cuộc thi, nhóm tác giả thực hiện ba giai đoạn chính:\n",
        "    + Sử dụng 7 model được share từ @dlaststark ([notebook](https://www.kaggle.com/code/dlaststark/gb-vpp-pulp-fiction/notebook)). Trong notebook này, tác giả trên tập trung vào `Feature Engineering` và xây dựng `\n",
        "Keras DNN Model` trên TPU.\n",
        "    + Tiếp theo, tác giả tập hợp các dự đoán của 7 model trên bằng cách kết hợp điểm mạnh của giá trị median và mean [tại đây](https://www.kaggle.com/c/ventilator-pressure-prediction/discussion/282735).\n",
        "    + Cuối cùng, tác giả cố gắng xác định hàm nghịch đảo của PID controller (tìm nghịch đảo của bộ điều khiển P và sau đó chuyển sang bộ điều khiển PI) để dự đoán áp suất, được thảo luận [tại đây](https://www.kaggle.com/c/ventilator-pressure-prediction/discussion/285283)."
      ]
    },
    {
      "cell_type": "markdown",
      "id": "244b7f28",
      "metadata": {
        "id": "244b7f28"
      },
      "source": [
        "### 2.2. Lý do lựa chọn giải pháp:"
      ]
    },
    {
      "cell_type": "markdown",
      "id": "76174c73",
      "metadata": {
        "id": "76174c73"
      },
      "source": [
        "- Giải pháp đứng vị thứ hai, nằm trong trong TOP-10 leaderboard.\n",
        "- Hầu hết, các giải pháp đứng trong TOP đầu của leaderboard đều sử dụng đến **PID controller** để giải quyết bài toán này. Mặt khác, trong quá trình đọc phần notebook cũng như giải thích của tác giả, nhóm em cảm thấy dễ hiểu và nắm được cơ bản quá trình xử lý trong notebook."
      ]
    },
    {
      "cell_type": "markdown",
      "id": "fbf9ebda",
      "metadata": {
        "id": "fbf9ebda"
      },
      "source": [
        "### 2.4. Mô tả các thuộc tính trong tập dữ liệu:"
      ]
    },
    {
      "cell_type": "markdown",
      "id": "f6431c64",
      "metadata": {
        "id": "f6431c64"
      },
      "source": [
        "- `id`: mã định danh của mỗi nhịp thở trên toàn bộ tệp.\n",
        "- `breath_id`: mã định danh của mỗi phổi trên toàn bộ tệp.\n",
        "- `R`: là một thuộc tính của phổi cho biết mức độ hạn chế của đường thở (restricted the airway), cho biết sự thay đổi áp suất trên mỗi sự thay đổi lưu lượng khí thở.\n",
        "- `C`: là một thuộc tính của phổi cho biết mức độ tuân thủ của phổi (compliant), cho biết sự thay đổi thể tích trên mỗi lần thay đổi áp suất.\n",
        "- `time_step`: dấu thời gian thực tế.\n",
        "- `u_in`: cho biết độ mở van đầu vào điện tử điều khiển, nhận giá trị tính theo phần trăm năm trong khoảng [0:100].\n",
        "- `u_out`: cho biết độ mở đầu ra van thăm dò điều khiển, nhận một trong hai giá trị (0,1).\n",
        "- `pressure`: áp lực đường thở đo trong mạch hô hấp, cũng là thuộc tính cần dự đoán."
      ]
    },
    {
      "cell_type": "markdown",
      "id": "edbe5138",
      "metadata": {
        "id": "edbe5138"
      },
      "source": [
        "## 3. Giải quyết bài toán:"
      ]
    },
    {
      "cell_type": "markdown",
      "id": "da709124",
      "metadata": {
        "id": "da709124"
      },
      "source": [
        "### Import libraries:"
      ]
    },
    {
      "cell_type": "code",
      "execution_count": 1,
      "id": "fe64fa1d",
      "metadata": {
        "id": "fe64fa1d"
      },
      "outputs": [],
      "source": [
        "import gc\n",
        "import numpy as np\n",
        "import pandas as pd\n",
        "import numpy as np\n",
        "\n",
        "import matplotlib.pyplot as plt\n",
        "import seaborn as sns\n",
        "\n",
        "from sklearn.preprocessing import RobustScaler\n",
        "from sklearn.model_selection import KFold\n",
        "from sklearn.metrics import mean_absolute_error\n",
        "\n",
        "import tensorflow as tf\n",
        "from tensorflow.keras.utils import plot_model\n",
        "from tensorflow.keras.models import Model, load_model\n",
        "from tensorflow.keras.callbacks import EarlyStopping\n",
        "from tensorflow.keras.callbacks import ModelCheckpoint\n",
        "from tensorflow.keras.callbacks import ReduceLROnPlateau\n",
        "from tensorflow.keras.layers import BatchNormalization\n",
        "from tensorflow.keras.layers import Dense, Dropout, Input\n",
        "from tensorflow.keras.layers import Concatenate, LSTM, GRU\n",
        "from tensorflow.keras.layers import Bidirectional, Multiply\n",
        "\n",
        "np.random.seed(42)\n",
        "tf.random.set_seed(42)"
      ]
    },
    {
      "cell_type": "markdown",
      "id": "87677a9e",
      "metadata": {
        "id": "87677a9e"
      },
      "source": [
        "### 3.1. Đọc dữ liệu:"
      ]
    },
    {
      "cell_type": "code",
      "source": [
        "# train.csv\n",
        "!gdown https://drive.google.com/u/1/uc?id=14PVjC4WigAqnUuNis3tyeuEtaQltN6e-&export=download&confirm=t \n",
        "# test.csv\n",
        "!gdown https://drive.google.com/u/1/uc?id=1bn1ugqDU_fqs1O7av-OAJ7BjbJWj2UIj&export=download&confirm=t\n",
        "# submission.csv\n",
        "!gdown https://drive.google.com/uc?id=1oeJJVvSkC2zVqzzvEdFceX8jVx6gHBiF&export=download&confirm=t"
      ],
      "metadata": {
        "colab": {
          "base_uri": "https://localhost:8080/"
        },
        "id": "DTEbsSsUeGZ3",
        "outputId": "5f96f288-1e39-4f8a-a250-33eb32c082b5"
      },
      "id": "DTEbsSsUeGZ3",
      "execution_count": 2,
      "outputs": [
        {
          "output_type": "stream",
          "name": "stdout",
          "text": [
            "Access denied with the following error:\n",
            "\n",
            " \tCannot retrieve the public link of the file. You may need to change\n",
            "\tthe permission to 'Anyone with the link', or have had many accesses. \n",
            "\n",
            "You may still be able to access the file from the browser:\n",
            "\n",
            "\t https://drive.google.com/u/1/uc?id=14PVjC4WigAqnUuNis3tyeuEtaQltN6e- \n",
            "\n",
            "Downloading...\n",
            "From: https://drive.google.com/u/1/uc?id=1bn1ugqDU_fqs1O7av-OAJ7BjbJWj2UIj\n",
            "To: /content/test.csv\n",
            "100% 220M/220M [00:02<00:00, 107MB/s]\n",
            "Downloading...\n",
            "From: https://drive.google.com/uc?id=1oeJJVvSkC2zVqzzvEdFceX8jVx6gHBiF\n",
            "To: /content/sample_submission.csv\n",
            "100% 39.1M/39.1M [00:00<00:00, 90.5MB/s]\n"
          ]
        }
      ]
    },
    {
      "cell_type": "code",
      "execution_count": 3,
      "id": "39147e55",
      "metadata": {
        "colab": {
          "base_uri": "https://localhost:8080/"
        },
        "id": "39147e55",
        "outputId": "1042406e-af27-48fb-e85d-a2ffc55db40e"
      },
      "outputs": [
        {
          "output_type": "stream",
          "name": "stdout",
          "text": [
            "train_df: (6036000, 8)\n"
          ]
        }
      ],
      "source": [
        "train_df = pd.read_csv('/content/train.csv')\n",
        "print(f\"train_df: {train_df.shape}\")"
      ]
    },
    {
      "cell_type": "code",
      "execution_count": 4,
      "id": "0af329d1",
      "metadata": {
        "colab": {
          "base_uri": "https://localhost:8080/"
        },
        "id": "0af329d1",
        "outputId": "4ad8d204-572d-4d5d-c216-d6542fe54db2"
      },
      "outputs": [
        {
          "output_type": "stream",
          "name": "stdout",
          "text": [
            "test_df: (4024000, 7)\n"
          ]
        }
      ],
      "source": [
        "test_df = pd.read_csv('/content/test.csv')\n",
        "print(f\"test_df: {test_df.shape}\")"
      ]
    },
    {
      "cell_type": "code",
      "source": [
        "sample_submission = pd.read_csv(\"/content/sample_submission.csv\")"
      ],
      "metadata": {
        "id": "Sfj1_mx1FFSP"
      },
      "id": "Sfj1_mx1FFSP",
      "execution_count": 5,
      "outputs": []
    },
    {
      "cell_type": "markdown",
      "source": [
        "### 3.1.1. Khám phá dữ liệu:"
      ],
      "metadata": {
        "id": "beN7LAStwNaK"
      },
      "id": "beN7LAStwNaK"
    },
    {
      "cell_type": "markdown",
      "source": [
        "Class `HorizontalDisplay` hỗ trợ hiển thị."
      ],
      "metadata": {
        "id": "kC4s_n81CoQO"
      },
      "id": "kC4s_n81CoQO"
    },
    {
      "cell_type": "code",
      "source": [
        "class HorizontalDisplay:\n",
        "    \"\"\"Hỗ trợ hiển thị dataframe\"\"\"\n",
        "    def __init__(self, *args):\n",
        "        self.args = args\n",
        "\n",
        "    def _repr_html_(self):\n",
        "        template = '<div style=\"float: left; padding: 10px;\">{0}</div>'\n",
        "        return \"\\n\".join(template.format(arg._repr_html_())\n",
        "                         for arg in self.args)"
      ],
      "metadata": {
        "id": "3anbJZXIpGOt"
      },
      "id": "3anbJZXIpGOt",
      "execution_count": null,
      "outputs": []
    },
    {
      "cell_type": "markdown",
      "source": [
        "Xem từng record của từng file:"
      ],
      "metadata": {
        "id": "V-L-Py7MC4Lw"
      },
      "id": "V-L-Py7MC4Lw"
    },
    {
      "cell_type": "code",
      "source": [
        "HorizontalDisplay(train_df, test_df, sample_submission)"
      ],
      "metadata": {
        "colab": {
          "base_uri": "https://localhost:8080/",
          "height": 1000
        },
        "id": "y2V7PFprEMD3",
        "outputId": "7be37937-4aa7-4118-ba74-1ab37f1f5e3b"
      },
      "id": "y2V7PFprEMD3",
      "execution_count": null,
      "outputs": [
        {
          "output_type": "execute_result",
          "data": {
            "text/plain": [
              "<__main__.HorizontalDisplay at 0x7f7a5254dd10>"
            ],
            "text/html": [
              "<div style=\"float: left; padding: 10px;\"><div>\n",
              "<style scoped>\n",
              "    .dataframe tbody tr th:only-of-type {\n",
              "        vertical-align: middle;\n",
              "    }\n",
              "\n",
              "    .dataframe tbody tr th {\n",
              "        vertical-align: top;\n",
              "    }\n",
              "\n",
              "    .dataframe thead th {\n",
              "        text-align: right;\n",
              "    }\n",
              "</style>\n",
              "<table border=\"1\" class=\"dataframe\">\n",
              "  <thead>\n",
              "    <tr style=\"text-align: right;\">\n",
              "      <th></th>\n",
              "      <th>id</th>\n",
              "      <th>breath_id</th>\n",
              "      <th>R</th>\n",
              "      <th>C</th>\n",
              "      <th>time_step</th>\n",
              "      <th>u_in</th>\n",
              "      <th>u_out</th>\n",
              "      <th>pressure</th>\n",
              "    </tr>\n",
              "  </thead>\n",
              "  <tbody>\n",
              "    <tr>\n",
              "      <th>0</th>\n",
              "      <td>1</td>\n",
              "      <td>1</td>\n",
              "      <td>20</td>\n",
              "      <td>50</td>\n",
              "      <td>0.000000</td>\n",
              "      <td>0.083334</td>\n",
              "      <td>0</td>\n",
              "      <td>5.837492</td>\n",
              "    </tr>\n",
              "    <tr>\n",
              "      <th>1</th>\n",
              "      <td>2</td>\n",
              "      <td>1</td>\n",
              "      <td>20</td>\n",
              "      <td>50</td>\n",
              "      <td>0.033652</td>\n",
              "      <td>18.383041</td>\n",
              "      <td>0</td>\n",
              "      <td>5.907794</td>\n",
              "    </tr>\n",
              "    <tr>\n",
              "      <th>2</th>\n",
              "      <td>3</td>\n",
              "      <td>1</td>\n",
              "      <td>20</td>\n",
              "      <td>50</td>\n",
              "      <td>0.067514</td>\n",
              "      <td>22.509278</td>\n",
              "      <td>0</td>\n",
              "      <td>7.876254</td>\n",
              "    </tr>\n",
              "    <tr>\n",
              "      <th>3</th>\n",
              "      <td>4</td>\n",
              "      <td>1</td>\n",
              "      <td>20</td>\n",
              "      <td>50</td>\n",
              "      <td>0.101542</td>\n",
              "      <td>22.808822</td>\n",
              "      <td>0</td>\n",
              "      <td>11.742872</td>\n",
              "    </tr>\n",
              "    <tr>\n",
              "      <th>4</th>\n",
              "      <td>5</td>\n",
              "      <td>1</td>\n",
              "      <td>20</td>\n",
              "      <td>50</td>\n",
              "      <td>0.135756</td>\n",
              "      <td>25.355850</td>\n",
              "      <td>0</td>\n",
              "      <td>12.234987</td>\n",
              "    </tr>\n",
              "    <tr>\n",
              "      <th>...</th>\n",
              "      <td>...</td>\n",
              "      <td>...</td>\n",
              "      <td>...</td>\n",
              "      <td>...</td>\n",
              "      <td>...</td>\n",
              "      <td>...</td>\n",
              "      <td>...</td>\n",
              "      <td>...</td>\n",
              "    </tr>\n",
              "    <tr>\n",
              "      <th>6035995</th>\n",
              "      <td>6035996</td>\n",
              "      <td>125749</td>\n",
              "      <td>50</td>\n",
              "      <td>10</td>\n",
              "      <td>2.504603</td>\n",
              "      <td>1.489714</td>\n",
              "      <td>1</td>\n",
              "      <td>3.869032</td>\n",
              "    </tr>\n",
              "    <tr>\n",
              "      <th>6035996</th>\n",
              "      <td>6035997</td>\n",
              "      <td>125749</td>\n",
              "      <td>50</td>\n",
              "      <td>10</td>\n",
              "      <td>2.537961</td>\n",
              "      <td>1.488497</td>\n",
              "      <td>1</td>\n",
              "      <td>3.869032</td>\n",
              "    </tr>\n",
              "    <tr>\n",
              "      <th>6035997</th>\n",
              "      <td>6035998</td>\n",
              "      <td>125749</td>\n",
              "      <td>50</td>\n",
              "      <td>10</td>\n",
              "      <td>2.571408</td>\n",
              "      <td>1.558978</td>\n",
              "      <td>1</td>\n",
              "      <td>3.798729</td>\n",
              "    </tr>\n",
              "    <tr>\n",
              "      <th>6035998</th>\n",
              "      <td>6035999</td>\n",
              "      <td>125749</td>\n",
              "      <td>50</td>\n",
              "      <td>10</td>\n",
              "      <td>2.604744</td>\n",
              "      <td>1.272663</td>\n",
              "      <td>1</td>\n",
              "      <td>4.079938</td>\n",
              "    </tr>\n",
              "    <tr>\n",
              "      <th>6035999</th>\n",
              "      <td>6036000</td>\n",
              "      <td>125749</td>\n",
              "      <td>50</td>\n",
              "      <td>10</td>\n",
              "      <td>2.638017</td>\n",
              "      <td>1.482739</td>\n",
              "      <td>1</td>\n",
              "      <td>3.869032</td>\n",
              "    </tr>\n",
              "  </tbody>\n",
              "</table>\n",
              "<p>6036000 rows × 8 columns</p>\n",
              "</div></div>\n",
              "<div style=\"float: left; padding: 10px;\"><div>\n",
              "<style scoped>\n",
              "    .dataframe tbody tr th:only-of-type {\n",
              "        vertical-align: middle;\n",
              "    }\n",
              "\n",
              "    .dataframe tbody tr th {\n",
              "        vertical-align: top;\n",
              "    }\n",
              "\n",
              "    .dataframe thead th {\n",
              "        text-align: right;\n",
              "    }\n",
              "</style>\n",
              "<table border=\"1\" class=\"dataframe\">\n",
              "  <thead>\n",
              "    <tr style=\"text-align: right;\">\n",
              "      <th></th>\n",
              "      <th>id</th>\n",
              "      <th>breath_id</th>\n",
              "      <th>R</th>\n",
              "      <th>C</th>\n",
              "      <th>time_step</th>\n",
              "      <th>u_in</th>\n",
              "      <th>u_out</th>\n",
              "    </tr>\n",
              "  </thead>\n",
              "  <tbody>\n",
              "    <tr>\n",
              "      <th>0</th>\n",
              "      <td>1</td>\n",
              "      <td>0</td>\n",
              "      <td>5</td>\n",
              "      <td>20</td>\n",
              "      <td>0.000000</td>\n",
              "      <td>0.000000</td>\n",
              "      <td>0</td>\n",
              "    </tr>\n",
              "    <tr>\n",
              "      <th>1</th>\n",
              "      <td>2</td>\n",
              "      <td>0</td>\n",
              "      <td>5</td>\n",
              "      <td>20</td>\n",
              "      <td>0.031904</td>\n",
              "      <td>7.515046</td>\n",
              "      <td>0</td>\n",
              "    </tr>\n",
              "    <tr>\n",
              "      <th>2</th>\n",
              "      <td>3</td>\n",
              "      <td>0</td>\n",
              "      <td>5</td>\n",
              "      <td>20</td>\n",
              "      <td>0.063827</td>\n",
              "      <td>14.651675</td>\n",
              "      <td>0</td>\n",
              "    </tr>\n",
              "    <tr>\n",
              "      <th>3</th>\n",
              "      <td>4</td>\n",
              "      <td>0</td>\n",
              "      <td>5</td>\n",
              "      <td>20</td>\n",
              "      <td>0.095751</td>\n",
              "      <td>21.230610</td>\n",
              "      <td>0</td>\n",
              "    </tr>\n",
              "    <tr>\n",
              "      <th>4</th>\n",
              "      <td>5</td>\n",
              "      <td>0</td>\n",
              "      <td>5</td>\n",
              "      <td>20</td>\n",
              "      <td>0.127644</td>\n",
              "      <td>26.320956</td>\n",
              "      <td>0</td>\n",
              "    </tr>\n",
              "    <tr>\n",
              "      <th>...</th>\n",
              "      <td>...</td>\n",
              "      <td>...</td>\n",
              "      <td>...</td>\n",
              "      <td>...</td>\n",
              "      <td>...</td>\n",
              "      <td>...</td>\n",
              "      <td>...</td>\n",
              "    </tr>\n",
              "    <tr>\n",
              "      <th>4023995</th>\n",
              "      <td>4023996</td>\n",
              "      <td>125748</td>\n",
              "      <td>20</td>\n",
              "      <td>10</td>\n",
              "      <td>2.530117</td>\n",
              "      <td>4.971245</td>\n",
              "      <td>1</td>\n",
              "    </tr>\n",
              "    <tr>\n",
              "      <th>4023996</th>\n",
              "      <td>4023997</td>\n",
              "      <td>125748</td>\n",
              "      <td>20</td>\n",
              "      <td>10</td>\n",
              "      <td>2.563853</td>\n",
              "      <td>4.975709</td>\n",
              "      <td>1</td>\n",
              "    </tr>\n",
              "    <tr>\n",
              "      <th>4023997</th>\n",
              "      <td>4023998</td>\n",
              "      <td>125748</td>\n",
              "      <td>20</td>\n",
              "      <td>10</td>\n",
              "      <td>2.597475</td>\n",
              "      <td>4.979468</td>\n",
              "      <td>1</td>\n",
              "    </tr>\n",
              "    <tr>\n",
              "      <th>4023998</th>\n",
              "      <td>4023999</td>\n",
              "      <td>125748</td>\n",
              "      <td>20</td>\n",
              "      <td>10</td>\n",
              "      <td>2.631134</td>\n",
              "      <td>4.982648</td>\n",
              "      <td>1</td>\n",
              "    </tr>\n",
              "    <tr>\n",
              "      <th>4023999</th>\n",
              "      <td>4024000</td>\n",
              "      <td>125748</td>\n",
              "      <td>20</td>\n",
              "      <td>10</td>\n",
              "      <td>2.665301</td>\n",
              "      <td>4.985373</td>\n",
              "      <td>1</td>\n",
              "    </tr>\n",
              "  </tbody>\n",
              "</table>\n",
              "<p>4024000 rows × 7 columns</p>\n",
              "</div></div>\n",
              "<div style=\"float: left; padding: 10px;\"><div>\n",
              "<style scoped>\n",
              "    .dataframe tbody tr th:only-of-type {\n",
              "        vertical-align: middle;\n",
              "    }\n",
              "\n",
              "    .dataframe tbody tr th {\n",
              "        vertical-align: top;\n",
              "    }\n",
              "\n",
              "    .dataframe thead th {\n",
              "        text-align: right;\n",
              "    }\n",
              "</style>\n",
              "<table border=\"1\" class=\"dataframe\">\n",
              "  <thead>\n",
              "    <tr style=\"text-align: right;\">\n",
              "      <th></th>\n",
              "      <th>id</th>\n",
              "      <th>pressure</th>\n",
              "    </tr>\n",
              "  </thead>\n",
              "  <tbody>\n",
              "    <tr>\n",
              "      <th>0</th>\n",
              "      <td>1</td>\n",
              "      <td>0</td>\n",
              "    </tr>\n",
              "    <tr>\n",
              "      <th>1</th>\n",
              "      <td>2</td>\n",
              "      <td>0</td>\n",
              "    </tr>\n",
              "    <tr>\n",
              "      <th>2</th>\n",
              "      <td>3</td>\n",
              "      <td>0</td>\n",
              "    </tr>\n",
              "    <tr>\n",
              "      <th>3</th>\n",
              "      <td>4</td>\n",
              "      <td>0</td>\n",
              "    </tr>\n",
              "    <tr>\n",
              "      <th>4</th>\n",
              "      <td>5</td>\n",
              "      <td>0</td>\n",
              "    </tr>\n",
              "    <tr>\n",
              "      <th>...</th>\n",
              "      <td>...</td>\n",
              "      <td>...</td>\n",
              "    </tr>\n",
              "    <tr>\n",
              "      <th>4023995</th>\n",
              "      <td>4023996</td>\n",
              "      <td>0</td>\n",
              "    </tr>\n",
              "    <tr>\n",
              "      <th>4023996</th>\n",
              "      <td>4023997</td>\n",
              "      <td>0</td>\n",
              "    </tr>\n",
              "    <tr>\n",
              "      <th>4023997</th>\n",
              "      <td>4023998</td>\n",
              "      <td>0</td>\n",
              "    </tr>\n",
              "    <tr>\n",
              "      <th>4023998</th>\n",
              "      <td>4023999</td>\n",
              "      <td>0</td>\n",
              "    </tr>\n",
              "    <tr>\n",
              "      <th>4023999</th>\n",
              "      <td>4024000</td>\n",
              "      <td>0</td>\n",
              "    </tr>\n",
              "  </tbody>\n",
              "</table>\n",
              "<p>4024000 rows × 2 columns</p>\n",
              "</div></div>"
            ]
          },
          "metadata": {},
          "execution_count": 7
        }
      ]
    },
    {
      "cell_type": "code",
      "source": [
        "data = pd.concat([train_df, test_df]).reset_index(drop=True)\n",
        "HorizontalDisplay(\n",
        "    data[\"breath_id\"].value_counts().to_frame(), \n",
        "    data[\"R\"].value_counts().to_frame(),\n",
        "    data[\"C\"].value_counts().to_frame()\n",
        ")"
      ],
      "metadata": {
        "colab": {
          "base_uri": "https://localhost:8080/",
          "height": 773
        },
        "id": "f3C5jY_EENX6",
        "outputId": "b76e24e4-911e-4835-ac3c-9e9276d5c392"
      },
      "id": "f3C5jY_EENX6",
      "execution_count": null,
      "outputs": [
        {
          "output_type": "execute_result",
          "data": {
            "text/plain": [
              "<__main__.HorizontalDisplay at 0x7f7a51e51f10>"
            ],
            "text/html": [
              "<div style=\"float: left; padding: 10px;\"><div>\n",
              "<style scoped>\n",
              "    .dataframe tbody tr th:only-of-type {\n",
              "        vertical-align: middle;\n",
              "    }\n",
              "\n",
              "    .dataframe tbody tr th {\n",
              "        vertical-align: top;\n",
              "    }\n",
              "\n",
              "    .dataframe thead th {\n",
              "        text-align: right;\n",
              "    }\n",
              "</style>\n",
              "<table border=\"1\" class=\"dataframe\">\n",
              "  <thead>\n",
              "    <tr style=\"text-align: right;\">\n",
              "      <th></th>\n",
              "      <th>breath_id</th>\n",
              "    </tr>\n",
              "  </thead>\n",
              "  <tbody>\n",
              "    <tr>\n",
              "      <th>1</th>\n",
              "      <td>80</td>\n",
              "    </tr>\n",
              "    <tr>\n",
              "      <th>20976</th>\n",
              "      <td>80</td>\n",
              "    </tr>\n",
              "    <tr>\n",
              "      <th>20970</th>\n",
              "      <td>80</td>\n",
              "    </tr>\n",
              "    <tr>\n",
              "      <th>20968</th>\n",
              "      <td>80</td>\n",
              "    </tr>\n",
              "    <tr>\n",
              "      <th>20967</th>\n",
              "      <td>80</td>\n",
              "    </tr>\n",
              "    <tr>\n",
              "      <th>...</th>\n",
              "      <td>...</td>\n",
              "    </tr>\n",
              "    <tr>\n",
              "      <th>69871</th>\n",
              "      <td>80</td>\n",
              "    </tr>\n",
              "    <tr>\n",
              "      <th>69870</th>\n",
              "      <td>80</td>\n",
              "    </tr>\n",
              "    <tr>\n",
              "      <th>69869</th>\n",
              "      <td>80</td>\n",
              "    </tr>\n",
              "    <tr>\n",
              "      <th>69866</th>\n",
              "      <td>80</td>\n",
              "    </tr>\n",
              "    <tr>\n",
              "      <th>125748</th>\n",
              "      <td>80</td>\n",
              "    </tr>\n",
              "  </tbody>\n",
              "</table>\n",
              "<p>125750 rows × 1 columns</p>\n",
              "</div></div>\n",
              "<div style=\"float: left; padding: 10px;\"><div>\n",
              "<style scoped>\n",
              "    .dataframe tbody tr th:only-of-type {\n",
              "        vertical-align: middle;\n",
              "    }\n",
              "\n",
              "    .dataframe tbody tr th {\n",
              "        vertical-align: top;\n",
              "    }\n",
              "\n",
              "    .dataframe thead th {\n",
              "        text-align: right;\n",
              "    }\n",
              "</style>\n",
              "<table border=\"1\" class=\"dataframe\">\n",
              "  <thead>\n",
              "    <tr style=\"text-align: right;\">\n",
              "      <th></th>\n",
              "      <th>R</th>\n",
              "    </tr>\n",
              "  </thead>\n",
              "  <tbody>\n",
              "    <tr>\n",
              "      <th>50</th>\n",
              "      <td>4016880</td>\n",
              "    </tr>\n",
              "    <tr>\n",
              "      <th>5</th>\n",
              "      <td>3295600</td>\n",
              "    </tr>\n",
              "    <tr>\n",
              "      <th>20</th>\n",
              "      <td>2747520</td>\n",
              "    </tr>\n",
              "  </tbody>\n",
              "</table>\n",
              "</div></div>\n",
              "<div style=\"float: left; padding: 10px;\"><div>\n",
              "<style scoped>\n",
              "    .dataframe tbody tr th:only-of-type {\n",
              "        vertical-align: middle;\n",
              "    }\n",
              "\n",
              "    .dataframe tbody tr th {\n",
              "        vertical-align: top;\n",
              "    }\n",
              "\n",
              "    .dataframe thead th {\n",
              "        text-align: right;\n",
              "    }\n",
              "</style>\n",
              "<table border=\"1\" class=\"dataframe\">\n",
              "  <thead>\n",
              "    <tr style=\"text-align: right;\">\n",
              "      <th></th>\n",
              "      <th>C</th>\n",
              "    </tr>\n",
              "  </thead>\n",
              "  <tbody>\n",
              "    <tr>\n",
              "      <th>10</th>\n",
              "      <td>3749520</td>\n",
              "    </tr>\n",
              "    <tr>\n",
              "      <th>50</th>\n",
              "      <td>3287520</td>\n",
              "    </tr>\n",
              "    <tr>\n",
              "      <th>20</th>\n",
              "      <td>3022960</td>\n",
              "    </tr>\n",
              "  </tbody>\n",
              "</table>\n",
              "</div></div>"
            ]
          },
          "metadata": {},
          "execution_count": 8
        }
      ]
    },
    {
      "cell_type": "markdown",
      "source": [
        "Như vậy:\n",
        "- Trên toàn bộ dữ liệu, thuộc tính `R`, và `C` đều có ba giá trị khác nhau, các giá trị này không chênh lệch quá nhiều.\n",
        "- Trên toàn bộ dữ liệu, có 125750 `breath_id` được thu thập."
      ],
      "metadata": {
        "id": "QoQxWQlrEVMl"
      },
      "id": "QoQxWQlrEVMl"
    },
    {
      "cell_type": "markdown",
      "source": [
        "Kiểm tra tất cả các `breath_id` đều đủ 80 nhịp thở?"
      ],
      "metadata": {
        "id": "8XqDZIsmB7l2"
      },
      "id": "8XqDZIsmB7l2"
    },
    {
      "cell_type": "code",
      "source": [
        "sum(data[\"breath_id\"].value_counts() != 80)"
      ],
      "metadata": {
        "colab": {
          "base_uri": "https://localhost:8080/"
        },
        "id": "svN0dPbIBxw4",
        "outputId": "123d0d78-6039-4682-9cf4-60e2a96a0a7f"
      },
      "id": "svN0dPbIBxw4",
      "execution_count": null,
      "outputs": [
        {
          "output_type": "execute_result",
          "data": {
            "text/plain": [
              "0"
            ]
          },
          "metadata": {},
          "execution_count": 9
        }
      ]
    },
    {
      "cell_type": "markdown",
      "source": [
        "Kết quả trên cho thấy: Không có `breath_id` nào có tổng số nhịp thở khác 80. Nói cách khác, trên tất cả dữ liệu có được, tất cả các `breath_id` đều có đủ 80 nhịp thở."
      ],
      "metadata": {
        "id": "MScfHv-OCFJE"
      },
      "id": "MScfHv-OCFJE"
    },
    {
      "cell_type": "markdown",
      "source": [
        "Phân phối `pressure` ứng với `u_out`:"
      ],
      "metadata": {
        "id": "4gN2Jqjn34wi"
      },
      "id": "4gN2Jqjn34wi"
    },
    {
      "cell_type": "code",
      "source": [
        "fig, ax = plt.subplots(figsize=(14, 7))\n",
        "ax = sns.distplot(train_df.loc[train_df[\"u_out\"] == 0, \"pressure\"], ax=ax, label=\"u_out=0\", bins=200)\n",
        "ax = sns.distplot(train_df.loc[train_df[\"u_out\"] == 1, \"pressure\"], ax=ax, label=\"u_out=1\", bins=200)\n",
        "plt.legend(loc='upper right');"
      ],
      "metadata": {
        "colab": {
          "base_uri": "https://localhost:8080/",
          "height": 126
        },
        "id": "CACBgxQV6aBp",
        "outputId": "0df96b8c-9d4e-4019-c37b-31d100a76a91"
      },
      "id": "CACBgxQV6aBp",
      "execution_count": null,
      "outputs": [
        {
          "output_type": "stream",
          "name": "stderr",
          "text": [
            "/usr/local/lib/python3.7/dist-packages/seaborn/distributions.py:2619: FutureWarning: `distplot` is a deprecated function and will be removed in a future version. Please adapt your code to use either `displot` (a figure-level function with similar flexibility) or `histplot` (an axes-level function for histograms).\n",
            "  warnings.warn(msg, FutureWarning)\n",
            "/usr/local/lib/python3.7/dist-packages/seaborn/distributions.py:2619: FutureWarning: `distplot` is a deprecated function and will be removed in a future version. Please adapt your code to use either `displot` (a figure-level function with similar flexibility) or `histplot` (an axes-level function for histograms).\n",
            "  warnings.warn(msg, FutureWarning)\n"
          ]
        },
        {
          "output_type": "display_data",
          "data": {
            "text/plain": [
              "<Figure size 1008x504 with 1 Axes>"
            ],
            "image/png": "[encoded data removed]"
          },
          "metadata": {
            "needs_background": "light"
          }
        }
      ]
    },
    {
      "cell_type": "markdown",
      "source": [
        "Như vậy,\n",
        "- Với u_out = 0, tức là khi không có khí đi ra, các giá trị `pressure` tập trung trong khoảng từ 6 đến 35.\n",
        "- Với u_out = 1, tức là khi có khí đi ra, các giá trị `pressure` tập trung trong khoảng từ 4 đến 10."
      ],
      "metadata": {
        "id": "GTyrOSWXLLxD"
      },
      "id": "GTyrOSWXLLxD"
    },
    {
      "cell_type": "markdown",
      "source": [
        "Phân phối `pressure` với từng kích thước trong thuộc tính `R`:"
      ],
      "metadata": {
        "id": "YSoOY6Hj4wyU"
      },
      "id": "YSoOY6Hj4wyU"
    },
    {
      "cell_type": "code",
      "source": [
        "fig, ax = plt.subplots(figsize=(14, 7))\n",
        "ax = sns.distplot(train_df.loc[train_df[\"R\"] == 5, \"pressure\"], ax=ax, label=\"R=5\", bins=200)\n",
        "ax = sns.distplot(train_df.loc[train_df[\"R\"] == 20, \"pressure\"], ax=ax, label=\"R=20\", bins=200)\n",
        "ax = sns.distplot(train_df.loc[train_df[\"R\"] == 50, \"pressure\"], ax=ax, label=\"R=50\", bins=200)\n",
        "plt.legend(loc='upper right');"
      ],
      "metadata": {
        "colab": {
          "base_uri": "https://localhost:8080/",
          "height": 162
        },
        "id": "kk2gMJk_EdrN",
        "outputId": "783637a8-183c-459c-fe21-eca970f35f5a"
      },
      "id": "kk2gMJk_EdrN",
      "execution_count": null,
      "outputs": [
        {
          "output_type": "stream",
          "name": "stderr",
          "text": [
            "/usr/local/lib/python3.7/dist-packages/seaborn/distributions.py:2619: FutureWarning: `distplot` is a deprecated function and will be removed in a future version. Please adapt your code to use either `displot` (a figure-level function with similar flexibility) or `histplot` (an axes-level function for histograms).\n",
            "  warnings.warn(msg, FutureWarning)\n",
            "/usr/local/lib/python3.7/dist-packages/seaborn/distributions.py:2619: FutureWarning: `distplot` is a deprecated function and will be removed in a future version. Please adapt your code to use either `displot` (a figure-level function with similar flexibility) or `histplot` (an axes-level function for histograms).\n",
            "  warnings.warn(msg, FutureWarning)\n",
            "/usr/local/lib/python3.7/dist-packages/seaborn/distributions.py:2619: FutureWarning: `distplot` is a deprecated function and will be removed in a future version. Please adapt your code to use either `displot` (a figure-level function with similar flexibility) or `histplot` (an axes-level function for histograms).\n",
            "  warnings.warn(msg, FutureWarning)\n"
          ]
        },
        {
          "output_type": "display_data",
          "data": {
            "text/plain": [
              "<Figure size 1008x504 with 1 Axes>"
            ],
            "image/png": "[encoded data removed]"
          },
          "metadata": {
            "needs_background": "light"
          }
        }
      ]
    },
    {
      "cell_type": "markdown",
      "source": [
        "Hầu hết, các giá trị `pressure` tập trung ở mức từ 5 đến 10."
      ],
      "metadata": {
        "id": "-dY7eoKOMM05"
      },
      "id": "-dY7eoKOMM05"
    },
    {
      "cell_type": "markdown",
      "source": [
        "Phân bố pressure ứng với từng giá trịtrong thuộc tính `C`:"
      ],
      "metadata": {
        "id": "o908Lad6_60v"
      },
      "id": "o908Lad6_60v"
    },
    {
      "cell_type": "code",
      "source": [
        "fig, ax = plt.subplots(figsize=(14, 7))\n",
        "ax = sns.distplot(train_df.loc[train_df[\"C\"] == 10, \"pressure\"], ax=ax, label=\"C=10\", bins=200)\n",
        "ax = sns.distplot(train_df.loc[train_df[\"C\"] == 20, \"pressure\"], ax=ax, label=\"C=20\", bins=200)\n",
        "ax = sns.distplot(train_df.loc[train_df[\"C\"] == 50, \"pressure\"], ax=ax, label=\"C=50\", bins=200)\n",
        "plt.legend(loc='upper right');"
      ],
      "metadata": {
        "colab": {
          "base_uri": "https://localhost:8080/",
          "height": 162
        },
        "id": "vx8EK-R9EfCk",
        "outputId": "e9638046-6c0c-43b7-9634-d873f9f9d2cd"
      },
      "id": "vx8EK-R9EfCk",
      "execution_count": null,
      "outputs": [
        {
          "output_type": "stream",
          "name": "stderr",
          "text": [
            "/usr/local/lib/python3.7/dist-packages/seaborn/distributions.py:2619: FutureWarning: `distplot` is a deprecated function and will be removed in a future version. Please adapt your code to use either `displot` (a figure-level function with similar flexibility) or `histplot` (an axes-level function for histograms).\n",
            "  warnings.warn(msg, FutureWarning)\n",
            "/usr/local/lib/python3.7/dist-packages/seaborn/distributions.py:2619: FutureWarning: `distplot` is a deprecated function and will be removed in a future version. Please adapt your code to use either `displot` (a figure-level function with similar flexibility) or `histplot` (an axes-level function for histograms).\n",
            "  warnings.warn(msg, FutureWarning)\n",
            "/usr/local/lib/python3.7/dist-packages/seaborn/distributions.py:2619: FutureWarning: `distplot` is a deprecated function and will be removed in a future version. Please adapt your code to use either `displot` (a figure-level function with similar flexibility) or `histplot` (an axes-level function for histograms).\n",
            "  warnings.warn(msg, FutureWarning)\n"
          ]
        },
        {
          "output_type": "display_data",
          "data": {
            "text/plain": [
              "<Figure size 1008x504 with 1 Axes>"
            ],
            "image/png": "[encoded data removed]"
          },
          "metadata": {
            "needs_background": "light"
          }
        }
      ]
    },
    {
      "cell_type": "markdown",
      "source": [
        "Hầu hết, các giá trị `pressure` tập trung ở mức từ 5 đến 10. Với C mang giá trị 10 có phân bố `pressure` thấp hơn với mức 4."
      ],
      "metadata": {
        "id": "-iXqpfbDMW6B"
      },
      "id": "-iXqpfbDMW6B"
    },
    {
      "cell_type": "code",
      "source": [
        "breath_ids = list(train_df[\"breath_id\"].sample(12))\n",
        "fig, axes = plt.subplots(figsize=(24, 12), ncols=4, nrows=3)\n",
        "axes = np.ravel(axes)\n",
        "for b, ax in zip(breath_ids, axes):\n",
        "    _df = train_df[train_df[\"breath_id\"]==b].copy()\n",
        "    (_df\n",
        "     .set_index(\"time_step\")[[\"pressure\", \"u_in\", \"u_out\"]]\n",
        "     .plot(colormap='Paired',\n",
        "           ax=ax,\n",
        "           title=f\"breath_id={b}, R={_df['R'].unique()}, C={_df['C'].unique()}\", \n",
        "           linewidth=2)\n",
        "    )\n",
        "\n",
        "fig.subplots_adjust(hspace=0.3);"
      ],
      "metadata": {
        "colab": {
          "base_uri": "https://localhost:8080/",
          "height": 54
        },
        "id": "JOEH6iEnEkdX",
        "outputId": "052df13d-a2a5-4f6d-c8ad-56d57c25faea"
      },
      "id": "JOEH6iEnEkdX",
      "execution_count": null,
      "outputs": [
        {
          "output_type": "display_data",
          "data": {
            "text/plain": [
              "<Figure size 1728x864 with 12 Axes>"
            ],
            "image/png": "[encoded data removed]"
          },
          "metadata": {
            "needs_background": "light"
          }
        }
      ]
    },
    {
      "cell_type": "code",
      "source": [
        "# Dọn dẹp hết biến ở phần này:\n",
        "del data, fig, breath_ids, axes, b"
      ],
      "metadata": {
        "id": "VnDCGDqMwNEL"
      },
      "id": "VnDCGDqMwNEL",
      "execution_count": null,
      "outputs": []
    },
    {
      "cell_type": "markdown",
      "id": "fde87b9d",
      "metadata": {
        "id": "fde87b9d"
      },
      "source": [
        "### 3.2. Feature Engineer:"
      ]
    },
    {
      "cell_type": "markdown",
      "id": "9e195d45",
      "metadata": {
        "id": "9e195d45"
      },
      "source": [
        "Quá trình Feature Engineer chia làm 8 bước được mô tả chi tiết như bên dưới. Sau quá trình phân tích, tất cả các quá trình được thực hiện trong một hàm duy nhất là `add_features` với input là một dataframe với 7 features và ouput là một dataframe có 71 features.\n",
        "\n",
        "Để không làm ảnh hướng đến data, các phần trực quan về feature được thực hiện trong `small_df` được trích một phần từ tập `train_df`."
      ]
    },
    {
      "cell_type": "code",
      "source": [
        "small_df = train_df.loc[0:799,].copy()"
      ],
      "metadata": {
        "id": "vZ4-tH-KM2fD"
      },
      "id": "vZ4-tH-KM2fD",
      "execution_count": null,
      "outputs": []
    },
    {
      "cell_type": "markdown",
      "source": [
        "Quá trình feature chia làm 8 bước:"
      ],
      "metadata": {
        "id": "YHCn4o1OQJAC"
      },
      "id": "YHCn4o1OQJAC"
    },
    {
      "cell_type": "markdown",
      "source": [
        "#### 3.2.1. Các feature mang tính vật lý:"
      ],
      "metadata": {
        "id": "XFbdNXmz9hHa"
      },
      "id": "XFbdNXmz9hHa"
    },
    {
      "cell_type": "markdown",
      "source": [
        "Tính vật lý được thể hiện ở diện tích phổi, thể tích lượng khí mà phối chứa..."
      ],
      "metadata": {
        "id": "7SGT8cIbQToq"
      },
      "id": "7SGT8cIbQToq"
    },
    {
      "cell_type": "markdown",
      "source": [
        "`area` là feature thể hiện cho diện tích lượng khí thở tương ứng với từng phổi dựa vào độ mở của van khí vào nhân với bước thời gian."
      ],
      "metadata": {
        "id": "ezxuli9jXOmK"
      },
      "id": "ezxuli9jXOmK"
    },
    {
      "cell_type": "code",
      "source": [
        " # Tính tổng lượng khí thở ở mức thời gian tương ứng với độ mở của van khí vào.\n",
        " small_df['area'] = small_df['time_step'] * small_df['u_in']\n",
        " small_df[['area']].iloc[:80]"
      ],
      "metadata": {
        "colab": {
          "base_uri": "https://localhost:8080/",
          "height": 505
        },
        "id": "W5Di9hJ1X84k",
        "outputId": "f45eec78-81ab-404b-9906-162bf5afa0bc"
      },
      "id": "W5Di9hJ1X84k",
      "execution_count": null,
      "outputs": [
        {
          "output_type": "execute_result",
          "data": {
            "text/plain": [
              "         area\n",
              "0    0.000000\n",
              "1    0.618632\n",
              "2    1.519701\n",
              "3    2.316059\n",
              "4    3.442197\n",
              "..        ...\n",
              "75  12.702783\n",
              "76  12.883083\n",
              "77  13.061275\n",
              "78  13.238051\n",
              "79  13.414076\n",
              "\n",
              "[80 rows x 1 columns]"
            ],
            "text/html": [
              "\n",
              "  <div id=\"df-cc54dc0e-0c98-47f0-a016-24a05682beda\">\n",
              "    <div class=\"colab-df-container\">\n",
              "      <div>\n",
              "<style scoped>\n",
              "    .dataframe tbody tr th:only-of-type {\n",
              "        vertical-align: middle;\n",
              "    }\n",
              "\n",
              "    .dataframe tbody tr th {\n",
              "        vertical-align: top;\n",
              "    }\n",
              "\n",
              "    .dataframe thead th {\n",
              "        text-align: right;\n",
              "    }\n",
              "</style>\n",
              "<table border=\"1\" class=\"dataframe\">\n",
              "  <thead>\n",
              "    <tr style=\"text-align: right;\">\n",
              "      <th></th>\n",
              "      <th>area</th>\n",
              "    </tr>\n",
              "  </thead>\n",
              "  <tbody>\n",
              "    <tr>\n",
              "      <th>0</th>\n",
              "      <td>0.000000</td>\n",
              "    </tr>\n",
              "    <tr>\n",
              "      <th>1</th>\n",
              "      <td>0.618632</td>\n",
              "    </tr>\n",
              "    <tr>\n",
              "      <th>2</th>\n",
              "      <td>1.519701</td>\n",
              "    </tr>\n",
              "    <tr>\n",
              "      <th>3</th>\n",
              "      <td>2.316059</td>\n",
              "    </tr>\n",
              "    <tr>\n",
              "      <th>4</th>\n",
              "      <td>3.442197</td>\n",
              "    </tr>\n",
              "    <tr>\n",
              "      <th>...</th>\n",
              "      <td>...</td>\n",
              "    </tr>\n",
              "    <tr>\n",
              "      <th>75</th>\n",
              "      <td>12.702783</td>\n",
              "    </tr>\n",
              "    <tr>\n",
              "      <th>76</th>\n",
              "      <td>12.883083</td>\n",
              "    </tr>\n",
              "    <tr>\n",
              "      <th>77</th>\n",
              "      <td>13.061275</td>\n",
              "    </tr>\n",
              "    <tr>\n",
              "      <th>78</th>\n",
              "      <td>13.238051</td>\n",
              "    </tr>\n",
              "    <tr>\n",
              "      <th>79</th>\n",
              "      <td>13.414076</td>\n",
              "    </tr>\n",
              "  </tbody>\n",
              "</table>\n",
              "<p>80 rows × 1 columns</p>\n",
              "</div>\n",
              "      <button class=\"colab-df-convert\" onclick=\"convertToInteractive('df-cc54dc0e-0c98-47f0-a016-24a05682beda')\"\n",
              "              title=\"Convert this dataframe to an interactive table.\"\n",
              "              style=\"display:none;\">\n",
              "        \n",
              "  <svg xmlns=\"http://www.w3.org/2000/svg\" height=\"24px\"viewBox=\"0 0 24 24\"\n",
              "       width=\"24px\">\n",
              "    <path d=\"M0 0h24v24H0V0z\" fill=\"none\"/>\n",
              "    <path d=\"M18.56 5.44l.94 2.06.94-2.06 2.06-.94-2.06-.94-.94-2.06-.94 2.06-2.06.94zm-11 1L8.5 8.5l.94-2.06 2.06-.94-2.06-.94L8.5 2.5l-.94 2.06-2.06.94zm10 10l.94 2.06.94-2.06 2.06-.94-2.06-.94-.94-2.06-.94 2.06-2.06.94z\"/><path d=\"M17.41 7.96l-1.37-1.37c-.4-.4-.92-.59-1.43-.59-.52 0-1.04.2-1.43.59L10.3 9.45l-7.72 7.72c-.78.78-.78 2.05 0 2.83L4 21.41c.39.39.9.59 1.41.59.51 0 1.02-.2 1.41-.59l7.78-7.78 2.81-2.81c.8-.78.8-2.07 0-2.86zM5.41 20L4 18.59l7.72-7.72 1.47 1.35L5.41 20z\"/>\n",
              "  </svg>\n",
              "      </button>\n",
              "      \n",
              "  <style>\n",
              "    .colab-df-container {\n",
              "      display:flex;\n",
              "      flex-wrap:wrap;\n",
              "      gap: 12px;\n",
              "    }\n",
              "\n",
              "    .colab-df-convert {\n",
              "      background-color: #E8F0FE;\n",
              "      border: none;\n",
              "      border-radius: 50%;\n",
              "      cursor: pointer;\n",
              "      display: none;\n",
              "      fill: #1967D2;\n",
              "      height: 32px;\n",
              "      padding: 0 0 0 0;\n",
              "      width: 32px;\n",
              "    }\n",
              "\n",
              "    .colab-df-convert:hover {\n",
              "      background-color: #E2EBFA;\n",
              "      box-shadow: 0px 1px 2px rgba(60, 64, 67, 0.3), 0px 1px 3px 1px rgba(60, 64, 67, 0.15);\n",
              "      fill: #174EA6;\n",
              "    }\n",
              "\n",
              "    [theme=dark] .colab-df-convert {\n",
              "      background-color: #3B4455;\n",
              "      fill: #D2E3FC;\n",
              "    }\n",
              "\n",
              "    [theme=dark] .colab-df-convert:hover {\n",
              "      background-color: #434B5C;\n",
              "      box-shadow: 0px 1px 3px 1px rgba(0, 0, 0, 0.15);\n",
              "      filter: drop-shadow(0px 1px 2px rgba(0, 0, 0, 0.3));\n",
              "      fill: #FFFFFF;\n",
              "    }\n",
              "  </style>\n",
              "\n",
              "      <script>\n",
              "        const buttonEl =\n",
              "          document.querySelector('#df-cc54dc0e-0c98-47f0-a016-24a05682beda button.colab-df-convert');\n",
              "        buttonEl.style.display =\n",
              "          google.colab.kernel.accessAllowed ? 'block' : 'none';\n",
              "\n",
              "        async function convertToInteractive(key) {\n",
              "          const element = document.querySelector('#df-cc54dc0e-0c98-47f0-a016-24a05682beda');\n",
              "          const dataTable =\n",
              "            await google.colab.kernel.invokeFunction('convertToInteractive',\n",
              "                                                     [key], {});\n",
              "          if (!dataTable) return;\n",
              "\n",
              "          const docLinkHtml = 'Like what you see? Visit the ' +\n",
              "            '<a target=\"_blank\" href=https://colab.research.google.com/notebooks/data_table.ipynb>data table notebook</a>'\n",
              "            + ' to learn more about interactive tables.';\n",
              "          element.innerHTML = '';\n",
              "          dataTable['output_type'] = 'display_data';\n",
              "          await google.colab.output.renderOutput(dataTable, element);\n",
              "          const docLink = document.createElement('div');\n",
              "          docLink.innerHTML = docLinkHtml;\n",
              "          element.appendChild(docLink);\n",
              "        }\n",
              "      </script>\n",
              "    </div>\n",
              "  </div>\n",
              "  "
            ]
          },
          "metadata": {},
          "execution_count": 16
        }
      ]
    },
    {
      "cell_type": "code",
      "source": [
        "# Tính tổng tích lũy lượng khí tương ứng với từng phổi.\n",
        "small_df['area'] = small_df.groupby('breath_id')['area'].cumsum()\n",
        "small_df[['area']].iloc[:80]"
      ],
      "metadata": {
        "id": "T6fBjQNl9gxO",
        "colab": {
          "base_uri": "https://localhost:8080/",
          "height": 505
        },
        "outputId": "72de180c-0bcb-42cb-b36f-4c9e59602bd6"
      },
      "id": "T6fBjQNl9gxO",
      "execution_count": null,
      "outputs": [
        {
          "output_type": "execute_result",
          "data": {
            "text/plain": [
              "          area\n",
              "0     0.000000\n",
              "1     0.618632\n",
              "2     2.138333\n",
              "3     4.454391\n",
              "4     7.896588\n",
              "..         ...\n",
              "75  585.651356\n",
              "76  598.534439\n",
              "77  611.595714\n",
              "78  624.833765\n",
              "79  638.247842\n",
              "\n",
              "[80 rows x 1 columns]"
            ],
            "text/html": [
              "\n",
              "  <div id=\"df-046e7cb2-93d8-4abc-bb46-dc14bceb1588\">\n",
              "    <div class=\"colab-df-container\">\n",
              "      <div>\n",
              "<style scoped>\n",
              "    .dataframe tbody tr th:only-of-type {\n",
              "        vertical-align: middle;\n",
              "    }\n",
              "\n",
              "    .dataframe tbody tr th {\n",
              "        vertical-align: top;\n",
              "    }\n",
              "\n",
              "    .dataframe thead th {\n",
              "        text-align: right;\n",
              "    }\n",
              "</style>\n",
              "<table border=\"1\" class=\"dataframe\">\n",
              "  <thead>\n",
              "    <tr style=\"text-align: right;\">\n",
              "      <th></th>\n",
              "      <th>area</th>\n",
              "    </tr>\n",
              "  </thead>\n",
              "  <tbody>\n",
              "    <tr>\n",
              "      <th>0</th>\n",
              "      <td>0.000000</td>\n",
              "    </tr>\n",
              "    <tr>\n",
              "      <th>1</th>\n",
              "      <td>0.618632</td>\n",
              "    </tr>\n",
              "    <tr>\n",
              "      <th>2</th>\n",
              "      <td>2.138333</td>\n",
              "    </tr>\n",
              "    <tr>\n",
              "      <th>3</th>\n",
              "      <td>4.454391</td>\n",
              "    </tr>\n",
              "    <tr>\n",
              "      <th>4</th>\n",
              "      <td>7.896588</td>\n",
              "    </tr>\n",
              "    <tr>\n",
              "      <th>...</th>\n",
              "      <td>...</td>\n",
              "    </tr>\n",
              "    <tr>\n",
              "      <th>75</th>\n",
              "      <td>585.651356</td>\n",
              "    </tr>\n",
              "    <tr>\n",
              "      <th>76</th>\n",
              "      <td>598.534439</td>\n",
              "    </tr>\n",
              "    <tr>\n",
              "      <th>77</th>\n",
              "      <td>611.595714</td>\n",
              "    </tr>\n",
              "    <tr>\n",
              "      <th>78</th>\n",
              "      <td>624.833765</td>\n",
              "    </tr>\n",
              "    <tr>\n",
              "      <th>79</th>\n",
              "      <td>638.247842</td>\n",
              "    </tr>\n",
              "  </tbody>\n",
              "</table>\n",
              "<p>80 rows × 1 columns</p>\n",
              "</div>\n",
              "      <button class=\"colab-df-convert\" onclick=\"convertToInteractive('df-046e7cb2-93d8-4abc-bb46-dc14bceb1588')\"\n",
              "              title=\"Convert this dataframe to an interactive table.\"\n",
              "              style=\"display:none;\">\n",
              "        \n",
              "  <svg xmlns=\"http://www.w3.org/2000/svg\" height=\"24px\"viewBox=\"0 0 24 24\"\n",
              "       width=\"24px\">\n",
              "    <path d=\"M0 0h24v24H0V0z\" fill=\"none\"/>\n",
              "    <path d=\"M18.56 5.44l.94 2.06.94-2.06 2.06-.94-2.06-.94-.94-2.06-.94 2.06-2.06.94zm-11 1L8.5 8.5l.94-2.06 2.06-.94-2.06-.94L8.5 2.5l-.94 2.06-2.06.94zm10 10l.94 2.06.94-2.06 2.06-.94-2.06-.94-.94-2.06-.94 2.06-2.06.94z\"/><path d=\"M17.41 7.96l-1.37-1.37c-.4-.4-.92-.59-1.43-.59-.52 0-1.04.2-1.43.59L10.3 9.45l-7.72 7.72c-.78.78-.78 2.05 0 2.83L4 21.41c.39.39.9.59 1.41.59.51 0 1.02-.2 1.41-.59l7.78-7.78 2.81-2.81c.8-.78.8-2.07 0-2.86zM5.41 20L4 18.59l7.72-7.72 1.47 1.35L5.41 20z\"/>\n",
              "  </svg>\n",
              "      </button>\n",
              "      \n",
              "  <style>\n",
              "    .colab-df-container {\n",
              "      display:flex;\n",
              "      flex-wrap:wrap;\n",
              "      gap: 12px;\n",
              "    }\n",
              "\n",
              "    .colab-df-convert {\n",
              "      background-color: #E8F0FE;\n",
              "      border: none;\n",
              "      border-radius: 50%;\n",
              "      cursor: pointer;\n",
              "      display: none;\n",
              "      fill: #1967D2;\n",
              "      height: 32px;\n",
              "      padding: 0 0 0 0;\n",
              "      width: 32px;\n",
              "    }\n",
              "\n",
              "    .colab-df-convert:hover {\n",
              "      background-color: #E2EBFA;\n",
              "      box-shadow: 0px 1px 2px rgba(60, 64, 67, 0.3), 0px 1px 3px 1px rgba(60, 64, 67, 0.15);\n",
              "      fill: #174EA6;\n",
              "    }\n",
              "\n",
              "    [theme=dark] .colab-df-convert {\n",
              "      background-color: #3B4455;\n",
              "      fill: #D2E3FC;\n",
              "    }\n",
              "\n",
              "    [theme=dark] .colab-df-convert:hover {\n",
              "      background-color: #434B5C;\n",
              "      box-shadow: 0px 1px 3px 1px rgba(0, 0, 0, 0.15);\n",
              "      filter: drop-shadow(0px 1px 2px rgba(0, 0, 0, 0.3));\n",
              "      fill: #FFFFFF;\n",
              "    }\n",
              "  </style>\n",
              "\n",
              "      <script>\n",
              "        const buttonEl =\n",
              "          document.querySelector('#df-046e7cb2-93d8-4abc-bb46-dc14bceb1588 button.colab-df-convert');\n",
              "        buttonEl.style.display =\n",
              "          google.colab.kernel.accessAllowed ? 'block' : 'none';\n",
              "\n",
              "        async function convertToInteractive(key) {\n",
              "          const element = document.querySelector('#df-046e7cb2-93d8-4abc-bb46-dc14bceb1588');\n",
              "          const dataTable =\n",
              "            await google.colab.kernel.invokeFunction('convertToInteractive',\n",
              "                                                     [key], {});\n",
              "          if (!dataTable) return;\n",
              "\n",
              "          const docLinkHtml = 'Like what you see? Visit the ' +\n",
              "            '<a target=\"_blank\" href=https://colab.research.google.com/notebooks/data_table.ipynb>data table notebook</a>'\n",
              "            + ' to learn more about interactive tables.';\n",
              "          element.innerHTML = '';\n",
              "          dataTable['output_type'] = 'display_data';\n",
              "          await google.colab.output.renderOutput(dataTable, element);\n",
              "          const docLink = document.createElement('div');\n",
              "          docLink.innerHTML = docLinkHtml;\n",
              "          element.appendChild(docLink);\n",
              "        }\n",
              "      </script>\n",
              "    </div>\n",
              "  </div>\n",
              "  "
            ]
          },
          "metadata": {},
          "execution_count": 17
        }
      ]
    },
    {
      "cell_type": "markdown",
      "source": [
        "`cross` là feature lấy tích của `u_in` và `u_out`. Vì `u_out` chỉ có hai giá trị là 0 và 1, nên feature này có thể tách được lượng khí `u_in` thực sự hữu ích owr pha khí ra."
      ],
      "metadata": {
        "id": "DFRqGuE_gyx3"
      },
      "id": "DFRqGuE_gyx3"
    },
    {
      "cell_type": "code",
      "source": [
        "# Tính tích chéo của u_in và u_out\n",
        "small_df['cross'] = small_df['u_in'] * small_df['u_out']\n",
        "small_df[['cross']].iloc[0:80]"
      ],
      "metadata": {
        "colab": {
          "base_uri": "https://localhost:8080/",
          "height": 505
        },
        "id": "kEbDtadTWtFv",
        "outputId": "2420040a-41f3-4022-e27d-13765fd09abe"
      },
      "id": "kEbDtadTWtFv",
      "execution_count": null,
      "outputs": [
        {
          "output_type": "execute_result",
          "data": {
            "text/plain": [
              "       cross\n",
              "0   0.000000\n",
              "1   0.000000\n",
              "2   0.000000\n",
              "3   0.000000\n",
              "4   0.000000\n",
              "..       ...\n",
              "75  4.974474\n",
              "76  4.978481\n",
              "77  4.981847\n",
              "78  4.984683\n",
              "79  4.987079\n",
              "\n",
              "[80 rows x 1 columns]"
            ],
            "text/html": [
              "\n",
              "  <div id=\"df-aad62372-21b6-46cb-a65e-14c425af15d4\">\n",
              "    <div class=\"colab-df-container\">\n",
              "      <div>\n",
              "<style scoped>\n",
              "    .dataframe tbody tr th:only-of-type {\n",
              "        vertical-align: middle;\n",
              "    }\n",
              "\n",
              "    .dataframe tbody tr th {\n",
              "        vertical-align: top;\n",
              "    }\n",
              "\n",
              "    .dataframe thead th {\n",
              "        text-align: right;\n",
              "    }\n",
              "</style>\n",
              "<table border=\"1\" class=\"dataframe\">\n",
              "  <thead>\n",
              "    <tr style=\"text-align: right;\">\n",
              "      <th></th>\n",
              "      <th>cross</th>\n",
              "    </tr>\n",
              "  </thead>\n",
              "  <tbody>\n",
              "    <tr>\n",
              "      <th>0</th>\n",
              "      <td>0.000000</td>\n",
              "    </tr>\n",
              "    <tr>\n",
              "      <th>1</th>\n",
              "      <td>0.000000</td>\n",
              "    </tr>\n",
              "    <tr>\n",
              "      <th>2</th>\n",
              "      <td>0.000000</td>\n",
              "    </tr>\n",
              "    <tr>\n",
              "      <th>3</th>\n",
              "      <td>0.000000</td>\n",
              "    </tr>\n",
              "    <tr>\n",
              "      <th>4</th>\n",
              "      <td>0.000000</td>\n",
              "    </tr>\n",
              "    <tr>\n",
              "      <th>...</th>\n",
              "      <td>...</td>\n",
              "    </tr>\n",
              "    <tr>\n",
              "      <th>75</th>\n",
              "      <td>4.974474</td>\n",
              "    </tr>\n",
              "    <tr>\n",
              "      <th>76</th>\n",
              "      <td>4.978481</td>\n",
              "    </tr>\n",
              "    <tr>\n",
              "      <th>77</th>\n",
              "      <td>4.981847</td>\n",
              "    </tr>\n",
              "    <tr>\n",
              "      <th>78</th>\n",
              "      <td>4.984683</td>\n",
              "    </tr>\n",
              "    <tr>\n",
              "      <th>79</th>\n",
              "      <td>4.987079</td>\n",
              "    </tr>\n",
              "  </tbody>\n",
              "</table>\n",
              "<p>80 rows × 1 columns</p>\n",
              "</div>\n",
              "      <button class=\"colab-df-convert\" onclick=\"convertToInteractive('df-aad62372-21b6-46cb-a65e-14c425af15d4')\"\n",
              "              title=\"Convert this dataframe to an interactive table.\"\n",
              "              style=\"display:none;\">\n",
              "        \n",
              "  <svg xmlns=\"http://www.w3.org/2000/svg\" height=\"24px\"viewBox=\"0 0 24 24\"\n",
              "       width=\"24px\">\n",
              "    <path d=\"M0 0h24v24H0V0z\" fill=\"none\"/>\n",
              "    <path d=\"M18.56 5.44l.94 2.06.94-2.06 2.06-.94-2.06-.94-.94-2.06-.94 2.06-2.06.94zm-11 1L8.5 8.5l.94-2.06 2.06-.94-2.06-.94L8.5 2.5l-.94 2.06-2.06.94zm10 10l.94 2.06.94-2.06 2.06-.94-2.06-.94-.94-2.06-.94 2.06-2.06.94z\"/><path d=\"M17.41 7.96l-1.37-1.37c-.4-.4-.92-.59-1.43-.59-.52 0-1.04.2-1.43.59L10.3 9.45l-7.72 7.72c-.78.78-.78 2.05 0 2.83L4 21.41c.39.39.9.59 1.41.59.51 0 1.02-.2 1.41-.59l7.78-7.78 2.81-2.81c.8-.78.8-2.07 0-2.86zM5.41 20L4 18.59l7.72-7.72 1.47 1.35L5.41 20z\"/>\n",
              "  </svg>\n",
              "      </button>\n",
              "      \n",
              "  <style>\n",
              "    .colab-df-container {\n",
              "      display:flex;\n",
              "      flex-wrap:wrap;\n",
              "      gap: 12px;\n",
              "    }\n",
              "\n",
              "    .colab-df-convert {\n",
              "      background-color: #E8F0FE;\n",
              "      border: none;\n",
              "      border-radius: 50%;\n",
              "      cursor: pointer;\n",
              "      display: none;\n",
              "      fill: #1967D2;\n",
              "      height: 32px;\n",
              "      padding: 0 0 0 0;\n",
              "      width: 32px;\n",
              "    }\n",
              "\n",
              "    .colab-df-convert:hover {\n",
              "      background-color: #E2EBFA;\n",
              "      box-shadow: 0px 1px 2px rgba(60, 64, 67, 0.3), 0px 1px 3px 1px rgba(60, 64, 67, 0.15);\n",
              "      fill: #174EA6;\n",
              "    }\n",
              "\n",
              "    [theme=dark] .colab-df-convert {\n",
              "      background-color: #3B4455;\n",
              "      fill: #D2E3FC;\n",
              "    }\n",
              "\n",
              "    [theme=dark] .colab-df-convert:hover {\n",
              "      background-color: #434B5C;\n",
              "      box-shadow: 0px 1px 3px 1px rgba(0, 0, 0, 0.15);\n",
              "      filter: drop-shadow(0px 1px 2px rgba(0, 0, 0, 0.3));\n",
              "      fill: #FFFFFF;\n",
              "    }\n",
              "  </style>\n",
              "\n",
              "      <script>\n",
              "        const buttonEl =\n",
              "          document.querySelector('#df-aad62372-21b6-46cb-a65e-14c425af15d4 button.colab-df-convert');\n",
              "        buttonEl.style.display =\n",
              "          google.colab.kernel.accessAllowed ? 'block' : 'none';\n",
              "\n",
              "        async function convertToInteractive(key) {\n",
              "          const element = document.querySelector('#df-aad62372-21b6-46cb-a65e-14c425af15d4');\n",
              "          const dataTable =\n",
              "            await google.colab.kernel.invokeFunction('convertToInteractive',\n",
              "                                                     [key], {});\n",
              "          if (!dataTable) return;\n",
              "\n",
              "          const docLinkHtml = 'Like what you see? Visit the ' +\n",
              "            '<a target=\"_blank\" href=https://colab.research.google.com/notebooks/data_table.ipynb>data table notebook</a>'\n",
              "            + ' to learn more about interactive tables.';\n",
              "          element.innerHTML = '';\n",
              "          dataTable['output_type'] = 'display_data';\n",
              "          await google.colab.output.renderOutput(dataTable, element);\n",
              "          const docLink = document.createElement('div');\n",
              "          docLink.innerHTML = docLinkHtml;\n",
              "          element.appendChild(docLink);\n",
              "        }\n",
              "      </script>\n",
              "    </div>\n",
              "  </div>\n",
              "  "
            ]
          },
          "metadata": {},
          "execution_count": 18
        }
      ]
    },
    {
      "cell_type": "markdown",
      "source": [
        "Tương tự, `cross2` là feature lấy các mốc thời gian thực sự hữu ích ở pha khí ra."
      ],
      "metadata": {
        "id": "lfkpRA3QlZzE"
      },
      "id": "lfkpRA3QlZzE"
    },
    {
      "cell_type": "code",
      "source": [
        "# Tính tích chéo của time_step và u_out\n",
        "small_df['cross2'] = small_df['time_step'] * small_df['u_out']\n",
        "small_df[['cross2']].iloc[0:80]"
      ],
      "metadata": {
        "id": "92OnTlByABRa",
        "colab": {
          "base_uri": "https://localhost:8080/",
          "height": 505
        },
        "outputId": "0a957720-27c1-4be8-cb0a-0bfeafe05f14"
      },
      "id": "92OnTlByABRa",
      "execution_count": null,
      "outputs": [
        {
          "output_type": "execute_result",
          "data": {
            "text/plain": [
              "      cross2\n",
              "0   0.000000\n",
              "1   0.000000\n",
              "2   0.000000\n",
              "3   0.000000\n",
              "4   0.000000\n",
              "..       ...\n",
              "75  2.553593\n",
              "76  2.587754\n",
              "77  2.621773\n",
              "78  2.655746\n",
              "79  2.689766\n",
              "\n",
              "[80 rows x 1 columns]"
            ],
            "text/html": [
              "\n",
              "  <div id=\"df-92147950-55b5-4805-aa3b-67723e1770fe\">\n",
              "    <div class=\"colab-df-container\">\n",
              "      <div>\n",
              "<style scoped>\n",
              "    .dataframe tbody tr th:only-of-type {\n",
              "        vertical-align: middle;\n",
              "    }\n",
              "\n",
              "    .dataframe tbody tr th {\n",
              "        vertical-align: top;\n",
              "    }\n",
              "\n",
              "    .dataframe thead th {\n",
              "        text-align: right;\n",
              "    }\n",
              "</style>\n",
              "<table border=\"1\" class=\"dataframe\">\n",
              "  <thead>\n",
              "    <tr style=\"text-align: right;\">\n",
              "      <th></th>\n",
              "      <th>cross2</th>\n",
              "    </tr>\n",
              "  </thead>\n",
              "  <tbody>\n",
              "    <tr>\n",
              "      <th>0</th>\n",
              "      <td>0.000000</td>\n",
              "    </tr>\n",
              "    <tr>\n",
              "      <th>1</th>\n",
              "      <td>0.000000</td>\n",
              "    </tr>\n",
              "    <tr>\n",
              "      <th>2</th>\n",
              "      <td>0.000000</td>\n",
              "    </tr>\n",
              "    <tr>\n",
              "      <th>3</th>\n",
              "      <td>0.000000</td>\n",
              "    </tr>\n",
              "    <tr>\n",
              "      <th>4</th>\n",
              "      <td>0.000000</td>\n",
              "    </tr>\n",
              "    <tr>\n",
              "      <th>...</th>\n",
              "      <td>...</td>\n",
              "    </tr>\n",
              "    <tr>\n",
              "      <th>75</th>\n",
              "      <td>2.553593</td>\n",
              "    </tr>\n",
              "    <tr>\n",
              "      <th>76</th>\n",
              "      <td>2.587754</td>\n",
              "    </tr>\n",
              "    <tr>\n",
              "      <th>77</th>\n",
              "      <td>2.621773</td>\n",
              "    </tr>\n",
              "    <tr>\n",
              "      <th>78</th>\n",
              "      <td>2.655746</td>\n",
              "    </tr>\n",
              "    <tr>\n",
              "      <th>79</th>\n",
              "      <td>2.689766</td>\n",
              "    </tr>\n",
              "  </tbody>\n",
              "</table>\n",
              "<p>80 rows × 1 columns</p>\n",
              "</div>\n",
              "      <button class=\"colab-df-convert\" onclick=\"convertToInteractive('df-92147950-55b5-4805-aa3b-67723e1770fe')\"\n",
              "              title=\"Convert this dataframe to an interactive table.\"\n",
              "              style=\"display:none;\">\n",
              "        \n",
              "  <svg xmlns=\"http://www.w3.org/2000/svg\" height=\"24px\"viewBox=\"0 0 24 24\"\n",
              "       width=\"24px\">\n",
              "    <path d=\"M0 0h24v24H0V0z\" fill=\"none\"/>\n",
              "    <path d=\"M18.56 5.44l.94 2.06.94-2.06 2.06-.94-2.06-.94-.94-2.06-.94 2.06-2.06.94zm-11 1L8.5 8.5l.94-2.06 2.06-.94-2.06-.94L8.5 2.5l-.94 2.06-2.06.94zm10 10l.94 2.06.94-2.06 2.06-.94-2.06-.94-.94-2.06-.94 2.06-2.06.94z\"/><path d=\"M17.41 7.96l-1.37-1.37c-.4-.4-.92-.59-1.43-.59-.52 0-1.04.2-1.43.59L10.3 9.45l-7.72 7.72c-.78.78-.78 2.05 0 2.83L4 21.41c.39.39.9.59 1.41.59.51 0 1.02-.2 1.41-.59l7.78-7.78 2.81-2.81c.8-.78.8-2.07 0-2.86zM5.41 20L4 18.59l7.72-7.72 1.47 1.35L5.41 20z\"/>\n",
              "  </svg>\n",
              "      </button>\n",
              "      \n",
              "  <style>\n",
              "    .colab-df-container {\n",
              "      display:flex;\n",
              "      flex-wrap:wrap;\n",
              "      gap: 12px;\n",
              "    }\n",
              "\n",
              "    .colab-df-convert {\n",
              "      background-color: #E8F0FE;\n",
              "      border: none;\n",
              "      border-radius: 50%;\n",
              "      cursor: pointer;\n",
              "      display: none;\n",
              "      fill: #1967D2;\n",
              "      height: 32px;\n",
              "      padding: 0 0 0 0;\n",
              "      width: 32px;\n",
              "    }\n",
              "\n",
              "    .colab-df-convert:hover {\n",
              "      background-color: #E2EBFA;\n",
              "      box-shadow: 0px 1px 2px rgba(60, 64, 67, 0.3), 0px 1px 3px 1px rgba(60, 64, 67, 0.15);\n",
              "      fill: #174EA6;\n",
              "    }\n",
              "\n",
              "    [theme=dark] .colab-df-convert {\n",
              "      background-color: #3B4455;\n",
              "      fill: #D2E3FC;\n",
              "    }\n",
              "\n",
              "    [theme=dark] .colab-df-convert:hover {\n",
              "      background-color: #434B5C;\n",
              "      box-shadow: 0px 1px 3px 1px rgba(0, 0, 0, 0.15);\n",
              "      filter: drop-shadow(0px 1px 2px rgba(0, 0, 0, 0.3));\n",
              "      fill: #FFFFFF;\n",
              "    }\n",
              "  </style>\n",
              "\n",
              "      <script>\n",
              "        const buttonEl =\n",
              "          document.querySelector('#df-92147950-55b5-4805-aa3b-67723e1770fe button.colab-df-convert');\n",
              "        buttonEl.style.display =\n",
              "          google.colab.kernel.accessAllowed ? 'block' : 'none';\n",
              "\n",
              "        async function convertToInteractive(key) {\n",
              "          const element = document.querySelector('#df-92147950-55b5-4805-aa3b-67723e1770fe');\n",
              "          const dataTable =\n",
              "            await google.colab.kernel.invokeFunction('convertToInteractive',\n",
              "                                                     [key], {});\n",
              "          if (!dataTable) return;\n",
              "\n",
              "          const docLinkHtml = 'Like what you see? Visit the ' +\n",
              "            '<a target=\"_blank\" href=https://colab.research.google.com/notebooks/data_table.ipynb>data table notebook</a>'\n",
              "            + ' to learn more about interactive tables.';\n",
              "          element.innerHTML = '';\n",
              "          dataTable['output_type'] = 'display_data';\n",
              "          await google.colab.output.renderOutput(dataTable, element);\n",
              "          const docLink = document.createElement('div');\n",
              "          docLink.innerHTML = docLinkHtml;\n",
              "          element.appendChild(docLink);\n",
              "        }\n",
              "      </script>\n",
              "    </div>\n",
              "  </div>\n",
              "  "
            ]
          },
          "metadata": {},
          "execution_count": 19
        }
      ]
    },
    {
      "cell_type": "markdown",
      "source": [
        "Feature `u_in_cumsum` là feature tính tổng tích lũy của lượng khí vào. Tính năng này được [thảo luận ở đây](https://www.kaggle.com/c/ventilator-pressure-prediction/discussion/273974), người đề xuất **@Carl McBrife Ellis** cho rằng nó cải thiện điểm đáng kể. Phía sau điều này chính là áp suất trong phổi tỉ lệ với lượng không khí thực sự được bơm vào phổi. Rõ ràng, tính năng này không hữu ích khi thở ra, nhưng vì giai đoạn thở ra không được tính điểm, vậy nên mọi thứ vẫn ổn. Trên thực tế, nó mang ý nghĩa thể hiện tốc độ thay đổi của áp suất được điều chỉnh bởi độ mở van (u_in)."
      ],
      "metadata": {
        "id": "bxR8DEnsMSiB"
      },
      "id": "bxR8DEnsMSiB"
    },
    {
      "cell_type": "code",
      "source": [
        "small_df['u_in_cumsum'] = (small_df['u_in']).groupby(small_df['breath_id']).cumsum()\n",
        "small_df['u_in_cumsum'] .iloc[:80]"
      ],
      "metadata": {
        "id": "YZsLQO1JMRzF",
        "colab": {
          "base_uri": "https://localhost:8080/"
        },
        "outputId": "f67a7adb-97b1-4b2f-d0d9-bffaff143cb1"
      },
      "id": "YZsLQO1JMRzF",
      "execution_count": null,
      "outputs": [
        {
          "output_type": "execute_result",
          "data": {
            "text/plain": [
              "0       0.083334\n",
              "1      18.466375\n",
              "2      40.975653\n",
              "3      63.784476\n",
              "4      89.140326\n",
              "         ...    \n",
              "75    791.748433\n",
              "76    796.726915\n",
              "77    801.708762\n",
              "78    806.693445\n",
              "79    811.680524\n",
              "Name: u_in_cumsum, Length: 80, dtype: float64"
            ]
          },
          "metadata": {},
          "execution_count": 20
        }
      ]
    },
    {
      "cell_type": "markdown",
      "source": [
        "Tương tự, feature `time_step` cho thông tin về tổng thời gian tích lũy của mỗi phổi."
      ],
      "metadata": {
        "id": "uVEUG0KuZFz4"
      },
      "id": "uVEUG0KuZFz4"
    },
    {
      "cell_type": "code",
      "source": [
        "small_df['time_step_cumsum'] = small_df.groupby(['breath_id'])['time_step'].cumsum()\n",
        "small_df[['time_step_cumsum']].iloc[:80]"
      ],
      "metadata": {
        "id": "WV9nEcQ6YxPq",
        "colab": {
          "base_uri": "https://localhost:8080/",
          "height": 488
        },
        "outputId": "165ed648-6b70-4fed-8f3d-01ced5b22c73"
      },
      "id": "WV9nEcQ6YxPq",
      "execution_count": null,
      "outputs": [
        {
          "output_type": "execute_result",
          "data": {
            "text/plain": [
              "    time_step_cumsum\n",
              "0           0.000000\n",
              "1           0.033652\n",
              "2           0.101167\n",
              "3           0.202709\n",
              "4           0.338464\n",
              "..               ...\n",
              "75         97.013447\n",
              "76         99.601200\n",
              "77        102.222974\n",
              "78        104.878720\n",
              "79        107.568486\n",
              "\n",
              "[80 rows x 1 columns]"
            ],
            "text/html": [
              "\n",
              "  <div id=\"df-15fcaedc-9b9d-4905-b225-d017e80ed1f9\">\n",
              "    <div class=\"colab-df-container\">\n",
              "      <div>\n",
              "<style scoped>\n",
              "    .dataframe tbody tr th:only-of-type {\n",
              "        vertical-align: middle;\n",
              "    }\n",
              "\n",
              "    .dataframe tbody tr th {\n",
              "        vertical-align: top;\n",
              "    }\n",
              "\n",
              "    .dataframe thead th {\n",
              "        text-align: right;\n",
              "    }\n",
              "</style>\n",
              "<table border=\"1\" class=\"dataframe\">\n",
              "  <thead>\n",
              "    <tr style=\"text-align: right;\">\n",
              "      <th></th>\n",
              "      <th>time_step_cumsum</th>\n",
              "    </tr>\n",
              "  </thead>\n",
              "  <tbody>\n",
              "    <tr>\n",
              "      <th>0</th>\n",
              "      <td>0.000000</td>\n",
              "    </tr>\n",
              "    <tr>\n",
              "      <th>1</th>\n",
              "      <td>0.033652</td>\n",
              "    </tr>\n",
              "    <tr>\n",
              "      <th>2</th>\n",
              "      <td>0.101167</td>\n",
              "    </tr>\n",
              "    <tr>\n",
              "      <th>3</th>\n",
              "      <td>0.202709</td>\n",
              "    </tr>\n",
              "    <tr>\n",
              "      <th>4</th>\n",
              "      <td>0.338464</td>\n",
              "    </tr>\n",
              "    <tr>\n",
              "      <th>...</th>\n",
              "      <td>...</td>\n",
              "    </tr>\n",
              "    <tr>\n",
              "      <th>75</th>\n",
              "      <td>97.013447</td>\n",
              "    </tr>\n",
              "    <tr>\n",
              "      <th>76</th>\n",
              "      <td>99.601200</td>\n",
              "    </tr>\n",
              "    <tr>\n",
              "      <th>77</th>\n",
              "      <td>102.222974</td>\n",
              "    </tr>\n",
              "    <tr>\n",
              "      <th>78</th>\n",
              "      <td>104.878720</td>\n",
              "    </tr>\n",
              "    <tr>\n",
              "      <th>79</th>\n",
              "      <td>107.568486</td>\n",
              "    </tr>\n",
              "  </tbody>\n",
              "</table>\n",
              "<p>80 rows × 1 columns</p>\n",
              "</div>\n",
              "      <button class=\"colab-df-convert\" onclick=\"convertToInteractive('df-15fcaedc-9b9d-4905-b225-d017e80ed1f9')\"\n",
              "              title=\"Convert this dataframe to an interactive table.\"\n",
              "              style=\"display:none;\">\n",
              "        \n",
              "  <svg xmlns=\"http://www.w3.org/2000/svg\" height=\"24px\"viewBox=\"0 0 24 24\"\n",
              "       width=\"24px\">\n",
              "    <path d=\"M0 0h24v24H0V0z\" fill=\"none\"/>\n",
              "    <path d=\"M18.56 5.44l.94 2.06.94-2.06 2.06-.94-2.06-.94-.94-2.06-.94 2.06-2.06.94zm-11 1L8.5 8.5l.94-2.06 2.06-.94-2.06-.94L8.5 2.5l-.94 2.06-2.06.94zm10 10l.94 2.06.94-2.06 2.06-.94-2.06-.94-.94-2.06-.94 2.06-2.06.94z\"/><path d=\"M17.41 7.96l-1.37-1.37c-.4-.4-.92-.59-1.43-.59-.52 0-1.04.2-1.43.59L10.3 9.45l-7.72 7.72c-.78.78-.78 2.05 0 2.83L4 21.41c.39.39.9.59 1.41.59.51 0 1.02-.2 1.41-.59l7.78-7.78 2.81-2.81c.8-.78.8-2.07 0-2.86zM5.41 20L4 18.59l7.72-7.72 1.47 1.35L5.41 20z\"/>\n",
              "  </svg>\n",
              "      </button>\n",
              "      \n",
              "  <style>\n",
              "    .colab-df-container {\n",
              "      display:flex;\n",
              "      flex-wrap:wrap;\n",
              "      gap: 12px;\n",
              "    }\n",
              "\n",
              "    .colab-df-convert {\n",
              "      background-color: #E8F0FE;\n",
              "      border: none;\n",
              "      border-radius: 50%;\n",
              "      cursor: pointer;\n",
              "      display: none;\n",
              "      fill: #1967D2;\n",
              "      height: 32px;\n",
              "      padding: 0 0 0 0;\n",
              "      width: 32px;\n",
              "    }\n",
              "\n",
              "    .colab-df-convert:hover {\n",
              "      background-color: #E2EBFA;\n",
              "      box-shadow: 0px 1px 2px rgba(60, 64, 67, 0.3), 0px 1px 3px 1px rgba(60, 64, 67, 0.15);\n",
              "      fill: #174EA6;\n",
              "    }\n",
              "\n",
              "    [theme=dark] .colab-df-convert {\n",
              "      background-color: #3B4455;\n",
              "      fill: #D2E3FC;\n",
              "    }\n",
              "\n",
              "    [theme=dark] .colab-df-convert:hover {\n",
              "      background-color: #434B5C;\n",
              "      box-shadow: 0px 1px 3px 1px rgba(0, 0, 0, 0.15);\n",
              "      filter: drop-shadow(0px 1px 2px rgba(0, 0, 0, 0.3));\n",
              "      fill: #FFFFFF;\n",
              "    }\n",
              "  </style>\n",
              "\n",
              "      <script>\n",
              "        const buttonEl =\n",
              "          document.querySelector('#df-15fcaedc-9b9d-4905-b225-d017e80ed1f9 button.colab-df-convert');\n",
              "        buttonEl.style.display =\n",
              "          google.colab.kernel.accessAllowed ? 'block' : 'none';\n",
              "\n",
              "        async function convertToInteractive(key) {\n",
              "          const element = document.querySelector('#df-15fcaedc-9b9d-4905-b225-d017e80ed1f9');\n",
              "          const dataTable =\n",
              "            await google.colab.kernel.invokeFunction('convertToInteractive',\n",
              "                                                     [key], {});\n",
              "          if (!dataTable) return;\n",
              "\n",
              "          const docLinkHtml = 'Like what you see? Visit the ' +\n",
              "            '<a target=\"_blank\" href=https://colab.research.google.com/notebooks/data_table.ipynb>data table notebook</a>'\n",
              "            + ' to learn more about interactive tables.';\n",
              "          element.innerHTML = '';\n",
              "          dataTable['output_type'] = 'display_data';\n",
              "          await google.colab.output.renderOutput(dataTable, element);\n",
              "          const docLink = document.createElement('div');\n",
              "          docLink.innerHTML = docLinkHtml;\n",
              "          element.appendChild(docLink);\n",
              "        }\n",
              "      </script>\n",
              "    </div>\n",
              "  </div>\n",
              "  "
            ]
          },
          "metadata": {},
          "execution_count": 21
        }
      ]
    },
    {
      "cell_type": "markdown",
      "source": [
        "#### 3.2.2. Lag Feature:"
      ],
      "metadata": {
        "id": "qDMX2AC0IdFm"
      },
      "id": "qDMX2AC0IdFm"
    },
    {
      "cell_type": "markdown",
      "source": [
        "Lag feature là các giá trị mục tiêu từ các khoảng thời gian trước đó. Cụ thể, lag có thể hiểu là độ trễ về mặt thời gian. Ở lag_1, người ta sẽ thay thế giá trị tại thời gian t bằng giá trị tại thời gian trước đó là t-1. Tương tự với lag_2, lag_3, lag_4. Với lag_back, thay cho t-1 là t+1. Mặc định các giá trị đầu và giá trị cuối bị thiếu được mặc định là Nan. Kĩ thuật này thường được sử dụng trong dự báo chuỗi thời gian (time-series). "
      ],
      "metadata": {
        "id": "q2ii_E5_Je-N"
      },
      "id": "q2ii_E5_Je-N"
    },
    {
      "cell_type": "code",
      "source": [
        "# Tạo các feature với độ trễ bằng 1 đơn vị thời gian\n",
        "small_df['u_in_lag1'] = small_df.groupby('breath_id')['u_in'].shift(1)\n",
        "small_df['u_out_lag1'] = small_df.groupby('breath_id')['u_out'].shift(1)\n",
        "small_df['u_in_lag_back1'] = small_df.groupby('breath_id')['u_in'].shift(-1)\n",
        "small_df['u_out_lag_back1'] = small_df.groupby('breath_id')['u_out'].shift(-1)"
      ],
      "metadata": {
        "id": "nJmrJVVrLoxH"
      },
      "id": "nJmrJVVrLoxH",
      "execution_count": null,
      "outputs": []
    },
    {
      "cell_type": "code",
      "source": [
        "small_df[['u_in_lag1']].iloc[:80]"
      ],
      "metadata": {
        "colab": {
          "base_uri": "https://localhost:8080/",
          "height": 505
        },
        "id": "U7vE3Vfko0T4",
        "outputId": "9f92707c-fca5-4362-abe1-aa559848a4d5"
      },
      "id": "U7vE3Vfko0T4",
      "execution_count": null,
      "outputs": [
        {
          "output_type": "execute_result",
          "data": {
            "text/plain": [
              "    u_in_lag1\n",
              "0         NaN\n",
              "1    0.083334\n",
              "2   18.383041\n",
              "3   22.509278\n",
              "4   22.808822\n",
              "..        ...\n",
              "75   4.969730\n",
              "76   4.974474\n",
              "77   4.978481\n",
              "78   4.981847\n",
              "79   4.984683\n",
              "\n",
              "[80 rows x 1 columns]"
            ],
            "text/html": [
              "\n",
              "  <div id=\"df-0943673b-2cb3-4610-bcea-18a63fb96881\">\n",
              "    <div class=\"colab-df-container\">\n",
              "      <div>\n",
              "<style scoped>\n",
              "    .dataframe tbody tr th:only-of-type {\n",
              "        vertical-align: middle;\n",
              "    }\n",
              "\n",
              "    .dataframe tbody tr th {\n",
              "        vertical-align: top;\n",
              "    }\n",
              "\n",
              "    .dataframe thead th {\n",
              "        text-align: right;\n",
              "    }\n",
              "</style>\n",
              "<table border=\"1\" class=\"dataframe\">\n",
              "  <thead>\n",
              "    <tr style=\"text-align: right;\">\n",
              "      <th></th>\n",
              "      <th>u_in_lag1</th>\n",
              "    </tr>\n",
              "  </thead>\n",
              "  <tbody>\n",
              "    <tr>\n",
              "      <th>0</th>\n",
              "      <td>NaN</td>\n",
              "    </tr>\n",
              "    <tr>\n",
              "      <th>1</th>\n",
              "      <td>0.083334</td>\n",
              "    </tr>\n",
              "    <tr>\n",
              "      <th>2</th>\n",
              "      <td>18.383041</td>\n",
              "    </tr>\n",
              "    <tr>\n",
              "      <th>3</th>\n",
              "      <td>22.509278</td>\n",
              "    </tr>\n",
              "    <tr>\n",
              "      <th>4</th>\n",
              "      <td>22.808822</td>\n",
              "    </tr>\n",
              "    <tr>\n",
              "      <th>...</th>\n",
              "      <td>...</td>\n",
              "    </tr>\n",
              "    <tr>\n",
              "      <th>75</th>\n",
              "      <td>4.969730</td>\n",
              "    </tr>\n",
              "    <tr>\n",
              "      <th>76</th>\n",
              "      <td>4.974474</td>\n",
              "    </tr>\n",
              "    <tr>\n",
              "      <th>77</th>\n",
              "      <td>4.978481</td>\n",
              "    </tr>\n",
              "    <tr>\n",
              "      <th>78</th>\n",
              "      <td>4.981847</td>\n",
              "    </tr>\n",
              "    <tr>\n",
              "      <th>79</th>\n",
              "      <td>4.984683</td>\n",
              "    </tr>\n",
              "  </tbody>\n",
              "</table>\n",
              "<p>80 rows × 1 columns</p>\n",
              "</div>\n",
              "      <button class=\"colab-df-convert\" onclick=\"convertToInteractive('df-0943673b-2cb3-4610-bcea-18a63fb96881')\"\n",
              "              title=\"Convert this dataframe to an interactive table.\"\n",
              "              style=\"display:none;\">\n",
              "        \n",
              "  <svg xmlns=\"http://www.w3.org/2000/svg\" height=\"24px\"viewBox=\"0 0 24 24\"\n",
              "       width=\"24px\">\n",
              "    <path d=\"M0 0h24v24H0V0z\" fill=\"none\"/>\n",
              "    <path d=\"M18.56 5.44l.94 2.06.94-2.06 2.06-.94-2.06-.94-.94-2.06-.94 2.06-2.06.94zm-11 1L8.5 8.5l.94-2.06 2.06-.94-2.06-.94L8.5 2.5l-.94 2.06-2.06.94zm10 10l.94 2.06.94-2.06 2.06-.94-2.06-.94-.94-2.06-.94 2.06-2.06.94z\"/><path d=\"M17.41 7.96l-1.37-1.37c-.4-.4-.92-.59-1.43-.59-.52 0-1.04.2-1.43.59L10.3 9.45l-7.72 7.72c-.78.78-.78 2.05 0 2.83L4 21.41c.39.39.9.59 1.41.59.51 0 1.02-.2 1.41-.59l7.78-7.78 2.81-2.81c.8-.78.8-2.07 0-2.86zM5.41 20L4 18.59l7.72-7.72 1.47 1.35L5.41 20z\"/>\n",
              "  </svg>\n",
              "      </button>\n",
              "      \n",
              "  <style>\n",
              "    .colab-df-container {\n",
              "      display:flex;\n",
              "      flex-wrap:wrap;\n",
              "      gap: 12px;\n",
              "    }\n",
              "\n",
              "    .colab-df-convert {\n",
              "      background-color: #E8F0FE;\n",
              "      border: none;\n",
              "      border-radius: 50%;\n",
              "      cursor: pointer;\n",
              "      display: none;\n",
              "      fill: #1967D2;\n",
              "      height: 32px;\n",
              "      padding: 0 0 0 0;\n",
              "      width: 32px;\n",
              "    }\n",
              "\n",
              "    .colab-df-convert:hover {\n",
              "      background-color: #E2EBFA;\n",
              "      box-shadow: 0px 1px 2px rgba(60, 64, 67, 0.3), 0px 1px 3px 1px rgba(60, 64, 67, 0.15);\n",
              "      fill: #174EA6;\n",
              "    }\n",
              "\n",
              "    [theme=dark] .colab-df-convert {\n",
              "      background-color: #3B4455;\n",
              "      fill: #D2E3FC;\n",
              "    }\n",
              "\n",
              "    [theme=dark] .colab-df-convert:hover {\n",
              "      background-color: #434B5C;\n",
              "      box-shadow: 0px 1px 3px 1px rgba(0, 0, 0, 0.15);\n",
              "      filter: drop-shadow(0px 1px 2px rgba(0, 0, 0, 0.3));\n",
              "      fill: #FFFFFF;\n",
              "    }\n",
              "  </style>\n",
              "\n",
              "      <script>\n",
              "        const buttonEl =\n",
              "          document.querySelector('#df-0943673b-2cb3-4610-bcea-18a63fb96881 button.colab-df-convert');\n",
              "        buttonEl.style.display =\n",
              "          google.colab.kernel.accessAllowed ? 'block' : 'none';\n",
              "\n",
              "        async function convertToInteractive(key) {\n",
              "          const element = document.querySelector('#df-0943673b-2cb3-4610-bcea-18a63fb96881');\n",
              "          const dataTable =\n",
              "            await google.colab.kernel.invokeFunction('convertToInteractive',\n",
              "                                                     [key], {});\n",
              "          if (!dataTable) return;\n",
              "\n",
              "          const docLinkHtml = 'Like what you see? Visit the ' +\n",
              "            '<a target=\"_blank\" href=https://colab.research.google.com/notebooks/data_table.ipynb>data table notebook</a>'\n",
              "            + ' to learn more about interactive tables.';\n",
              "          element.innerHTML = '';\n",
              "          dataTable['output_type'] = 'display_data';\n",
              "          await google.colab.output.renderOutput(dataTable, element);\n",
              "          const docLink = document.createElement('div');\n",
              "          docLink.innerHTML = docLinkHtml;\n",
              "          element.appendChild(docLink);\n",
              "        }\n",
              "      </script>\n",
              "    </div>\n",
              "  </div>\n",
              "  "
            ]
          },
          "metadata": {},
          "execution_count": 23
        }
      ]
    },
    {
      "cell_type": "code",
      "source": [
        "# Tương tự với độ trê  2, 3, 4 đơn vị thời gian\n",
        "small_df['u_in_lag2'] = small_df.groupby('breath_id')['u_in'].shift(2)\n",
        "small_df['u_out_lag2'] = small_df.groupby('breath_id')['u_out'].shift(2)\n",
        "small_df['u_in_lag_back2'] = small_df.groupby('breath_id')['u_in'].shift(-2)\n",
        "small_df['u_out_lag_back2'] = small_df.groupby('breath_id')['u_out'].shift(-2)\n",
        "\n",
        "small_df['u_in_lag3'] = small_df.groupby('breath_id')['u_in'].shift(3)\n",
        "small_df['u_out_lag3'] = small_df.groupby('breath_id')['u_out'].shift(3)\n",
        "small_df['u_in_lag_back3'] = small_df.groupby('breath_id')['u_in'].shift(-3)\n",
        "small_df['u_out_lag_back3'] = small_df.groupby('breath_id')['u_out'].shift(-3)\n",
        "\n",
        "small_df['u_in_lag4'] = small_df.groupby('breath_id')['u_in'].shift(4)\n",
        "small_df['u_out_lag4'] = small_df.groupby('breath_id')['u_out'].shift(4)\n",
        "small_df['u_in_lag_back4'] = small_df.groupby('breath_id')['u_in'].shift(-4)\n",
        "small_df['u_out_lag_back4'] = small_df.groupby('breath_id')['u_out'].shift(-4)"
      ],
      "metadata": {
        "id": "2PK0CleyKoLT"
      },
      "id": "2PK0CleyKoLT",
      "execution_count": null,
      "outputs": []
    },
    {
      "cell_type": "markdown",
      "source": [
        "Cuối cùng, thay thế các giá trị NaN bằng số 0"
      ],
      "metadata": {
        "id": "1y8yf1fgL3PM"
      },
      "id": "1y8yf1fgL3PM"
    },
    {
      "cell_type": "code",
      "source": [
        "small_df = small_df.fillna(0)"
      ],
      "metadata": {
        "id": "uRNueFk_L1Mh"
      },
      "id": "uRNueFk_L1Mh",
      "execution_count": null,
      "outputs": []
    },
    {
      "cell_type": "code",
      "source": [
        "small_df['u_in_lag1'].isna().sum()"
      ],
      "metadata": {
        "colab": {
          "base_uri": "https://localhost:8080/"
        },
        "id": "-L0yJjltpGTe",
        "outputId": "fb397362-5a17-4398-884f-2cd8494aec9e"
      },
      "id": "-L0yJjltpGTe",
      "execution_count": null,
      "outputs": [
        {
          "output_type": "execute_result",
          "data": {
            "text/plain": [
              "0"
            ]
          },
          "metadata": {},
          "execution_count": 26
        }
      ]
    },
    {
      "cell_type": "markdown",
      "source": [
        "#### 3.2.3. Giá trị max, mean của u_in trong từng phổi:"
      ],
      "metadata": {
        "id": "HnxQ0dl3MaMU"
      },
      "id": "HnxQ0dl3MaMU"
    },
    {
      "cell_type": "markdown",
      "source": [
        "Feature `breath_id__u_in__max` thể hiện lượng khí lớn nhất ứng với mỗi phổi. Lượng khí trong phổi có mối liên hệ với áp lực trên đường thở, với lượng khí lớn có thể gây ra áp lực cao lên đường thở."
      ],
      "metadata": {
        "id": "9V4Pzgr-ZrN6"
      },
      "id": "9V4Pzgr-ZrN6"
    },
    {
      "cell_type": "code",
      "source": [
        "small_df['breath_id__u_in__max'] = small_df.groupby(['breath_id'])['u_in'].transform('max')\n",
        "small_df[['breath_id__u_in__max']].iloc[:80]"
      ],
      "metadata": {
        "id": "MDlgXpMmN1UE",
        "colab": {
          "base_uri": "https://localhost:8080/",
          "height": 488
        },
        "outputId": "f323ae3d-feeb-4295-a7fc-042df579c9c0"
      },
      "id": "MDlgXpMmN1UE",
      "execution_count": null,
      "outputs": [
        {
          "output_type": "execute_result",
          "data": {
            "text/plain": [
              "    breath_id__u_in__max\n",
              "0              28.313036\n",
              "1              28.313036\n",
              "2              28.313036\n",
              "3              28.313036\n",
              "4              28.313036\n",
              "..                   ...\n",
              "75             28.313036\n",
              "76             28.313036\n",
              "77             28.313036\n",
              "78             28.313036\n",
              "79             28.313036\n",
              "\n",
              "[80 rows x 1 columns]"
            ],
            "text/html": [
              "\n",
              "  <div id=\"df-02a3d3f1-7e2a-4491-af40-388571336669\">\n",
              "    <div class=\"colab-df-container\">\n",
              "      <div>\n",
              "<style scoped>\n",
              "    .dataframe tbody tr th:only-of-type {\n",
              "        vertical-align: middle;\n",
              "    }\n",
              "\n",
              "    .dataframe tbody tr th {\n",
              "        vertical-align: top;\n",
              "    }\n",
              "\n",
              "    .dataframe thead th {\n",
              "        text-align: right;\n",
              "    }\n",
              "</style>\n",
              "<table border=\"1\" class=\"dataframe\">\n",
              "  <thead>\n",
              "    <tr style=\"text-align: right;\">\n",
              "      <th></th>\n",
              "      <th>breath_id__u_in__max</th>\n",
              "    </tr>\n",
              "  </thead>\n",
              "  <tbody>\n",
              "    <tr>\n",
              "      <th>0</th>\n",
              "      <td>28.313036</td>\n",
              "    </tr>\n",
              "    <tr>\n",
              "      <th>1</th>\n",
              "      <td>28.313036</td>\n",
              "    </tr>\n",
              "    <tr>\n",
              "      <th>2</th>\n",
              "      <td>28.313036</td>\n",
              "    </tr>\n",
              "    <tr>\n",
              "      <th>3</th>\n",
              "      <td>28.313036</td>\n",
              "    </tr>\n",
              "    <tr>\n",
              "      <th>4</th>\n",
              "      <td>28.313036</td>\n",
              "    </tr>\n",
              "    <tr>\n",
              "      <th>...</th>\n",
              "      <td>...</td>\n",
              "    </tr>\n",
              "    <tr>\n",
              "      <th>75</th>\n",
              "      <td>28.313036</td>\n",
              "    </tr>\n",
              "    <tr>\n",
              "      <th>76</th>\n",
              "      <td>28.313036</td>\n",
              "    </tr>\n",
              "    <tr>\n",
              "      <th>77</th>\n",
              "      <td>28.313036</td>\n",
              "    </tr>\n",
              "    <tr>\n",
              "      <th>78</th>\n",
              "      <td>28.313036</td>\n",
              "    </tr>\n",
              "    <tr>\n",
              "      <th>79</th>\n",
              "      <td>28.313036</td>\n",
              "    </tr>\n",
              "  </tbody>\n",
              "</table>\n",
              "<p>80 rows × 1 columns</p>\n",
              "</div>\n",
              "      <button class=\"colab-df-convert\" onclick=\"convertToInteractive('df-02a3d3f1-7e2a-4491-af40-388571336669')\"\n",
              "              title=\"Convert this dataframe to an interactive table.\"\n",
              "              style=\"display:none;\">\n",
              "        \n",
              "  <svg xmlns=\"http://www.w3.org/2000/svg\" height=\"24px\"viewBox=\"0 0 24 24\"\n",
              "       width=\"24px\">\n",
              "    <path d=\"M0 0h24v24H0V0z\" fill=\"none\"/>\n",
              "    <path d=\"M18.56 5.44l.94 2.06.94-2.06 2.06-.94-2.06-.94-.94-2.06-.94 2.06-2.06.94zm-11 1L8.5 8.5l.94-2.06 2.06-.94-2.06-.94L8.5 2.5l-.94 2.06-2.06.94zm10 10l.94 2.06.94-2.06 2.06-.94-2.06-.94-.94-2.06-.94 2.06-2.06.94z\"/><path d=\"M17.41 7.96l-1.37-1.37c-.4-.4-.92-.59-1.43-.59-.52 0-1.04.2-1.43.59L10.3 9.45l-7.72 7.72c-.78.78-.78 2.05 0 2.83L4 21.41c.39.39.9.59 1.41.59.51 0 1.02-.2 1.41-.59l7.78-7.78 2.81-2.81c.8-.78.8-2.07 0-2.86zM5.41 20L4 18.59l7.72-7.72 1.47 1.35L5.41 20z\"/>\n",
              "  </svg>\n",
              "      </button>\n",
              "      \n",
              "  <style>\n",
              "    .colab-df-container {\n",
              "      display:flex;\n",
              "      flex-wrap:wrap;\n",
              "      gap: 12px;\n",
              "    }\n",
              "\n",
              "    .colab-df-convert {\n",
              "      background-color: #E8F0FE;\n",
              "      border: none;\n",
              "      border-radius: 50%;\n",
              "      cursor: pointer;\n",
              "      display: none;\n",
              "      fill: #1967D2;\n",
              "      height: 32px;\n",
              "      padding: 0 0 0 0;\n",
              "      width: 32px;\n",
              "    }\n",
              "\n",
              "    .colab-df-convert:hover {\n",
              "      background-color: #E2EBFA;\n",
              "      box-shadow: 0px 1px 2px rgba(60, 64, 67, 0.3), 0px 1px 3px 1px rgba(60, 64, 67, 0.15);\n",
              "      fill: #174EA6;\n",
              "    }\n",
              "\n",
              "    [theme=dark] .colab-df-convert {\n",
              "      background-color: #3B4455;\n",
              "      fill: #D2E3FC;\n",
              "    }\n",
              "\n",
              "    [theme=dark] .colab-df-convert:hover {\n",
              "      background-color: #434B5C;\n",
              "      box-shadow: 0px 1px 3px 1px rgba(0, 0, 0, 0.15);\n",
              "      filter: drop-shadow(0px 1px 2px rgba(0, 0, 0, 0.3));\n",
              "      fill: #FFFFFF;\n",
              "    }\n",
              "  </style>\n",
              "\n",
              "      <script>\n",
              "        const buttonEl =\n",
              "          document.querySelector('#df-02a3d3f1-7e2a-4491-af40-388571336669 button.colab-df-convert');\n",
              "        buttonEl.style.display =\n",
              "          google.colab.kernel.accessAllowed ? 'block' : 'none';\n",
              "\n",
              "        async function convertToInteractive(key) {\n",
              "          const element = document.querySelector('#df-02a3d3f1-7e2a-4491-af40-388571336669');\n",
              "          const dataTable =\n",
              "            await google.colab.kernel.invokeFunction('convertToInteractive',\n",
              "                                                     [key], {});\n",
              "          if (!dataTable) return;\n",
              "\n",
              "          const docLinkHtml = 'Like what you see? Visit the ' +\n",
              "            '<a target=\"_blank\" href=https://colab.research.google.com/notebooks/data_table.ipynb>data table notebook</a>'\n",
              "            + ' to learn more about interactive tables.';\n",
              "          element.innerHTML = '';\n",
              "          dataTable['output_type'] = 'display_data';\n",
              "          await google.colab.output.renderOutput(dataTable, element);\n",
              "          const docLink = document.createElement('div');\n",
              "          docLink.innerHTML = docLinkHtml;\n",
              "          element.appendChild(docLink);\n",
              "        }\n",
              "      </script>\n",
              "    </div>\n",
              "  </div>\n",
              "  "
            ]
          },
          "metadata": {},
          "execution_count": 27
        }
      ]
    },
    {
      "cell_type": "markdown",
      "source": [
        "Tương tự, feature `breath_id__u_in__mean` thể hiện lượng khí trung bình của mỗi phổi. "
      ],
      "metadata": {
        "id": "uKSKC7iEqARe"
      },
      "id": "uKSKC7iEqARe"
    },
    {
      "cell_type": "code",
      "source": [
        "small_df['breath_id__u_in__mean'] = small_df.groupby(['breath_id'])['u_in'].transform('mean')"
      ],
      "metadata": {
        "id": "SvMOHjWxN9M7"
      },
      "id": "SvMOHjWxN9M7",
      "execution_count": null,
      "outputs": []
    },
    {
      "cell_type": "markdown",
      "source": [
        "Feature `breath_id__u_in__diffmax` là đặc trưng cho biết khoảng cách giữa giá trị **max** với `u_in`."
      ],
      "metadata": {
        "id": "ld29VkocZvHZ"
      },
      "id": "ld29VkocZvHZ"
    },
    {
      "cell_type": "code",
      "source": [
        "small_df['breath_id__u_in__diffmax'] = small_df.groupby(\n",
        "    ['breath_id'])['u_in'].transform('max') - small_df['u_in']\n",
        "small_df[['breath_id__u_in__diffmax']].iloc[:80]"
      ],
      "metadata": {
        "id": "J0q16X2uOAKx",
        "colab": {
          "base_uri": "https://localhost:8080/",
          "height": 488
        },
        "outputId": "af98b122-50fe-42bb-dbc4-f3dc4754a1fa"
      },
      "id": "J0q16X2uOAKx",
      "execution_count": null,
      "outputs": [
        {
          "output_type": "execute_result",
          "data": {
            "text/plain": [
              "    breath_id__u_in__diffmax\n",
              "0                  28.229702\n",
              "1                   9.929994\n",
              "2                   5.803758\n",
              "3                   5.504214\n",
              "4                   2.957185\n",
              "..                       ...\n",
              "75                 23.338562\n",
              "76                 23.334554\n",
              "77                 23.331188\n",
              "78                 23.328353\n",
              "79                 23.325957\n",
              "\n",
              "[80 rows x 1 columns]"
            ],
            "text/html": [
              "\n",
              "  <div id=\"df-ae1c76e8-2325-4e7b-bfe5-e7ac6f8d4b0a\">\n",
              "    <div class=\"colab-df-container\">\n",
              "      <div>\n",
              "<style scoped>\n",
              "    .dataframe tbody tr th:only-of-type {\n",
              "        vertical-align: middle;\n",
              "    }\n",
              "\n",
              "    .dataframe tbody tr th {\n",
              "        vertical-align: top;\n",
              "    }\n",
              "\n",
              "    .dataframe thead th {\n",
              "        text-align: right;\n",
              "    }\n",
              "</style>\n",
              "<table border=\"1\" class=\"dataframe\">\n",
              "  <thead>\n",
              "    <tr style=\"text-align: right;\">\n",
              "      <th></th>\n",
              "      <th>breath_id__u_in__diffmax</th>\n",
              "    </tr>\n",
              "  </thead>\n",
              "  <tbody>\n",
              "    <tr>\n",
              "      <th>0</th>\n",
              "      <td>28.229702</td>\n",
              "    </tr>\n",
              "    <tr>\n",
              "      <th>1</th>\n",
              "      <td>9.929994</td>\n",
              "    </tr>\n",
              "    <tr>\n",
              "      <th>2</th>\n",
              "      <td>5.803758</td>\n",
              "    </tr>\n",
              "    <tr>\n",
              "      <th>3</th>\n",
              "      <td>5.504214</td>\n",
              "    </tr>\n",
              "    <tr>\n",
              "      <th>4</th>\n",
              "      <td>2.957185</td>\n",
              "    </tr>\n",
              "    <tr>\n",
              "      <th>...</th>\n",
              "      <td>...</td>\n",
              "    </tr>\n",
              "    <tr>\n",
              "      <th>75</th>\n",
              "      <td>23.338562</td>\n",
              "    </tr>\n",
              "    <tr>\n",
              "      <th>76</th>\n",
              "      <td>23.334554</td>\n",
              "    </tr>\n",
              "    <tr>\n",
              "      <th>77</th>\n",
              "      <td>23.331188</td>\n",
              "    </tr>\n",
              "    <tr>\n",
              "      <th>78</th>\n",
              "      <td>23.328353</td>\n",
              "    </tr>\n",
              "    <tr>\n",
              "      <th>79</th>\n",
              "      <td>23.325957</td>\n",
              "    </tr>\n",
              "  </tbody>\n",
              "</table>\n",
              "<p>80 rows × 1 columns</p>\n",
              "</div>\n",
              "      <button class=\"colab-df-convert\" onclick=\"convertToInteractive('df-ae1c76e8-2325-4e7b-bfe5-e7ac6f8d4b0a')\"\n",
              "              title=\"Convert this dataframe to an interactive table.\"\n",
              "              style=\"display:none;\">\n",
              "        \n",
              "  <svg xmlns=\"http://www.w3.org/2000/svg\" height=\"24px\"viewBox=\"0 0 24 24\"\n",
              "       width=\"24px\">\n",
              "    <path d=\"M0 0h24v24H0V0z\" fill=\"none\"/>\n",
              "    <path d=\"M18.56 5.44l.94 2.06.94-2.06 2.06-.94-2.06-.94-.94-2.06-.94 2.06-2.06.94zm-11 1L8.5 8.5l.94-2.06 2.06-.94-2.06-.94L8.5 2.5l-.94 2.06-2.06.94zm10 10l.94 2.06.94-2.06 2.06-.94-2.06-.94-.94-2.06-.94 2.06-2.06.94z\"/><path d=\"M17.41 7.96l-1.37-1.37c-.4-.4-.92-.59-1.43-.59-.52 0-1.04.2-1.43.59L10.3 9.45l-7.72 7.72c-.78.78-.78 2.05 0 2.83L4 21.41c.39.39.9.59 1.41.59.51 0 1.02-.2 1.41-.59l7.78-7.78 2.81-2.81c.8-.78.8-2.07 0-2.86zM5.41 20L4 18.59l7.72-7.72 1.47 1.35L5.41 20z\"/>\n",
              "  </svg>\n",
              "      </button>\n",
              "      \n",
              "  <style>\n",
              "    .colab-df-container {\n",
              "      display:flex;\n",
              "      flex-wrap:wrap;\n",
              "      gap: 12px;\n",
              "    }\n",
              "\n",
              "    .colab-df-convert {\n",
              "      background-color: #E8F0FE;\n",
              "      border: none;\n",
              "      border-radius: 50%;\n",
              "      cursor: pointer;\n",
              "      display: none;\n",
              "      fill: #1967D2;\n",
              "      height: 32px;\n",
              "      padding: 0 0 0 0;\n",
              "      width: 32px;\n",
              "    }\n",
              "\n",
              "    .colab-df-convert:hover {\n",
              "      background-color: #E2EBFA;\n",
              "      box-shadow: 0px 1px 2px rgba(60, 64, 67, 0.3), 0px 1px 3px 1px rgba(60, 64, 67, 0.15);\n",
              "      fill: #174EA6;\n",
              "    }\n",
              "\n",
              "    [theme=dark] .colab-df-convert {\n",
              "      background-color: #3B4455;\n",
              "      fill: #D2E3FC;\n",
              "    }\n",
              "\n",
              "    [theme=dark] .colab-df-convert:hover {\n",
              "      background-color: #434B5C;\n",
              "      box-shadow: 0px 1px 3px 1px rgba(0, 0, 0, 0.15);\n",
              "      filter: drop-shadow(0px 1px 2px rgba(0, 0, 0, 0.3));\n",
              "      fill: #FFFFFF;\n",
              "    }\n",
              "  </style>\n",
              "\n",
              "      <script>\n",
              "        const buttonEl =\n",
              "          document.querySelector('#df-ae1c76e8-2325-4e7b-bfe5-e7ac6f8d4b0a button.colab-df-convert');\n",
              "        buttonEl.style.display =\n",
              "          google.colab.kernel.accessAllowed ? 'block' : 'none';\n",
              "\n",
              "        async function convertToInteractive(key) {\n",
              "          const element = document.querySelector('#df-ae1c76e8-2325-4e7b-bfe5-e7ac6f8d4b0a');\n",
              "          const dataTable =\n",
              "            await google.colab.kernel.invokeFunction('convertToInteractive',\n",
              "                                                     [key], {});\n",
              "          if (!dataTable) return;\n",
              "\n",
              "          const docLinkHtml = 'Like what you see? Visit the ' +\n",
              "            '<a target=\"_blank\" href=https://colab.research.google.com/notebooks/data_table.ipynb>data table notebook</a>'\n",
              "            + ' to learn more about interactive tables.';\n",
              "          element.innerHTML = '';\n",
              "          dataTable['output_type'] = 'display_data';\n",
              "          await google.colab.output.renderOutput(dataTable, element);\n",
              "          const docLink = document.createElement('div');\n",
              "          docLink.innerHTML = docLinkHtml;\n",
              "          element.appendChild(docLink);\n",
              "        }\n",
              "      </script>\n",
              "    </div>\n",
              "  </div>\n",
              "  "
            ]
          },
          "metadata": {},
          "execution_count": 29
        }
      ]
    },
    {
      "cell_type": "markdown",
      "source": [
        "Tương tự, feature `breath_id__u_in__diffmean` cho biết khoảng cách giữa các giá trị **mean** với `u_in`."
      ],
      "metadata": {
        "id": "-gfP65wLrnpm"
      },
      "id": "-gfP65wLrnpm"
    },
    {
      "cell_type": "code",
      "source": [
        "small_df['breath_id__u_in__diffmean'] = small_df.groupby(\n",
        "    ['breath_id'])['u_in'].transform('mean') - small_df['u_in']"
      ],
      "metadata": {
        "id": "QoGhmOelOBdH"
      },
      "id": "QoGhmOelOBdH",
      "execution_count": null,
      "outputs": []
    },
    {
      "cell_type": "markdown",
      "source": [
        "#### 3.2.4. Sự thay đổi của bộ điều khiển là áp suất:"
      ],
      "metadata": {
        "id": "p9OtsCf3PSXj"
      },
      "id": "p9OtsCf3PSXj"
    },
    {
      "cell_type": "markdown",
      "source": [
        "Đầu tiên, 2 feature u_in_diff1 và u_out_diff1 thể hiện sự thay đổi của u_in và u_out so với lần đo trước đó\n",
        "\n",
        "\n",
        "*   Đối với u_in_diff1 chúng ta biết được van đầu vào của bộ điều khiển là áp suất (tức là đầu ra của bộ điều khiển kỹ thuật số) có đang mở ra thêm (+) hay đóng lại bớt (-) hay không và giá trị đó là bao nhiêu\n",
        "\n",
        "*  Đối với u_out_diff1, chúng ta thấy rằng u_out ít khi thay đổi giá trị sau mỗi id, cụ thể là 2 lần trong mỗi bước thở 3s: 1 lần mở van ra, sau đó có khá nhiều giá trị u_in=0, 1 lần đóng van lại đồng nghĩa với kết thúc 1 nhịp thở\n",
        "\n",
        "\n",
        "\n",
        "\n",
        "\n"
      ],
      "metadata": {
        "id": "oadGQnfFPSXl"
      },
      "id": "oadGQnfFPSXl"
    },
    {
      "cell_type": "code",
      "source": [
        "small_df['u_in_diff1'] = small_df['u_in'] - small_df['u_in_lag1']\n",
        "small_df['u_out_diff1'] = small_df['u_out'] - small_df['u_out_lag1']"
      ],
      "metadata": {
        "id": "rehsPX2iI6Lk"
      },
      "execution_count": null,
      "outputs": [],
      "id": "rehsPX2iI6Lk"
    },
    {
      "cell_type": "markdown",
      "source": [
        "Tương tự, các feature u_in_diff2, u_in_diff3, u_in_diff4 và u_out_diff2, u_out_diff3, u_out_diff4 thể hiện sự thay đổi của u_in và u_out so với 2, 3, 4 lần đo trước đó\n",
        "Khả năng cao Kaggle đã không xếp 80 lần đo của nhịp thở có ID gần nhau, chúng có thể dựa trên sự thay đổi này để sắp xếp lại các id cùng nhịp thở để kết quả chính xác hơn"
      ],
      "metadata": {
        "id": "3M-TowZ-JFTb"
      },
      "id": "3M-TowZ-JFTb"
    },
    {
      "cell_type": "code",
      "source": [
        "small_df['u_in_diff2'] = small_df['u_in'] - small_df['u_in_lag2']\n",
        "small_df['u_out_diff2'] = small_df['u_out'] - small_df['u_out_lag2']\n",
        "small_df['u_in_diff3'] = small_df['u_in'] - small_df['u_in_lag3']\n",
        "small_df['u_out_diff3'] = small_df['u_out'] - small_df['u_out_lag3']\n",
        "small_df['u_in_diff4'] = small_df['u_in'] - small_df['u_in_lag4']\n",
        "small_df['u_out_diff4'] = small_df['u_out'] - small_df['u_out_lag4']\n",
        "pd.DataFrame(small_df,columns=['u_in', 'u_in_diff1', 'u_in_diff2', 'u_in_diff3', 'u_in_diff4', 'u_out','u_out_diff1','u_out_diff2', 'u_out_diff3','u_out_diff4' ])"
      ],
      "metadata": {
        "id": "0TaIEyEiCMvd",
        "colab": {
          "base_uri": "https://localhost:8080/",
          "height": 488
        },
        "outputId": "faff47d9-a18c-45df-8016-21586faac2c5"
      },
      "execution_count": null,
      "outputs": [
        {
          "output_type": "execute_result",
          "data": {
            "text/plain": [
              "          u_in  u_in_diff1  u_in_diff2  u_in_diff3  u_in_diff4  u_out  \\\n",
              "0     0.083334    0.083334    0.083334    0.083334    0.083334      0   \n",
              "1    18.383041   18.299707   18.383041   18.383041   18.383041      0   \n",
              "2    22.509278    4.126236   22.425944   22.509278   22.509278      0   \n",
              "3    22.808822    0.299544    4.425781   22.725488   22.808822      0   \n",
              "4    25.355850    2.547028    2.846573    6.972809   25.272516      0   \n",
              "..         ...         ...         ...         ...         ...    ...   \n",
              "795   4.945038    0.009539    0.020697    0.033822    0.049212      1   \n",
              "796   4.953164    0.008126    0.017665    0.028823    0.041948      1   \n",
              "797   4.960086    0.006922    0.015048    0.024587    0.035745      1   \n",
              "798   4.965973    0.005887    0.012809    0.020935    0.030474      1   \n",
              "799   4.970993    0.005020    0.010907    0.017829    0.025955      1   \n",
              "\n",
              "     u_out_diff1  u_out_diff2  u_out_diff3  u_out_diff4  \n",
              "0            0.0          0.0          0.0          0.0  \n",
              "1            0.0          0.0          0.0          0.0  \n",
              "2            0.0          0.0          0.0          0.0  \n",
              "3            0.0          0.0          0.0          0.0  \n",
              "4            0.0          0.0          0.0          0.0  \n",
              "..           ...          ...          ...          ...  \n",
              "795          0.0          0.0          0.0          0.0  \n",
              "796          0.0          0.0          0.0          0.0  \n",
              "797          0.0          0.0          0.0          0.0  \n",
              "798          0.0          0.0          0.0          0.0  \n",
              "799          0.0          0.0          0.0          0.0  \n",
              "\n",
              "[800 rows x 10 columns]"
            ],
            "text/html": [
              "\n",
              "  <div id=\"df-75499563-c345-4610-863e-dd74f24a0651\">\n",
              "    <div class=\"colab-df-container\">\n",
              "      <div>\n",
              "<style scoped>\n",
              "    .dataframe tbody tr th:only-of-type {\n",
              "        vertical-align: middle;\n",
              "    }\n",
              "\n",
              "    .dataframe tbody tr th {\n",
              "        vertical-align: top;\n",
              "    }\n",
              "\n",
              "    .dataframe thead th {\n",
              "        text-align: right;\n",
              "    }\n",
              "</style>\n",
              "<table border=\"1\" class=\"dataframe\">\n",
              "  <thead>\n",
              "    <tr style=\"text-align: right;\">\n",
              "      <th></th>\n",
              "      <th>u_in</th>\n",
              "      <th>u_in_diff1</th>\n",
              "      <th>u_in_diff2</th>\n",
              "      <th>u_in_diff3</th>\n",
              "      <th>u_in_diff4</th>\n",
              "      <th>u_out</th>\n",
              "      <th>u_out_diff1</th>\n",
              "      <th>u_out_diff2</th>\n",
              "      <th>u_out_diff3</th>\n",
              "      <th>u_out_diff4</th>\n",
              "    </tr>\n",
              "  </thead>\n",
              "  <tbody>\n",
              "    <tr>\n",
              "      <th>0</th>\n",
              "      <td>0.083334</td>\n",
              "      <td>0.083334</td>\n",
              "      <td>0.083334</td>\n",
              "      <td>0.083334</td>\n",
              "      <td>0.083334</td>\n",
              "      <td>0</td>\n",
              "      <td>0.0</td>\n",
              "      <td>0.0</td>\n",
              "      <td>0.0</td>\n",
              "      <td>0.0</td>\n",
              "    </tr>\n",
              "    <tr>\n",
              "      <th>1</th>\n",
              "      <td>18.383041</td>\n",
              "      <td>18.299707</td>\n",
              "      <td>18.383041</td>\n",
              "      <td>18.383041</td>\n",
              "      <td>18.383041</td>\n",
              "      <td>0</td>\n",
              "      <td>0.0</td>\n",
              "      <td>0.0</td>\n",
              "      <td>0.0</td>\n",
              "      <td>0.0</td>\n",
              "    </tr>\n",
              "    <tr>\n",
              "      <th>2</th>\n",
              "      <td>22.509278</td>\n",
              "      <td>4.126236</td>\n",
              "      <td>22.425944</td>\n",
              "      <td>22.509278</td>\n",
              "      <td>22.509278</td>\n",
              "      <td>0</td>\n",
              "      <td>0.0</td>\n",
              "      <td>0.0</td>\n",
              "      <td>0.0</td>\n",
              "      <td>0.0</td>\n",
              "    </tr>\n",
              "    <tr>\n",
              "      <th>3</th>\n",
              "      <td>22.808822</td>\n",
              "      <td>0.299544</td>\n",
              "      <td>4.425781</td>\n",
              "      <td>22.725488</td>\n",
              "      <td>22.808822</td>\n",
              "      <td>0</td>\n",
              "      <td>0.0</td>\n",
              "      <td>0.0</td>\n",
              "      <td>0.0</td>\n",
              "      <td>0.0</td>\n",
              "    </tr>\n",
              "    <tr>\n",
              "      <th>4</th>\n",
              "      <td>25.355850</td>\n",
              "      <td>2.547028</td>\n",
              "      <td>2.846573</td>\n",
              "      <td>6.972809</td>\n",
              "      <td>25.272516</td>\n",
              "      <td>0</td>\n",
              "      <td>0.0</td>\n",
              "      <td>0.0</td>\n",
              "      <td>0.0</td>\n",
              "      <td>0.0</td>\n",
              "    </tr>\n",
              "    <tr>\n",
              "      <th>...</th>\n",
              "      <td>...</td>\n",
              "      <td>...</td>\n",
              "      <td>...</td>\n",
              "      <td>...</td>\n",
              "      <td>...</td>\n",
              "      <td>...</td>\n",
              "      <td>...</td>\n",
              "      <td>...</td>\n",
              "      <td>...</td>\n",
              "      <td>...</td>\n",
              "    </tr>\n",
              "    <tr>\n",
              "      <th>795</th>\n",
              "      <td>4.945038</td>\n",
              "      <td>0.009539</td>\n",
              "      <td>0.020697</td>\n",
              "      <td>0.033822</td>\n",
              "      <td>0.049212</td>\n",
              "      <td>1</td>\n",
              "      <td>0.0</td>\n",
              "      <td>0.0</td>\n",
              "      <td>0.0</td>\n",
              "      <td>0.0</td>\n",
              "    </tr>\n",
              "    <tr>\n",
              "      <th>796</th>\n",
              "      <td>4.953164</td>\n",
              "      <td>0.008126</td>\n",
              "      <td>0.017665</td>\n",
              "      <td>0.028823</td>\n",
              "      <td>0.041948</td>\n",
              "      <td>1</td>\n",
              "      <td>0.0</td>\n",
              "      <td>0.0</td>\n",
              "      <td>0.0</td>\n",
              "      <td>0.0</td>\n",
              "    </tr>\n",
              "    <tr>\n",
              "      <th>797</th>\n",
              "      <td>4.960086</td>\n",
              "      <td>0.006922</td>\n",
              "      <td>0.015048</td>\n",
              "      <td>0.024587</td>\n",
              "      <td>0.035745</td>\n",
              "      <td>1</td>\n",
              "      <td>0.0</td>\n",
              "      <td>0.0</td>\n",
              "      <td>0.0</td>\n",
              "      <td>0.0</td>\n",
              "    </tr>\n",
              "    <tr>\n",
              "      <th>798</th>\n",
              "      <td>4.965973</td>\n",
              "      <td>0.005887</td>\n",
              "      <td>0.012809</td>\n",
              "      <td>0.020935</td>\n",
              "      <td>0.030474</td>\n",
              "      <td>1</td>\n",
              "      <td>0.0</td>\n",
              "      <td>0.0</td>\n",
              "      <td>0.0</td>\n",
              "      <td>0.0</td>\n",
              "    </tr>\n",
              "    <tr>\n",
              "      <th>799</th>\n",
              "      <td>4.970993</td>\n",
              "      <td>0.005020</td>\n",
              "      <td>0.010907</td>\n",
              "      <td>0.017829</td>\n",
              "      <td>0.025955</td>\n",
              "      <td>1</td>\n",
              "      <td>0.0</td>\n",
              "      <td>0.0</td>\n",
              "      <td>0.0</td>\n",
              "      <td>0.0</td>\n",
              "    </tr>\n",
              "  </tbody>\n",
              "</table>\n",
              "<p>800 rows × 10 columns</p>\n",
              "</div>\n",
              "      <button class=\"colab-df-convert\" onclick=\"convertToInteractive('df-75499563-c345-4610-863e-dd74f24a0651')\"\n",
              "              title=\"Convert this dataframe to an interactive table.\"\n",
              "              style=\"display:none;\">\n",
              "        \n",
              "  <svg xmlns=\"http://www.w3.org/2000/svg\" height=\"24px\"viewBox=\"0 0 24 24\"\n",
              "       width=\"24px\">\n",
              "    <path d=\"M0 0h24v24H0V0z\" fill=\"none\"/>\n",
              "    <path d=\"M18.56 5.44l.94 2.06.94-2.06 2.06-.94-2.06-.94-.94-2.06-.94 2.06-2.06.94zm-11 1L8.5 8.5l.94-2.06 2.06-.94-2.06-.94L8.5 2.5l-.94 2.06-2.06.94zm10 10l.94 2.06.94-2.06 2.06-.94-2.06-.94-.94-2.06-.94 2.06-2.06.94z\"/><path d=\"M17.41 7.96l-1.37-1.37c-.4-.4-.92-.59-1.43-.59-.52 0-1.04.2-1.43.59L10.3 9.45l-7.72 7.72c-.78.78-.78 2.05 0 2.83L4 21.41c.39.39.9.59 1.41.59.51 0 1.02-.2 1.41-.59l7.78-7.78 2.81-2.81c.8-.78.8-2.07 0-2.86zM5.41 20L4 18.59l7.72-7.72 1.47 1.35L5.41 20z\"/>\n",
              "  </svg>\n",
              "      </button>\n",
              "      \n",
              "  <style>\n",
              "    .colab-df-container {\n",
              "      display:flex;\n",
              "      flex-wrap:wrap;\n",
              "      gap: 12px;\n",
              "    }\n",
              "\n",
              "    .colab-df-convert {\n",
              "      background-color: #E8F0FE;\n",
              "      border: none;\n",
              "      border-radius: 50%;\n",
              "      cursor: pointer;\n",
              "      display: none;\n",
              "      fill: #1967D2;\n",
              "      height: 32px;\n",
              "      padding: 0 0 0 0;\n",
              "      width: 32px;\n",
              "    }\n",
              "\n",
              "    .colab-df-convert:hover {\n",
              "      background-color: #E2EBFA;\n",
              "      box-shadow: 0px 1px 2px rgba(60, 64, 67, 0.3), 0px 1px 3px 1px rgba(60, 64, 67, 0.15);\n",
              "      fill: #174EA6;\n",
              "    }\n",
              "\n",
              "    [theme=dark] .colab-df-convert {\n",
              "      background-color: #3B4455;\n",
              "      fill: #D2E3FC;\n",
              "    }\n",
              "\n",
              "    [theme=dark] .colab-df-convert:hover {\n",
              "      background-color: #434B5C;\n",
              "      box-shadow: 0px 1px 3px 1px rgba(0, 0, 0, 0.15);\n",
              "      filter: drop-shadow(0px 1px 2px rgba(0, 0, 0, 0.3));\n",
              "      fill: #FFFFFF;\n",
              "    }\n",
              "  </style>\n",
              "\n",
              "      <script>\n",
              "        const buttonEl =\n",
              "          document.querySelector('#df-75499563-c345-4610-863e-dd74f24a0651 button.colab-df-convert');\n",
              "        buttonEl.style.display =\n",
              "          google.colab.kernel.accessAllowed ? 'block' : 'none';\n",
              "\n",
              "        async function convertToInteractive(key) {\n",
              "          const element = document.querySelector('#df-75499563-c345-4610-863e-dd74f24a0651');\n",
              "          const dataTable =\n",
              "            await google.colab.kernel.invokeFunction('convertToInteractive',\n",
              "                                                     [key], {});\n",
              "          if (!dataTable) return;\n",
              "\n",
              "          const docLinkHtml = 'Like what you see? Visit the ' +\n",
              "            '<a target=\"_blank\" href=https://colab.research.google.com/notebooks/data_table.ipynb>data table notebook</a>'\n",
              "            + ' to learn more about interactive tables.';\n",
              "          element.innerHTML = '';\n",
              "          dataTable['output_type'] = 'display_data';\n",
              "          await google.colab.output.renderOutput(dataTable, element);\n",
              "          const docLink = document.createElement('div');\n",
              "          docLink.innerHTML = docLinkHtml;\n",
              "          element.appendChild(docLink);\n",
              "        }\n",
              "      </script>\n",
              "    </div>\n",
              "  </div>\n",
              "  "
            ]
          },
          "metadata": {},
          "execution_count": 32
        }
      ],
      "id": "0TaIEyEiCMvd"
    },
    {
      "cell_type": "markdown",
      "source": [
        "#### 3.2.5. Phân tích thay đổi trong một nhịp thở:"
      ],
      "metadata": {
        "id": "nSVXpj9VPSXo"
      },
      "id": "nSVXpj9VPSXo"
    },
    {
      "cell_type": "markdown",
      "source": [
        "Các feature tạo ra trong bước này chủ yếu để xử lí các lần đo trong cùng một nhịp nhở"
      ],
      "metadata": {
        "id": "QerhQxR7O0eR"
      },
      "id": "QerhQxR7O0eR"
    },
    {
      "cell_type": "markdown",
      "source": [
        "Đánh dấu số thứ tự trong mỗi nhịp thở"
      ],
      "metadata": {
        "id": "bMzQBkOEMlO7"
      },
      "id": "bMzQBkOEMlO7"
    },
    {
      "cell_type": "code",
      "source": [
        "small_df['one'] = 1\n",
        "small_df['count'] = (small_df['one']).groupby(small_df['breath_id']).cumsum()"
      ],
      "metadata": {
        "id": "j0o75X93MtND"
      },
      "execution_count": null,
      "outputs": [],
      "id": "j0o75X93MtND"
    },
    {
      "cell_type": "markdown",
      "source": [
        "Giá trị trung bình u_in ở thời điểm hiện tại của một nhịp thở ( bằng tổng u_in đã đo được trong nhịp thở/ số lần đo trong nhịp thở này)"
      ],
      "metadata": {
        "id": "sv1geuLvMvk-"
      },
      "id": "sv1geuLvMvk-"
    },
    {
      "cell_type": "code",
      "source": [
        "small_df['u_in_cummean'] = small_df['u_in_cumsum'] / small_df['count']"
      ],
      "metadata": {
        "id": "2P_pzbXpNeWA"
      },
      "execution_count": null,
      "outputs": [],
      "id": "2P_pzbXpNeWA"
    },
    {
      "cell_type": "markdown",
      "source": [
        "Xem 2 lần đo kề nhau (hoặc cách nhau 1 ần đo) có cùng đo trong 1 nhịp thở hay không:"
      ],
      "metadata": {
        "id": "Gkdzbs6DNkEn"
      },
      "id": "Gkdzbs6DNkEn"
    },
    {
      "cell_type": "code",
      "source": [
        "small_df['breath_id_lag']=small_df['breath_id'].shift(1).fillna(0)\n",
        "small_df['breath_id_lag2']=small_df['breath_id'].shift(2).fillna(0)\n",
        "small_df['breath_id_lagsame']=np.select([small_df['breath_id_lag']==small_df['breath_id']],[1],0)\n",
        "small_df['breath_id_lag2same']=np.select([small_df['breath_id_lag2']==small_df['breath_id']],[1],0)"
      ],
      "metadata": {
        "id": "bDRvUHhvN2U6"
      },
      "execution_count": null,
      "outputs": [],
      "id": "bDRvUHhvN2U6"
    },
    {
      "cell_type": "markdown",
      "source": [
        "Sau đó, tác giả tạo ra breath_id__u_in_lag tương tự như u_in_diff, nhưng chỉ khác là các nhịp thở sẽ riêng biệt hơn, tức là không so sánh lần đo đầu tiên của nhịp thở sau so với lần đo cuối cùng của nhịp thở trước"
      ],
      "metadata": {
        "id": "tDRqAJdcOPIn"
      },
      "id": "tDRqAJdcOPIn"
    },
    {
      "cell_type": "code",
      "source": [
        "small_df['breath_id__u_in_lag'] = small_df['u_in'].shift(1).fillna(0)\n",
        "small_df['breath_id__u_in_lag'] = small_df['breath_id__u_in_lag'] * small_df['breath_id_lagsame']\n",
        "small_df['breath_id__u_in_lag2'] = small_df['u_in'].shift(2).fillna(0)\n",
        "small_df['breath_id__u_in_lag2'] = small_df['breath_id__u_in_lag2'] * small_df['breath_id_lag2same']\n",
        "pd.DataFrame(small_df,columns=['breath_id','count', 'u_in', 'u_in_cummean', 'breath_id__u_in_lag', 'breath_id__u_in_lag2'])"
      ],
      "metadata": {
        "id": "MNAmCtLlEhGp",
        "colab": {
          "base_uri": "https://localhost:8080/",
          "height": 488
        },
        "outputId": "5ca815de-31cd-4694-9007-ea1ed323a5fe"
      },
      "execution_count": null,
      "outputs": [
        {
          "output_type": "execute_result",
          "data": {
            "text/plain": [
              "     breath_id  count       u_in  u_in_cummean  breath_id__u_in_lag  \\\n",
              "0            1      1   0.083334      0.083334             0.000000   \n",
              "1            1      2  18.383041      9.233188             0.083334   \n",
              "2            1      3  22.509278     13.658551            18.383041   \n",
              "3            1      4  22.808822     15.946119            22.509278   \n",
              "4            1      5  25.355850     17.828065            22.808822   \n",
              "..         ...    ...        ...           ...                  ...   \n",
              "795         12     76   4.945038      2.675880             4.935498   \n",
              "796         12     77   4.953164      2.705455             4.945038   \n",
              "797         12     78   4.960086      2.734360             4.953164   \n",
              "798         12     79   4.965973      2.762609             4.960086   \n",
              "799         12     80   4.970993      2.790213             4.965973   \n",
              "\n",
              "     breath_id__u_in_lag2  \n",
              "0                0.000000  \n",
              "1                0.000000  \n",
              "2                0.083334  \n",
              "3               18.383041  \n",
              "4               22.509278  \n",
              "..                    ...  \n",
              "795              4.924341  \n",
              "796              4.935498  \n",
              "797              4.945038  \n",
              "798              4.953164  \n",
              "799              4.960086  \n",
              "\n",
              "[800 rows x 6 columns]"
            ],
            "text/html": [
              "\n",
              "  <div id=\"df-232c20ad-846a-45a0-8ce5-c49544adf22f\">\n",
              "    <div class=\"colab-df-container\">\n",
              "      <div>\n",
              "<style scoped>\n",
              "    .dataframe tbody tr th:only-of-type {\n",
              "        vertical-align: middle;\n",
              "    }\n",
              "\n",
              "    .dataframe tbody tr th {\n",
              "        vertical-align: top;\n",
              "    }\n",
              "\n",
              "    .dataframe thead th {\n",
              "        text-align: right;\n",
              "    }\n",
              "</style>\n",
              "<table border=\"1\" class=\"dataframe\">\n",
              "  <thead>\n",
              "    <tr style=\"text-align: right;\">\n",
              "      <th></th>\n",
              "      <th>breath_id</th>\n",
              "      <th>count</th>\n",
              "      <th>u_in</th>\n",
              "      <th>u_in_cummean</th>\n",
              "      <th>breath_id__u_in_lag</th>\n",
              "      <th>breath_id__u_in_lag2</th>\n",
              "    </tr>\n",
              "  </thead>\n",
              "  <tbody>\n",
              "    <tr>\n",
              "      <th>0</th>\n",
              "      <td>1</td>\n",
              "      <td>1</td>\n",
              "      <td>0.083334</td>\n",
              "      <td>0.083334</td>\n",
              "      <td>0.000000</td>\n",
              "      <td>0.000000</td>\n",
              "    </tr>\n",
              "    <tr>\n",
              "      <th>1</th>\n",
              "      <td>1</td>\n",
              "      <td>2</td>\n",
              "      <td>18.383041</td>\n",
              "      <td>9.233188</td>\n",
              "      <td>0.083334</td>\n",
              "      <td>0.000000</td>\n",
              "    </tr>\n",
              "    <tr>\n",
              "      <th>2</th>\n",
              "      <td>1</td>\n",
              "      <td>3</td>\n",
              "      <td>22.509278</td>\n",
              "      <td>13.658551</td>\n",
              "      <td>18.383041</td>\n",
              "      <td>0.083334</td>\n",
              "    </tr>\n",
              "    <tr>\n",
              "      <th>3</th>\n",
              "      <td>1</td>\n",
              "      <td>4</td>\n",
              "      <td>22.808822</td>\n",
              "      <td>15.946119</td>\n",
              "      <td>22.509278</td>\n",
              "      <td>18.383041</td>\n",
              "    </tr>\n",
              "    <tr>\n",
              "      <th>4</th>\n",
              "      <td>1</td>\n",
              "      <td>5</td>\n",
              "      <td>25.355850</td>\n",
              "      <td>17.828065</td>\n",
              "      <td>22.808822</td>\n",
              "      <td>22.509278</td>\n",
              "    </tr>\n",
              "    <tr>\n",
              "      <th>...</th>\n",
              "      <td>...</td>\n",
              "      <td>...</td>\n",
              "      <td>...</td>\n",
              "      <td>...</td>\n",
              "      <td>...</td>\n",
              "      <td>...</td>\n",
              "    </tr>\n",
              "    <tr>\n",
              "      <th>795</th>\n",
              "      <td>12</td>\n",
              "      <td>76</td>\n",
              "      <td>4.945038</td>\n",
              "      <td>2.675880</td>\n",
              "      <td>4.935498</td>\n",
              "      <td>4.924341</td>\n",
              "    </tr>\n",
              "    <tr>\n",
              "      <th>796</th>\n",
              "      <td>12</td>\n",
              "      <td>77</td>\n",
              "      <td>4.953164</td>\n",
              "      <td>2.705455</td>\n",
              "      <td>4.945038</td>\n",
              "      <td>4.935498</td>\n",
              "    </tr>\n",
              "    <tr>\n",
              "      <th>797</th>\n",
              "      <td>12</td>\n",
              "      <td>78</td>\n",
              "      <td>4.960086</td>\n",
              "      <td>2.734360</td>\n",
              "      <td>4.953164</td>\n",
              "      <td>4.945038</td>\n",
              "    </tr>\n",
              "    <tr>\n",
              "      <th>798</th>\n",
              "      <td>12</td>\n",
              "      <td>79</td>\n",
              "      <td>4.965973</td>\n",
              "      <td>2.762609</td>\n",
              "      <td>4.960086</td>\n",
              "      <td>4.953164</td>\n",
              "    </tr>\n",
              "    <tr>\n",
              "      <th>799</th>\n",
              "      <td>12</td>\n",
              "      <td>80</td>\n",
              "      <td>4.970993</td>\n",
              "      <td>2.790213</td>\n",
              "      <td>4.965973</td>\n",
              "      <td>4.960086</td>\n",
              "    </tr>\n",
              "  </tbody>\n",
              "</table>\n",
              "<p>800 rows × 6 columns</p>\n",
              "</div>\n",
              "      <button class=\"colab-df-convert\" onclick=\"convertToInteractive('df-232c20ad-846a-45a0-8ce5-c49544adf22f')\"\n",
              "              title=\"Convert this dataframe to an interactive table.\"\n",
              "              style=\"display:none;\">\n",
              "        \n",
              "  <svg xmlns=\"http://www.w3.org/2000/svg\" height=\"24px\"viewBox=\"0 0 24 24\"\n",
              "       width=\"24px\">\n",
              "    <path d=\"M0 0h24v24H0V0z\" fill=\"none\"/>\n",
              "    <path d=\"M18.56 5.44l.94 2.06.94-2.06 2.06-.94-2.06-.94-.94-2.06-.94 2.06-2.06.94zm-11 1L8.5 8.5l.94-2.06 2.06-.94-2.06-.94L8.5 2.5l-.94 2.06-2.06.94zm10 10l.94 2.06.94-2.06 2.06-.94-2.06-.94-.94-2.06-.94 2.06-2.06.94z\"/><path d=\"M17.41 7.96l-1.37-1.37c-.4-.4-.92-.59-1.43-.59-.52 0-1.04.2-1.43.59L10.3 9.45l-7.72 7.72c-.78.78-.78 2.05 0 2.83L4 21.41c.39.39.9.59 1.41.59.51 0 1.02-.2 1.41-.59l7.78-7.78 2.81-2.81c.8-.78.8-2.07 0-2.86zM5.41 20L4 18.59l7.72-7.72 1.47 1.35L5.41 20z\"/>\n",
              "  </svg>\n",
              "      </button>\n",
              "      \n",
              "  <style>\n",
              "    .colab-df-container {\n",
              "      display:flex;\n",
              "      flex-wrap:wrap;\n",
              "      gap: 12px;\n",
              "    }\n",
              "\n",
              "    .colab-df-convert {\n",
              "      background-color: #E8F0FE;\n",
              "      border: none;\n",
              "      border-radius: 50%;\n",
              "      cursor: pointer;\n",
              "      display: none;\n",
              "      fill: #1967D2;\n",
              "      height: 32px;\n",
              "      padding: 0 0 0 0;\n",
              "      width: 32px;\n",
              "    }\n",
              "\n",
              "    .colab-df-convert:hover {\n",
              "      background-color: #E2EBFA;\n",
              "      box-shadow: 0px 1px 2px rgba(60, 64, 67, 0.3), 0px 1px 3px 1px rgba(60, 64, 67, 0.15);\n",
              "      fill: #174EA6;\n",
              "    }\n",
              "\n",
              "    [theme=dark] .colab-df-convert {\n",
              "      background-color: #3B4455;\n",
              "      fill: #D2E3FC;\n",
              "    }\n",
              "\n",
              "    [theme=dark] .colab-df-convert:hover {\n",
              "      background-color: #434B5C;\n",
              "      box-shadow: 0px 1px 3px 1px rgba(0, 0, 0, 0.15);\n",
              "      filter: drop-shadow(0px 1px 2px rgba(0, 0, 0, 0.3));\n",
              "      fill: #FFFFFF;\n",
              "    }\n",
              "  </style>\n",
              "\n",
              "      <script>\n",
              "        const buttonEl =\n",
              "          document.querySelector('#df-232c20ad-846a-45a0-8ce5-c49544adf22f button.colab-df-convert');\n",
              "        buttonEl.style.display =\n",
              "          google.colab.kernel.accessAllowed ? 'block' : 'none';\n",
              "\n",
              "        async function convertToInteractive(key) {\n",
              "          const element = document.querySelector('#df-232c20ad-846a-45a0-8ce5-c49544adf22f');\n",
              "          const dataTable =\n",
              "            await google.colab.kernel.invokeFunction('convertToInteractive',\n",
              "                                                     [key], {});\n",
              "          if (!dataTable) return;\n",
              "\n",
              "          const docLinkHtml = 'Like what you see? Visit the ' +\n",
              "            '<a target=\"_blank\" href=https://colab.research.google.com/notebooks/data_table.ipynb>data table notebook</a>'\n",
              "            + ' to learn more about interactive tables.';\n",
              "          element.innerHTML = '';\n",
              "          dataTable['output_type'] = 'display_data';\n",
              "          await google.colab.output.renderOutput(dataTable, element);\n",
              "          const docLink = document.createElement('div');\n",
              "          docLink.innerHTML = docLinkHtml;\n",
              "          element.appendChild(docLink);\n",
              "        }\n",
              "      </script>\n",
              "    </div>\n",
              "  </div>\n",
              "  "
            ]
          },
          "metadata": {},
          "execution_count": 36
        }
      ],
      "id": "MNAmCtLlEhGp"
    },
    {
      "cell_type": "markdown",
      "source": [
        "#### 3.2.6. Tính các thông số thống kê của mỗi lần đo:"
      ],
      "metadata": {
        "id": "tVsyL0m5PSXs"
      },
      "id": "tVsyL0m5PSXs"
    },
    {
      "cell_type": "markdown",
      "source": [
        "Khoảng cách thời gian của mỗi lần đo:\n",
        "\n"
      ],
      "metadata": {
        "id": "h0SP4Ss-PxXl"
      },
      "id": "h0SP4Ss-PxXl"
    },
    {
      "cell_type": "code",
      "source": [
        "small_df['time_step_diff'] = small_df.groupby('breath_id')['time_step'].diff().fillna(0)"
      ],
      "metadata": {
        "id": "oEaP20HxP47z"
      },
      "execution_count": null,
      "outputs": [],
      "id": "oEaP20HxP47z"
    },
    {
      "cell_type": "markdown",
      "source": [
        "Tính chu trình halflife=9, a= 1-e^(-ln(2)/9)"
      ],
      "metadata": {
        "id": "y_KjGHsjTE8w"
      },
      "id": "y_KjGHsjTE8w"
    },
    {
      "cell_type": "code",
      "source": [
        "small_df['ewm_u_in_mean'] = (small_df\\\n",
        "                           .groupby('breath_id')['u_in']\\\n",
        "                           .ewm(halflife=9)\\\n",
        "                           .mean()\\\n",
        "                           .reset_index(level=0,drop=True))"
      ],
      "metadata": {
        "id": "b1AZ_XvnT03S"
      },
      "execution_count": null,
      "outputs": [],
      "id": "b1AZ_XvnT03S"
    },
    {
      "cell_type": "markdown",
      "source": [
        "Tính giá trị tổng, nhỏ nhất, lớn nhất, trung bình của của bộ điều khiển là áp suất. các giá trị tổng, nhỏ nhất, lớn nhất, trung bình của lẩn đồ cuối cùng trong nhịp thở địa diện cho tổng, nhỏ nhất, lớn nhất, trung bình của cả nhịp thở"
      ],
      "metadata": {
        "id": "ywx-aBqZUP6a"
      },
      "id": "ywx-aBqZUP6a"
    },
    {
      "cell_type": "code",
      "source": [
        "small_df[[\"15_in_sum\",\"15_in_min\",\"15_in_max\",\"15_in_mean\"]] = (small_df\\\n",
        "                                                              .groupby('breath_id')['u_in']\\\n",
        "                                                              .rolling(window=15,min_periods=1)\\\n",
        "                                                              .agg({\"15_in_sum\":\"sum\",\n",
        "                                                                    \"15_in_min\":\"min\",\n",
        "                                                                    \"15_in_max\":\"max\",\n",
        "                                                                    \"15_in_mean\":\"mean\"})\\\n",
        "                                                               .reset_index(level=0,drop=True))\n",
        "pd.DataFrame(small_df,columns=['time_step_diff', 'breath_id', 'u_in','ewm_u_in_mean',\"15_in_sum\",  \"15_in_min\",  \"15_in_max\",  \"15_in_mean\"])"
      ],
      "metadata": {
        "id": "1B-X_xSsEsbi",
        "colab": {
          "base_uri": "https://localhost:8080/",
          "height": 488
        },
        "outputId": "651a1ae8-1076-4909-8500-65010e40472a"
      },
      "execution_count": null,
      "outputs": [
        {
          "output_type": "execute_result",
          "data": {
            "text/plain": [
              "     time_step_diff  breath_id       u_in  ewm_u_in_mean  15_in_sum  \\\n",
              "0          0.000000          1   0.083334       0.083334   0.083334   \n",
              "1          0.033652          1  18.383041       9.585358  18.466375   \n",
              "2          0.033862          1  22.509278      14.229040  40.975653   \n",
              "3          0.034028          1  22.808822      16.627759  63.784476   \n",
              "4          0.034213          1  25.355850      18.652046  89.140326   \n",
              "..              ...        ...        ...            ...        ...   \n",
              "795        0.032008         12   4.945038       4.056941  71.828636   \n",
              "796        0.031998         12   4.953164       4.123551  72.297195   \n",
              "797        0.031985         12   4.960086       4.185712  72.696556   \n",
              "798        0.031914         12   4.965973       4.243681  73.036872   \n",
              "799        0.031924         12   4.970993       4.297707  73.326960   \n",
              "\n",
              "     15_in_min  15_in_max  15_in_mean  \n",
              "0     0.083334   0.083334    0.083334  \n",
              "1     0.083334  18.383041    9.233188  \n",
              "2     0.083334  22.509278   13.658551  \n",
              "3     0.083334  22.808822   15.946119  \n",
              "4     0.083334  25.355850   17.828065  \n",
              "..         ...        ...         ...  \n",
              "795   4.484605   4.945038    4.788576  \n",
              "796   4.560724   4.953164    4.819813  \n",
              "797   4.625656   4.960086    4.846437  \n",
              "798   4.680905   4.965973    4.869125  \n",
              "799   4.728061   4.970993    4.888464  \n",
              "\n",
              "[800 rows x 8 columns]"
            ],
            "text/html": [
              "\n",
              "  <div id=\"df-3b8f0880-5924-47d9-931d-17f2a7e26713\">\n",
              "    <div class=\"colab-df-container\">\n",
              "      <div>\n",
              "<style scoped>\n",
              "    .dataframe tbody tr th:only-of-type {\n",
              "        vertical-align: middle;\n",
              "    }\n",
              "\n",
              "    .dataframe tbody tr th {\n",
              "        vertical-align: top;\n",
              "    }\n",
              "\n",
              "    .dataframe thead th {\n",
              "        text-align: right;\n",
              "    }\n",
              "</style>\n",
              "<table border=\"1\" class=\"dataframe\">\n",
              "  <thead>\n",
              "    <tr style=\"text-align: right;\">\n",
              "      <th></th>\n",
              "      <th>time_step_diff</th>\n",
              "      <th>breath_id</th>\n",
              "      <th>u_in</th>\n",
              "      <th>ewm_u_in_mean</th>\n",
              "      <th>15_in_sum</th>\n",
              "      <th>15_in_min</th>\n",
              "      <th>15_in_max</th>\n",
              "      <th>15_in_mean</th>\n",
              "    </tr>\n",
              "  </thead>\n",
              "  <tbody>\n",
              "    <tr>\n",
              "      <th>0</th>\n",
              "      <td>0.000000</td>\n",
              "      <td>1</td>\n",
              "      <td>0.083334</td>\n",
              "      <td>0.083334</td>\n",
              "      <td>0.083334</td>\n",
              "      <td>0.083334</td>\n",
              "      <td>0.083334</td>\n",
              "      <td>0.083334</td>\n",
              "    </tr>\n",
              "    <tr>\n",
              "      <th>1</th>\n",
              "      <td>0.033652</td>\n",
              "      <td>1</td>\n",
              "      <td>18.383041</td>\n",
              "      <td>9.585358</td>\n",
              "      <td>18.466375</td>\n",
              "      <td>0.083334</td>\n",
              "      <td>18.383041</td>\n",
              "      <td>9.233188</td>\n",
              "    </tr>\n",
              "    <tr>\n",
              "      <th>2</th>\n",
              "      <td>0.033862</td>\n",
              "      <td>1</td>\n",
              "      <td>22.509278</td>\n",
              "      <td>14.229040</td>\n",
              "      <td>40.975653</td>\n",
              "      <td>0.083334</td>\n",
              "      <td>22.509278</td>\n",
              "      <td>13.658551</td>\n",
              "    </tr>\n",
              "    <tr>\n",
              "      <th>3</th>\n",
              "      <td>0.034028</td>\n",
              "      <td>1</td>\n",
              "      <td>22.808822</td>\n",
              "      <td>16.627759</td>\n",
              "      <td>63.784476</td>\n",
              "      <td>0.083334</td>\n",
              "      <td>22.808822</td>\n",
              "      <td>15.946119</td>\n",
              "    </tr>\n",
              "    <tr>\n",
              "      <th>4</th>\n",
              "      <td>0.034213</td>\n",
              "      <td>1</td>\n",
              "      <td>25.355850</td>\n",
              "      <td>18.652046</td>\n",
              "      <td>89.140326</td>\n",
              "      <td>0.083334</td>\n",
              "      <td>25.355850</td>\n",
              "      <td>17.828065</td>\n",
              "    </tr>\n",
              "    <tr>\n",
              "      <th>...</th>\n",
              "      <td>...</td>\n",
              "      <td>...</td>\n",
              "      <td>...</td>\n",
              "      <td>...</td>\n",
              "      <td>...</td>\n",
              "      <td>...</td>\n",
              "      <td>...</td>\n",
              "      <td>...</td>\n",
              "    </tr>\n",
              "    <tr>\n",
              "      <th>795</th>\n",
              "      <td>0.032008</td>\n",
              "      <td>12</td>\n",
              "      <td>4.945038</td>\n",
              "      <td>4.056941</td>\n",
              "      <td>71.828636</td>\n",
              "      <td>4.484605</td>\n",
              "      <td>4.945038</td>\n",
              "      <td>4.788576</td>\n",
              "    </tr>\n",
              "    <tr>\n",
              "      <th>796</th>\n",
              "      <td>0.031998</td>\n",
              "      <td>12</td>\n",
              "      <td>4.953164</td>\n",
              "      <td>4.123551</td>\n",
              "      <td>72.297195</td>\n",
              "      <td>4.560724</td>\n",
              "      <td>4.953164</td>\n",
              "      <td>4.819813</td>\n",
              "    </tr>\n",
              "    <tr>\n",
              "      <th>797</th>\n",
              "      <td>0.031985</td>\n",
              "      <td>12</td>\n",
              "      <td>4.960086</td>\n",
              "      <td>4.185712</td>\n",
              "      <td>72.696556</td>\n",
              "      <td>4.625656</td>\n",
              "      <td>4.960086</td>\n",
              "      <td>4.846437</td>\n",
              "    </tr>\n",
              "    <tr>\n",
              "      <th>798</th>\n",
              "      <td>0.031914</td>\n",
              "      <td>12</td>\n",
              "      <td>4.965973</td>\n",
              "      <td>4.243681</td>\n",
              "      <td>73.036872</td>\n",
              "      <td>4.680905</td>\n",
              "      <td>4.965973</td>\n",
              "      <td>4.869125</td>\n",
              "    </tr>\n",
              "    <tr>\n",
              "      <th>799</th>\n",
              "      <td>0.031924</td>\n",
              "      <td>12</td>\n",
              "      <td>4.970993</td>\n",
              "      <td>4.297707</td>\n",
              "      <td>73.326960</td>\n",
              "      <td>4.728061</td>\n",
              "      <td>4.970993</td>\n",
              "      <td>4.888464</td>\n",
              "    </tr>\n",
              "  </tbody>\n",
              "</table>\n",
              "<p>800 rows × 8 columns</p>\n",
              "</div>\n",
              "      <button class=\"colab-df-convert\" onclick=\"convertToInteractive('df-3b8f0880-5924-47d9-931d-17f2a7e26713')\"\n",
              "              title=\"Convert this dataframe to an interactive table.\"\n",
              "              style=\"display:none;\">\n",
              "        \n",
              "  <svg xmlns=\"http://www.w3.org/2000/svg\" height=\"24px\"viewBox=\"0 0 24 24\"\n",
              "       width=\"24px\">\n",
              "    <path d=\"M0 0h24v24H0V0z\" fill=\"none\"/>\n",
              "    <path d=\"M18.56 5.44l.94 2.06.94-2.06 2.06-.94-2.06-.94-.94-2.06-.94 2.06-2.06.94zm-11 1L8.5 8.5l.94-2.06 2.06-.94-2.06-.94L8.5 2.5l-.94 2.06-2.06.94zm10 10l.94 2.06.94-2.06 2.06-.94-2.06-.94-.94-2.06-.94 2.06-2.06.94z\"/><path d=\"M17.41 7.96l-1.37-1.37c-.4-.4-.92-.59-1.43-.59-.52 0-1.04.2-1.43.59L10.3 9.45l-7.72 7.72c-.78.78-.78 2.05 0 2.83L4 21.41c.39.39.9.59 1.41.59.51 0 1.02-.2 1.41-.59l7.78-7.78 2.81-2.81c.8-.78.8-2.07 0-2.86zM5.41 20L4 18.59l7.72-7.72 1.47 1.35L5.41 20z\"/>\n",
              "  </svg>\n",
              "      </button>\n",
              "      \n",
              "  <style>\n",
              "    .colab-df-container {\n",
              "      display:flex;\n",
              "      flex-wrap:wrap;\n",
              "      gap: 12px;\n",
              "    }\n",
              "\n",
              "    .colab-df-convert {\n",
              "      background-color: #E8F0FE;\n",
              "      border: none;\n",
              "      border-radius: 50%;\n",
              "      cursor: pointer;\n",
              "      display: none;\n",
              "      fill: #1967D2;\n",
              "      height: 32px;\n",
              "      padding: 0 0 0 0;\n",
              "      width: 32px;\n",
              "    }\n",
              "\n",
              "    .colab-df-convert:hover {\n",
              "      background-color: #E2EBFA;\n",
              "      box-shadow: 0px 1px 2px rgba(60, 64, 67, 0.3), 0px 1px 3px 1px rgba(60, 64, 67, 0.15);\n",
              "      fill: #174EA6;\n",
              "    }\n",
              "\n",
              "    [theme=dark] .colab-df-convert {\n",
              "      background-color: #3B4455;\n",
              "      fill: #D2E3FC;\n",
              "    }\n",
              "\n",
              "    [theme=dark] .colab-df-convert:hover {\n",
              "      background-color: #434B5C;\n",
              "      box-shadow: 0px 1px 3px 1px rgba(0, 0, 0, 0.15);\n",
              "      filter: drop-shadow(0px 1px 2px rgba(0, 0, 0, 0.3));\n",
              "      fill: #FFFFFF;\n",
              "    }\n",
              "  </style>\n",
              "\n",
              "      <script>\n",
              "        const buttonEl =\n",
              "          document.querySelector('#df-3b8f0880-5924-47d9-931d-17f2a7e26713 button.colab-df-convert');\n",
              "        buttonEl.style.display =\n",
              "          google.colab.kernel.accessAllowed ? 'block' : 'none';\n",
              "\n",
              "        async function convertToInteractive(key) {\n",
              "          const element = document.querySelector('#df-3b8f0880-5924-47d9-931d-17f2a7e26713');\n",
              "          const dataTable =\n",
              "            await google.colab.kernel.invokeFunction('convertToInteractive',\n",
              "                                                     [key], {});\n",
              "          if (!dataTable) return;\n",
              "\n",
              "          const docLinkHtml = 'Like what you see? Visit the ' +\n",
              "            '<a target=\"_blank\" href=https://colab.research.google.com/notebooks/data_table.ipynb>data table notebook</a>'\n",
              "            + ' to learn more about interactive tables.';\n",
              "          element.innerHTML = '';\n",
              "          dataTable['output_type'] = 'display_data';\n",
              "          await google.colab.output.renderOutput(dataTable, element);\n",
              "          const docLink = document.createElement('div');\n",
              "          docLink.innerHTML = docLinkHtml;\n",
              "          element.appendChild(docLink);\n",
              "        }\n",
              "      </script>\n",
              "    </div>\n",
              "  </div>\n",
              "  "
            ]
          },
          "metadata": {},
          "execution_count": 39
        }
      ],
      "id": "1B-X_xSsEsbi"
    },
    {
      "cell_type": "markdown",
      "source": [
        "#### 3.2.7. Different Feature:"
      ],
      "metadata": {
        "id": "nOAMjzxcPdu7"
      },
      "id": "nOAMjzxcPdu7"
    },
    {
      "cell_type": "markdown",
      "source": [
        "- Các feature này mô tả về sự chênh lệch giữa các u_in, u_out hiện tại với 1, 2 lần đo sau đó (lag_back1, lag_back2)."
      ],
      "metadata": {
        "id": "SEjoVtXhJZvW"
      },
      "id": "SEjoVtXhJZvW"
    },
    {
      "cell_type": "code",
      "source": [
        "df_example = small_df.iloc[:79].copy()\n",
        "df_example['u_in_lag_back1'] = df_example.groupby('breath_id')['u_in'].shift(-1)\n",
        "df_example['u_out_lag_back1'] = df_example.groupby('breath_id')['u_out'].shift(-1)\n",
        "df_example['u_in_lag_back2'] = df_example.groupby('breath_id')['u_in'].shift(-2)\n",
        "df_example['u_out_lag_back2'] = df_example.groupby('breath_id')['u_out'].shift(-2)"
      ],
      "metadata": {
        "id": "V16y7ywkpD1n"
      },
      "execution_count": null,
      "outputs": [],
      "id": "V16y7ywkpD1n"
    },
    {
      "cell_type": "code",
      "source": [
        "df_example['u_in_lagback_diff1'] = df_example['u_in'] - df_example['u_in_lag_back1']\n",
        "df_example['u_out_lagback_diff1'] = df_example['u_out'] - df_example['u_out_lag_back1']\n",
        "df_example['u_in_lagback_diff2'] = df_example['u_in'] - df_example['u_in_lag_back2']\n",
        "df_example['u_out_lagback_diff2'] = df_example['u_out'] - df_example['u_out_lag_back2']"
      ],
      "metadata": {
        "id": "U5980hcHpKaE"
      },
      "execution_count": null,
      "outputs": [],
      "id": "U5980hcHpKaE"
    },
    {
      "cell_type": "code",
      "source": [
        "df_example['u_in_lagback_diff1'].plot()\n",
        "df_example['u_in_lagback_diff2'].plot();"
      ],
      "metadata": {
        "colab": {
          "base_uri": "https://localhost:8080/",
          "height": 54
        },
        "id": "91_DSDVZLLIb",
        "outputId": "d159b12c-b42a-414a-ad05-31f4529c905c"
      },
      "execution_count": null,
      "outputs": [
        {
          "output_type": "display_data",
          "data": {
            "text/plain": [
              "<Figure size 432x288 with 1 Axes>"
            ],
            "image/png": "[encoded data removed]"
          },
          "metadata": {
            "needs_background": "light"
          }
        }
      ],
      "id": "91_DSDVZLLIb"
    },
    {
      "cell_type": "code",
      "source": [
        "df_example['u_out_lagback_diff1'].plot()\n",
        "df_example['u_out_lagback_diff2'].plot();"
      ],
      "metadata": {
        "colab": {
          "base_uri": "https://localhost:8080/",
          "height": 54
        },
        "id": "k8xKNuRpMmwR",
        "outputId": "aa9266d0-30c3-413d-90e2-4adb59689eba"
      },
      "execution_count": null,
      "outputs": [
        {
          "output_type": "display_data",
          "data": {
            "text/plain": [
              "<Figure size 432x288 with 1 Axes>"
            ],
            "image/png": "[encoded data removed]"
          },
          "metadata": {
            "needs_background": "light"
          }
        }
      ],
      "id": "k8xKNuRpMmwR"
    },
    {
      "cell_type": "markdown",
      "source": [
        "#### 3.2.8. R - C Feature:"
      ],
      "metadata": {
        "id": "fmtGRh0rPdvC"
      },
      "id": "fmtGRh0rPdvC"
    },
    {
      "cell_type": "markdown",
      "source": [
        "- R, C là các thuộc tính về phổi, có các giá trị như:\n",
        "  - R: [5, 20, 50]\n",
        "  - C: [10, 20, 50]\n",
        "- Tác giả kết hợp R, C và sử dụng như một biến phân loại để cho vào mô hình train."
      ],
      "metadata": {
        "id": "V9ysR_ZgPdvC"
      },
      "id": "V9ysR_ZgPdvC"
    },
    {
      "cell_type": "code",
      "source": [
        "df_example['R'] = df_example['R'].astype(str)\n",
        "df_example['C'] = df_example['C'].astype(str)\n",
        "df_example['R__C'] = df_example[\"R\"] + '__' + df_example[\"C\"]\n",
        "df_example = pd.get_dummies(df_example)"
      ],
      "metadata": {
        "id": "gk_tblZxNR-6"
      },
      "execution_count": null,
      "outputs": [],
      "id": "gk_tblZxNR-6"
    },
    {
      "cell_type": "code",
      "source": [
        "del small_df, df_example\n",
        "gc.collect()"
      ],
      "metadata": {
        "colab": {
          "base_uri": "https://localhost:8080/"
        },
        "id": "bf3dQgxZtX7f",
        "outputId": "8b38dd36-f397-4f36-d657-0c676baf34b5"
      },
      "id": "bf3dQgxZtX7f",
      "execution_count": null,
      "outputs": [
        {
          "output_type": "execute_result",
          "data": {
            "text/plain": [
              "48707"
            ]
          },
          "metadata": {},
          "execution_count": 45
        }
      ]
    },
    {
      "cell_type": "markdown",
      "source": [
        "#### 3.2.9. Tổng hợp tất cả các feature:"
      ],
      "metadata": {
        "id": "xWgAAZ7YIglv"
      },
      "id": "xWgAAZ7YIglv"
    },
    {
      "cell_type": "markdown",
      "source": [
        "So với [notebook Baseline](https://www.kaggle.com/mst8823/google-brain-lightgbm-baseline) và hầu hết các notebook khác, các feature đặc trưng chỉ có tác giả thực hiện như: \n",
        "- Trong step 2: **`u_in_lag4, u_in_lag_back4, u_out_lag4, u_out_lag_back4`**\n",
        "- Trong step 3: **`u_in_diff3, u_out_diff3, u_in_diff4, u_out_diff4`**\n",
        "- Trong step 5: **`breath_id__u_in_lag, breath_id__u_in_lag2, u_in_lagback_diff1, u_out_lagback_diff1, u_in_lagback_diff2, u_out_lagback_diff2`**\n",
        "- Trong step 6: **`time_step_diff, ewm_u_in_mean, 15_in_sum, 15_in_min, 15_in_max, 15_in_mean`**"
      ],
      "metadata": {
        "id": "i14FXyTUUZn1"
      },
      "id": "i14FXyTUUZn1"
    },
    {
      "cell_type": "code",
      "execution_count": 6,
      "id": "f32dbc98",
      "metadata": {
        "id": "f32dbc98"
      },
      "outputs": [],
      "source": [
        "def add_features(df):\n",
        "    \n",
        "    # Step 1:\n",
        "    df['cross']= df['u_in'] * df['u_out']\n",
        "    df['cross2']= df['time_step'] * df['u_out']\n",
        "    df['area'] = df['time_step'] * df['u_in']\n",
        "    df['area'] = df.groupby('breath_id')['area'].cumsum()\n",
        "    df['time_step_cumsum'] = df.groupby(['breath_id'])['time_step'].cumsum()\n",
        "    df['u_in_cumsum'] = (df['u_in']).groupby(df['breath_id']).cumsum()\n",
        "    \n",
        "    # Step 2:\n",
        "    df['u_in_lag1'] = df.groupby('breath_id')['u_in'].shift(1)\n",
        "    df['u_out_lag1'] = df.groupby('breath_id')['u_out'].shift(1)\n",
        "    df['u_in_lag_back1'] = df.groupby('breath_id')['u_in'].shift(-1)\n",
        "    df['u_out_lag_back1'] = df.groupby('breath_id')['u_out'].shift(-1)\n",
        "    df['u_in_lag2'] = df.groupby('breath_id')['u_in'].shift(2)\n",
        "    df['u_out_lag2'] = df.groupby('breath_id')['u_out'].shift(2)\n",
        "    df['u_in_lag_back2'] = df.groupby('breath_id')['u_in'].shift(-2)\n",
        "    df['u_out_lag_back2'] = df.groupby('breath_id')['u_out'].shift(-2)\n",
        "    df['u_in_lag3'] = df.groupby('breath_id')['u_in'].shift(3)\n",
        "    df['u_out_lag3'] = df.groupby('breath_id')['u_out'].shift(3)\n",
        "    df['u_in_lag_back3'] = df.groupby('breath_id')['u_in'].shift(-3)\n",
        "    df['u_out_lag_back3'] = df.groupby('breath_id')['u_out'].shift(-3)\n",
        "    df['u_in_lag4'] = df.groupby('breath_id')['u_in'].shift(4)\n",
        "    df['u_out_lag4'] = df.groupby('breath_id')['u_out'].shift(4)\n",
        "    df['u_in_lag_back4'] = df.groupby('breath_id')['u_in'].shift(-4)\n",
        "    df['u_out_lag_back4'] = df.groupby('breath_id')['u_out'].shift(-4)\n",
        "    df = df.fillna(0)\n",
        "    \n",
        "    # step 3:\n",
        "    df['breath_id__u_in__max'] = df.groupby(['breath_id'])['u_in'].transform('max')\n",
        "    df['breath_id__u_in__mean'] = df.groupby(['breath_id'])['u_in'].transform('mean')\n",
        "    df['breath_id__u_in__diffmax'] = df.groupby(\n",
        "        ['breath_id'])['u_in'].transform('max') - df['u_in']\n",
        "    df['breath_id__u_in__diffmean'] = df.groupby(\n",
        "        ['breath_id'])['u_in'].transform('mean') - df['u_in']\n",
        "    \n",
        "    # Step 4:\n",
        "    # sự thay đổi u_in so với 1 lần đo trước đó\n",
        "    df['u_in_diff1'] = df['u_in'] - df['u_in_lag1']\n",
        "    # sự thay đổi u_out so với 1 lần đo trước đó\n",
        "    df['u_out_diff1'] = df['u_out'] - df['u_out_lag1']\n",
        "    # sự thay đổi u_in so với 2 lần đo trước đó\n",
        "    df['u_in_diff2'] = df['u_in'] - df['u_in_lag2']\n",
        "    # sự thay đổi u_out  so với 2 lần đo trước đó\n",
        "    df['u_out_diff2'] = df['u_out'] - df['u_out_lag2']\n",
        "    # sự thay đổi u_in so với 3 lần đo trước đó\n",
        "    df['u_in_diff3'] = df['u_in'] - df['u_in_lag3']\n",
        "    # sự thay đổi u_out so với 3 lần đo trước đó\n",
        "    df['u_out_diff3'] = df['u_out'] - df['u_out_lag3']\n",
        "    # sự thay đổi u_in so với 4 lần đo trước đó\n",
        "    df['u_in_diff4'] = df['u_in'] - df['u_in_lag4']\n",
        "    # sự thay đổi u_out so với 4 lần đo trước đó\n",
        "    df['u_out_diff4'] = df['u_out'] - df['u_out_lag4']\n",
        "    \n",
        "    # Step 5:\n",
        "    # giá trị trung bình của u_in từ lần đo đầu tiên cho đến hiện tại\n",
        "    df['one'] = 1\n",
        "    df['count'] = (df['one']).groupby(df['breath_id']).cumsum()\n",
        "    df['u_in_cummean'] = df['u_in_cumsum'] /df['count']\n",
        "    df['breath_id_lag']=df['breath_id'].shift(1).fillna(0)\n",
        "    df['breath_id_lag2']=df['breath_id'].shift(2).fillna(0)\n",
        "    \n",
        "    # breath_id hiện tại có là breath_id của lần đo trước đó?\n",
        "    df['breath_id_lagsame']=np.select([df['breath_id_lag']==df['breath_id']],[1],0)\n",
        "    # breath_id hiện tại có là breath_id của 2 lần đo trước đó?\n",
        "    df['breath_id_lag2same']=np.select([df['breath_id_lag2']==df['breath_id']],[1],0)\n",
        "\n",
        "    # nếu breath_id trùng với lần đo trước, tạo cột có giá trị bằng u_in trước đó\n",
        "    df['breath_id__u_in_lag'] = df['u_in'].shift(1).fillna(0)\n",
        "    df['breath_id__u_in_lag'] = df['breath_id__u_in_lag'] * df['breath_id_lagsame']\n",
        "    \n",
        "    # nếu breath_id trùng với 2 lần đo trước, tạo cột có giá trị bằng u_in 2 lần đo trước đó\n",
        "    df['breath_id__u_in_lag2'] = df['u_in'].shift(2).fillna(0)\n",
        "    df['breath_id__u_in_lag2'] = df['breath_id__u_in_lag2'] * df['breath_id_lag2same']\n",
        "    \n",
        "    # Step 6:\n",
        "    # sự thay đổi time_step so với lần đo trước\n",
        "    df['time_step_diff'] = df.groupby('breath_id')['time_step'].diff().fillna(0)\n",
        "    # tính trung bình cộng có trong số của u_in\n",
        "    df['ewm_u_in_mean'] = (df\\\n",
        "                           .groupby('breath_id')['u_in']\\\n",
        "                           .ewm(halflife=9)\\\n",
        "                           .mean()\\\n",
        "                           .reset_index(level=0,drop=True))\n",
        "    # thêm các cột: sum, min, max, mean là tổng , GTNN, GTLN, TB từ lần đo đầu tiên đến lần đó đang xét\n",
        "    df[[\"15_in_sum\",\"15_in_min\",\"15_in_max\",\"15_in_mean\"]] = (df\\\n",
        "                                                              .groupby('breath_id')['u_in']\\\n",
        "                                                              .rolling(window=15,min_periods=1)\\\n",
        "                                                              .agg({\"15_in_sum\":\"sum\",\n",
        "                                                                    \"15_in_min\":\"min\",\n",
        "                                                                    \"15_in_max\":\"max\",\n",
        "                                                                    \"15_in_mean\":\"mean\"})\\\n",
        "                                                               .reset_index(level=0,drop=True))\n",
        "    \n",
        "    # Step 07:\n",
        "    #sự thay đổi của u_in so với 1 lần đo _lag trước đó\n",
        "    df['u_in_lagback_diff1'] = df['u_in'] - df['u_in_lag_back1']\n",
        "    #sự thay đổi của u_out so với 1 lần đo _lag trước đó\n",
        "    df['u_out_lagback_diff1'] = df['u_out'] - df['u_out_lag_back1']\n",
        "    #sự thay đổi của u_in so với 2 lần đo _lag trước đó\n",
        "    df['u_in_lagback_diff2'] = df['u_in'] - df['u_in_lag_back2']\n",
        "    #sự thay đổi của u_out so với 2 lần đo _lag trước đó\n",
        "    df['u_out_lagback_diff2'] = df['u_out'] - df['u_out_lag_back2']\n",
        "    \n",
        "    # Step 08:\n",
        "    #chuyển đổi cột 'R', 'C' sang kiểu string\n",
        "    df['R'] = df['R'].astype(str)\n",
        "    df['C'] = df['C'].astype(str)\n",
        "    #nối 2 cột 'R', 'C' lại với nhau\n",
        "    df['R__C'] = df[\"R\"].astype(str) + '__' + df[\"C\"].astype(str) \n",
        "    #chuyển đổi các cột có biến chuỗi thành biến chỉ số/giả (tương tự OHE)\n",
        "    df = pd.get_dummies(df)\n",
        "    \n",
        "    return df"
      ]
    },
    {
      "cell_type": "markdown",
      "source": [
        "Featuring trên tập training:"
      ],
      "metadata": {
        "id": "4J_XQ5QWJD3d"
      },
      "id": "4J_XQ5QWJD3d"
    },
    {
      "cell_type": "code",
      "source": [
        "train = add_features(train_df)\n",
        "\n",
        "del train_df\n",
        "gc.collect()"
      ],
      "metadata": {
        "colab": {
          "base_uri": "https://localhost:8080/"
        },
        "id": "bRv5okZyI-Bf",
        "outputId": "a9fd957c-1ca4-4f72-93fd-378340c4de88"
      },
      "id": "bRv5okZyI-Bf",
      "execution_count": 7,
      "outputs": [
        {
          "output_type": "execute_result",
          "data": {
            "text/plain": [
              "0"
            ]
          },
          "metadata": {},
          "execution_count": 7
        }
      ]
    },
    {
      "cell_type": "markdown",
      "source": [
        "Featuring trên tập test:"
      ],
      "metadata": {
        "id": "RtPdDp00JKvP"
      },
      "id": "RtPdDp00JKvP"
    },
    {
      "cell_type": "code",
      "source": [
        "test = add_features(test_df)\n",
        "\n",
        "del test_df\n",
        "gc.collect()"
      ],
      "metadata": {
        "id": "MpqGJMM-I_a6",
        "outputId": "17e8799e-acc3-4e05-bc97-ef48c3d23da5",
        "colab": {
          "base_uri": "https://localhost:8080/"
        }
      },
      "id": "MpqGJMM-I_a6",
      "execution_count": 8,
      "outputs": [
        {
          "output_type": "execute_result",
          "data": {
            "text/plain": [
              "0"
            ]
          },
          "metadata": {},
          "execution_count": 8
        }
      ]
    },
    {
      "cell_type": "markdown",
      "id": "f8be9c26",
      "metadata": {
        "id": "f8be9c26"
      },
      "source": [
        "Drop các cột **`'pressure','id', 'breath_id', 'one','count', 'breath_id_lag', 'breath_id_lag2', 'breath_id_lagsame', 'breath_id_lag2same'`**"
      ]
    },
    {
      "cell_type": "code",
      "execution_count": 9,
      "id": "b601235f",
      "metadata": {
        "id": "b601235f",
        "outputId": "19c45f47-c510-430c-b081-1d694cfd9e14",
        "colab": {
          "base_uri": "https://localhost:8080/"
        }
      },
      "outputs": [
        {
          "output_type": "stream",
          "name": "stdout",
          "text": [
            "train: (6036000, 64) \n",
            "test: (4024000, 64)\n"
          ]
        }
      ],
      "source": [
        "targets = train[['pressure']].to_numpy().reshape(-1, 80)\n",
        "\n",
        "train.drop(['pressure','id', 'breath_id','one','count',\n",
        "            'breath_id_lag','breath_id_lag2','breath_id_lagsame',\n",
        "            'breath_id_lag2same'], axis=1, inplace=True)\n",
        "\n",
        "test.drop(['id', 'breath_id','one','count','breath_id_lag',\n",
        "                  'breath_id_lag2','breath_id_lagsame',\n",
        "                  'breath_id_lag2same'], axis=1, inplace=True)\n",
        "\n",
        "print(f\"train: {train.shape} \\ntest: {test.shape}\")"
      ]
    },
    {
      "cell_type": "markdown",
      "source": [
        "Ở quá trình chuẩn hóa dữ liệu, RobustScaler sử dụng số liệu thống kê loại bỏ các tác nhân từ các giá trị ngoại lai. Phương pháp scale này loại bỏ trung vị (media) và chia tỉ lệ dữ liệu theo tứ phân vị (Interquartile Range). Điều này đồng nghĩa với việc giảm ảnh hưởng của các giá trị ngoại lai (tác động đến mean và variance)."
      ],
      "metadata": {
        "id": "nbAfLXQmhtAS"
      },
      "id": "nbAfLXQmhtAS"
    },
    {
      "cell_type": "code",
      "source": [
        "scaler = RobustScaler()\n",
        "train = scaler.fit_transform(train)\n",
        "test = scaler.transform(test)\n",
        "\n",
        "train = train.reshape(-1, 80, train.shape[-1])\n",
        "test = test.reshape(-1, 80, train.shape[-1])\n",
        "\n",
        "print(f\"train: {train.shape} \\ntest: {test.shape} \\ntargets: {targets.shape}\")"
      ],
      "metadata": {
        "id": "SfTgWjDSYpsy",
        "outputId": "90eda6fe-d13c-4902-e2bd-d1be86bd0f44",
        "colab": {
          "base_uri": "https://localhost:8080/"
        }
      },
      "id": "SfTgWjDSYpsy",
      "execution_count": 10,
      "outputs": [
        {
          "output_type": "stream",
          "name": "stdout",
          "text": [
            "train: (75450, 80, 64) \n",
            "test: (50300, 80, 64) \n",
            "targets: (75450, 80)\n"
          ]
        }
      ]
    },
    {
      "cell_type": "code",
      "execution_count": 11,
      "id": "d9986322",
      "metadata": {
        "id": "d9986322",
        "outputId": "e8a4a3fd-7d84-440d-f488-b76eb1a9a7fe",
        "colab": {
          "base_uri": "https://localhost:8080/"
        }
      },
      "outputs": [
        {
          "output_type": "stream",
          "name": "stdout",
          "text": [
            "Min pressure: -1.8957443237304688\n",
            "Max pressure: 64.82099151611328\n",
            "Pressure step: 0.07030248641967773\n",
            "Unique values:  950\n"
          ]
        },
        {
          "output_type": "execute_result",
          "data": {
            "text/plain": [
              "176"
            ]
          },
          "metadata": {},
          "execution_count": 11
        }
      ],
      "source": [
        "pressure = targets.squeeze().reshape(-1,1).astype('float32')\n",
        "\n",
        "P_MIN = np.min(pressure)\n",
        "P_MAX = np.max(pressure)\n",
        "P_STEP = (pressure[1] - pressure[0])[0]\n",
        "print('Min pressure: {}'.format(P_MIN))\n",
        "print('Max pressure: {}'.format(P_MAX))\n",
        "print('Pressure step: {}'.format(P_STEP))\n",
        "print('Unique values:  {}'.format(np.unique(pressure).shape[0]))\n",
        "\n",
        "del pressure\n",
        "gc.collect()"
      ]
    },
    {
      "cell_type": "markdown",
      "source": [
        "### 3.3. Hardware config:"
      ],
      "metadata": {
        "id": "wo4p8IVAZcAc"
      },
      "id": "wo4p8IVAZcAc"
    },
    {
      "cell_type": "code",
      "source": [
        "try:\n",
        "    tpu = tf.distribute.cluster_resolver.TPUClusterResolver()\n",
        "    tf.config.experimental_connect_to_cluster(tpu)\n",
        "    tf.tpu.experimental.initialize_tpu_system(tpu)\n",
        "    tpu_strategy = tf.distribute.experimental.TPUStrategy(tpu)\n",
        "    BATCH_SIZE = tpu_strategy.num_replicas_in_sync * 64\n",
        "    print(\"Running on TPU:\", tpu.master())\n",
        "    print(f\"Batch Size: {BATCH_SIZE}\")\n",
        "    \n",
        "except ValueError:\n",
        "    strategy = tf.distribute.get_strategy()\n",
        "    BATCH_SIZE = 512\n",
        "    print(f\"Running on {strategy.num_replicas_in_sync} replicas\")\n",
        "    print(f\"Batch Size: {BATCH_SIZE}\")"
      ],
      "metadata": {
        "id": "VFFK4yS-ZbA_",
        "outputId": "fd77eca6-f095-4837-ca6e-1dd647eabfc6",
        "colab": {
          "base_uri": "https://localhost:8080/"
        }
      },
      "id": "VFFK4yS-ZbA_",
      "execution_count": 12,
      "outputs": [
        {
          "output_type": "stream",
          "name": "stdout",
          "text": [
            "INFO:tensorflow:Deallocate tpu buffers before initializing tpu system.\n"
          ]
        },
        {
          "output_type": "stream",
          "name": "stderr",
          "text": [
            "INFO:tensorflow:Deallocate tpu buffers before initializing tpu system.\n"
          ]
        },
        {
          "output_type": "stream",
          "name": "stdout",
          "text": [
            "INFO:tensorflow:Initializing the TPU system: grpc://10.117.167.146:8470\n"
          ]
        },
        {
          "output_type": "stream",
          "name": "stderr",
          "text": [
            "INFO:tensorflow:Initializing the TPU system: grpc://10.117.167.146:8470\n"
          ]
        },
        {
          "output_type": "stream",
          "name": "stdout",
          "text": [
            "INFO:tensorflow:Finished initializing TPU system.\n"
          ]
        },
        {
          "output_type": "stream",
          "name": "stderr",
          "text": [
            "INFO:tensorflow:Finished initializing TPU system.\n",
            "WARNING:absl:`tf.distribute.experimental.TPUStrategy` is deprecated, please use  the non experimental symbol `tf.distribute.TPUStrategy` instead.\n"
          ]
        },
        {
          "output_type": "stream",
          "name": "stdout",
          "text": [
            "INFO:tensorflow:Found TPU system:\n"
          ]
        },
        {
          "output_type": "stream",
          "name": "stderr",
          "text": [
            "INFO:tensorflow:Found TPU system:\n"
          ]
        },
        {
          "output_type": "stream",
          "name": "stdout",
          "text": [
            "INFO:tensorflow:*** Num TPU Cores: 8\n"
          ]
        },
        {
          "output_type": "stream",
          "name": "stderr",
          "text": [
            "INFO:tensorflow:*** Num TPU Cores: 8\n"
          ]
        },
        {
          "output_type": "stream",
          "name": "stdout",
          "text": [
            "INFO:tensorflow:*** Num TPU Workers: 1\n"
          ]
        },
        {
          "output_type": "stream",
          "name": "stderr",
          "text": [
            "INFO:tensorflow:*** Num TPU Workers: 1\n"
          ]
        },
        {
          "output_type": "stream",
          "name": "stdout",
          "text": [
            "INFO:tensorflow:*** Num TPU Cores Per Worker: 8\n"
          ]
        },
        {
          "output_type": "stream",
          "name": "stderr",
          "text": [
            "INFO:tensorflow:*** Num TPU Cores Per Worker: 8\n"
          ]
        },
        {
          "output_type": "stream",
          "name": "stdout",
          "text": [
            "INFO:tensorflow:*** Available Device: _DeviceAttributes(/job:localhost/replica:0/task:0/device:CPU:0, CPU, 0, 0)\n"
          ]
        },
        {
          "output_type": "stream",
          "name": "stderr",
          "text": [
            "INFO:tensorflow:*** Available Device: _DeviceAttributes(/job:localhost/replica:0/task:0/device:CPU:0, CPU, 0, 0)\n"
          ]
        },
        {
          "output_type": "stream",
          "name": "stdout",
          "text": [
            "INFO:tensorflow:*** Available Device: _DeviceAttributes(/job:worker/replica:0/task:0/device:CPU:0, CPU, 0, 0)\n"
          ]
        },
        {
          "output_type": "stream",
          "name": "stderr",
          "text": [
            "INFO:tensorflow:*** Available Device: _DeviceAttributes(/job:worker/replica:0/task:0/device:CPU:0, CPU, 0, 0)\n"
          ]
        },
        {
          "output_type": "stream",
          "name": "stdout",
          "text": [
            "INFO:tensorflow:*** Available Device: _DeviceAttributes(/job:worker/replica:0/task:0/device:TPU:0, TPU, 0, 0)\n"
          ]
        },
        {
          "output_type": "stream",
          "name": "stderr",
          "text": [
            "INFO:tensorflow:*** Available Device: _DeviceAttributes(/job:worker/replica:0/task:0/device:TPU:0, TPU, 0, 0)\n"
          ]
        },
        {
          "output_type": "stream",
          "name": "stdout",
          "text": [
            "INFO:tensorflow:*** Available Device: _DeviceAttributes(/job:worker/replica:0/task:0/device:TPU:1, TPU, 0, 0)\n"
          ]
        },
        {
          "output_type": "stream",
          "name": "stderr",
          "text": [
            "INFO:tensorflow:*** Available Device: _DeviceAttributes(/job:worker/replica:0/task:0/device:TPU:1, TPU, 0, 0)\n"
          ]
        },
        {
          "output_type": "stream",
          "name": "stdout",
          "text": [
            "INFO:tensorflow:*** Available Device: _DeviceAttributes(/job:worker/replica:0/task:0/device:TPU:2, TPU, 0, 0)\n"
          ]
        },
        {
          "output_type": "stream",
          "name": "stderr",
          "text": [
            "INFO:tensorflow:*** Available Device: _DeviceAttributes(/job:worker/replica:0/task:0/device:TPU:2, TPU, 0, 0)\n"
          ]
        },
        {
          "output_type": "stream",
          "name": "stdout",
          "text": [
            "INFO:tensorflow:*** Available Device: _DeviceAttributes(/job:worker/replica:0/task:0/device:TPU:3, TPU, 0, 0)\n"
          ]
        },
        {
          "output_type": "stream",
          "name": "stderr",
          "text": [
            "INFO:tensorflow:*** Available Device: _DeviceAttributes(/job:worker/replica:0/task:0/device:TPU:3, TPU, 0, 0)\n"
          ]
        },
        {
          "output_type": "stream",
          "name": "stdout",
          "text": [
            "INFO:tensorflow:*** Available Device: _DeviceAttributes(/job:worker/replica:0/task:0/device:TPU:4, TPU, 0, 0)\n"
          ]
        },
        {
          "output_type": "stream",
          "name": "stderr",
          "text": [
            "INFO:tensorflow:*** Available Device: _DeviceAttributes(/job:worker/replica:0/task:0/device:TPU:4, TPU, 0, 0)\n"
          ]
        },
        {
          "output_type": "stream",
          "name": "stdout",
          "text": [
            "INFO:tensorflow:*** Available Device: _DeviceAttributes(/job:worker/replica:0/task:0/device:TPU:5, TPU, 0, 0)\n"
          ]
        },
        {
          "output_type": "stream",
          "name": "stderr",
          "text": [
            "INFO:tensorflow:*** Available Device: _DeviceAttributes(/job:worker/replica:0/task:0/device:TPU:5, TPU, 0, 0)\n"
          ]
        },
        {
          "output_type": "stream",
          "name": "stdout",
          "text": [
            "INFO:tensorflow:*** Available Device: _DeviceAttributes(/job:worker/replica:0/task:0/device:TPU:6, TPU, 0, 0)\n"
          ]
        },
        {
          "output_type": "stream",
          "name": "stderr",
          "text": [
            "INFO:tensorflow:*** Available Device: _DeviceAttributes(/job:worker/replica:0/task:0/device:TPU:6, TPU, 0, 0)\n"
          ]
        },
        {
          "output_type": "stream",
          "name": "stdout",
          "text": [
            "INFO:tensorflow:*** Available Device: _DeviceAttributes(/job:worker/replica:0/task:0/device:TPU:7, TPU, 0, 0)\n"
          ]
        },
        {
          "output_type": "stream",
          "name": "stderr",
          "text": [
            "INFO:tensorflow:*** Available Device: _DeviceAttributes(/job:worker/replica:0/task:0/device:TPU:7, TPU, 0, 0)\n"
          ]
        },
        {
          "output_type": "stream",
          "name": "stdout",
          "text": [
            "INFO:tensorflow:*** Available Device: _DeviceAttributes(/job:worker/replica:0/task:0/device:TPU_SYSTEM:0, TPU_SYSTEM, 0, 0)\n"
          ]
        },
        {
          "output_type": "stream",
          "name": "stderr",
          "text": [
            "INFO:tensorflow:*** Available Device: _DeviceAttributes(/job:worker/replica:0/task:0/device:TPU_SYSTEM:0, TPU_SYSTEM, 0, 0)\n"
          ]
        },
        {
          "output_type": "stream",
          "name": "stdout",
          "text": [
            "INFO:tensorflow:*** Available Device: _DeviceAttributes(/job:worker/replica:0/task:0/device:XLA_CPU:0, XLA_CPU, 0, 0)\n"
          ]
        },
        {
          "output_type": "stream",
          "name": "stderr",
          "text": [
            "INFO:tensorflow:*** Available Device: _DeviceAttributes(/job:worker/replica:0/task:0/device:XLA_CPU:0, XLA_CPU, 0, 0)\n"
          ]
        },
        {
          "output_type": "stream",
          "name": "stdout",
          "text": [
            "Running on TPU: grpc://10.117.167.146:8470\n",
            "Batch Size: 512\n"
          ]
        }
      ]
    },
    {
      "cell_type": "markdown",
      "source": [
        "### 3.4. Keras DNN Model:"
      ],
      "metadata": {
        "id": "MDJX1AaiaDL6"
      },
      "id": "MDJX1AaiaDL6"
    },
    {
      "cell_type": "code",
      "source": [
        "def dnn_model():\n",
        "    \n",
        "    x_input = Input(shape=(train.shape[-2:]))\n",
        "    \n",
        "    x1 = Bidirectional(LSTM(units=768, return_sequences=True))(x_input)\n",
        "    x2 = Bidirectional(LSTM(units=512, return_sequences=True))(x1)\n",
        "    x3 = Bidirectional(LSTM(units=384, return_sequences=True))(x2)\n",
        "    x4 = Bidirectional(LSTM(units=256, return_sequences=True))(x3)\n",
        "    x5 = Bidirectional(LSTM(units=128, return_sequences=True))(x4)\n",
        "    \n",
        "    z2 = Bidirectional(GRU(units=384, return_sequences=True))(x2)\n",
        "    \n",
        "    z31 = Multiply()([x3, z2])\n",
        "    z31 = BatchNormalization()(z31)\n",
        "    z3 = Bidirectional(GRU(units=256, return_sequences=True))(z31)\n",
        "    \n",
        "    z41 = Multiply()([x4, z3])\n",
        "    z41 = BatchNormalization()(z41)\n",
        "    z4 = Bidirectional(GRU(units=128, return_sequences=True))(z41)\n",
        "    \n",
        "    z51 = Multiply()([x5, z4])\n",
        "    z51 = BatchNormalization()(z51)\n",
        "    z5 = Bidirectional(GRU(units=64, return_sequences=True))(z51)\n",
        "    \n",
        "    x = Concatenate(axis=2)([x5, z2, z3, z4, z5])\n",
        "    \n",
        "    x = Dense(units=128, activation='selu')(x)\n",
        "    \n",
        "    x_output = Dense(units=1)(x)\n",
        "\n",
        "    model = Model(inputs=x_input, outputs=x_output, \n",
        "                  name='DNN_Model')\n",
        "    return model"
      ],
      "metadata": {
        "id": "rqmTeIl3aGUZ"
      },
      "id": "rqmTeIl3aGUZ",
      "execution_count": 13,
      "outputs": []
    },
    {
      "cell_type": "code",
      "source": [
        "model = dnn_model()\n",
        "model.summary()"
      ],
      "metadata": {
        "id": "4Zx5ES_raJ1i",
        "outputId": "6534ec7d-bfbb-4e1e-80aa-061b91593545",
        "colab": {
          "base_uri": "https://localhost:8080/",
          "height": 309
        }
      },
      "id": "4Zx5ES_raJ1i",
      "execution_count": 7,
      "outputs": [
        {
          "output_type": "error",
          "ename": "NameError",
          "evalue": "ignored",
          "traceback": [
            "\u001b[0;31m---------------------------------------------------------------------------\u001b[0m",
            "\u001b[0;31mNameError\u001b[0m                                 Traceback (most recent call last)",
            "\u001b[0;32m<ipython-input-7-29534264dcf4>\u001b[0m in \u001b[0;36m<module>\u001b[0;34m()\u001b[0m\n\u001b[0;32m----> 1\u001b[0;31m \u001b[0mmodel\u001b[0m \u001b[0;34m=\u001b[0m \u001b[0mdnn_model\u001b[0m\u001b[0;34m(\u001b[0m\u001b[0;34m)\u001b[0m\u001b[0;34m\u001b[0m\u001b[0;34m\u001b[0m\u001b[0m\n\u001b[0m\u001b[1;32m      2\u001b[0m \u001b[0mmodel\u001b[0m\u001b[0;34m.\u001b[0m\u001b[0msummary\u001b[0m\u001b[0;34m(\u001b[0m\u001b[0;34m)\u001b[0m\u001b[0;34m\u001b[0m\u001b[0;34m\u001b[0m\u001b[0m\n",
            "\u001b[0;32m<ipython-input-6-868b47df350c>\u001b[0m in \u001b[0;36mdnn_model\u001b[0;34m()\u001b[0m\n\u001b[1;32m      1\u001b[0m \u001b[0;32mdef\u001b[0m \u001b[0mdnn_model\u001b[0m\u001b[0;34m(\u001b[0m\u001b[0;34m)\u001b[0m\u001b[0;34m:\u001b[0m\u001b[0;34m\u001b[0m\u001b[0;34m\u001b[0m\u001b[0m\n\u001b[1;32m      2\u001b[0m \u001b[0;34m\u001b[0m\u001b[0m\n\u001b[0;32m----> 3\u001b[0;31m     \u001b[0mx_input\u001b[0m \u001b[0;34m=\u001b[0m \u001b[0mInput\u001b[0m\u001b[0;34m(\u001b[0m\u001b[0mshape\u001b[0m\u001b[0;34m=\u001b[0m\u001b[0;34m(\u001b[0m\u001b[0mtrain\u001b[0m\u001b[0;34m.\u001b[0m\u001b[0mshape\u001b[0m\u001b[0;34m[\u001b[0m\u001b[0;34m-\u001b[0m\u001b[0;36m2\u001b[0m\u001b[0;34m:\u001b[0m\u001b[0;34m]\u001b[0m\u001b[0;34m)\u001b[0m\u001b[0;34m)\u001b[0m\u001b[0;34m\u001b[0m\u001b[0;34m\u001b[0m\u001b[0m\n\u001b[0m\u001b[1;32m      4\u001b[0m \u001b[0;34m\u001b[0m\u001b[0m\n\u001b[1;32m      5\u001b[0m     \u001b[0mx1\u001b[0m \u001b[0;34m=\u001b[0m \u001b[0mBidirectional\u001b[0m\u001b[0;34m(\u001b[0m\u001b[0mLSTM\u001b[0m\u001b[0;34m(\u001b[0m\u001b[0munits\u001b[0m\u001b[0;34m=\u001b[0m\u001b[0;36m768\u001b[0m\u001b[0;34m,\u001b[0m \u001b[0mreturn_sequences\u001b[0m\u001b[0;34m=\u001b[0m\u001b[0;32mTrue\u001b[0m\u001b[0;34m)\u001b[0m\u001b[0;34m)\u001b[0m\u001b[0;34m(\u001b[0m\u001b[0mx_input\u001b[0m\u001b[0;34m)\u001b[0m\u001b[0;34m\u001b[0m\u001b[0;34m\u001b[0m\u001b[0m\n",
            "\u001b[0;31mNameError\u001b[0m: name 'train' is not defined"
          ]
        }
      ]
    },
    {
      "cell_type": "code",
      "source": [
        "plot_model(\n",
        "    model, \n",
        "    to_file='Google_Brain_Keras_Model.png', \n",
        "    show_shapes=True,\n",
        "    show_layer_names=True\n",
        ")"
      ],
      "metadata": {
        "id": "RFzX0F9EaLyi"
      },
      "id": "RFzX0F9EaLyi",
      "execution_count": null,
      "outputs": []
    },
    {
      "cell_type": "code",
      "source": [
        "with tpu_strategy.scope():\n",
        "    VERBOSE = 0\n",
        "    test_preds = []\n",
        "    kf = KFold(n_splits=7, shuffle=True, random_state=2021)\n",
        "    \n",
        "    for fold, (train_idx, test_idx) in enumerate(kf.split(train, targets)):\n",
        "        X_train, X_valid = train[train_idx], train[test_idx]\n",
        "        y_train, y_valid = targets[train_idx], targets[test_idx]\n",
        "        \n",
        "        model = dnn_model()\n",
        "        model.compile(optimizer=\"adam\", loss=\"mae\")\n",
        "\n",
        "        lr = ReduceLROnPlateau(monitor=\"val_loss\", factor=0.85, \n",
        "                               patience=7, verbose=VERBOSE)\n",
        "        \n",
        "        save_locally = tf.saved_model.SaveOptions(experimental_io_device='/job:localhost')\n",
        "\n",
        "        chk_point = ModelCheckpoint(f'./Bidirect_LSTM_model_2021_{fold+1}C.h5', options=save_locally, \n",
        "                                    monitor='val_loss', verbose=VERBOSE, \n",
        "                                    save_best_only=True, mode='min')\n",
        "\n",
        "        es = EarlyStopping(monitor=\"val_loss\", patience=30, \n",
        "                           verbose=VERBOSE, mode=\"min\", \n",
        "                           restore_best_weights=True)\n",
        "        \n",
        "        model.fit(X_train, y_train, \n",
        "                  validation_data=(X_valid, y_valid), \n",
        "                  epochs=1,\n",
        "                  verbose=VERBOSE,\n",
        "                  batch_size=BATCH_SIZE, \n",
        "                  callbacks=[lr, chk_point, es])\n",
        "        \n",
        "        load_locally = tf.saved_model.LoadOptions(experimental_io_device='/job:localhost')\n",
        "        model = load_model(f'./Bidirect_LSTM_model_2021_{fold+1}C.h5', options=load_locally)\n",
        "        \n",
        "        y_true = y_valid.squeeze().reshape(-1, 1)\n",
        "        y_pred = model.predict(X_valid, batch_size=BATCH_SIZE).squeeze().reshape(-1, 1)\n",
        "        score = mean_absolute_error(y_true, y_pred)\n",
        "        print(f\"Fold-{fold+1} | OOF Score: {score}\")\n",
        "        \n",
        "        test_preds.append(model.predict(test, batch_size=BATCH_SIZE).squeeze().reshape(-1, 1).squeeze()) "
      ],
      "metadata": {
        "id": "p-7xHhAraRxu"
      },
      "id": "p-7xHhAraRxu",
      "execution_count": null,
      "outputs": []
    },
    {
      "cell_type": "markdown",
      "source": [
        "Submission file:"
      ],
      "metadata": {
        "id": "e4J_b8hIk8AB"
      },
      "id": "e4J_b8hIk8AB"
    },
    {
      "cell_type": "code",
      "source": [
        "submission = pd.read_csv('/content/sample_submission.csv')\n",
        "submission[\"pressure\"] = sum(test_preds)/5\n",
        "submission.to_csv('mean_submission.csv', index=False)\n",
        "\n",
        "submission[\"pressure\"] = np.median(np.vstack(test_preds),axis=0)\n",
        "submission[\"pressure\"] = np.round((submission.pressure - P_MIN)/P_STEP) * P_STEP + P_MIN\n",
        "submission[\"pressure\"] = np.clip(submission.pressure, P_MIN, P_MAX)\n",
        "submission.to_csv('median_submission.csv', index=False)"
      ],
      "metadata": {
        "id": "cl5bXEnBk5HR"
      },
      "id": "cl5bXEnBk5HR",
      "execution_count": null,
      "outputs": []
    },
    {
      "cell_type": "markdown",
      "source": [
        "### 3.5. Tập hợp các dự đoán `pressure` của bảy model:"
      ],
      "metadata": {
        "id": "euNN6Hstahfv"
      },
      "id": "euNN6Hstahfv"
    },
    {
      "cell_type": "markdown",
      "source": [
        "Connect đến output từ Kaggle:"
      ],
      "metadata": {
        "id": "kZbYKrQrr2Vg"
      },
      "id": "kZbYKrQrr2Vg"
    },
    {
      "cell_type": "code",
      "source": [
        "!pip install -q kaggle"
      ],
      "metadata": {
        "id": "NuBKXudprLve"
      },
      "id": "NuBKXudprLve",
      "execution_count": 14,
      "outputs": []
    },
    {
      "cell_type": "code",
      "source": [
        "!mkdir ~/.kaggle\n",
        "!cp kaggle.json ~/.kaggle/\n",
        "!chmod 600 ~/.kaggle/kaggle.json"
      ],
      "metadata": {
        "id": "MJMVAX7Irs2e",
        "outputId": "bcaf6b11-6daf-40f7-e4cf-bcd073fb1028",
        "colab": {
          "base_uri": "https://localhost:8080/"
        }
      },
      "id": "MJMVAX7Irs2e",
      "execution_count": 15,
      "outputs": [
        {
          "output_type": "stream",
          "name": "stdout",
          "text": [
            "mkdir: cannot create directory ‘/root/.kaggle’: File exists\n"
          ]
        }
      ]
    },
    {
      "cell_type": "code",
      "source": [
        "!kaggle kernels output kennethnguyen/step-01-build-7-bidirect-lstm-model -p /content/output_kaggle/"
      ],
      "metadata": {
        "id": "3229geDqryZ1",
        "outputId": "823a5713-3d3b-4ffe-e966-dee8863c76b3",
        "colab": {
          "base_uri": "https://localhost:8080/"
        }
      },
      "id": "3229geDqryZ1",
      "execution_count": 3,
      "outputs": [
        {
          "output_type": "stream",
          "name": "stdout",
          "text": [
            "Output file downloaded to /content/output_kaggle/Bidirect_LSTM_model_2022_1C.h5\n",
            "Output file downloaded to /content/output_kaggle/Bidirect_LSTM_model_2022_2C.h5\n",
            "Output file downloaded to /content/output_kaggle/Bidirect_LSTM_model_2022_3C.h5\n",
            "Output file downloaded to /content/output_kaggle/Bidirect_LSTM_model_2022_4C.h5\n",
            "Output file downloaded to /content/output_kaggle/Bidirect_LSTM_model_2022_5C.h5\n",
            "Output file downloaded to /content/output_kaggle/Bidirect_LSTM_model_2022_6C.h5\n",
            "Output file downloaded to /content/output_kaggle/Bidirect_LSTM_model_2022_7C.h5\n",
            "Output file downloaded to /content/output_kaggle/Google_Brain_Keras_Model.png\n",
            "Output file downloaded to /content/output_kaggle/mean_submission.csv\n",
            "Output file downloaded to /content/output_kaggle/median_submission.csv\n",
            "Kernel log downloaded to /content/output_kaggle/step-01-build-7-bidirect-lstm-model.log \n"
          ]
        }
      ]
    },
    {
      "cell_type": "markdown",
      "source": [
        "Load model:"
      ],
      "metadata": {
        "id": "t-Qh6QNbr8W4"
      },
      "id": "t-Qh6QNbr8W4"
    },
    {
      "cell_type": "code",
      "source": [
        "load_locally = tf.saved_model.LoadOptions(experimental_io_device='/job:localhost')"
      ],
      "metadata": {
        "id": "RuJe8sKQsgaz"
      },
      "id": "RuJe8sKQsgaz",
      "execution_count": 16,
      "outputs": []
    },
    {
      "cell_type": "code",
      "source": [
        "test_prediction = []\n",
        "for i in range(1, 8):\n",
        "    model = load_model(f'/content/output_kaggle/Bidirect_LSTM_model_2022_{i}C.h5', options=load_locally)\n",
        "    test_prediction.append(model.predict(test, batch_size=BATCH_SIZE).squeeze().reshape(-1, 1).squeeze())"
      ],
      "metadata": {
        "id": "44fUZ_lZr0_r"
      },
      "id": "44fUZ_lZr0_r",
      "execution_count": 17,
      "outputs": []
    },
    {
      "cell_type": "markdown",
      "source": [
        "46' run"
      ],
      "metadata": {
        "id": "J8VCHcY646b-"
      },
      "id": "J8VCHcY646b-"
    },
    {
      "cell_type": "code",
      "source": [
        "np.array(test_prediction).shape"
      ],
      "metadata": {
        "id": "zGhmb2YxuNnQ",
        "outputId": "9ed51953-d95b-4d39-df4f-b30751673a8d",
        "colab": {
          "base_uri": "https://localhost:8080/"
        }
      },
      "id": "zGhmb2YxuNnQ",
      "execution_count": 25,
      "outputs": [
        {
          "output_type": "execute_result",
          "data": {
            "text/plain": [
              "(7, 4024000)"
            ]
          },
          "metadata": {},
          "execution_count": 25
        }
      ]
    },
    {
      "cell_type": "markdown",
      "source": [
        "Đọc https://www.kaggle.com/c/ventilator-pressure-prediction/discussion/280573"
      ],
      "metadata": {
        "id": "Co_yASLHozzp"
      },
      "id": "Co_yASLHozzp"
    },
    {
      "cell_type": "markdown",
      "source": [
        "Theo cuộc [thảo luận](https://www.kaggle.com/c/ventilator-pressure-prediction/discussion/285283), với các input có hai giá trị thì mean cho kết quả tốt hơn median."
      ],
      "metadata": {
        "id": "kojlHo5empkH"
      },
      "id": "kojlHo5empkH"
    },
    {
      "cell_type": "code",
      "source": [
        "def better_than_median(inputs, axis):\n",
        "    \"\"\"Compute the mean of the predictions if there are no outliers,\n",
        "    or the median if there are outliers.\n",
        "\n",
        "    Parameter: inputs = ndarray of shape (n_samples, n_folds)\"\"\"\n",
        "    spread = inputs.max(axis=axis) - inputs.min(axis=axis) \n",
        "    spread_lim = 0.45\n",
        "    print(f\"Inliers:  {(spread < spread_lim).sum():7} -> compute mean\")\n",
        "    print(f\"Outliers: {(spread >= spread_lim).sum():7} -> compute median\")\n",
        "    print(f\"Total:    {len(inputs):7}\")\n",
        "    \n",
        "    return np.where(spread < spread_lim,\n",
        "                    np.mean(inputs, axis=axis),\n",
        "                    np.median(inputs, axis=axis))"
      ],
      "metadata": {
        "id": "zcxJjZy9aXPO"
      },
      "id": "zcxJjZy9aXPO",
      "execution_count": 19,
      "outputs": []
    },
    {
      "cell_type": "code",
      "source": [
        "pressure_predict = better_than_median(np.array(test_prediction).T, 1)\n",
        "pressure_predict"
      ],
      "metadata": {
        "id": "qW6XZXXSuVpM",
        "outputId": "cb1faa43-d7cd-4002-9a73-df20bb137561",
        "colab": {
          "base_uri": "https://localhost:8080/"
        }
      },
      "id": "qW6XZXXSuVpM",
      "execution_count": 34,
      "outputs": [
        {
          "output_type": "stream",
          "name": "stdout",
          "text": [
            "Inliers:  2881194 -> compute mean\n",
            "Outliers: 1142806 -> compute median\n",
            "Total:    4024000\n"
          ]
        },
        {
          "output_type": "execute_result",
          "data": {
            "text/plain": [
              "array([6.2197194, 5.9384875, 6.9092264, ..., 6.232291 , 6.1852098,\n",
              "       6.303005 ], dtype=float32)"
            ]
          },
          "metadata": {},
          "execution_count": 34
        }
      ]
    },
    {
      "cell_type": "code",
      "source": [
        "pressure_predict"
      ],
      "metadata": {
        "id": "9sftnTtY6K5w",
        "outputId": "6d3773f3-8028-4d07-a619-09312b9f75cd",
        "colab": {
          "base_uri": "https://localhost:8080/"
        }
      },
      "id": "9sftnTtY6K5w",
      "execution_count": 35,
      "outputs": [
        {
          "output_type": "execute_result",
          "data": {
            "text/plain": [
              "array([6.2197194, 5.9384875, 6.9092264, ..., 6.232291 , 6.1852098,\n",
              "       6.303005 ], dtype=float32)"
            ]
          },
          "metadata": {},
          "execution_count": 35
        }
      ]
    },
    {
      "cell_type": "code",
      "source": [
        "temp  =pd.read_csv('/content/sample_submission.csv')\n",
        "temp['pressure'] = pressure_predict\n",
        "temp.to_csv('better_than_median.csv', index=False)"
      ],
      "metadata": {
        "id": "3b0VYxRF5fy0"
      },
      "id": "3b0VYxRF5fy0",
      "execution_count": 39,
      "outputs": []
    },
    {
      "cell_type": "code",
      "source": [
        "# files = ['/content/output_kaggle/mean_submission.csv',\n",
        "#          '/content/output_kaggle/median_submission.csv'',\n",
        "#          '/content/better_than_median.csv']\n",
        "\n",
        "# sub = pd.read_csv('/content/sample_submission.csv')\n",
        "\n",
        "# sub['pressure'] = np.median(\n",
        "#     np.concatenate([pd.read_csv(f)['pressure'].values.reshape(-1, 1) for f in files],\n",
        "#                    axis=1),\n",
        "#     axis=1)\n",
        "# sub.to_csv('median_submission.csv', index=False)\n",
        "# sub.head(5)"
      ],
      "metadata": {
        "id": "B6o--k_Ez7N1"
      },
      "id": "B6o--k_Ez7N1",
      "execution_count": null,
      "outputs": []
    },
    {
      "cell_type": "markdown",
      "source": [
        "### 3.6. The Inverse PID Controller:"
      ],
      "metadata": {
        "id": "NYwoI43-r_h6"
      },
      "id": "NYwoI43-r_h6"
    },
    {
      "cell_type": "code",
      "source": [
        "import pandas as pd\n",
        "import numpy as np\n",
        "import matplotlib.pyplot as plt\n",
        "from joblib import Parallel, delayed\n",
        "import pickle\n",
        "from IPython.display import display"
      ],
      "metadata": {
        "id": "5dYYlFfWsL9Z"
      },
      "id": "5dYYlFfWsL9Z",
      "execution_count": 40,
      "outputs": []
    },
    {
      "cell_type": "markdown",
      "source": [
        "#### 3.7.1. Read training data and test data:"
      ],
      "metadata": {
        "id": "nBeiWiRBsUix"
      },
      "id": "nBeiWiRBsUix"
    },
    {
      "cell_type": "markdown",
      "source": [
        "Ý tưởng:\n",
        "- a\n",
        "\n",
        "Thực hiện:\n",
        "- a"
      ],
      "metadata": {
        "id": "lBa1Pzifs0wL"
      },
      "id": "lBa1Pzifs0wL"
    },
    {
      "cell_type": "markdown",
      "source": [
        "Từ tập training, trích xuất cột `pressure` để lấy các giá trị rời rạc "
      ],
      "metadata": {
        "id": "dA6aiWoOtkhq"
      },
      "id": "dA6aiWoOtkhq"
    },
    {
      "cell_type": "code",
      "source": [
        "train_df = pd.read_csv('/content/train.csv')\n",
        "targets = train_df[['pressure']].to_numpy()\n",
        "targets"
      ],
      "metadata": {
        "id": "nu4hz7fptAW7",
        "outputId": "2386391e-28f7-4663-86e2-95723d5d664a",
        "colab": {
          "base_uri": "https://localhost:8080/"
        }
      },
      "id": "nu4hz7fptAW7",
      "execution_count": 41,
      "outputs": [
        {
          "output_type": "execute_result",
          "data": {
            "text/plain": [
              "array([[5.83749171],\n",
              "       [5.90779385],\n",
              "       [7.87625392],\n",
              "       ...,\n",
              "       [3.79872949],\n",
              "       [4.07993807],\n",
              "       [3.86903163]])"
            ]
          },
          "metadata": {},
          "execution_count": 41
        }
      ]
    },
    {
      "cell_type": "markdown",
      "source": [
        "Tìm giá trị `pressure` nhỏ nhất và bước của nó"
      ],
      "metadata": {
        "id": "VAZ7H4hMtnfV"
      },
      "id": "VAZ7H4hMtnfV"
    },
    {
      "cell_type": "code",
      "source": [
        "p_values = np.sort(np.unique(targets))\n",
        "p_min = p_values[0]\n",
        "p_step = p_values[1] - p_values[0]\n",
        "p_min, p_step"
      ],
      "metadata": {
        "id": "oo5eUZJ9tfMo",
        "outputId": "aa946d73-50df-4e7e-da10-851959a67595",
        "colab": {
          "base_uri": "https://localhost:8080/"
        }
      },
      "id": "oo5eUZJ9tfMo",
      "execution_count": 42,
      "outputs": [
        {
          "output_type": "execute_result",
          "data": {
            "text/plain": [
              "(-1.895744294564641, 0.07030214545121005)"
            ]
          },
          "metadata": {},
          "execution_count": 42
        }
      ]
    },
    {
      "cell_type": "markdown",
      "source": [
        "Tạo mảng uu hai chiều từ tập dữ liệu test"
      ],
      "metadata": {
        "id": "akgV4uxhuBF9"
      },
      "id": "akgV4uxhuBF9"
    },
    {
      "cell_type": "code",
      "source": [
        "test_df = pd.read_csv('/content/test.csv')\n",
        "relevant = test_df[['u_out']].to_numpy() == 0\n",
        "uu = test_df[['u_in']].to_numpy().reshape(-1, 80)\n",
        "rr = relevant.reshape(-1, 80)\n",
        "t = test_df['time_step'].values.reshape(-1, 80)\n",
        "# Chỉ 79 columns - Không có dt cho bước cuối cùng\n",
        "dt_ = t[:,1:] - t[:,:-1]"
      ],
      "metadata": {
        "id": "wddoftMcthem"
      },
      "id": "wddoftMcthem",
      "execution_count": 43,
      "outputs": []
    },
    {
      "cell_type": "markdown",
      "source": [
        "Sort 950 giá trị `pressure` theo tần số trong bước thời gian đầu tiên để việc tìm kiếm được nhanh chóng. (Chỉ tìm kiếm các giá trị <= 16)"
      ],
      "metadata": {
        "id": "pQf5zPMsuaxb"
      },
      "id": "pQf5zPMsuaxb"
    },
    {
      "cell_type": "code",
      "source": [
        "temp_df = pd.DataFrame(targets.reshape(-1, 80)[:,1], \n",
        "                       columns=['pressure'])\n",
        "\n",
        "temp_df = temp_df.groupby('pressure').size().sort_values(ascending=False)\n",
        "p_values_by_frequency = list(temp_df.index) + sorted(list(set(p_values[p_values <= 16]).difference(temp_df.index)))\n",
        "len(p_values_by_frequency)"
      ],
      "metadata": {
        "id": "8wZ0R4OksNCV",
        "outputId": "3d562422-9af9-4a09-d3a6-2674c10bca9f",
        "colab": {
          "base_uri": "https://localhost:8080/"
        }
      },
      "id": "8wZ0R4OksNCV",
      "execution_count": 44,
      "outputs": [
        {
          "output_type": "execute_result",
          "data": {
            "text/plain": [
              "255"
            ]
          },
          "metadata": {},
          "execution_count": 44
        }
      ]
    },
    {
      "cell_type": "markdown",
      "source": [
        "#### 3.7.2. Inverse functions of P controller and PI controller:"
      ],
      "metadata": {
        "id": "I1EjB7O1vBhv"
      },
      "id": "I1EjB7O1vBhv"
    },
    {
      "cell_type": "markdown",
      "source": [
        "Tìm và cập nhật tùy chọn tất cả các thử nghiệm sử dụng bộ điều khiển PI"
      ],
      "metadata": {
        "id": "9Gcbm8obvZVC"
      },
      "id": "9Gcbm8obvZVC"
    },
    {
      "cell_type": "code",
      "source": [
        "def is_integer(discrete):\n",
        "    \"\"\"\n",
        "    Kiểm tra nếu các giá trị liên tục kiểu integer.\n",
        "    Hàm có thể gọi với một array hoặc scalar.\n",
        "    \"\"\"\n",
        "    # Con số phải đủ nhỏ để với hàng triệu lượt gọi, \n",
        "    # sẽ không nhận được kết quả dương tính giả (false positive)\n",
        "    tol = 1e-10\n",
        "    return (abs(discrete - np.round(discrete)) < tol)"
      ],
      "metadata": {
        "id": "NrRkdTtqvVWB"
      },
      "id": "NrRkdTtqvVWB",
      "execution_count": 45,
      "outputs": []
    },
    {
      "cell_type": "code",
      "source": [
        "def find_pi_control(row, uu, rr, dt_, preds, pi_list, pp=None, update_preds=False):\n",
        "    \"\"\"Test if row has been generated by a perfect PI controller\n",
        "    \n",
        "    Parameters\n",
        "    ----------\n",
        "    row          : The row to be processed\n",
        "    uu           : 2d array of u_in\n",
        "    rr           : 2d array of (u_out == 0)\n",
        "    dt_          : 2d array of time differences\n",
        "    preds        : 2d array of predictions; will be updated if update_preds is True\n",
        "    pi_list      : list, the found parameters will be appended to this list\n",
        "    pp           : 2d array of true pressures for evaluation, optional\n",
        "    update_preds : bool, default False, controls if preds is updated\n",
        "    \n",
        "    Global variables\n",
        "    ----------------\n",
        "    count, count_bad, mae_gain : updated with evaluation results if pp is not None\n",
        "    updated                    : count of updated rows\n",
        "    \"\"\"\n",
        "    # Verify parameters and copy a slice [start:end] of the selected row into u, oof, p and dt\n",
        "    if uu.shape != preds.shape: \n",
        "      raise ValueError(f\"Shapes of uu and preds must be equal: {uu.shape} {preds.shape}\")\n",
        "    if rr.shape != preds.shape: \n",
        "      raise ValueError(f\"Shapes of rr and preds must be equal: {rr.shape} {preds.shape}\")\n",
        "    if dt_.shape[0] != preds.shape[0]: \n",
        "      raise ValueError(f\"First dimension of dt_ and preds must be equal: {dt_.shape} {preds.shape}\")\n",
        "    \n",
        "    global count, count_bad, ae_gain, updated\n",
        "    start, end = 1, rr[row].sum()\n",
        "    p_values_to_try = p_values_by_frequency\n",
        "    while start < end and (uu[row, start] == 0 or uu[row, start] == 100):\n",
        "        p_values_to_try = p_values\n",
        "        start += 1\n",
        "    if start == end: return # all u_in are 0 or 100\n",
        "    u = uu[row, rr[row]][start:]\n",
        "    oof = preds[row, rr[row]][start:]\n",
        "    if pp is not None: p = pp[row, rr[row]][start:]\n",
        "    dt = dt_[row, rr[row, 1:]][start:] # typically 1/30\n",
        "    T = 0.5\n",
        "    \n",
        "    def find_pi_coefficients(u, dt, p_values_to_try):\n",
        "        # u has at least three elements, dt has at least two\n",
        "        # Determine p_0, p_coef, i_coef and p_star for the start of the slice by grid-search\n",
        "        # The possible p_0 are searched in order of descending frequency\n",
        "        # Determine q_0, p_1, q_1, p_2\n",
        "        # Accept the solution only if p_1 and p_2 are discrete p values\n",
        "        while len(u) >= 3 and (u[0] == 0 or u[0] == 100 or u[1] == 0 or u[1] == 100 or u[2] == 0 or u[2] == 100):\n",
        "            u = u[1:]\n",
        "        if len(u) < 3: return None, None, None, None, None\n",
        "        p_stars = np.array([10, 15, 20, 25, 30, 35])\n",
        "        found = False\n",
        "        s0 = dt[0] / (dt[0] + T)\n",
        "        s1 = dt[1] / (dt[1] + T)\n",
        "        for p_0 in p_values_to_try:\n",
        "            for p_coef in [0, 0.01, 0.1, 0.2, 0.3, 0.4, 0.5, 0.6, 0.7, 0.8, 0.9, 1, 2, 3, 4, 5, 6, 7, 8, 9, 10]:\n",
        "                for i_coef in [0.1, 0.2, 0.3, 0.4, 0.5, 0.6, 0.7, 0.8, 0.9, 1, 2, 3, 4, 5, 6, 7, 8, 9, 10]:\n",
        "                    if p_coef == 0 and i_coef == 0: continue\n",
        "                    # u[0] = p_coef * (p_star - p_0) + i_coef * q_0\n",
        "                    # dt[0] = t[1] - t[0]\n",
        "                    # s0 = dt[0] / (dt[0] + T)\n",
        "                    # q_1 = (1-s0) * q_0 + s0 * (p_star - p_1)\n",
        "                    # u[1] = p_coef * (p_star - p_1) + i_coef * q_1\n",
        "                    q_0 = (u[0] + p_coef * (p_0 - p_stars)) / i_coef\n",
        "                    pis = p_coef + i_coef * s0 # positive\n",
        "                    p_1 = (pis * p_stars + i_coef * (1-s0) * q_0 - u[1]) / pis # array of several possible p_1\n",
        "                    ii = is_integer((p_1 - p_min) / p_step)\n",
        "                    if not ii.any(): continue\n",
        "                    if ii.sum() > 1: print(\"More than one ***********\")\n",
        "                    p_star = p_stars[ii.argmax()]\n",
        "                    p_1 = p_1[ii.argmax()] # scalar p_1\n",
        "                    q_1 = (1-s0) * q_0[ii.argmax()] + s0 * (p_star - p_1) # scalar q_1\n",
        "                    pis = p_coef + i_coef * s1 # positive\n",
        "                    p_2 = (pis * p_star + i_coef * (1-s1) * q_1 - u[2]) / pis # scalar p_2\n",
        "                    if not is_integer((p_2 - p_min) / p_step): continue\n",
        "                    if np.abs(p_1 - p_2) < 1e-10: print('p_1 == p_2', p_0, p_1, p_2, p_coef, i_coef, p_star); return None, None, None, None, None\n",
        "                    found = True\n",
        "                    break\n",
        "                if found: break\n",
        "            if found: break\n",
        "        if not found: return None, None, None, None, None\n",
        "        return p_0, p_coef, i_coef, p_star, q_0[ii.argmax()]\n",
        "    \n",
        "    # Try to determine the coefficients twice: once at the beginning of the inhalation phase and once towards the end\n",
        "    p_0, p_coef, i_coef, p_star, q = find_pi_coefficients(u, dt, p_values_to_try)\n",
        "    q_is_valid = p_0 is not None\n",
        "    if p_0 is None:\n",
        "        p_0, p_coef, i_coef, p_star, q = find_pi_coefficients(u[-9:], dt[-8:], p_values) # last three elements of u; dt is one element shorter\n",
        "        q_is_valid = False\n",
        "        if p_0 is None: return\n",
        "\n",
        "    # At this point we have found parameters p_0, p_coef, i_coef and p_star which give discrete\n",
        "    # values for the first three time steps, and we may have q_0\n",
        "\n",
        "    # Compute the new predictions\n",
        "    update_list = [] # for plotting\n",
        "    pred_new = oof.copy()\n",
        "    if q_is_valid and p_coef != 0:\n",
        "        last_valid, last_delta = 0, p_0 - pred_new[0]\n",
        "        pred_new[0] = p_0\n",
        "        update_list.append((start, p_0))\n",
        "    for i in range(1, len(pred_new)):\n",
        "        # Invariant: pred_new[:i] has been computed\n",
        "        # Invariant: q is the state of the PI controller or not q_is_valid\n",
        "        # We want to determine pred_new[i]\n",
        "        if u[i] == 0 or u[i] == 100: \n",
        "            q_is_valid = False # u has been clipped; we cannot compute p here\n",
        "            continue\n",
        "        if q_is_valid:\n",
        "            s = dt[i-1] / (dt[i-1] + T) # ca. 1/16\n",
        "            pis = p_coef + i_coef * s # positive\n",
        "            pni = (pis * p_star + i_coef * (1-s) * q - u[i]) / pis # candidate pred_new[i]\n",
        "            if is_integer((pni - p_min) / p_step):\n",
        "                last_valid, last_delta = i, pni - pred_new[i]\n",
        "                pred_new[i] = pni\n",
        "                update_list.append((start+i, pni))\n",
        "                q = (u[i] + p_coef * (pred_new[i] - p_star)) / i_coef\n",
        "            else:\n",
        "                #print(f\"Out of sync {start + i}\")\n",
        "                q_is_valid = False\n",
        "        else:\n",
        "            # Try to resynchronize the controller state after a phase which didn't use the PI controller\n",
        "            if i >= len(pred_new) - 2: break # we cannot resynchronize the last two\n",
        "            if u[i+1] == 0 or u[i+1] == 100 or u[i+2] == 0 or u[i+2] == 100: continue\n",
        "            s_i = dt[i] / (dt[i] + T)\n",
        "            s_i1 = dt[i+1] / (dt[i+1] + T)\n",
        "            pis = p_coef + i_coef * s_i # positive\n",
        "            for p_i in p_values:\n",
        "                q_i = (u[i] + p_coef * (p_i - p_star)) / i_coef\n",
        "                p_i1 = (pis * p_star + i_coef * (1-s_i) * q_i - u[i+1]) / pis\n",
        "                if not is_integer((p_i1 - p_min) / p_step): continue\n",
        "                q_i1 = (1-s_i) * q_i + s_i * (p_star - p_i1)\n",
        "                pis = p_coef + i_coef * s_i1\n",
        "                p_i2 = (pis * p_star + i_coef * (1-s_i1) * q_i1 - u[i+2]) / pis\n",
        "                if not is_integer((p_i2 - p_min) / p_step): continue\n",
        "                #print(f\"Resynchronized {i} {q_i:.3f}  {p_i:.3f}  {p_i1:.3f}  {(p_i1 - p_min) / p_step}\")\n",
        "                if p_coef != 0: # for p_coef == 0, q_i doesn't depend on p_i\n",
        "                    last_valid, last_delta = i, p_i - pred_new[i]\n",
        "                    pred_new[i] = p_i\n",
        "                    update_list.append((start+i, p_i))\n",
        "                q, q_is_valid = q_i, True\n",
        "                break\n",
        "\n",
        "    pred_new[(u < 1e-6) & (oof > pred_new)] = oof[(u < 1e-6) & (oof > pred_new)]\n",
        "    pred_new[(u > 99.9999) & (oof < pred_new)] = oof[(u > 99.9999) & (oof < pred_new)]\n",
        "    \n",
        "    # For training data (where we know the true pressure): verify that the error is getting smaller\n",
        "    if pp is not None and not update_preds:\n",
        "        mae_pred = mean_absolute_error(p, pred_new)\n",
        "        ae_gain_1 = np.abs(p - oof).sum() - np.abs(p - pred_new).sum() # should be nonnegative \n",
        "        print(f'Row {row:2}: Gain {ae_gain_1:6.3f}')\n",
        "        ae_gain += ae_gain_1\n",
        "        if ae_gain_1 < 0:\n",
        "            print(f\"Row: {row}\")\n",
        "            print(f\"MAE OOF:  {mean_absolute_error(p, oof):.3f}\")\n",
        "            print(f\"MAE Pred: {mae_pred:.3f}\")\n",
        "            print(f\"Start: {start}\")\n",
        "            plt.figure(figsize=(10, 4))\n",
        "            plt.title(f\"p_coef = {p_coef:.2f}, i_coef = {i_coef:.2f}, p_star = {p_star:.0f}\")\n",
        "            plt.plot(np.arange(start, end), u, label='u_in')\n",
        "            plt.scatter(*zip(*update_list), marker='o', label='updated pressure')\n",
        "            plt.scatter(np.arange(start, end)[u == 0], u[u == 0], marker='x') # clipped u_in which is useless for predictions\n",
        "            plt.plot(np.arange(start, end), oof, label='pressure_pred_oof')\n",
        "            plt.plot(np.arange(start, end), pp[row, rr[row]][start:end], label='pressure_true')\n",
        "            #plt.scatter(np.arange(start, end), pred_new, label='pressure_pred_new')\n",
        "            #plt.plot(np.arange(len(uu[row])), uu[row]) # 80 steps of u_in\n",
        "            #plt.plot(np.arange(len(pp[row])), pp[row]) # 80 steps of pressure_true\n",
        "            plt.legend()\n",
        "            plt.show()\n",
        "            count_bad += 1\n",
        "        else:\n",
        "            count += 1\n",
        "\n",
        "    # Keep the parameters for future reference\n",
        "    pi_list.append((row, p_coef, i_coef, p_star, np.abs(oof - pred_new).sum()))\n",
        "    \n",
        "    # For test data: update the predictions\n",
        "    if update_preds:\n",
        "        exhale = rr[row].argmin()\n",
        "        preds[row, start:exhale] = pred_new\n",
        "        updated += 1"
      ],
      "metadata": {
        "id": "yTcHR9AjvAIQ"
      },
      "id": "yTcHR9AjvAIQ",
      "execution_count": 46,
      "outputs": []
    },
    {
      "cell_type": "code",
      "source": [
        "# Test the function on a subset of the training data\n",
        "# if the training data is available and pp is defined\n",
        "try:\n",
        "    pi_list, count, count_bad, ae_gain = [], 0, 0, 0\n",
        "    for row in range(len(pp) // 10, len(pp) // 5): # [79, 133, 219]: # [106, 171, 455]: # \n",
        "        find_pi_control(row, uu, rr, dt_, oof_pred, pi_list, pp)\n",
        "    if count > 0 or count_bad > 0:\n",
        "        print(\"Count:\", count, count_bad)\n",
        "        print(\"AE gain:\", ae_gain)\n",
        "    pi_df = pd.DataFrame(pi_list, columns=['row', 'p_coef', 'i_coef', 'p_star', 'difference'])\n",
        "    print(f\"Cumulated difference: {pi_df['difference'].sum():.3f}\")\n",
        "    display(pi_df)\n",
        "except NameError as e:\n",
        "    print(\"Warning: NameError caught\", e)"
      ],
      "metadata": {
        "id": "J__9U91twfWD",
        "outputId": "72182c77-0738-4373-c0f2-2013df973dc8",
        "colab": {
          "base_uri": "https://localhost:8080/"
        }
      },
      "id": "J__9U91twfWD",
      "execution_count": 47,
      "outputs": [
        {
          "output_type": "stream",
          "name": "stdout",
          "text": [
            "Warning: NameError caught name 'pp' is not defined\n"
          ]
        }
      ]
    },
    {
      "cell_type": "markdown",
      "source": [
        "Tìm và cập nhật tất cả các thử nghiệm chỉ sử dụng bộ điều khiển P."
      ],
      "metadata": {
        "id": "JZN5tF5KwwY8"
      },
      "id": "JZN5tF5KwwY8"
    },
    {
      "cell_type": "code",
      "source": [
        "def find_p_control(row, uu, rr, preds, p_list, pp=None, update_preds=False):\n",
        "    \"\"\"Test if row has been generated by a perfect P controller\n",
        "    \n",
        "    Parameters\n",
        "    ----------\n",
        "    row          : The row to be processed\n",
        "    uu           : 2d array of u_in\n",
        "    rr           : 2d array of (u_out == 0)\n",
        "    preds        : 2d array of predictions; will be updated if update_preds is True\n",
        "    p_list       : list, the found parameters will be appended to this list\n",
        "    pp           : 2d array of true pressures for evaluation, optional\n",
        "    update_preds : bool, default False, controls if preds is updated\n",
        "    \n",
        "    Global variables\n",
        "    ----------------\n",
        "    row_set                    : set of row numbers with P controller\n",
        "    count, count_bad, mae_gain : updated with evaluation results if pp is not None\n",
        "    updated                    : count of updated rows\n",
        "    \"\"\"\n",
        "    # Verify parameters and copy the selected row into u, oof and p\n",
        "    if uu.shape != preds.shape: raise ValueError(f\"Shapes of uu and preds must be equal: {uu.shape} {preds.shape}\")\n",
        "    if rr.shape != preds.shape: raise ValueError(f\"Shapes of rr and preds must be equal: {rr.shape} {preds.shape}\")\n",
        "    global row_set, count, count_bad, ae_gain, updated\n",
        "    start, end = 1, rr[row].sum()\n",
        "    u = uu[row, rr[row]][start:]\n",
        "    oof = preds[row, rr[row]][start:]\n",
        "    if pp is not None: p = pp[row, rr[row]][start:]\n",
        "        \n",
        "    def find_p_coefficients(u):\n",
        "        \"\"\"Take four samples from the series and determine p_coef and p_star\n",
        "        \n",
        "        Return (p_coef, p_star) if the breath is using a P controller\n",
        "        Return (None, None) if it is not a P controller\"\"\"\n",
        "        for i in [0, len(u) // 3, len(u) * 2 // 3, len(u) - 1]:\n",
        "            if u[i] != 0 and u[i] != 100:\n",
        "                for p_coef in [0.01, 0.1, 0.2, 0.3, 0.4, 0.5, 0.6, 0.7, 0.8, 0.9, 1, 2, 3, 4, 5, 6, 7, 8, 9, 10]:\n",
        "                    for p_star in [10, 15, 20, 25, 30, 35]:\n",
        "                        predicted_p_int = (p_star - u[i] / p_coef - p_min) / p_step\n",
        "                        if predicted_p_int >= 0 and predicted_p_int < len(p_values) and is_integer(predicted_p_int):\n",
        "                            return p_coef, p_star\n",
        "        return None, None\n",
        "\n",
        "    p_coef, p_star = find_p_coefficients(u)\n",
        "    if p_coef is None: return\n",
        "        \n",
        "    # Compute the new predictions\n",
        "    # If anything is strange about them, keep the original predictions\n",
        "    # If u_in is 0, the new prediction will be too low and not a discrete value\n",
        "    # -> we may round the prediction up\n",
        "    # -> we should keep the original prediction if it is higher\n",
        "    # If u_in is 100, the new prediction will be too high and not a discrete value\n",
        "    # -> we may round the prediction down\n",
        "    # we should keep the original prediction if it is lower\n",
        "    pred_new = p_star - u / p_coef\n",
        "    pred_new_int = (pred_new - p_min) / p_step\n",
        "    strange = ((pred_new_int < 0) | (pred_new_int >= len(p_values)) | (~is_integer(pred_new_int))) & (u != 0) & (u != 100)\n",
        "    if strange.any():\n",
        "        print('strange', row, strange)\n",
        "        return\n",
        "    pred_new[u == 0] = np.ceil(pred_new_int[u == 0]) * p_step + p_min\n",
        "    pred_new[(u == 0) & (oof > pred_new)] = oof[(u == 0) & (oof > pred_new)]\n",
        "    pred_new[u == 100] = np.floor(pred_new_int[u == 100]) * p_step + p_min\n",
        "    pred_new[(u == 100) & (oof < pred_new)] = oof[(u == 100) & (oof < pred_new)]\n",
        "    \n",
        "    \n",
        "    if pp is not None and not update_preds:\n",
        "        mae_pred = mean_absolute_error(p, pred_new)\n",
        "        ae_gain_1 = np.abs(p - oof).sum() - np.abs(p - pred_new).sum() # absolute error improvement should be positive \n",
        "        ae_gain += ae_gain_1\n",
        "        if ae_gain_1 < 0: # mae_pred > 0.00001: #\n",
        "            print(f\"Row: {row}\")\n",
        "            print(f\"Candidate p_coef: {p_coef:.6f}\")\n",
        "            print(f\"Candidate p_star: {p_star:.6f}\")\n",
        "            print(f\"MAE OOF:  {mean_absolute_error(p, oof):.3f}\")\n",
        "            print(f\"MAE Pred: {mae_pred:.3f}\")\n",
        "            plt.figure(figsize=(10, 4))\n",
        "            plt.title(f\"p_coef = {p_coef:.2f}, p_star = {p_star:.0f}\")\n",
        "            plt.plot(np.arange(start, end), u, label='u_in')\n",
        "            #plt.plot(np.arange(start, end), oof, label='pressure_pred_oof')\n",
        "            plt.plot(np.arange(start, end), pred_new, label='pressure_pred_new')\n",
        "            plt.plot(np.arange(end), pp[row, rr[row]], label='pressure_true')\n",
        "            #plt.plot(np.arange(len(uu[row])), uu[row]) # all 80 u_in\n",
        "            #plt.plot(np.arange(len(pp[row])), pp[row]) # all 80 true pressures\n",
        "            plt.scatter(np.arange(start, end)[u < 1e-6], u[u < 1e-6]) # mark zeros of u_in\n",
        "            plt.legend()\n",
        "            if row in [1, 537, 634, 1098, 3193, 9847, 10398, 13828]: plt.savefig(f\"p-control-{row}.png\")\n",
        "            plt.show()\n",
        "            count_bad += 1\n",
        "        else:\n",
        "            count += 1\n",
        "\n",
        "    # Keep the parameters for future reference\n",
        "    p_list.append((row, p_coef, p_star, np.abs(oof - pred_new).sum()))\n",
        "    \n",
        "    # For test data: update the predictions\n",
        "    if update_preds:\n",
        "        exhale = rr[row].argmin()\n",
        "        preds[row, 1:exhale] = pred_new\n",
        "        updated += 1\n",
        "        \n",
        "    try:\n",
        "        row_set.add(row)\n",
        "    except NameError:\n",
        "        pass"
      ],
      "metadata": {
        "id": "O8cyeV6bwosb"
      },
      "id": "O8cyeV6bwosb",
      "execution_count": 48,
      "outputs": []
    },
    {
      "cell_type": "code",
      "source": [
        "# Test the function if the training data is available and pp is defined\n",
        "p_list, row_set, count, count_bad, ae_gain = [], set(), 0, 0, 0\n",
        "try:\n",
        "    for row in range(len(pp)):\n",
        "        find_p_control(row, uu, rr, oof_pred, p_list, pp)\n",
        "    if count > 0 or count_bad > 0:\n",
        "        print(\"Count:\", count, count_bad)\n",
        "        print(\"AE gain:\", ae_gain)\n",
        "        if ae_gain <= 0: raise ValueError(\"MAE gain is not positive\")\n",
        "    p_df = pd.DataFrame(p_list, columns=['row', 'p_coef', 'p_star', 'difference'])\n",
        "    print(f\"Cumulated difference: {p_df['difference'].sum():.3f}\")\n",
        "    display(p_df.head())\n",
        "except NameError as e:\n",
        "    print(\"Warning: NameError caught\", e)"
      ],
      "metadata": {
        "id": "KewYW2fExBoc",
        "outputId": "830a2575-74d4-455c-cf14-99fca1002899",
        "colab": {
          "base_uri": "https://localhost:8080/"
        }
      },
      "id": "KewYW2fExBoc",
      "execution_count": 49,
      "outputs": [
        {
          "output_type": "stream",
          "name": "stdout",
          "text": [
            "Warning: NameError caught name 'pp' is not defined\n"
          ]
        }
      ]
    },
    {
      "cell_type": "markdown",
      "source": [
        "#### 3.7.3. Read the nn predictions, update them and write the final submission file"
      ],
      "metadata": {
        "id": "tPkvCC-axDr8"
      },
      "id": "tPkvCC-axDr8"
    },
    {
      "cell_type": "markdown",
      "source": [
        "\n",
        "The full computation takes more than nine hours and cannot be run on Kaggle. I have run the exact same notebook locally and uploaded the result as a dataset. If the dataset is available, the notebook skips the full computation; if the dataset is unavailable, the notebook performs the full, lengthy computation."
      ],
      "metadata": {
        "id": "ly8qZmx3xKAN"
      },
      "id": "ly8qZmx3xKAN"
    },
    {
      "cell_type": "code",
      "source": [
        "try:\n",
        "    sub = pd.read_csv('/content/submission_pi_20211101.csv')\n",
        "    p_df = pd.read_csv('/content/p_parameters.csv')\n",
        "    pi_df = pd.read_csv('/content/pi_parameters.csv')\n",
        "    use_shortcut = True\n",
        "    print(\"Using the shortcut to save CPU time\")\n",
        "except FileNotFoundError:\n",
        "    sub = pd.read_csv('better_than_median.csv')\n",
        "    use_shortcut = False\n",
        "    print(\"Doing the full computation (no shortcut)\")"
      ],
      "metadata": {
        "id": "Xt4QTeyyxB7E",
        "outputId": "ee54a8fc-41fa-4bda-d717-2522dd465aec",
        "colab": {
          "base_uri": "https://localhost:8080/"
        }
      },
      "id": "Xt4QTeyyxB7E",
      "execution_count": 51,
      "outputs": [
        {
          "output_type": "stream",
          "name": "stdout",
          "text": [
            "Doing the full computation (no shortcut)\n"
          ]
        }
      ]
    },
    {
      "cell_type": "code",
      "source": [
        "def find_pi_control_slice(a, b):\n",
        "    \"\"\"Return the updated rows a:b of oof_copy.\n",
        "    \n",
        "    This function is meant to be run in a parallel job.\"\"\"\n",
        "    oof_copy2 = ss.copy() # make a writable copy for this job\n",
        "    pi_list = []\n",
        "    for row in range(a, b):\n",
        "        find_pi_control(row, uu, rr, dt_, oof_copy2, pi_list, pp=None, update_preds=True)\n",
        "    return oof_copy2[a:b], pi_list"
      ],
      "metadata": {
        "id": "pqaub6yQxvIk"
      },
      "id": "pqaub6yQxvIk",
      "execution_count": 52,
      "outputs": []
    },
    {
      "cell_type": "code",
      "source": [
        "%%time\n",
        "ss = sub.pressure.values.reshape(-1, 80)\n",
        "ss_copy = ss.copy()\n",
        "n_jobs = 8\n",
        "stop = 10 if use_shortcut else len(ss)\n",
        "pi_list, updated = [], 0\n",
        "\n",
        "a_list = [stop // n_jobs * i for i in range(n_jobs)]\n",
        "b_list = a_list[1:] + [stop]\n",
        "updated_slices = Parallel(n_jobs=n_jobs)(delayed(find_pi_control_slice)(a, b)\n",
        "                                         for a, b in zip(a_list, b_list))"
      ],
      "metadata": {
        "id": "3npjZZIqybnI",
        "outputId": "187bc728-f701-459c-aa33-a0265bf59956",
        "colab": {
          "base_uri": "https://localhost:8080/",
          "height": 494
        }
      },
      "id": "3npjZZIqybnI",
      "execution_count": 53,
      "outputs": [
        {
          "metadata": {
            "tags": null
          },
          "name": "stderr",
          "output_type": "stream",
          "text": [
            "/usr/local/lib/python3.7/dist-packages/joblib/externals/loky/process_executor.py:705: UserWarning: A worker stopped while some jobs were given to the executor. This can be caused by a too short worker timeout or by a memory leak.\n",
            "  \"timeout or by a memory leak.\", UserWarning\n"
          ]
        },
        {
          "output_type": "error",
          "ename": "KeyboardInterrupt",
          "evalue": "ignored",
          "traceback": [
            "\u001b[0;31m---------------------------------------------------------------------------\u001b[0m",
            "\u001b[0;31mKeyboardInterrupt\u001b[0m                         Traceback (most recent call last)",
            "\u001b[0;32m<ipython-input-53-6df092d2c101>\u001b[0m in \u001b[0;36m<module>\u001b[0;34m()\u001b[0m\n\u001b[0;32m----> 1\u001b[0;31m \u001b[0mget_ipython\u001b[0m\u001b[0;34m(\u001b[0m\u001b[0;34m)\u001b[0m\u001b[0;34m.\u001b[0m\u001b[0mrun_cell_magic\u001b[0m\u001b[0;34m(\u001b[0m\u001b[0;34m'time'\u001b[0m\u001b[0;34m,\u001b[0m \u001b[0;34m''\u001b[0m\u001b[0;34m,\u001b[0m \u001b[0;34m'ss = sub.pressure.values.reshape(-1, 80)\\nss_copy = ss.copy()\\nn_jobs = 8\\nstop = 10 if use_shortcut else len(ss)\\npi_list, updated = [], 0\\n\\na_list = [stop // n_jobs * i for i in range(n_jobs)]\\nb_list = a_list[1:] + [stop]\\nupdated_slices = Parallel(n_jobs=n_jobs)(delayed(find_pi_control_slice)(a, b)\\n                                         for a, b in zip(a_list, b_list))'\u001b[0m\u001b[0;34m)\u001b[0m\u001b[0;34m\u001b[0m\u001b[0;34m\u001b[0m\u001b[0m\n\u001b[0m",
            "\u001b[0;32m/usr/local/lib/python3.7/dist-packages/IPython/core/interactiveshell.py\u001b[0m in \u001b[0;36mrun_cell_magic\u001b[0;34m(self, magic_name, line, cell)\u001b[0m\n\u001b[1;32m   2115\u001b[0m             \u001b[0mmagic_arg_s\u001b[0m \u001b[0;34m=\u001b[0m \u001b[0mself\u001b[0m\u001b[0;34m.\u001b[0m\u001b[0mvar_expand\u001b[0m\u001b[0;34m(\u001b[0m\u001b[0mline\u001b[0m\u001b[0;34m,\u001b[0m \u001b[0mstack_depth\u001b[0m\u001b[0;34m)\u001b[0m\u001b[0;34m\u001b[0m\u001b[0;34m\u001b[0m\u001b[0m\n\u001b[1;32m   2116\u001b[0m             \u001b[0;32mwith\u001b[0m \u001b[0mself\u001b[0m\u001b[0;34m.\u001b[0m\u001b[0mbuiltin_trap\u001b[0m\u001b[0;34m:\u001b[0m\u001b[0;34m\u001b[0m\u001b[0;34m\u001b[0m\u001b[0m\n\u001b[0;32m-> 2117\u001b[0;31m                 \u001b[0mresult\u001b[0m \u001b[0;34m=\u001b[0m \u001b[0mfn\u001b[0m\u001b[0;34m(\u001b[0m\u001b[0mmagic_arg_s\u001b[0m\u001b[0;34m,\u001b[0m \u001b[0mcell\u001b[0m\u001b[0;34m)\u001b[0m\u001b[0;34m\u001b[0m\u001b[0;34m\u001b[0m\u001b[0m\n\u001b[0m\u001b[1;32m   2118\u001b[0m             \u001b[0;32mreturn\u001b[0m \u001b[0mresult\u001b[0m\u001b[0;34m\u001b[0m\u001b[0;34m\u001b[0m\u001b[0m\n\u001b[1;32m   2119\u001b[0m \u001b[0;34m\u001b[0m\u001b[0m\n",
            "\u001b[0;32m<decorator-gen-53>\u001b[0m in \u001b[0;36mtime\u001b[0;34m(self, line, cell, local_ns)\u001b[0m\n",
            "\u001b[0;32m/usr/local/lib/python3.7/dist-packages/IPython/core/magic.py\u001b[0m in \u001b[0;36m<lambda>\u001b[0;34m(f, *a, **k)\u001b[0m\n\u001b[1;32m    186\u001b[0m     \u001b[0;31m# but it's overkill for just that one bit of state.\u001b[0m\u001b[0;34m\u001b[0m\u001b[0;34m\u001b[0m\u001b[0;34m\u001b[0m\u001b[0m\n\u001b[1;32m    187\u001b[0m     \u001b[0;32mdef\u001b[0m \u001b[0mmagic_deco\u001b[0m\u001b[0;34m(\u001b[0m\u001b[0marg\u001b[0m\u001b[0;34m)\u001b[0m\u001b[0;34m:\u001b[0m\u001b[0;34m\u001b[0m\u001b[0;34m\u001b[0m\u001b[0m\n\u001b[0;32m--> 188\u001b[0;31m         \u001b[0mcall\u001b[0m \u001b[0;34m=\u001b[0m \u001b[0;32mlambda\u001b[0m \u001b[0mf\u001b[0m\u001b[0;34m,\u001b[0m \u001b[0;34m*\u001b[0m\u001b[0ma\u001b[0m\u001b[0;34m,\u001b[0m \u001b[0;34m**\u001b[0m\u001b[0mk\u001b[0m\u001b[0;34m:\u001b[0m \u001b[0mf\u001b[0m\u001b[0;34m(\u001b[0m\u001b[0;34m*\u001b[0m\u001b[0ma\u001b[0m\u001b[0;34m,\u001b[0m \u001b[0;34m**\u001b[0m\u001b[0mk\u001b[0m\u001b[0;34m)\u001b[0m\u001b[0;34m\u001b[0m\u001b[0;34m\u001b[0m\u001b[0m\n\u001b[0m\u001b[1;32m    189\u001b[0m \u001b[0;34m\u001b[0m\u001b[0m\n\u001b[1;32m    190\u001b[0m         \u001b[0;32mif\u001b[0m \u001b[0mcallable\u001b[0m\u001b[0;34m(\u001b[0m\u001b[0marg\u001b[0m\u001b[0;34m)\u001b[0m\u001b[0;34m:\u001b[0m\u001b[0;34m\u001b[0m\u001b[0;34m\u001b[0m\u001b[0m\n",
            "\u001b[0;32m/usr/local/lib/python3.7/dist-packages/IPython/core/magics/execution.py\u001b[0m in \u001b[0;36mtime\u001b[0;34m(self, line, cell, local_ns)\u001b[0m\n\u001b[1;32m   1191\u001b[0m         \u001b[0;32melse\u001b[0m\u001b[0;34m:\u001b[0m\u001b[0;34m\u001b[0m\u001b[0;34m\u001b[0m\u001b[0m\n\u001b[1;32m   1192\u001b[0m             \u001b[0mst\u001b[0m \u001b[0;34m=\u001b[0m \u001b[0mclock2\u001b[0m\u001b[0;34m(\u001b[0m\u001b[0;34m)\u001b[0m\u001b[0;34m\u001b[0m\u001b[0;34m\u001b[0m\u001b[0m\n\u001b[0;32m-> 1193\u001b[0;31m             \u001b[0mexec\u001b[0m\u001b[0;34m(\u001b[0m\u001b[0mcode\u001b[0m\u001b[0;34m,\u001b[0m \u001b[0mglob\u001b[0m\u001b[0;34m,\u001b[0m \u001b[0mlocal_ns\u001b[0m\u001b[0;34m)\u001b[0m\u001b[0;34m\u001b[0m\u001b[0;34m\u001b[0m\u001b[0m\n\u001b[0m\u001b[1;32m   1194\u001b[0m             \u001b[0mend\u001b[0m \u001b[0;34m=\u001b[0m \u001b[0mclock2\u001b[0m\u001b[0;34m(\u001b[0m\u001b[0;34m)\u001b[0m\u001b[0;34m\u001b[0m\u001b[0;34m\u001b[0m\u001b[0m\n\u001b[1;32m   1195\u001b[0m             \u001b[0mout\u001b[0m \u001b[0;34m=\u001b[0m \u001b[0;32mNone\u001b[0m\u001b[0;34m\u001b[0m\u001b[0;34m\u001b[0m\u001b[0m\n",
            "\u001b[0;32m<timed exec>\u001b[0m in \u001b[0;36m<module>\u001b[0;34m()\u001b[0m\n",
            "\u001b[0;32m/usr/local/lib/python3.7/dist-packages/joblib/parallel.py\u001b[0m in \u001b[0;36m__call__\u001b[0;34m(self, iterable)\u001b[0m\n\u001b[1;32m   1054\u001b[0m \u001b[0;34m\u001b[0m\u001b[0m\n\u001b[1;32m   1055\u001b[0m             \u001b[0;32mwith\u001b[0m \u001b[0mself\u001b[0m\u001b[0;34m.\u001b[0m\u001b[0m_backend\u001b[0m\u001b[0;34m.\u001b[0m\u001b[0mretrieval_context\u001b[0m\u001b[0;34m(\u001b[0m\u001b[0;34m)\u001b[0m\u001b[0;34m:\u001b[0m\u001b[0;34m\u001b[0m\u001b[0;34m\u001b[0m\u001b[0m\n\u001b[0;32m-> 1056\u001b[0;31m                 \u001b[0mself\u001b[0m\u001b[0;34m.\u001b[0m\u001b[0mretrieve\u001b[0m\u001b[0;34m(\u001b[0m\u001b[0;34m)\u001b[0m\u001b[0;34m\u001b[0m\u001b[0;34m\u001b[0m\u001b[0m\n\u001b[0m\u001b[1;32m   1057\u001b[0m             \u001b[0;31m# Make sure that we get a last message telling us we are done\u001b[0m\u001b[0;34m\u001b[0m\u001b[0;34m\u001b[0m\u001b[0;34m\u001b[0m\u001b[0m\n\u001b[1;32m   1058\u001b[0m             \u001b[0melapsed_time\u001b[0m \u001b[0;34m=\u001b[0m \u001b[0mtime\u001b[0m\u001b[0;34m.\u001b[0m\u001b[0mtime\u001b[0m\u001b[0;34m(\u001b[0m\u001b[0;34m)\u001b[0m \u001b[0;34m-\u001b[0m \u001b[0mself\u001b[0m\u001b[0;34m.\u001b[0m\u001b[0m_start_time\u001b[0m\u001b[0;34m\u001b[0m\u001b[0;34m\u001b[0m\u001b[0m\n",
            "\u001b[0;32m/usr/local/lib/python3.7/dist-packages/joblib/parallel.py\u001b[0m in \u001b[0;36mretrieve\u001b[0;34m(self)\u001b[0m\n\u001b[1;32m    933\u001b[0m             \u001b[0;32mtry\u001b[0m\u001b[0;34m:\u001b[0m\u001b[0;34m\u001b[0m\u001b[0;34m\u001b[0m\u001b[0m\n\u001b[1;32m    934\u001b[0m                 \u001b[0;32mif\u001b[0m \u001b[0mgetattr\u001b[0m\u001b[0;34m(\u001b[0m\u001b[0mself\u001b[0m\u001b[0;34m.\u001b[0m\u001b[0m_backend\u001b[0m\u001b[0;34m,\u001b[0m \u001b[0;34m'supports_timeout'\u001b[0m\u001b[0;34m,\u001b[0m \u001b[0;32mFalse\u001b[0m\u001b[0;34m)\u001b[0m\u001b[0;34m:\u001b[0m\u001b[0;34m\u001b[0m\u001b[0;34m\u001b[0m\u001b[0m\n\u001b[0;32m--> 935\u001b[0;31m                     \u001b[0mself\u001b[0m\u001b[0;34m.\u001b[0m\u001b[0m_output\u001b[0m\u001b[0;34m.\u001b[0m\u001b[0mextend\u001b[0m\u001b[0;34m(\u001b[0m\u001b[0mjob\u001b[0m\u001b[0;34m.\u001b[0m\u001b[0mget\u001b[0m\u001b[0;34m(\u001b[0m\u001b[0mtimeout\u001b[0m\u001b[0;34m=\u001b[0m\u001b[0mself\u001b[0m\u001b[0;34m.\u001b[0m\u001b[0mtimeout\u001b[0m\u001b[0;34m)\u001b[0m\u001b[0;34m)\u001b[0m\u001b[0;34m\u001b[0m\u001b[0;34m\u001b[0m\u001b[0m\n\u001b[0m\u001b[1;32m    936\u001b[0m                 \u001b[0;32melse\u001b[0m\u001b[0;34m:\u001b[0m\u001b[0;34m\u001b[0m\u001b[0;34m\u001b[0m\u001b[0m\n\u001b[1;32m    937\u001b[0m                     \u001b[0mself\u001b[0m\u001b[0;34m.\u001b[0m\u001b[0m_output\u001b[0m\u001b[0;34m.\u001b[0m\u001b[0mextend\u001b[0m\u001b[0;34m(\u001b[0m\u001b[0mjob\u001b[0m\u001b[0;34m.\u001b[0m\u001b[0mget\u001b[0m\u001b[0;34m(\u001b[0m\u001b[0;34m)\u001b[0m\u001b[0;34m)\u001b[0m\u001b[0;34m\u001b[0m\u001b[0;34m\u001b[0m\u001b[0m\n",
            "\u001b[0;32m/usr/local/lib/python3.7/dist-packages/joblib/_parallel_backends.py\u001b[0m in \u001b[0;36mwrap_future_result\u001b[0;34m(future, timeout)\u001b[0m\n\u001b[1;32m    540\u001b[0m         AsyncResults.get from multiprocessing.\"\"\"\n\u001b[1;32m    541\u001b[0m         \u001b[0;32mtry\u001b[0m\u001b[0;34m:\u001b[0m\u001b[0;34m\u001b[0m\u001b[0;34m\u001b[0m\u001b[0m\n\u001b[0;32m--> 542\u001b[0;31m             \u001b[0;32mreturn\u001b[0m \u001b[0mfuture\u001b[0m\u001b[0;34m.\u001b[0m\u001b[0mresult\u001b[0m\u001b[0;34m(\u001b[0m\u001b[0mtimeout\u001b[0m\u001b[0;34m=\u001b[0m\u001b[0mtimeout\u001b[0m\u001b[0;34m)\u001b[0m\u001b[0;34m\u001b[0m\u001b[0;34m\u001b[0m\u001b[0m\n\u001b[0m\u001b[1;32m    543\u001b[0m         \u001b[0;32mexcept\u001b[0m \u001b[0mCfTimeoutError\u001b[0m \u001b[0;32mas\u001b[0m \u001b[0me\u001b[0m\u001b[0;34m:\u001b[0m\u001b[0;34m\u001b[0m\u001b[0;34m\u001b[0m\u001b[0m\n\u001b[1;32m    544\u001b[0m             \u001b[0;32mraise\u001b[0m \u001b[0mTimeoutError\u001b[0m \u001b[0;32mfrom\u001b[0m \u001b[0me\u001b[0m\u001b[0;34m\u001b[0m\u001b[0;34m\u001b[0m\u001b[0m\n",
            "\u001b[0;32m/usr/lib/python3.7/concurrent/futures/_base.py\u001b[0m in \u001b[0;36mresult\u001b[0;34m(self, timeout)\u001b[0m\n\u001b[1;32m    428\u001b[0m                 \u001b[0;32mreturn\u001b[0m \u001b[0mself\u001b[0m\u001b[0;34m.\u001b[0m\u001b[0m__get_result\u001b[0m\u001b[0;34m(\u001b[0m\u001b[0;34m)\u001b[0m\u001b[0;34m\u001b[0m\u001b[0;34m\u001b[0m\u001b[0m\n\u001b[1;32m    429\u001b[0m \u001b[0;34m\u001b[0m\u001b[0m\n\u001b[0;32m--> 430\u001b[0;31m             \u001b[0mself\u001b[0m\u001b[0;34m.\u001b[0m\u001b[0m_condition\u001b[0m\u001b[0;34m.\u001b[0m\u001b[0mwait\u001b[0m\u001b[0;34m(\u001b[0m\u001b[0mtimeout\u001b[0m\u001b[0;34m)\u001b[0m\u001b[0;34m\u001b[0m\u001b[0;34m\u001b[0m\u001b[0m\n\u001b[0m\u001b[1;32m    431\u001b[0m \u001b[0;34m\u001b[0m\u001b[0m\n\u001b[1;32m    432\u001b[0m             \u001b[0;32mif\u001b[0m \u001b[0mself\u001b[0m\u001b[0;34m.\u001b[0m\u001b[0m_state\u001b[0m \u001b[0;32min\u001b[0m \u001b[0;34m[\u001b[0m\u001b[0mCANCELLED\u001b[0m\u001b[0;34m,\u001b[0m \u001b[0mCANCELLED_AND_NOTIFIED\u001b[0m\u001b[0;34m]\u001b[0m\u001b[0;34m:\u001b[0m\u001b[0;34m\u001b[0m\u001b[0;34m\u001b[0m\u001b[0m\n",
            "\u001b[0;32m/usr/lib/python3.7/threading.py\u001b[0m in \u001b[0;36mwait\u001b[0;34m(self, timeout)\u001b[0m\n\u001b[1;32m    294\u001b[0m         \u001b[0;32mtry\u001b[0m\u001b[0;34m:\u001b[0m    \u001b[0;31m# restore state no matter what (e.g., KeyboardInterrupt)\u001b[0m\u001b[0;34m\u001b[0m\u001b[0;34m\u001b[0m\u001b[0m\n\u001b[1;32m    295\u001b[0m             \u001b[0;32mif\u001b[0m \u001b[0mtimeout\u001b[0m \u001b[0;32mis\u001b[0m \u001b[0;32mNone\u001b[0m\u001b[0;34m:\u001b[0m\u001b[0;34m\u001b[0m\u001b[0;34m\u001b[0m\u001b[0m\n\u001b[0;32m--> 296\u001b[0;31m                 \u001b[0mwaiter\u001b[0m\u001b[0;34m.\u001b[0m\u001b[0macquire\u001b[0m\u001b[0;34m(\u001b[0m\u001b[0;34m)\u001b[0m\u001b[0;34m\u001b[0m\u001b[0;34m\u001b[0m\u001b[0m\n\u001b[0m\u001b[1;32m    297\u001b[0m                 \u001b[0mgotit\u001b[0m \u001b[0;34m=\u001b[0m \u001b[0;32mTrue\u001b[0m\u001b[0;34m\u001b[0m\u001b[0;34m\u001b[0m\u001b[0m\n\u001b[1;32m    298\u001b[0m             \u001b[0;32melse\u001b[0m\u001b[0;34m:\u001b[0m\u001b[0;34m\u001b[0m\u001b[0;34m\u001b[0m\u001b[0m\n",
            "\u001b[0;31mKeyboardInterrupt\u001b[0m: "
          ]
        }
      ]
    },
    {
      "cell_type": "code",
      "source": [
        "for (new_slice, slice_pi_list), a, b in zip(updated_slices, a_list, b_list):\n",
        "    ss[a:b] = new_slice\n",
        "    pi_list += slice_pi_list\n",
        "\n",
        "print(f\"Modified {(ss != ss_copy).any(axis=1).sum()} rows of {len(ss)} in parallel for the PI controllers.\")\n",
        "if not use_shortcut: pi_df = pd.DataFrame(pi_list, columns=['row', 'p_coef', 'i_coef', 'p_star', 'difference'])\n",
        "print(f\"Cumulated difference: {pi_df['difference'].sum():.3f}\")\n",
        "with open('pi_parameters.pickle', 'wb') as handle: pickle.dump(pi_df, handle)\n",
        "pi_df.to_csv('pi_parameters.csv', index=False)\n",
        "display(pi_df)"
      ],
      "metadata": {
        "id": "S9-f07TQxnwC",
        "outputId": "5a3ff01f-832c-4a1f-ab23-f442e9406c5b",
        "colab": {
          "base_uri": "https://localhost:8080/",
          "height": 239
        }
      },
      "id": "S9-f07TQxnwC",
      "execution_count": 54,
      "outputs": [
        {
          "output_type": "error",
          "ename": "NameError",
          "evalue": "ignored",
          "traceback": [
            "\u001b[0;31m---------------------------------------------------------------------------\u001b[0m",
            "\u001b[0;31mNameError\u001b[0m                                 Traceback (most recent call last)",
            "\u001b[0;32m<ipython-input-54-9504b015efa5>\u001b[0m in \u001b[0;36m<module>\u001b[0;34m()\u001b[0m\n\u001b[0;32m----> 1\u001b[0;31m \u001b[0;32mfor\u001b[0m \u001b[0;34m(\u001b[0m\u001b[0mnew_slice\u001b[0m\u001b[0;34m,\u001b[0m \u001b[0mslice_pi_list\u001b[0m\u001b[0;34m)\u001b[0m\u001b[0;34m,\u001b[0m \u001b[0ma\u001b[0m\u001b[0;34m,\u001b[0m \u001b[0mb\u001b[0m \u001b[0;32min\u001b[0m \u001b[0mzip\u001b[0m\u001b[0;34m(\u001b[0m\u001b[0mupdated_slices\u001b[0m\u001b[0;34m,\u001b[0m \u001b[0ma_list\u001b[0m\u001b[0;34m,\u001b[0m \u001b[0mb_list\u001b[0m\u001b[0;34m)\u001b[0m\u001b[0;34m:\u001b[0m\u001b[0;34m\u001b[0m\u001b[0;34m\u001b[0m\u001b[0m\n\u001b[0m\u001b[1;32m      2\u001b[0m     \u001b[0mss\u001b[0m\u001b[0;34m[\u001b[0m\u001b[0ma\u001b[0m\u001b[0;34m:\u001b[0m\u001b[0mb\u001b[0m\u001b[0;34m]\u001b[0m \u001b[0;34m=\u001b[0m \u001b[0mnew_slice\u001b[0m\u001b[0;34m\u001b[0m\u001b[0;34m\u001b[0m\u001b[0m\n\u001b[1;32m      3\u001b[0m     \u001b[0mpi_list\u001b[0m \u001b[0;34m+=\u001b[0m \u001b[0mslice_pi_list\u001b[0m\u001b[0;34m\u001b[0m\u001b[0;34m\u001b[0m\u001b[0m\n\u001b[1;32m      4\u001b[0m \u001b[0;34m\u001b[0m\u001b[0m\n\u001b[1;32m      5\u001b[0m \u001b[0mprint\u001b[0m\u001b[0;34m(\u001b[0m\u001b[0;34mf\"Modified {(ss != ss_copy).any(axis=1).sum()} rows of {len(ss)} in parallel for the PI controllers.\"\u001b[0m\u001b[0;34m)\u001b[0m\u001b[0;34m\u001b[0m\u001b[0;34m\u001b[0m\u001b[0m\n",
            "\u001b[0;31mNameError\u001b[0m: name 'updated_slices' is not defined"
          ]
        }
      ]
    },
    {
      "cell_type": "code",
      "source": [
        "# Update for the P controllers\n",
        "p_list = []\n",
        "for row in range(len(ss)):\n",
        "    find_p_control(row, uu, rr, ss, p_list, update_preds=True)\n",
        "print(f\"Updated {updated} rows for the P controllers.\")\n",
        "if not use_shortcut: p_df = pd.DataFrame(p_list, columns=['row', 'p_coef', 'p_star', 'difference'])\n",
        "print(f\"Cumulated difference: {p_df['difference'].sum():.3f}\")\n",
        "with open('p_parameters.pickle', 'wb') as handle: pickle.dump(p_df, handle)\n",
        "p_df.to_csv('p_parameters.csv', index=False)\n",
        "display(p_df)"
      ],
      "metadata": {
        "id": "Dj4ihVshyGy4"
      },
      "id": "Dj4ihVshyGy4",
      "execution_count": null,
      "outputs": []
    },
    {
      "cell_type": "code",
      "source": [
        "# Files submission\n",
        "sub[\"pressure\"] = ss.ravel()\n",
        "sub.to_csv('submission_pi.csv', index=False)\n",
        "sub.head(5)"
      ],
      "metadata": {
        "id": "gXro18Knx45I"
      },
      "id": "gXro18Knx45I",
      "execution_count": null,
      "outputs": []
    },
    {
      "cell_type": "markdown",
      "id": "36b0d2e1",
      "metadata": {
        "id": "36b0d2e1"
      },
      "source": [
        "## 4. Nhìn lại quá trình làm đồ án:"
      ]
    },
    {
      "cell_type": "markdown",
      "id": "950a24bd",
      "metadata": {
        "id": "950a24bd"
      },
      "source": [
        "### 4.1. Nguyễn Hoàng Sơn:"
      ]
    },
    {
      "cell_type": "markdown",
      "id": "0861e3a7",
      "metadata": {
        "id": "0861e3a7"
      },
      "source": [
        "- Khó khăn:\n",
        "    + \n",
        "    +\n",
        "    +\n",
        "\n",
        "- Học được:\n",
        "    + \n",
        "    +\n",
        "    +"
      ]
    },
    {
      "cell_type": "markdown",
      "id": "a1d904fc",
      "metadata": {
        "id": "a1d904fc"
      },
      "source": [
        "### 4.2. Nguyễn Văn Hậu:"
      ]
    },
    {
      "cell_type": "markdown",
      "id": "41c1a98b",
      "metadata": {
        "id": "41c1a98b"
      },
      "source": [
        "- Khó khăn:\n",
        "    + \n",
        "    +\n",
        "    +\n",
        "\n",
        "- Học được:\n",
        "    + \n",
        "    +\n",
        "    +"
      ]
    },
    {
      "cell_type": "markdown",
      "id": "eb679fac",
      "metadata": {
        "id": "eb679fac"
      },
      "source": [
        "### 4.3. Nguyễn Đình Tuyên:"
      ]
    },
    {
      "cell_type": "markdown",
      "id": "d45a67fe",
      "metadata": {
        "id": "d45a67fe"
      },
      "source": [
        "- Khó khăn:\n",
        "    + \n",
        "    +\n",
        "    +\n",
        "\n",
        "- Học được:\n",
        "    + \n",
        "    +\n",
        "    +"
      ]
    },
    {
      "cell_type": "markdown",
      "id": "dada357c",
      "metadata": {
        "id": "dada357c"
      },
      "source": [
        "### 4.4. Nhóm:"
      ]
    },
    {
      "cell_type": "markdown",
      "id": "b99c9900",
      "metadata": {
        "id": "b99c9900"
      },
      "source": [
        "- Khó khăn:\n",
        "    + \n",
        "    +\n",
        "    +\n",
        "\n",
        "- Nếu có thêm thời gian, nhóm sẽ cố gắng thực hiện:\n",
        "    + \n",
        "    +\n",
        "    +"
      ]
    },
    {
      "cell_type": "markdown",
      "id": "ba101ba4",
      "metadata": {
        "id": "ba101ba4"
      },
      "source": [
        "## 5. Tài liệu tham khảo:"
      ]
    },
    {
      "cell_type": "markdown",
      "id": "545be582",
      "metadata": {
        "id": "545be582"
      },
      "source": [
        "Để hoàn thành đồ án này, nhóm mình đã tham khảo những tài liệu sau:\n",
        "1. https://quantri.nhidong.org.vn/Data/bvnhidong/bvnhidong/Attachments/2019_3/07_theo_doi_benh_nhan_tho_may_-_2015-04_263201916.pdf\n"
      ]
    },
    {
      "cell_type": "markdown",
      "source": [
        "## 6. Q&A:"
      ],
      "metadata": {
        "id": "Pw1HYq5Jkl7g"
      },
      "id": "Pw1HYq5Jkl7g"
    },
    {
      "cell_type": "markdown",
      "source": [
        "### *Tại sao hệ thống đã có sensor để đo pressure rồi nhưng vẫn phải dự đoán?*"
      ],
      "metadata": {
        "id": "-YrAM4-coJaq"
      },
      "id": "-YrAM4-coJaq"
    },
    {
      "cell_type": "markdown",
      "source": [
        "- Hợp tác với Đại học Princeton, nhóm nghiên cứu tại Google Brain nhằm mục đích kiểm soát máy thở cơ học. Họ tin rằng mạng neural network và deep learning có thể khái quát hóa tốt hơn các đặc điểm khác nhau trên phổi so với tiêu chuẩn công nghiệp hiện tại của bộ điều khiển PID. Từ đó, họ muốn thiết kế một hệ thống tự động hóa hoàn toàn. Họ tin rằng có thể dựa vào các thông số còn lại để dự đoán chính xác `pressure`.\n",
        "- Chi phi phát triển các phương pháp mới để điều khiển máy thở cơ học.\n",
        "- Giảm gánh nặng cho các bác sĩ lâm sàng, phương pháp điều trị bằng máy thở có thể trở nên phổ biến rộng rãi hơn.\n"
      ],
      "metadata": {
        "id": "cL13x0ahkqjP"
      },
      "id": "cL13x0ahkqjP"
    },
    {
      "cell_type": "markdown",
      "source": [
        "### *Tại sao?*"
      ],
      "metadata": {
        "id": "l_27gEHQk3ci"
      },
      "id": "l_27gEHQk3ci"
    }
  ],
  "metadata": {
    "kernelspec": {
      "display_name": "Python 3 (ipykernel)",
      "language": "python",
      "name": "python3"
    },
    "language_info": {
      "codemirror_mode": {
        "name": "ipython",
        "version": 3
      },
      "file_extension": ".py",
      "mimetype": "text/x-python",
      "name": "python",
      "nbconvert_exporter": "python",
      "pygments_lexer": "ipython3",
      "version": "3.8.8"
    },
    "toc": {
      "base_numbering": 1,
      "nav_menu": {},
      "number_sections": false,
      "sideBar": true,
      "skip_h1_title": false,
      "title_cell": "Table of Contents",
      "title_sidebar": "Contents",
      "toc_cell": false,
      "toc_position": {},
      "toc_section_display": true,
      "toc_window_display": false
    },
    "colab": {
      "name": "Copy of Report_ADS.ipynb",
      "provenance": [],
      "collapsed_sections": [
        "d27e1e1a",
        "bc81b558",
        "0a463e6d",
        "244b7f28",
        "f5520f7e",
        "fbf9ebda",
        "da709124",
        "87677a9e",
        "beN7LAStwNaK",
        "fde87b9d",
        "XFbdNXmz9hHa",
        "qDMX2AC0IdFm",
        "HnxQ0dl3MaMU",
        "p9OtsCf3PSXj",
        "nSVXpj9VPSXo",
        "tVsyL0m5PSXs",
        "nOAMjzxcPdu7",
        "fmtGRh0rPdvC",
        "xWgAAZ7YIglv",
        "wo4p8IVAZcAc",
        "MDJX1AaiaDL6",
        "euNN6Hstahfv",
        "NYwoI43-r_h6",
        "nBeiWiRBsUix",
        "I1EjB7O1vBhv",
        "tPkvCC-axDr8",
        "36b0d2e1",
        "950a24bd",
        "a1d904fc",
        "eb679fac",
        "dada357c",
        "ba101ba4",
        "Pw1HYq5Jkl7g",
        "-YrAM4-coJaq"
      ],
      "include_colab_link": true
    },
    "accelerator": "TPU",
    "gpuClass": "standard"
  },
  "nbformat": 4,
  "nbformat_minor": 5
}