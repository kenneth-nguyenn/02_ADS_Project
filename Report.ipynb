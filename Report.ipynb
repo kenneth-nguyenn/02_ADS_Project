{
 "cells": [
  {
   "cell_type": "markdown",
   "id": "8a067e2c",
   "metadata": {},
   "source": [
    "# Đồ án: Khoa học Dữ liệu và Ứng dụng"
   ]
  },
  {
   "cell_type": "markdown",
   "id": "d27e1e1a",
   "metadata": {},
   "source": [
    "## Thông tin chung:\n",
    "### Giảng viên: \n",
    "- Trần Trung Kiên\n",
    "- Nguyễn Thái Vũ\n",
    "\n",
    "### Thông tin nhóm:\n",
    "1. STT: Nhóm 02\n",
    "2. Thành viên:\n",
    "\n",
    "| STT | MSSV | Họ tên | Github |\n",
    "| --- | --- | --- | --- |\n",
    "| 1 | 1712727 | Nguyễn Hoàng Sơn | [hsjune29th](https://github.com/hsjune29th) |\n",
    "| 2 | 1712258 | Nguyễn Văn Hậu | [kenneth-nguyenn](https://github.com/kenneth-nguyenn) |\n",
    "| 3 | 1712888 | Nguyễn Đình Tuyên | [Tuyen177](https://github.com/Tuyen177) |\n",
    "\n",
    "3. Phân công công việc:\n",
    "- [Google Sheet]()"
   ]
  },
  {
   "cell_type": "markdown",
   "id": "bc81b558",
   "metadata": {},
   "source": [
    "## 1. Mô tả bài toán:"
   ]
  },
  {
   "cell_type": "markdown",
   "id": "f491afd4",
   "metadata": {},
   "source": [
    "- **Tên cuộc thi:** [Google Brain - Ventilator Pressure Prediction](https://www.kaggle.com/competitions/ventilator-pressure-prediction/data?select=test.csv)\n",
    "- **Mô tả:** Được tổ chức bởi Google Brain vào 04/11/2021 với hơn 2,605 nhóm tham dự.\n",
    "- **Input:** Tập dữ liệu được thu thập từ máy thở cung cấp khí oxy cho phổi.\n",
    "- **Output:** Dự đoán áp lực trên đường thở (pressure).\n",
    "- **Ý nghĩa thực tiễn của ứng dụng:**\n",
    "    + Thở máy là một biện pháp chuyên sâu của bác sĩ lâm sàng, dưới sự khẩn thiết của đại dịch COVID-19 trên diện rộng đã chỉ ra điểm hạn chế của việc sử sụng phương pháp thở máy này. Việc phát triển các phương pháp mới để điều khiển máy thở cơ học rất tốn kém, gặp khó khăn khi thử nghiệm lâm sàng.\n",
    "    + Bài toán này cũng là tiền đề cho các thuật toán thích ứng với bệnh nhân, giúp giảm bớt gánh nặng cho bác sĩ lâm sàng trong tình hình mới. Do đó, các phương pháp điều trị bằng máy thở có thể được phổ biến rộng rãi hơn để giúp bệnh nhân thở được."
   ]
  },
  {
   "cell_type": "markdown",
   "id": "e928d2f6",
   "metadata": {},
   "source": [
    "## 2. Giải quyết bài toán:"
   ]
  },
  {
   "cell_type": "markdown",
   "id": "0a463e6d",
   "metadata": {},
   "source": [
    "### 2.1. Ý tưởng:\n",
    "- Nhóm quyết định tìm hiểu và cài đặt giải pháp **\"[The inverse of a PID controller](https://www.kaggle.com/c/ventilator-pressure-prediction/discussion/285283)\"**, giải pháp đứng vị thứ hai trong leaderboard.\n",
    "- Qúa trình hoàn thành cuộc thi, nhóm tác giả thực hiện ba giai đoạn chính:\n",
    "    + Sử dụng 7 model được share từ @dlaststark ([notebook](https://www.kaggle.com/code/dlaststark/gb-vpp-pulp-fiction/notebook)). Trong notebook này, tác giả trên tập trung vào `Feature Engineering` và xây dựng `\n",
    "Keras DNN Model` trên TPU.\n",
    "    + Tiếp theo, tác gỉa tập hợp các dự đoán của 7 model trên bằng cách kết hợp diểm mạnh của giá trị median và mean [tại đây](https://www.kaggle.com/c/ventilator-pressure-prediction/discussion/282735).\n",
    "    + Cuối cùng, tác giả cố gắng xác định hàm nghịch đảo của PID controller (tìm nghịch đảo của bộ điều khiển P và sau đó chuyển sang bộ điều khiển PI) để dự đoán áp suất, được thảo luận [tại đây](https://www.kaggle.com/c/ventilator-pressure-prediction/discussion/285283)."
   ]
  },
  {
   "cell_type": "markdown",
   "id": "244b7f28",
   "metadata": {},
   "source": [
    "### 2.2. Lý do lựa chọn:\n",
    "- Giải pháp đứng vị thứ hai, nằm trong trong TOP-10 leaderboard.\n",
    "- Hầu hết, các giải pháp đứng trong TOP đầu của leaderboard đều sử dụng đến **PID controller** để giải quyết bài toán này. Mặt khác, trong quá trình đọc phần notebook cũng như giải thích của tác giả, nhóm em cảm thấy dễ hiểu và nắm được cơ bản quá trình xử lý trong notebook."
   ]
  },
  {
   "cell_type": "markdown",
   "id": "edbe5138",
   "metadata": {},
   "source": [
    "## 3. Somethings:"
   ]
  },
  {
   "cell_type": "markdown",
   "id": "36b0d2e1",
   "metadata": {},
   "source": [
    "## 4. Nhìn lại quá trình làm đồ án:"
   ]
  },
  {
   "cell_type": "markdown",
   "id": "950a24bd",
   "metadata": {},
   "source": [
    "### 4.1. Nguyễn Hoàng Sơn:"
   ]
  },
  {
   "cell_type": "markdown",
   "id": "0861e3a7",
   "metadata": {},
   "source": [
    "- Khó khăn:\n",
    "    + \n",
    "    +\n",
    "    +\n",
    "\n",
    "- Học được:\n",
    "    + \n",
    "    +\n",
    "    +"
   ]
  },
  {
   "cell_type": "markdown",
   "id": "a1d904fc",
   "metadata": {},
   "source": [
    "### 4.2. Nguyễn Văn Hậu:"
   ]
  },
  {
   "cell_type": "markdown",
   "id": "41c1a98b",
   "metadata": {},
   "source": [
    "- Khó khăn:\n",
    "    + \n",
    "    +\n",
    "    +\n",
    "\n",
    "- Học được:\n",
    "    + \n",
    "    +\n",
    "    +"
   ]
  },
  {
   "cell_type": "markdown",
   "id": "eb679fac",
   "metadata": {},
   "source": [
    "### 4.3. Nguyễn Đình Tuyên:"
   ]
  },
  {
   "cell_type": "markdown",
   "id": "d45a67fe",
   "metadata": {},
   "source": [
    "- Khó khăn:\n",
    "    + \n",
    "    +\n",
    "    +\n",
    "\n",
    "- Học được:\n",
    "    + \n",
    "    +\n",
    "    +"
   ]
  },
  {
   "cell_type": "markdown",
   "id": "dada357c",
   "metadata": {},
   "source": [
    "### 4.4. Nhóm:"
   ]
  },
  {
   "cell_type": "markdown",
   "id": "b99c9900",
   "metadata": {},
   "source": [
    "- Khó khăn:\n",
    "    + \n",
    "    +\n",
    "    +\n",
    "\n",
    "- Nếu có thêm thời gian, nhóm sẽ cố gắng thực hiện:\n",
    "    + \n",
    "    +\n",
    "    +"
   ]
  },
  {
   "cell_type": "markdown",
   "id": "ba101ba4",
   "metadata": {},
   "source": [
    "## 5. Tài liệu tham khảo:"
   ]
  },
  {
   "cell_type": "markdown",
   "id": "545be582",
   "metadata": {},
   "source": [
    "Để hoàn thành đồ án này, nhóm mình đã tham khảo những tài liệu sau:\n",
    "1. https://quantri.nhidong.org.vn/Data/bvnhidong/bvnhidong/Attachments/2019_3/07_theo_doi_benh_nhan_tho_may_-_2015-04_263201916.pdf\n"
   ]
  }
 ],
 "metadata": {
  "kernelspec": {
   "display_name": "Python 3 (ipykernel)",
   "language": "python",
   "name": "python3"
  },
  "language_info": {
   "codemirror_mode": {
    "name": "ipython",
    "version": 3
   },
   "file_extension": ".py",
   "mimetype": "text/x-python",
   "name": "python",
   "nbconvert_exporter": "python",
   "pygments_lexer": "ipython3",
   "version": "3.8.8"
  },
  "toc": {
   "base_numbering": 1,
   "nav_menu": {},
   "number_sections": false,
   "sideBar": true,
   "skip_h1_title": false,
   "title_cell": "Table of Contents",
   "title_sidebar": "Contents",
   "toc_cell": false,
   "toc_position": {},
   "toc_section_display": true,
   "toc_window_display": false
  }
 },
 "nbformat": 4,
 "nbformat_minor": 5
}
